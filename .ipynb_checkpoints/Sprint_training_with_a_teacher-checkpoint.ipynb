{
 "cells": [
  {
   "cell_type": "markdown",
   "metadata": {
    "toc": true
   },
   "source": [
    "<h1>Содержание<span class=\"tocSkip\"></span></h1>\n",
    "<div class=\"toc\"><ul class=\"toc-item\"><li><span><a href=\"#Подготовка-данных\" data-toc-modified-id=\"Подготовка-данных-1\"><span class=\"toc-item-num\">1&nbsp;&nbsp;</span>Подготовка данных</a></span><ul class=\"toc-item\"><li><span><a href=\"#Чтение-данных-и-общая-информация\" data-toc-modified-id=\"Чтение-данных-и-общая-информация-1.1\"><span class=\"toc-item-num\">1.1&nbsp;&nbsp;</span>Чтение данных и общая информация</a></span></li><li><span><a href=\"#Обработка-пропусков-в-данных\" data-toc-modified-id=\"Обработка-пропусков-в-данных-1.2\"><span class=\"toc-item-num\">1.2&nbsp;&nbsp;</span>Обработка пропусков в данных</a></span></li><li><span><a href=\"#Удаление-лишних-значений-в-данных\" data-toc-modified-id=\"Удаление-лишних-значений-в-данных-1.3\"><span class=\"toc-item-num\">1.3&nbsp;&nbsp;</span>Удаление лишних значений в данных</a></span></li><li><span><a href=\"#Поиск-аномальных-значений-в-данных\" data-toc-modified-id=\"Поиск-аномальных-значений-в-данных-1.4\"><span class=\"toc-item-num\">1.4&nbsp;&nbsp;</span>Поиск аномальных значений в данных</a></span></li></ul></li><li><span><a href=\"#Исследование-задачи\" data-toc-modified-id=\"Исследование-задачи-2\"><span class=\"toc-item-num\">2&nbsp;&nbsp;</span>Исследование задачи</a></span><ul class=\"toc-item\"><li><span><a href=\"#Подготока-категориальных-признаков\" data-toc-modified-id=\"Подготока-категориальных-признаков-2.1\"><span class=\"toc-item-num\">2.1&nbsp;&nbsp;</span>Подготока категориальных признаков</a></span></li><li><span><a href=\"#Разделение-выборки\" data-toc-modified-id=\"Разделение-выборки-2.2\"><span class=\"toc-item-num\">2.2&nbsp;&nbsp;</span>Разделение выборки</a></span></li><li><span><a href=\"#Масштабирование-признаков\" data-toc-modified-id=\"Масштабирование-признаков-2.3\"><span class=\"toc-item-num\">2.3&nbsp;&nbsp;</span>Масштабирование признаков</a></span></li><li><span><a href=\"#Обучение-модели-без-учёта-дисбаланса-классов\" data-toc-modified-id=\"Обучение-модели-без-учёта-дисбаланса-классов-2.4\"><span class=\"toc-item-num\">2.4&nbsp;&nbsp;</span>Обучение модели без учёта дисбаланса классов</a></span><ul class=\"toc-item\"><li><span><a href=\"#Решающее-дерево\" data-toc-modified-id=\"Решающее-дерево-2.4.1\"><span class=\"toc-item-num\">2.4.1&nbsp;&nbsp;</span>Решающее дерево</a></span></li><li><span><a href=\"#Случайный-лес\" data-toc-modified-id=\"Случайный-лес-2.4.2\"><span class=\"toc-item-num\">2.4.2&nbsp;&nbsp;</span>Случайный лес</a></span></li><li><span><a href=\"#Логистическая-регрессия\" data-toc-modified-id=\"Логистическая-регрессия-2.4.3\"><span class=\"toc-item-num\">2.4.3&nbsp;&nbsp;</span>Логистическая регрессия</a></span></li></ul></li></ul></li><li><span><a href=\"#Борьба-с-дисбалансом\" data-toc-modified-id=\"Борьба-с-дисбалансом-3\"><span class=\"toc-item-num\">3&nbsp;&nbsp;</span>Борьба с дисбалансом</a></span><ul class=\"toc-item\"><li><span><a href=\"#Увеличение-выборки\" data-toc-modified-id=\"Увеличение-выборки-3.1\"><span class=\"toc-item-num\">3.1&nbsp;&nbsp;</span>Увеличение выборки</a></span><ul class=\"toc-item\"><li><span><a href=\"#Решающее-дерево\" data-toc-modified-id=\"Решающее-дерево-3.1.1\"><span class=\"toc-item-num\">3.1.1&nbsp;&nbsp;</span>Решающее дерево</a></span></li><li><span><a href=\"#Случайный-лес\" data-toc-modified-id=\"Случайный-лес-3.1.2\"><span class=\"toc-item-num\">3.1.2&nbsp;&nbsp;</span>Случайный лес</a></span></li><li><span><a href=\"#Логистическая-регрессия\" data-toc-modified-id=\"Логистическая-регрессия-3.1.3\"><span class=\"toc-item-num\">3.1.3&nbsp;&nbsp;</span>Логистическая регрессия</a></span></li></ul></li><li><span><a href=\"#Уменьшение-выборки\" data-toc-modified-id=\"Уменьшение-выборки-3.2\"><span class=\"toc-item-num\">3.2&nbsp;&nbsp;</span>Уменьшение выборки</a></span><ul class=\"toc-item\"><li><span><a href=\"#Решающее-дерево\" data-toc-modified-id=\"Решающее-дерево-3.2.1\"><span class=\"toc-item-num\">3.2.1&nbsp;&nbsp;</span>Решающее дерево</a></span></li><li><span><a href=\"#Случайный-лес\" data-toc-modified-id=\"Случайный-лес-3.2.2\"><span class=\"toc-item-num\">3.2.2&nbsp;&nbsp;</span>Случайный лес</a></span></li><li><span><a href=\"#Логистическая-регрессия\" data-toc-modified-id=\"Логистическая-регрессия-3.2.3\"><span class=\"toc-item-num\">3.2.3&nbsp;&nbsp;</span>Логистическая регрессия</a></span></li></ul></li></ul></li><li><span><a href=\"#Тестирование-модели\" data-toc-modified-id=\"Тестирование-модели-4\"><span class=\"toc-item-num\">4&nbsp;&nbsp;</span>Тестирование модели</a></span></li><li><span><a href=\"#Чек-лист-готовности-проекта\" data-toc-modified-id=\"Чек-лист-готовности-проекта-5\"><span class=\"toc-item-num\">5&nbsp;&nbsp;</span>Чек-лист готовности проекта</a></span></li></ul></div>"
   ]
  },
  {
   "cell_type": "markdown",
   "metadata": {},
   "source": [
    "# Отток клиентов"
   ]
  },
  {
   "cell_type": "markdown",
   "metadata": {},
   "source": [
    "Из «Бета-Банка» стали уходить клиенты. Каждый месяц. Немного, но заметно. Банковские маркетологи посчитали: сохранять текущих клиентов дешевле, чем привлекать новых.\n",
    "\n",
    "Нужно спрогнозировать, уйдёт клиент из банка в ближайшее время или нет. Вам предоставлены исторические данные о поведении клиентов и расторжении договоров с банком. \n",
    "\n",
    "Постройте модель с предельно большим значением *F1*-меры. Чтобы сдать проект успешно, нужно довести метрику до 0.59. Проверьте *F1*-меру на тестовой выборке самостоятельно.\n",
    "\n",
    "Дополнительно измеряйте *AUC-ROC*, сравнивайте её значение с *F1*-мерой.\n",
    "\n",
    "Источник данных: [https://www.kaggle.com/barelydedicated/bank-customer-churn-modeling](https://www.kaggle.com/barelydedicated/bank-customer-churn-modeling)"
   ]
  },
  {
   "cell_type": "markdown",
   "metadata": {},
   "source": [
    "## Подготовка данных"
   ]
  },
  {
   "cell_type": "code",
   "execution_count": 14,
   "metadata": {},
   "outputs": [],
   "source": [
    "import pandas as pd\n",
    "import numpy as np\n",
    "\n",
    "from matplotlib import pyplot as plt\n",
    "%matplotlib inline\n",
    "\n",
    "from sklearn.tree import DecisionTreeClassifier\n",
    "from sklearn.linear_model import LogisticRegression\n",
    "from sklearn.ensemble import RandomForestClassifier\n",
    "\n",
    "from sklearn.dummy import DummyClassifier\n",
    "from sklearn.preprocessing import StandardScaler\n",
    "\n",
    "from sklearn.model_selection import train_test_split, cross_val_score, RandomizedSearchCV, GridSearchCV\n",
    "from sklearn.metrics import accuracy_score, f1_score, roc_curve, roc_auc_score\n",
    "from sklearn.utils import shuffle"
   ]
  },
  {
   "cell_type": "markdown",
   "metadata": {},
   "source": [
    "### Чтение данных и общая информация"
   ]
  },
  {
   "cell_type": "code",
   "execution_count": 15,
   "metadata": {},
   "outputs": [],
   "source": [
    "# чтение данных и создание df\n",
    "try:\n",
    "    df = pd.read_csv('Churn.csv')\n",
    "except:\n",
    "    df = pd.read_csv('https://code.s3.yandex.net/datasets/Churn.csv')"
   ]
  },
  {
   "cell_type": "code",
   "execution_count": 16,
   "metadata": {
    "scrolled": false
   },
   "outputs": [
    {
     "name": "stdout",
     "output_type": "stream",
     "text": [
      "<class 'pandas.core.frame.DataFrame'>\n",
      "RangeIndex: 10000 entries, 0 to 9999\n",
      "Data columns (total 14 columns):\n",
      " #   Column           Non-Null Count  Dtype  \n",
      "---  ------           --------------  -----  \n",
      " 0   RowNumber        10000 non-null  int64  \n",
      " 1   CustomerId       10000 non-null  int64  \n",
      " 2   Surname          10000 non-null  object \n",
      " 3   CreditScore      10000 non-null  int64  \n",
      " 4   Geography        10000 non-null  object \n",
      " 5   Gender           10000 non-null  object \n",
      " 6   Age              10000 non-null  int64  \n",
      " 7   Tenure           9091 non-null   float64\n",
      " 8   Balance          10000 non-null  float64\n",
      " 9   NumOfProducts    10000 non-null  int64  \n",
      " 10  HasCrCard        10000 non-null  int64  \n",
      " 11  IsActiveMember   10000 non-null  int64  \n",
      " 12  EstimatedSalary  10000 non-null  float64\n",
      " 13  Exited           10000 non-null  int64  \n",
      "dtypes: float64(3), int64(8), object(3)\n",
      "memory usage: 1.1+ MB\n"
     ]
    },
    {
     "data": {
      "text/html": [
       "<div>\n",
       "<style scoped>\n",
       "    .dataframe tbody tr th:only-of-type {\n",
       "        vertical-align: middle;\n",
       "    }\n",
       "\n",
       "    .dataframe tbody tr th {\n",
       "        vertical-align: top;\n",
       "    }\n",
       "\n",
       "    .dataframe thead th {\n",
       "        text-align: right;\n",
       "    }\n",
       "</style>\n",
       "<table border=\"1\" class=\"dataframe\">\n",
       "  <thead>\n",
       "    <tr style=\"text-align: right;\">\n",
       "      <th></th>\n",
       "      <th>RowNumber</th>\n",
       "      <th>CustomerId</th>\n",
       "      <th>Surname</th>\n",
       "      <th>CreditScore</th>\n",
       "      <th>Geography</th>\n",
       "      <th>Gender</th>\n",
       "      <th>Age</th>\n",
       "      <th>Tenure</th>\n",
       "      <th>Balance</th>\n",
       "      <th>NumOfProducts</th>\n",
       "      <th>HasCrCard</th>\n",
       "      <th>IsActiveMember</th>\n",
       "      <th>EstimatedSalary</th>\n",
       "      <th>Exited</th>\n",
       "    </tr>\n",
       "  </thead>\n",
       "  <tbody>\n",
       "    <tr>\n",
       "      <th>0</th>\n",
       "      <td>1</td>\n",
       "      <td>15634602</td>\n",
       "      <td>Hargrave</td>\n",
       "      <td>619</td>\n",
       "      <td>France</td>\n",
       "      <td>Female</td>\n",
       "      <td>42</td>\n",
       "      <td>2.0</td>\n",
       "      <td>0.00</td>\n",
       "      <td>1</td>\n",
       "      <td>1</td>\n",
       "      <td>1</td>\n",
       "      <td>101348.88</td>\n",
       "      <td>1</td>\n",
       "    </tr>\n",
       "    <tr>\n",
       "      <th>1</th>\n",
       "      <td>2</td>\n",
       "      <td>15647311</td>\n",
       "      <td>Hill</td>\n",
       "      <td>608</td>\n",
       "      <td>Spain</td>\n",
       "      <td>Female</td>\n",
       "      <td>41</td>\n",
       "      <td>1.0</td>\n",
       "      <td>83807.86</td>\n",
       "      <td>1</td>\n",
       "      <td>0</td>\n",
       "      <td>1</td>\n",
       "      <td>112542.58</td>\n",
       "      <td>0</td>\n",
       "    </tr>\n",
       "    <tr>\n",
       "      <th>2</th>\n",
       "      <td>3</td>\n",
       "      <td>15619304</td>\n",
       "      <td>Onio</td>\n",
       "      <td>502</td>\n",
       "      <td>France</td>\n",
       "      <td>Female</td>\n",
       "      <td>42</td>\n",
       "      <td>8.0</td>\n",
       "      <td>159660.80</td>\n",
       "      <td>3</td>\n",
       "      <td>1</td>\n",
       "      <td>0</td>\n",
       "      <td>113931.57</td>\n",
       "      <td>1</td>\n",
       "    </tr>\n",
       "    <tr>\n",
       "      <th>3</th>\n",
       "      <td>4</td>\n",
       "      <td>15701354</td>\n",
       "      <td>Boni</td>\n",
       "      <td>699</td>\n",
       "      <td>France</td>\n",
       "      <td>Female</td>\n",
       "      <td>39</td>\n",
       "      <td>1.0</td>\n",
       "      <td>0.00</td>\n",
       "      <td>2</td>\n",
       "      <td>0</td>\n",
       "      <td>0</td>\n",
       "      <td>93826.63</td>\n",
       "      <td>0</td>\n",
       "    </tr>\n",
       "    <tr>\n",
       "      <th>4</th>\n",
       "      <td>5</td>\n",
       "      <td>15737888</td>\n",
       "      <td>Mitchell</td>\n",
       "      <td>850</td>\n",
       "      <td>Spain</td>\n",
       "      <td>Female</td>\n",
       "      <td>43</td>\n",
       "      <td>2.0</td>\n",
       "      <td>125510.82</td>\n",
       "      <td>1</td>\n",
       "      <td>1</td>\n",
       "      <td>1</td>\n",
       "      <td>79084.10</td>\n",
       "      <td>0</td>\n",
       "    </tr>\n",
       "  </tbody>\n",
       "</table>\n",
       "</div>"
      ],
      "text/plain": [
       "   RowNumber  CustomerId   Surname  CreditScore Geography  Gender  Age  \\\n",
       "0          1    15634602  Hargrave          619    France  Female   42   \n",
       "1          2    15647311      Hill          608     Spain  Female   41   \n",
       "2          3    15619304      Onio          502    France  Female   42   \n",
       "3          4    15701354      Boni          699    France  Female   39   \n",
       "4          5    15737888  Mitchell          850     Spain  Female   43   \n",
       "\n",
       "   Tenure    Balance  NumOfProducts  HasCrCard  IsActiveMember  \\\n",
       "0     2.0       0.00              1          1               1   \n",
       "1     1.0   83807.86              1          0               1   \n",
       "2     8.0  159660.80              3          1               0   \n",
       "3     1.0       0.00              2          0               0   \n",
       "4     2.0  125510.82              1          1               1   \n",
       "\n",
       "   EstimatedSalary  Exited  \n",
       "0        101348.88       1  \n",
       "1        112542.58       0  \n",
       "2        113931.57       1  \n",
       "3         93826.63       0  \n",
       "4         79084.10       0  "
      ]
     },
     "execution_count": 16,
     "metadata": {},
     "output_type": "execute_result"
    }
   ],
   "source": [
    "# общая информация и первые пять строк\n",
    "df.info()\n",
    "df.head()"
   ]
  },
  {
   "cell_type": "markdown",
   "metadata": {},
   "source": [
    "Здесь можно сказать, что мы имеем достаточное количество данных -- данные по 10000 клиентов, которые практически не нуждаются в обработке: типы данных везде заданы корректно, пропуски пристутсвуют только в одном столбце. Остаётся решить проблему с пропусками и проверить данные на аномальные значения.<br>\n",
    "Правда, 13 столбцов не считая целевого признака -- это довольно большое количество признаков для обучения моделей. Даже с учётом того, что далее мы избавимся от нескольких, как от явно бесполезных, их всё равно останется ещё довольно много."
   ]
  },
  {
   "cell_type": "code",
   "execution_count": 17,
   "metadata": {},
   "outputs": [
    {
     "data": {
      "text/html": [
       "<div>\n",
       "<style scoped>\n",
       "    .dataframe tbody tr th:only-of-type {\n",
       "        vertical-align: middle;\n",
       "    }\n",
       "\n",
       "    .dataframe tbody tr th {\n",
       "        vertical-align: top;\n",
       "    }\n",
       "\n",
       "    .dataframe thead th {\n",
       "        text-align: right;\n",
       "    }\n",
       "</style>\n",
       "<table border=\"1\" class=\"dataframe\">\n",
       "  <thead>\n",
       "    <tr style=\"text-align: right;\">\n",
       "      <th></th>\n",
       "      <th>CreditScore</th>\n",
       "      <th>Age</th>\n",
       "      <th>Tenure</th>\n",
       "      <th>Balance</th>\n",
       "      <th>EstimatedSalary</th>\n",
       "      <th>HasCrCard</th>\n",
       "      <th>IsActiveMember</th>\n",
       "      <th>NumOfProducts</th>\n",
       "      <th>Exited</th>\n",
       "    </tr>\n",
       "  </thead>\n",
       "  <tbody>\n",
       "    <tr>\n",
       "      <th>CreditScore</th>\n",
       "      <td>1.000000</td>\n",
       "      <td>-0.003965</td>\n",
       "      <td>-0.000062</td>\n",
       "      <td>0.006268</td>\n",
       "      <td>-0.001384</td>\n",
       "      <td>-0.005458</td>\n",
       "      <td>0.025651</td>\n",
       "      <td>0.012238</td>\n",
       "      <td>-0.027094</td>\n",
       "    </tr>\n",
       "    <tr>\n",
       "      <th>Age</th>\n",
       "      <td>-0.003965</td>\n",
       "      <td>1.000000</td>\n",
       "      <td>-0.013134</td>\n",
       "      <td>0.028308</td>\n",
       "      <td>-0.007201</td>\n",
       "      <td>-0.011721</td>\n",
       "      <td>0.085472</td>\n",
       "      <td>-0.030680</td>\n",
       "      <td>0.285323</td>\n",
       "    </tr>\n",
       "    <tr>\n",
       "      <th>Tenure</th>\n",
       "      <td>-0.000062</td>\n",
       "      <td>-0.013134</td>\n",
       "      <td>1.000000</td>\n",
       "      <td>-0.007911</td>\n",
       "      <td>0.010520</td>\n",
       "      <td>0.027232</td>\n",
       "      <td>-0.032178</td>\n",
       "      <td>0.011979</td>\n",
       "      <td>-0.016761</td>\n",
       "    </tr>\n",
       "    <tr>\n",
       "      <th>Balance</th>\n",
       "      <td>0.006268</td>\n",
       "      <td>0.028308</td>\n",
       "      <td>-0.007911</td>\n",
       "      <td>1.000000</td>\n",
       "      <td>0.012797</td>\n",
       "      <td>-0.014858</td>\n",
       "      <td>-0.010084</td>\n",
       "      <td>-0.304180</td>\n",
       "      <td>0.118533</td>\n",
       "    </tr>\n",
       "    <tr>\n",
       "      <th>EstimatedSalary</th>\n",
       "      <td>-0.001384</td>\n",
       "      <td>-0.007201</td>\n",
       "      <td>0.010520</td>\n",
       "      <td>0.012797</td>\n",
       "      <td>1.000000</td>\n",
       "      <td>-0.009933</td>\n",
       "      <td>-0.011421</td>\n",
       "      <td>0.014204</td>\n",
       "      <td>0.012097</td>\n",
       "    </tr>\n",
       "    <tr>\n",
       "      <th>HasCrCard</th>\n",
       "      <td>-0.005458</td>\n",
       "      <td>-0.011721</td>\n",
       "      <td>0.027232</td>\n",
       "      <td>-0.014858</td>\n",
       "      <td>-0.009933</td>\n",
       "      <td>1.000000</td>\n",
       "      <td>-0.011866</td>\n",
       "      <td>0.003183</td>\n",
       "      <td>-0.007138</td>\n",
       "    </tr>\n",
       "    <tr>\n",
       "      <th>IsActiveMember</th>\n",
       "      <td>0.025651</td>\n",
       "      <td>0.085472</td>\n",
       "      <td>-0.032178</td>\n",
       "      <td>-0.010084</td>\n",
       "      <td>-0.011421</td>\n",
       "      <td>-0.011866</td>\n",
       "      <td>1.000000</td>\n",
       "      <td>0.009612</td>\n",
       "      <td>-0.156128</td>\n",
       "    </tr>\n",
       "    <tr>\n",
       "      <th>NumOfProducts</th>\n",
       "      <td>0.012238</td>\n",
       "      <td>-0.030680</td>\n",
       "      <td>0.011979</td>\n",
       "      <td>-0.304180</td>\n",
       "      <td>0.014204</td>\n",
       "      <td>0.003183</td>\n",
       "      <td>0.009612</td>\n",
       "      <td>1.000000</td>\n",
       "      <td>-0.047820</td>\n",
       "    </tr>\n",
       "    <tr>\n",
       "      <th>Exited</th>\n",
       "      <td>-0.027094</td>\n",
       "      <td>0.285323</td>\n",
       "      <td>-0.016761</td>\n",
       "      <td>0.118533</td>\n",
       "      <td>0.012097</td>\n",
       "      <td>-0.007138</td>\n",
       "      <td>-0.156128</td>\n",
       "      <td>-0.047820</td>\n",
       "      <td>1.000000</td>\n",
       "    </tr>\n",
       "  </tbody>\n",
       "</table>\n",
       "</div>"
      ],
      "text/plain": [
       "                 CreditScore       Age    Tenure   Balance  EstimatedSalary  \\\n",
       "CreditScore         1.000000 -0.003965 -0.000062  0.006268        -0.001384   \n",
       "Age                -0.003965  1.000000 -0.013134  0.028308        -0.007201   \n",
       "Tenure             -0.000062 -0.013134  1.000000 -0.007911         0.010520   \n",
       "Balance             0.006268  0.028308 -0.007911  1.000000         0.012797   \n",
       "EstimatedSalary    -0.001384 -0.007201  0.010520  0.012797         1.000000   \n",
       "HasCrCard          -0.005458 -0.011721  0.027232 -0.014858        -0.009933   \n",
       "IsActiveMember      0.025651  0.085472 -0.032178 -0.010084        -0.011421   \n",
       "NumOfProducts       0.012238 -0.030680  0.011979 -0.304180         0.014204   \n",
       "Exited             -0.027094  0.285323 -0.016761  0.118533         0.012097   \n",
       "\n",
       "                 HasCrCard  IsActiveMember  NumOfProducts    Exited  \n",
       "CreditScore      -0.005458        0.025651       0.012238 -0.027094  \n",
       "Age              -0.011721        0.085472      -0.030680  0.285323  \n",
       "Tenure            0.027232       -0.032178       0.011979 -0.016761  \n",
       "Balance          -0.014858       -0.010084      -0.304180  0.118533  \n",
       "EstimatedSalary  -0.009933       -0.011421       0.014204  0.012097  \n",
       "HasCrCard         1.000000       -0.011866       0.003183 -0.007138  \n",
       "IsActiveMember   -0.011866        1.000000       0.009612 -0.156128  \n",
       "NumOfProducts     0.003183        0.009612       1.000000 -0.047820  \n",
       "Exited           -0.007138       -0.156128      -0.047820  1.000000  "
      ]
     },
     "execution_count": 17,
     "metadata": {},
     "output_type": "execute_result"
    }
   ],
   "source": [
    "# вычисляет корреляцию между столбцами в срезе\n",
    "df[['CreditScore', 'Age', 'Tenure', 'Balance', 'EstimatedSalary', 'HasCrCard', \\\n",
    "    'IsActiveMember', 'NumOfProducts', 'Exited']].corr()"
   ]
  },
  {
   "cell_type": "code",
   "execution_count": 18,
   "metadata": {},
   "outputs": [
    {
     "data": {
      "text/plain": [
       "RowNumber            0\n",
       "CustomerId           0\n",
       "Surname              0\n",
       "CreditScore          0\n",
       "Geography            0\n",
       "Gender               0\n",
       "Age                  0\n",
       "Tenure             909\n",
       "Balance              0\n",
       "NumOfProducts        0\n",
       "HasCrCard            0\n",
       "IsActiveMember       0\n",
       "EstimatedSalary      0\n",
       "Exited               0\n",
       "dtype: int64"
      ]
     },
     "execution_count": 18,
     "metadata": {},
     "output_type": "execute_result"
    }
   ],
   "source": [
    "# кол-во пропусков в каждом столбце\n",
    "df.isna().sum()"
   ]
  },
  {
   "cell_type": "code",
   "execution_count": 19,
   "metadata": {},
   "outputs": [
    {
     "data": {
      "text/plain": [
       "(10000, 14)"
      ]
     },
     "execution_count": 19,
     "metadata": {},
     "output_type": "execute_result"
    }
   ],
   "source": [
    "# проверяет размеры таблицы\n",
    "df.shape"
   ]
  },
  {
   "cell_type": "markdown",
   "metadata": {},
   "source": [
    "### Обработка пропусков в данных"
   ]
  },
  {
   "cell_type": "markdown",
   "metadata": {},
   "source": [
    "В данных о количестве лет \"пребывания клиента в банке\" (`Tenure`) имеются пропуски.<br>\n",
    "Два варианта действий с пропусками:\n",
    "- заменить пропуски медианными значениями `Tenure`;\n",
    "- удалить данные с пропусками.</div><br>\n",
    "\n",
    "В данном случае делаем выбор в пользу удаления данных, поскольку:\n",
    "- размер пропусков составляет менее 10% от общего размера ДФ при довольно значительном общем размере ДФ в 10000 строк;\n",
    "- количество лет, в течение которых человек являлся клиентом банка, может быть существенным (значимым) признаком для определения целевого признака.<br>\n",
    "<br>\n",
    "Перед удалением из любопытства сравним общий дисбаланс классов в ДФ и дисбаланс в данных с пропусками."
   ]
  },
  {
   "cell_type": "markdown",
   "metadata": {},
   "source": [
    "Вместо удаления пропусков заменим их медианными значениями с группировкой по стране, полу и возрастным диапазонам."
   ]
  },
  {
   "cell_type": "markdown",
   "metadata": {},
   "source": [
    "Получим статистики возраста `Age`, создадим дубликат этого столбца и разделим его на категории."
   ]
  },
  {
   "cell_type": "code",
   "execution_count": 20,
   "metadata": {},
   "outputs": [
    {
     "data": {
      "text/html": [
       "<div>\n",
       "<style scoped>\n",
       "    .dataframe tbody tr th:only-of-type {\n",
       "        vertical-align: middle;\n",
       "    }\n",
       "\n",
       "    .dataframe tbody tr th {\n",
       "        vertical-align: top;\n",
       "    }\n",
       "\n",
       "    .dataframe thead th {\n",
       "        text-align: right;\n",
       "    }\n",
       "</style>\n",
       "<table border=\"1\" class=\"dataframe\">\n",
       "  <thead>\n",
       "    <tr style=\"text-align: right;\">\n",
       "      <th></th>\n",
       "      <th>Age</th>\n",
       "    </tr>\n",
       "  </thead>\n",
       "  <tbody>\n",
       "    <tr>\n",
       "      <th>count</th>\n",
       "      <td>10000.0</td>\n",
       "    </tr>\n",
       "    <tr>\n",
       "      <th>mean</th>\n",
       "      <td>38.9</td>\n",
       "    </tr>\n",
       "    <tr>\n",
       "      <th>std</th>\n",
       "      <td>10.5</td>\n",
       "    </tr>\n",
       "    <tr>\n",
       "      <th>min</th>\n",
       "      <td>18.0</td>\n",
       "    </tr>\n",
       "    <tr>\n",
       "      <th>25%</th>\n",
       "      <td>32.0</td>\n",
       "    </tr>\n",
       "    <tr>\n",
       "      <th>50%</th>\n",
       "      <td>37.0</td>\n",
       "    </tr>\n",
       "    <tr>\n",
       "      <th>75%</th>\n",
       "      <td>44.0</td>\n",
       "    </tr>\n",
       "    <tr>\n",
       "      <th>max</th>\n",
       "      <td>92.0</td>\n",
       "    </tr>\n",
       "  </tbody>\n",
       "</table>\n",
       "</div>"
      ],
      "text/plain": [
       "           Age\n",
       "count  10000.0\n",
       "mean      38.9\n",
       "std       10.5\n",
       "min       18.0\n",
       "25%       32.0\n",
       "50%       37.0\n",
       "75%       44.0\n",
       "max       92.0"
      ]
     },
     "execution_count": 20,
     "metadata": {},
     "output_type": "execute_result"
    }
   ],
   "source": [
    "df[['Age']].describe().round(1)"
   ]
  },
  {
   "cell_type": "code",
   "execution_count": 21,
   "metadata": {},
   "outputs": [],
   "source": [
    "df['Age_'] = pd.cut(df['Age'], [0, 20, 25, 45, 55, 65, 75, 85, 95])"
   ]
  },
  {
   "cell_type": "markdown",
   "metadata": {},
   "source": [
    "Проверим, как меняются медианные значения при группировке:"
   ]
  },
  {
   "cell_type": "code",
   "execution_count": 22,
   "metadata": {
    "scrolled": true
   },
   "outputs": [
    {
     "data": {
      "text/html": [
       "<div>\n",
       "<style scoped>\n",
       "    .dataframe tbody tr th:only-of-type {\n",
       "        vertical-align: middle;\n",
       "    }\n",
       "\n",
       "    .dataframe tbody tr th {\n",
       "        vertical-align: top;\n",
       "    }\n",
       "\n",
       "    .dataframe thead th {\n",
       "        text-align: right;\n",
       "    }\n",
       "</style>\n",
       "<table border=\"1\" class=\"dataframe\">\n",
       "  <thead>\n",
       "    <tr style=\"text-align: right;\">\n",
       "      <th></th>\n",
       "      <th></th>\n",
       "      <th></th>\n",
       "      <th>Tenure</th>\n",
       "    </tr>\n",
       "    <tr>\n",
       "      <th>Gender</th>\n",
       "      <th>Geography</th>\n",
       "      <th>Age_</th>\n",
       "      <th></th>\n",
       "    </tr>\n",
       "  </thead>\n",
       "  <tbody>\n",
       "    <tr>\n",
       "      <th rowspan=\"24\" valign=\"top\">Female</th>\n",
       "      <th rowspan=\"8\" valign=\"top\">France</th>\n",
       "      <th>(0, 20]</th>\n",
       "      <td>5.0</td>\n",
       "    </tr>\n",
       "    <tr>\n",
       "      <th>(20, 25]</th>\n",
       "      <td>5.0</td>\n",
       "    </tr>\n",
       "    <tr>\n",
       "      <th>(25, 45]</th>\n",
       "      <td>5.0</td>\n",
       "    </tr>\n",
       "    <tr>\n",
       "      <th>(45, 55]</th>\n",
       "      <td>5.0</td>\n",
       "    </tr>\n",
       "    <tr>\n",
       "      <th>(55, 65]</th>\n",
       "      <td>4.5</td>\n",
       "    </tr>\n",
       "    <tr>\n",
       "      <th>(65, 75]</th>\n",
       "      <td>5.0</td>\n",
       "    </tr>\n",
       "    <tr>\n",
       "      <th>(75, 85]</th>\n",
       "      <td>6.0</td>\n",
       "    </tr>\n",
       "    <tr>\n",
       "      <th>(85, 95]</th>\n",
       "      <td>NaN</td>\n",
       "    </tr>\n",
       "    <tr>\n",
       "      <th rowspan=\"8\" valign=\"top\">Germany</th>\n",
       "      <th>(0, 20]</th>\n",
       "      <td>2.5</td>\n",
       "    </tr>\n",
       "    <tr>\n",
       "      <th>(20, 25]</th>\n",
       "      <td>5.0</td>\n",
       "    </tr>\n",
       "    <tr>\n",
       "      <th>(25, 45]</th>\n",
       "      <td>5.0</td>\n",
       "    </tr>\n",
       "    <tr>\n",
       "      <th>(45, 55]</th>\n",
       "      <td>5.0</td>\n",
       "    </tr>\n",
       "    <tr>\n",
       "      <th>(55, 65]</th>\n",
       "      <td>5.0</td>\n",
       "    </tr>\n",
       "    <tr>\n",
       "      <th>(65, 75]</th>\n",
       "      <td>5.0</td>\n",
       "    </tr>\n",
       "    <tr>\n",
       "      <th>(75, 85]</th>\n",
       "      <td>10.0</td>\n",
       "    </tr>\n",
       "    <tr>\n",
       "      <th>(85, 95]</th>\n",
       "      <td>NaN</td>\n",
       "    </tr>\n",
       "    <tr>\n",
       "      <th rowspan=\"8\" valign=\"top\">Spain</th>\n",
       "      <th>(0, 20]</th>\n",
       "      <td>6.0</td>\n",
       "    </tr>\n",
       "    <tr>\n",
       "      <th>(20, 25]</th>\n",
       "      <td>6.0</td>\n",
       "    </tr>\n",
       "    <tr>\n",
       "      <th>(25, 45]</th>\n",
       "      <td>5.0</td>\n",
       "    </tr>\n",
       "    <tr>\n",
       "      <th>(45, 55]</th>\n",
       "      <td>5.0</td>\n",
       "    </tr>\n",
       "    <tr>\n",
       "      <th>(55, 65]</th>\n",
       "      <td>4.0</td>\n",
       "    </tr>\n",
       "    <tr>\n",
       "      <th>(65, 75]</th>\n",
       "      <td>4.5</td>\n",
       "    </tr>\n",
       "    <tr>\n",
       "      <th>(75, 85]</th>\n",
       "      <td>5.0</td>\n",
       "    </tr>\n",
       "    <tr>\n",
       "      <th>(85, 95]</th>\n",
       "      <td>NaN</td>\n",
       "    </tr>\n",
       "    <tr>\n",
       "      <th rowspan=\"24\" valign=\"top\">Male</th>\n",
       "      <th rowspan=\"8\" valign=\"top\">France</th>\n",
       "      <th>(0, 20]</th>\n",
       "      <td>5.5</td>\n",
       "    </tr>\n",
       "    <tr>\n",
       "      <th>(20, 25]</th>\n",
       "      <td>5.0</td>\n",
       "    </tr>\n",
       "    <tr>\n",
       "      <th>(25, 45]</th>\n",
       "      <td>5.0</td>\n",
       "    </tr>\n",
       "    <tr>\n",
       "      <th>(45, 55]</th>\n",
       "      <td>5.0</td>\n",
       "    </tr>\n",
       "    <tr>\n",
       "      <th>(55, 65]</th>\n",
       "      <td>5.0</td>\n",
       "    </tr>\n",
       "    <tr>\n",
       "      <th>(65, 75]</th>\n",
       "      <td>4.0</td>\n",
       "    </tr>\n",
       "    <tr>\n",
       "      <th>(75, 85]</th>\n",
       "      <td>5.0</td>\n",
       "    </tr>\n",
       "    <tr>\n",
       "      <th>(85, 95]</th>\n",
       "      <td>1.0</td>\n",
       "    </tr>\n",
       "    <tr>\n",
       "      <th rowspan=\"8\" valign=\"top\">Germany</th>\n",
       "      <th>(0, 20]</th>\n",
       "      <td>3.5</td>\n",
       "    </tr>\n",
       "    <tr>\n",
       "      <th>(20, 25]</th>\n",
       "      <td>5.0</td>\n",
       "    </tr>\n",
       "    <tr>\n",
       "      <th>(25, 45]</th>\n",
       "      <td>5.0</td>\n",
       "    </tr>\n",
       "    <tr>\n",
       "      <th>(45, 55]</th>\n",
       "      <td>5.0</td>\n",
       "    </tr>\n",
       "    <tr>\n",
       "      <th>(55, 65]</th>\n",
       "      <td>4.0</td>\n",
       "    </tr>\n",
       "    <tr>\n",
       "      <th>(65, 75]</th>\n",
       "      <td>6.0</td>\n",
       "    </tr>\n",
       "    <tr>\n",
       "      <th>(75, 85]</th>\n",
       "      <td>6.0</td>\n",
       "    </tr>\n",
       "    <tr>\n",
       "      <th>(85, 95]</th>\n",
       "      <td>NaN</td>\n",
       "    </tr>\n",
       "    <tr>\n",
       "      <th rowspan=\"8\" valign=\"top\">Spain</th>\n",
       "      <th>(0, 20]</th>\n",
       "      <td>7.0</td>\n",
       "    </tr>\n",
       "    <tr>\n",
       "      <th>(20, 25]</th>\n",
       "      <td>6.0</td>\n",
       "    </tr>\n",
       "    <tr>\n",
       "      <th>(25, 45]</th>\n",
       "      <td>5.0</td>\n",
       "    </tr>\n",
       "    <tr>\n",
       "      <th>(45, 55]</th>\n",
       "      <td>5.0</td>\n",
       "    </tr>\n",
       "    <tr>\n",
       "      <th>(55, 65]</th>\n",
       "      <td>4.0</td>\n",
       "    </tr>\n",
       "    <tr>\n",
       "      <th>(65, 75]</th>\n",
       "      <td>5.0</td>\n",
       "    </tr>\n",
       "    <tr>\n",
       "      <th>(75, 85]</th>\n",
       "      <td>5.0</td>\n",
       "    </tr>\n",
       "    <tr>\n",
       "      <th>(85, 95]</th>\n",
       "      <td>10.0</td>\n",
       "    </tr>\n",
       "  </tbody>\n",
       "</table>\n",
       "</div>"
      ],
      "text/plain": [
       "                           Tenure\n",
       "Gender Geography Age_            \n",
       "Female France    (0, 20]      5.0\n",
       "                 (20, 25]     5.0\n",
       "                 (25, 45]     5.0\n",
       "                 (45, 55]     5.0\n",
       "                 (55, 65]     4.5\n",
       "                 (65, 75]     5.0\n",
       "                 (75, 85]     6.0\n",
       "                 (85, 95]     NaN\n",
       "       Germany   (0, 20]      2.5\n",
       "                 (20, 25]     5.0\n",
       "                 (25, 45]     5.0\n",
       "                 (45, 55]     5.0\n",
       "                 (55, 65]     5.0\n",
       "                 (65, 75]     5.0\n",
       "                 (75, 85]    10.0\n",
       "                 (85, 95]     NaN\n",
       "       Spain     (0, 20]      6.0\n",
       "                 (20, 25]     6.0\n",
       "                 (25, 45]     5.0\n",
       "                 (45, 55]     5.0\n",
       "                 (55, 65]     4.0\n",
       "                 (65, 75]     4.5\n",
       "                 (75, 85]     5.0\n",
       "                 (85, 95]     NaN\n",
       "Male   France    (0, 20]      5.5\n",
       "                 (20, 25]     5.0\n",
       "                 (25, 45]     5.0\n",
       "                 (45, 55]     5.0\n",
       "                 (55, 65]     5.0\n",
       "                 (65, 75]     4.0\n",
       "                 (75, 85]     5.0\n",
       "                 (85, 95]     1.0\n",
       "       Germany   (0, 20]      3.5\n",
       "                 (20, 25]     5.0\n",
       "                 (25, 45]     5.0\n",
       "                 (45, 55]     5.0\n",
       "                 (55, 65]     4.0\n",
       "                 (65, 75]     6.0\n",
       "                 (75, 85]     6.0\n",
       "                 (85, 95]     NaN\n",
       "       Spain     (0, 20]      7.0\n",
       "                 (20, 25]     6.0\n",
       "                 (25, 45]     5.0\n",
       "                 (45, 55]     5.0\n",
       "                 (55, 65]     4.0\n",
       "                 (65, 75]     5.0\n",
       "                 (75, 85]     5.0\n",
       "                 (85, 95]    10.0"
      ]
     },
     "execution_count": 22,
     "metadata": {},
     "output_type": "execute_result"
    }
   ],
   "source": [
    "df.groupby(['Gender', 'Geography', 'Age_'])[['Tenure']].median()"
   ]
  },
  {
   "cell_type": "markdown",
   "metadata": {},
   "source": [
    "Сделаем группировку и замену отсутствующих данных:"
   ]
  },
  {
   "cell_type": "code",
   "execution_count": 23,
   "metadata": {},
   "outputs": [],
   "source": [
    "# группирует данные по категориям, подсчитывает для каждой группы медианное значение 'Tenure' и\n",
    "# заполняет отсутсвующие данные в столбце df 'Tenure'\n",
    "df['Tenure'] = df['Tenure'].fillna(\n",
    "    df.groupby(['Gender', 'Geography', 'Age_'])['Tenure'].transform('median'))"
   ]
  },
  {
   "cell_type": "markdown",
   "metadata": {},
   "source": [
    "Проверяет результаты заполнения:"
   ]
  },
  {
   "cell_type": "code",
   "execution_count": 24,
   "metadata": {},
   "outputs": [
    {
     "data": {
      "text/plain": [
       "0"
      ]
     },
     "execution_count": 24,
     "metadata": {},
     "output_type": "execute_result"
    }
   ],
   "source": [
    "df['Tenure'].isna().sum()"
   ]
  },
  {
   "cell_type": "code",
   "execution_count": 25,
   "metadata": {},
   "outputs": [],
   "source": [
    "# удаляет столбец 'Age_'\n",
    "df.drop(columns='Age_', inplace=True)"
   ]
  },
  {
   "cell_type": "markdown",
   "metadata": {},
   "source": [
    "Проверяет результат:"
   ]
  },
  {
   "cell_type": "code",
   "execution_count": 26,
   "metadata": {},
   "outputs": [
    {
     "name": "stdout",
     "output_type": "stream",
     "text": [
      "(10000, 14)\n"
     ]
    },
    {
     "data": {
      "text/html": [
       "<div>\n",
       "<style scoped>\n",
       "    .dataframe tbody tr th:only-of-type {\n",
       "        vertical-align: middle;\n",
       "    }\n",
       "\n",
       "    .dataframe tbody tr th {\n",
       "        vertical-align: top;\n",
       "    }\n",
       "\n",
       "    .dataframe thead th {\n",
       "        text-align: right;\n",
       "    }\n",
       "</style>\n",
       "<table border=\"1\" class=\"dataframe\">\n",
       "  <thead>\n",
       "    <tr style=\"text-align: right;\">\n",
       "      <th></th>\n",
       "      <th>RowNumber</th>\n",
       "      <th>CustomerId</th>\n",
       "      <th>Surname</th>\n",
       "      <th>CreditScore</th>\n",
       "      <th>Geography</th>\n",
       "      <th>Gender</th>\n",
       "      <th>Age</th>\n",
       "      <th>Tenure</th>\n",
       "      <th>Balance</th>\n",
       "      <th>NumOfProducts</th>\n",
       "      <th>HasCrCard</th>\n",
       "      <th>IsActiveMember</th>\n",
       "      <th>EstimatedSalary</th>\n",
       "      <th>Exited</th>\n",
       "    </tr>\n",
       "  </thead>\n",
       "  <tbody>\n",
       "    <tr>\n",
       "      <th>0</th>\n",
       "      <td>1</td>\n",
       "      <td>15634602</td>\n",
       "      <td>Hargrave</td>\n",
       "      <td>619</td>\n",
       "      <td>France</td>\n",
       "      <td>Female</td>\n",
       "      <td>42</td>\n",
       "      <td>2.0</td>\n",
       "      <td>0.00</td>\n",
       "      <td>1</td>\n",
       "      <td>1</td>\n",
       "      <td>1</td>\n",
       "      <td>101348.88</td>\n",
       "      <td>1</td>\n",
       "    </tr>\n",
       "    <tr>\n",
       "      <th>1</th>\n",
       "      <td>2</td>\n",
       "      <td>15647311</td>\n",
       "      <td>Hill</td>\n",
       "      <td>608</td>\n",
       "      <td>Spain</td>\n",
       "      <td>Female</td>\n",
       "      <td>41</td>\n",
       "      <td>1.0</td>\n",
       "      <td>83807.86</td>\n",
       "      <td>1</td>\n",
       "      <td>0</td>\n",
       "      <td>1</td>\n",
       "      <td>112542.58</td>\n",
       "      <td>0</td>\n",
       "    </tr>\n",
       "    <tr>\n",
       "      <th>2</th>\n",
       "      <td>3</td>\n",
       "      <td>15619304</td>\n",
       "      <td>Onio</td>\n",
       "      <td>502</td>\n",
       "      <td>France</td>\n",
       "      <td>Female</td>\n",
       "      <td>42</td>\n",
       "      <td>8.0</td>\n",
       "      <td>159660.80</td>\n",
       "      <td>3</td>\n",
       "      <td>1</td>\n",
       "      <td>0</td>\n",
       "      <td>113931.57</td>\n",
       "      <td>1</td>\n",
       "    </tr>\n",
       "    <tr>\n",
       "      <th>3</th>\n",
       "      <td>4</td>\n",
       "      <td>15701354</td>\n",
       "      <td>Boni</td>\n",
       "      <td>699</td>\n",
       "      <td>France</td>\n",
       "      <td>Female</td>\n",
       "      <td>39</td>\n",
       "      <td>1.0</td>\n",
       "      <td>0.00</td>\n",
       "      <td>2</td>\n",
       "      <td>0</td>\n",
       "      <td>0</td>\n",
       "      <td>93826.63</td>\n",
       "      <td>0</td>\n",
       "    </tr>\n",
       "    <tr>\n",
       "      <th>4</th>\n",
       "      <td>5</td>\n",
       "      <td>15737888</td>\n",
       "      <td>Mitchell</td>\n",
       "      <td>850</td>\n",
       "      <td>Spain</td>\n",
       "      <td>Female</td>\n",
       "      <td>43</td>\n",
       "      <td>2.0</td>\n",
       "      <td>125510.82</td>\n",
       "      <td>1</td>\n",
       "      <td>1</td>\n",
       "      <td>1</td>\n",
       "      <td>79084.10</td>\n",
       "      <td>0</td>\n",
       "    </tr>\n",
       "  </tbody>\n",
       "</table>\n",
       "</div>"
      ],
      "text/plain": [
       "   RowNumber  CustomerId   Surname  CreditScore Geography  Gender  Age  \\\n",
       "0          1    15634602  Hargrave          619    France  Female   42   \n",
       "1          2    15647311      Hill          608     Spain  Female   41   \n",
       "2          3    15619304      Onio          502    France  Female   42   \n",
       "3          4    15701354      Boni          699    France  Female   39   \n",
       "4          5    15737888  Mitchell          850     Spain  Female   43   \n",
       "\n",
       "   Tenure    Balance  NumOfProducts  HasCrCard  IsActiveMember  \\\n",
       "0     2.0       0.00              1          1               1   \n",
       "1     1.0   83807.86              1          0               1   \n",
       "2     8.0  159660.80              3          1               0   \n",
       "3     1.0       0.00              2          0               0   \n",
       "4     2.0  125510.82              1          1               1   \n",
       "\n",
       "   EstimatedSalary  Exited  \n",
       "0        101348.88       1  \n",
       "1        112542.58       0  \n",
       "2        113931.57       1  \n",
       "3         93826.63       0  \n",
       "4         79084.10       0  "
      ]
     },
     "execution_count": 26,
     "metadata": {},
     "output_type": "execute_result"
    }
   ],
   "source": [
    "print(df.shape)\n",
    "df.head()"
   ]
  },
  {
   "cell_type": "markdown",
   "metadata": {},
   "source": [
    "Замена проведена корректно: пропуски отсутствуют, размер датасета не изменился."
   ]
  },
  {
   "cell_type": "markdown",
   "metadata": {},
   "source": [
    "### Удаление лишних значений в данных"
   ]
  },
  {
   "cell_type": "markdown",
   "metadata": {},
   "source": [
    "При построении модели следующие данные нам не только не потребуются, но окажутся лишними, так как они не содержат никакой полезной информации для модели: <br>\n",
    "`RowNumber` - индекс строки<br>\n",
    "`CustomerId`- идентификатор клиента<br>\n",
    "`Surname` - фамилия клиента<br>\n",
    "Удалим эти столбцы."
   ]
  },
  {
   "cell_type": "code",
   "execution_count": 27,
   "metadata": {},
   "outputs": [],
   "source": [
    "df = df.drop(['RowNumber', 'CustomerId', 'Surname'], axis=1)"
   ]
  },
  {
   "cell_type": "code",
   "execution_count": 28,
   "metadata": {
    "scrolled": true
   },
   "outputs": [
    {
     "name": "stdout",
     "output_type": "stream",
     "text": [
      "(10000, 11)\n"
     ]
    },
    {
     "data": {
      "text/html": [
       "<div>\n",
       "<style scoped>\n",
       "    .dataframe tbody tr th:only-of-type {\n",
       "        vertical-align: middle;\n",
       "    }\n",
       "\n",
       "    .dataframe tbody tr th {\n",
       "        vertical-align: top;\n",
       "    }\n",
       "\n",
       "    .dataframe thead th {\n",
       "        text-align: right;\n",
       "    }\n",
       "</style>\n",
       "<table border=\"1\" class=\"dataframe\">\n",
       "  <thead>\n",
       "    <tr style=\"text-align: right;\">\n",
       "      <th></th>\n",
       "      <th>CreditScore</th>\n",
       "      <th>Geography</th>\n",
       "      <th>Gender</th>\n",
       "      <th>Age</th>\n",
       "      <th>Tenure</th>\n",
       "      <th>Balance</th>\n",
       "      <th>NumOfProducts</th>\n",
       "      <th>HasCrCard</th>\n",
       "      <th>IsActiveMember</th>\n",
       "      <th>EstimatedSalary</th>\n",
       "      <th>Exited</th>\n",
       "    </tr>\n",
       "  </thead>\n",
       "  <tbody>\n",
       "    <tr>\n",
       "      <th>0</th>\n",
       "      <td>619</td>\n",
       "      <td>France</td>\n",
       "      <td>Female</td>\n",
       "      <td>42</td>\n",
       "      <td>2.0</td>\n",
       "      <td>0.00</td>\n",
       "      <td>1</td>\n",
       "      <td>1</td>\n",
       "      <td>1</td>\n",
       "      <td>101348.88</td>\n",
       "      <td>1</td>\n",
       "    </tr>\n",
       "    <tr>\n",
       "      <th>1</th>\n",
       "      <td>608</td>\n",
       "      <td>Spain</td>\n",
       "      <td>Female</td>\n",
       "      <td>41</td>\n",
       "      <td>1.0</td>\n",
       "      <td>83807.86</td>\n",
       "      <td>1</td>\n",
       "      <td>0</td>\n",
       "      <td>1</td>\n",
       "      <td>112542.58</td>\n",
       "      <td>0</td>\n",
       "    </tr>\n",
       "    <tr>\n",
       "      <th>2</th>\n",
       "      <td>502</td>\n",
       "      <td>France</td>\n",
       "      <td>Female</td>\n",
       "      <td>42</td>\n",
       "      <td>8.0</td>\n",
       "      <td>159660.80</td>\n",
       "      <td>3</td>\n",
       "      <td>1</td>\n",
       "      <td>0</td>\n",
       "      <td>113931.57</td>\n",
       "      <td>1</td>\n",
       "    </tr>\n",
       "    <tr>\n",
       "      <th>3</th>\n",
       "      <td>699</td>\n",
       "      <td>France</td>\n",
       "      <td>Female</td>\n",
       "      <td>39</td>\n",
       "      <td>1.0</td>\n",
       "      <td>0.00</td>\n",
       "      <td>2</td>\n",
       "      <td>0</td>\n",
       "      <td>0</td>\n",
       "      <td>93826.63</td>\n",
       "      <td>0</td>\n",
       "    </tr>\n",
       "    <tr>\n",
       "      <th>4</th>\n",
       "      <td>850</td>\n",
       "      <td>Spain</td>\n",
       "      <td>Female</td>\n",
       "      <td>43</td>\n",
       "      <td>2.0</td>\n",
       "      <td>125510.82</td>\n",
       "      <td>1</td>\n",
       "      <td>1</td>\n",
       "      <td>1</td>\n",
       "      <td>79084.10</td>\n",
       "      <td>0</td>\n",
       "    </tr>\n",
       "  </tbody>\n",
       "</table>\n",
       "</div>"
      ],
      "text/plain": [
       "   CreditScore Geography  Gender  Age  Tenure    Balance  NumOfProducts  \\\n",
       "0          619    France  Female   42     2.0       0.00              1   \n",
       "1          608     Spain  Female   41     1.0   83807.86              1   \n",
       "2          502    France  Female   42     8.0  159660.80              3   \n",
       "3          699    France  Female   39     1.0       0.00              2   \n",
       "4          850     Spain  Female   43     2.0  125510.82              1   \n",
       "\n",
       "   HasCrCard  IsActiveMember  EstimatedSalary  Exited  \n",
       "0          1               1        101348.88       1  \n",
       "1          0               1        112542.58       0  \n",
       "2          1               0        113931.57       1  \n",
       "3          0               0         93826.63       0  \n",
       "4          1               1         79084.10       0  "
      ]
     },
     "execution_count": 28,
     "metadata": {},
     "output_type": "execute_result"
    }
   ],
   "source": [
    "# проверяет результаты удаления\n",
    "print(df.shape)\n",
    "df.head()"
   ]
  },
  {
   "cell_type": "markdown",
   "metadata": {},
   "source": [
    "### Поиск аномальных значений в данных"
   ]
  },
  {
   "cell_type": "markdown",
   "metadata": {},
   "source": [
    "Проверим данные на явные аномальные значения:"
   ]
  },
  {
   "cell_type": "markdown",
   "metadata": {},
   "source": [
    "Значения страны и пола:"
   ]
  },
  {
   "cell_type": "code",
   "execution_count": 29,
   "metadata": {},
   "outputs": [
    {
     "data": {
      "text/plain": [
       "array(['France', 'Spain', 'Germany'], dtype=object)"
      ]
     },
     "execution_count": 29,
     "metadata": {},
     "output_type": "execute_result"
    }
   ],
   "source": [
    "df.Geography.unique()"
   ]
  },
  {
   "cell_type": "code",
   "execution_count": 30,
   "metadata": {},
   "outputs": [
    {
     "data": {
      "text/plain": [
       "array(['Female', 'Male'], dtype=object)"
      ]
     },
     "execution_count": 30,
     "metadata": {},
     "output_type": "execute_result"
    }
   ],
   "source": [
    "df.Gender.unique()"
   ]
  },
  {
   "cell_type": "markdown",
   "metadata": {},
   "source": [
    "Возрас меньше или равный нулю:"
   ]
  },
  {
   "cell_type": "code",
   "execution_count": 31,
   "metadata": {},
   "outputs": [
    {
     "data": {
      "text/html": [
       "<div>\n",
       "<style scoped>\n",
       "    .dataframe tbody tr th:only-of-type {\n",
       "        vertical-align: middle;\n",
       "    }\n",
       "\n",
       "    .dataframe tbody tr th {\n",
       "        vertical-align: top;\n",
       "    }\n",
       "\n",
       "    .dataframe thead th {\n",
       "        text-align: right;\n",
       "    }\n",
       "</style>\n",
       "<table border=\"1\" class=\"dataframe\">\n",
       "  <thead>\n",
       "    <tr style=\"text-align: right;\">\n",
       "      <th></th>\n",
       "      <th>CreditScore</th>\n",
       "      <th>Geography</th>\n",
       "      <th>Gender</th>\n",
       "      <th>Age</th>\n",
       "      <th>Tenure</th>\n",
       "      <th>Balance</th>\n",
       "      <th>NumOfProducts</th>\n",
       "      <th>HasCrCard</th>\n",
       "      <th>IsActiveMember</th>\n",
       "      <th>EstimatedSalary</th>\n",
       "      <th>Exited</th>\n",
       "    </tr>\n",
       "  </thead>\n",
       "  <tbody>\n",
       "  </tbody>\n",
       "</table>\n",
       "</div>"
      ],
      "text/plain": [
       "Empty DataFrame\n",
       "Columns: [CreditScore, Geography, Gender, Age, Tenure, Balance, NumOfProducts, HasCrCard, IsActiveMember, EstimatedSalary, Exited]\n",
       "Index: []"
      ]
     },
     "execution_count": 31,
     "metadata": {},
     "output_type": "execute_result"
    }
   ],
   "source": [
    "df[df.Age <= 0]"
   ]
  },
  {
   "cell_type": "markdown",
   "metadata": {},
   "source": [
    "Отрицательные значения в данных о количестве лет пребывания в банке:"
   ]
  },
  {
   "cell_type": "code",
   "execution_count": 32,
   "metadata": {},
   "outputs": [
    {
     "data": {
      "text/html": [
       "<div>\n",
       "<style scoped>\n",
       "    .dataframe tbody tr th:only-of-type {\n",
       "        vertical-align: middle;\n",
       "    }\n",
       "\n",
       "    .dataframe tbody tr th {\n",
       "        vertical-align: top;\n",
       "    }\n",
       "\n",
       "    .dataframe thead th {\n",
       "        text-align: right;\n",
       "    }\n",
       "</style>\n",
       "<table border=\"1\" class=\"dataframe\">\n",
       "  <thead>\n",
       "    <tr style=\"text-align: right;\">\n",
       "      <th></th>\n",
       "      <th>CreditScore</th>\n",
       "      <th>Geography</th>\n",
       "      <th>Gender</th>\n",
       "      <th>Age</th>\n",
       "      <th>Tenure</th>\n",
       "      <th>Balance</th>\n",
       "      <th>NumOfProducts</th>\n",
       "      <th>HasCrCard</th>\n",
       "      <th>IsActiveMember</th>\n",
       "      <th>EstimatedSalary</th>\n",
       "      <th>Exited</th>\n",
       "    </tr>\n",
       "  </thead>\n",
       "  <tbody>\n",
       "  </tbody>\n",
       "</table>\n",
       "</div>"
      ],
      "text/plain": [
       "Empty DataFrame\n",
       "Columns: [CreditScore, Geography, Gender, Age, Tenure, Balance, NumOfProducts, HasCrCard, IsActiveMember, EstimatedSalary, Exited]\n",
       "Index: []"
      ]
     },
     "execution_count": 32,
     "metadata": {},
     "output_type": "execute_result"
    }
   ],
   "source": [
    "df[df.Tenure < 0]"
   ]
  },
  {
   "cell_type": "markdown",
   "metadata": {},
   "source": [
    "Количество используемых продуктов банка и активность клиента:"
   ]
  },
  {
   "cell_type": "code",
   "execution_count": 33,
   "metadata": {},
   "outputs": [
    {
     "data": {
      "text/plain": [
       "array([1, 3, 2, 4], dtype=int64)"
      ]
     },
     "execution_count": 33,
     "metadata": {},
     "output_type": "execute_result"
    }
   ],
   "source": [
    "df.NumOfProducts.unique()"
   ]
  },
  {
   "cell_type": "code",
   "execution_count": 34,
   "metadata": {},
   "outputs": [
    {
     "data": {
      "text/plain": [
       "array([1, 0], dtype=int64)"
      ]
     },
     "execution_count": 34,
     "metadata": {},
     "output_type": "execute_result"
    }
   ],
   "source": [
    "df.IsActiveMember.unique()"
   ]
  },
  {
   "cell_type": "markdown",
   "metadata": {},
   "source": [
    "Зарплата меньше или равна нулю:"
   ]
  },
  {
   "cell_type": "code",
   "execution_count": 35,
   "metadata": {},
   "outputs": [
    {
     "data": {
      "text/html": [
       "<div>\n",
       "<style scoped>\n",
       "    .dataframe tbody tr th:only-of-type {\n",
       "        vertical-align: middle;\n",
       "    }\n",
       "\n",
       "    .dataframe tbody tr th {\n",
       "        vertical-align: top;\n",
       "    }\n",
       "\n",
       "    .dataframe thead th {\n",
       "        text-align: right;\n",
       "    }\n",
       "</style>\n",
       "<table border=\"1\" class=\"dataframe\">\n",
       "  <thead>\n",
       "    <tr style=\"text-align: right;\">\n",
       "      <th></th>\n",
       "      <th>CreditScore</th>\n",
       "      <th>Geography</th>\n",
       "      <th>Gender</th>\n",
       "      <th>Age</th>\n",
       "      <th>Tenure</th>\n",
       "      <th>Balance</th>\n",
       "      <th>NumOfProducts</th>\n",
       "      <th>HasCrCard</th>\n",
       "      <th>IsActiveMember</th>\n",
       "      <th>EstimatedSalary</th>\n",
       "      <th>Exited</th>\n",
       "    </tr>\n",
       "  </thead>\n",
       "  <tbody>\n",
       "  </tbody>\n",
       "</table>\n",
       "</div>"
      ],
      "text/plain": [
       "Empty DataFrame\n",
       "Columns: [CreditScore, Geography, Gender, Age, Tenure, Balance, NumOfProducts, HasCrCard, IsActiveMember, EstimatedSalary, Exited]\n",
       "Index: []"
      ]
     },
     "execution_count": 35,
     "metadata": {},
     "output_type": "execute_result"
    }
   ],
   "source": [
    "df[df.EstimatedSalary <= 0]"
   ]
  },
  {
   "cell_type": "markdown",
   "metadata": {},
   "source": [
    "Значения целевого признака:"
   ]
  },
  {
   "cell_type": "code",
   "execution_count": 37,
   "metadata": {
    "scrolled": true
   },
   "outputs": [
    {
     "data": {
      "text/plain": [
       "array([1, 0], dtype=int64)"
      ]
     },
     "execution_count": 37,
     "metadata": {},
     "output_type": "execute_result"
    }
   ],
   "source": [
    "df.Exited.unique()"
   ]
  },
  {
   "cell_type": "code",
   "execution_count": 38,
   "metadata": {},
   "outputs": [
    {
     "data": {
      "text/html": [
       "<div>\n",
       "<style scoped>\n",
       "    .dataframe tbody tr th:only-of-type {\n",
       "        vertical-align: middle;\n",
       "    }\n",
       "\n",
       "    .dataframe tbody tr th {\n",
       "        vertical-align: top;\n",
       "    }\n",
       "\n",
       "    .dataframe thead th {\n",
       "        text-align: right;\n",
       "    }\n",
       "</style>\n",
       "<table border=\"1\" class=\"dataframe\">\n",
       "  <thead>\n",
       "    <tr style=\"text-align: right;\">\n",
       "      <th></th>\n",
       "      <th>CreditScore</th>\n",
       "      <th>Age</th>\n",
       "      <th>Tenure</th>\n",
       "      <th>Balance</th>\n",
       "      <th>NumOfProducts</th>\n",
       "      <th>HasCrCard</th>\n",
       "      <th>IsActiveMember</th>\n",
       "      <th>EstimatedSalary</th>\n",
       "      <th>Exited</th>\n",
       "    </tr>\n",
       "  </thead>\n",
       "  <tbody>\n",
       "    <tr>\n",
       "      <th>count</th>\n",
       "      <td>10000.000000</td>\n",
       "      <td>10000.000000</td>\n",
       "      <td>10000.000000</td>\n",
       "      <td>10000.000000</td>\n",
       "      <td>10000.000000</td>\n",
       "      <td>10000.00000</td>\n",
       "      <td>10000.000000</td>\n",
       "      <td>10000.000000</td>\n",
       "      <td>10000.000000</td>\n",
       "    </tr>\n",
       "    <tr>\n",
       "      <th>mean</th>\n",
       "      <td>650.528800</td>\n",
       "      <td>38.921800</td>\n",
       "      <td>4.997400</td>\n",
       "      <td>76485.889288</td>\n",
       "      <td>1.530200</td>\n",
       "      <td>0.70550</td>\n",
       "      <td>0.515100</td>\n",
       "      <td>100090.239881</td>\n",
       "      <td>0.203700</td>\n",
       "    </tr>\n",
       "    <tr>\n",
       "      <th>std</th>\n",
       "      <td>96.653299</td>\n",
       "      <td>10.487806</td>\n",
       "      <td>2.761205</td>\n",
       "      <td>62397.405202</td>\n",
       "      <td>0.581654</td>\n",
       "      <td>0.45584</td>\n",
       "      <td>0.499797</td>\n",
       "      <td>57510.492818</td>\n",
       "      <td>0.402769</td>\n",
       "    </tr>\n",
       "    <tr>\n",
       "      <th>min</th>\n",
       "      <td>350.000000</td>\n",
       "      <td>18.000000</td>\n",
       "      <td>0.000000</td>\n",
       "      <td>0.000000</td>\n",
       "      <td>1.000000</td>\n",
       "      <td>0.00000</td>\n",
       "      <td>0.000000</td>\n",
       "      <td>11.580000</td>\n",
       "      <td>0.000000</td>\n",
       "    </tr>\n",
       "    <tr>\n",
       "      <th>25%</th>\n",
       "      <td>584.000000</td>\n",
       "      <td>32.000000</td>\n",
       "      <td>3.000000</td>\n",
       "      <td>0.000000</td>\n",
       "      <td>1.000000</td>\n",
       "      <td>0.00000</td>\n",
       "      <td>0.000000</td>\n",
       "      <td>51002.110000</td>\n",
       "      <td>0.000000</td>\n",
       "    </tr>\n",
       "    <tr>\n",
       "      <th>50%</th>\n",
       "      <td>652.000000</td>\n",
       "      <td>37.000000</td>\n",
       "      <td>5.000000</td>\n",
       "      <td>97198.540000</td>\n",
       "      <td>1.000000</td>\n",
       "      <td>1.00000</td>\n",
       "      <td>1.000000</td>\n",
       "      <td>100193.915000</td>\n",
       "      <td>0.000000</td>\n",
       "    </tr>\n",
       "    <tr>\n",
       "      <th>75%</th>\n",
       "      <td>718.000000</td>\n",
       "      <td>44.000000</td>\n",
       "      <td>7.000000</td>\n",
       "      <td>127644.240000</td>\n",
       "      <td>2.000000</td>\n",
       "      <td>1.00000</td>\n",
       "      <td>1.000000</td>\n",
       "      <td>149388.247500</td>\n",
       "      <td>0.000000</td>\n",
       "    </tr>\n",
       "    <tr>\n",
       "      <th>max</th>\n",
       "      <td>850.000000</td>\n",
       "      <td>92.000000</td>\n",
       "      <td>10.000000</td>\n",
       "      <td>250898.090000</td>\n",
       "      <td>4.000000</td>\n",
       "      <td>1.00000</td>\n",
       "      <td>1.000000</td>\n",
       "      <td>199992.480000</td>\n",
       "      <td>1.000000</td>\n",
       "    </tr>\n",
       "  </tbody>\n",
       "</table>\n",
       "</div>"
      ],
      "text/plain": [
       "        CreditScore           Age        Tenure        Balance  NumOfProducts  \\\n",
       "count  10000.000000  10000.000000  10000.000000   10000.000000   10000.000000   \n",
       "mean     650.528800     38.921800      4.997400   76485.889288       1.530200   \n",
       "std       96.653299     10.487806      2.761205   62397.405202       0.581654   \n",
       "min      350.000000     18.000000      0.000000       0.000000       1.000000   \n",
       "25%      584.000000     32.000000      3.000000       0.000000       1.000000   \n",
       "50%      652.000000     37.000000      5.000000   97198.540000       1.000000   \n",
       "75%      718.000000     44.000000      7.000000  127644.240000       2.000000   \n",
       "max      850.000000     92.000000     10.000000  250898.090000       4.000000   \n",
       "\n",
       "         HasCrCard  IsActiveMember  EstimatedSalary        Exited  \n",
       "count  10000.00000    10000.000000     10000.000000  10000.000000  \n",
       "mean       0.70550        0.515100    100090.239881      0.203700  \n",
       "std        0.45584        0.499797     57510.492818      0.402769  \n",
       "min        0.00000        0.000000        11.580000      0.000000  \n",
       "25%        0.00000        0.000000     51002.110000      0.000000  \n",
       "50%        1.00000        1.000000    100193.915000      0.000000  \n",
       "75%        1.00000        1.000000    149388.247500      0.000000  \n",
       "max        1.00000        1.000000    199992.480000      1.000000  "
      ]
     },
     "execution_count": 38,
     "metadata": {},
     "output_type": "execute_result"
    }
   ],
   "source": [
    "df.describe()"
   ]
  },
  {
   "cell_type": "markdown",
   "metadata": {},
   "source": [
    "Явных аномальных значений в данных не выявлено."
   ]
  },
  {
   "cell_type": "markdown",
   "metadata": {},
   "source": [
    "## Исследование задачи"
   ]
  },
  {
   "cell_type": "markdown",
   "metadata": {},
   "source": [
    "Еще раз вычислим дисбаланс классов для получившегося ДФ:"
   ]
  },
  {
   "cell_type": "code",
   "execution_count": 20,
   "metadata": {},
   "outputs": [
    {
     "data": {
      "text/plain": [
       "0    0.796062\n",
       "1    0.203938\n",
       "Name: Exited, dtype: float64"
      ]
     },
     "execution_count": 20,
     "metadata": {},
     "output_type": "execute_result"
    }
   ],
   "source": [
    "df.Exited.value_counts(normalize=True)"
   ]
  },
  {
   "cell_type": "markdown",
   "metadata": {},
   "source": [
    "Примерно 20% клиентов банка покинули банк.<br>\n",
    "Соотношение данных 1:4 -- далеко от 1:1, это явный дисбаланс классов, который необходимо устранить."
   ]
  },
  {
   "cell_type": "markdown",
   "metadata": {},
   "source": [
    "### Подготока категориальных признаков"
   ]
  },
  {
   "cell_type": "markdown",
   "metadata": {},
   "source": [
    "Подготовим категориальные признаки. Еще раз выведем данные:  "
   ]
  },
  {
   "cell_type": "code",
   "execution_count": 21,
   "metadata": {},
   "outputs": [
    {
     "data": {
      "text/html": [
       "<div>\n",
       "<style scoped>\n",
       "    .dataframe tbody tr th:only-of-type {\n",
       "        vertical-align: middle;\n",
       "    }\n",
       "\n",
       "    .dataframe tbody tr th {\n",
       "        vertical-align: top;\n",
       "    }\n",
       "\n",
       "    .dataframe thead th {\n",
       "        text-align: right;\n",
       "    }\n",
       "</style>\n",
       "<table border=\"1\" class=\"dataframe\">\n",
       "  <thead>\n",
       "    <tr style=\"text-align: right;\">\n",
       "      <th></th>\n",
       "      <th>CreditScore</th>\n",
       "      <th>Geography</th>\n",
       "      <th>Gender</th>\n",
       "      <th>Age</th>\n",
       "      <th>Tenure</th>\n",
       "      <th>Balance</th>\n",
       "      <th>NumOfProducts</th>\n",
       "      <th>HasCrCard</th>\n",
       "      <th>IsActiveMember</th>\n",
       "      <th>EstimatedSalary</th>\n",
       "      <th>Exited</th>\n",
       "    </tr>\n",
       "  </thead>\n",
       "  <tbody>\n",
       "    <tr>\n",
       "      <th>7057</th>\n",
       "      <td>818</td>\n",
       "      <td>Germany</td>\n",
       "      <td>Female</td>\n",
       "      <td>72</td>\n",
       "      <td>8.0</td>\n",
       "      <td>135290.42</td>\n",
       "      <td>2</td>\n",
       "      <td>1</td>\n",
       "      <td>1</td>\n",
       "      <td>63729.72</td>\n",
       "      <td>0</td>\n",
       "    </tr>\n",
       "    <tr>\n",
       "      <th>7443</th>\n",
       "      <td>634</td>\n",
       "      <td>France</td>\n",
       "      <td>Female</td>\n",
       "      <td>24</td>\n",
       "      <td>2.0</td>\n",
       "      <td>87413.19</td>\n",
       "      <td>1</td>\n",
       "      <td>1</td>\n",
       "      <td>0</td>\n",
       "      <td>63340.65</td>\n",
       "      <td>0</td>\n",
       "    </tr>\n",
       "    <tr>\n",
       "      <th>8252</th>\n",
       "      <td>744</td>\n",
       "      <td>France</td>\n",
       "      <td>Male</td>\n",
       "      <td>56</td>\n",
       "      <td>9.0</td>\n",
       "      <td>0.00</td>\n",
       "      <td>2</td>\n",
       "      <td>1</td>\n",
       "      <td>1</td>\n",
       "      <td>169498.61</td>\n",
       "      <td>0</td>\n",
       "    </tr>\n",
       "  </tbody>\n",
       "</table>\n",
       "</div>"
      ],
      "text/plain": [
       "      CreditScore Geography  Gender  Age  Tenure    Balance  NumOfProducts  \\\n",
       "7057          818   Germany  Female   72     8.0  135290.42              2   \n",
       "7443          634    France  Female   24     2.0   87413.19              1   \n",
       "8252          744    France    Male   56     9.0       0.00              2   \n",
       "\n",
       "      HasCrCard  IsActiveMember  EstimatedSalary  Exited  \n",
       "7057          1               1         63729.72       0  \n",
       "7443          1               0         63340.65       0  \n",
       "8252          1               1        169498.61       0  "
      ]
     },
     "execution_count": 21,
     "metadata": {},
     "output_type": "execute_result"
    }
   ],
   "source": [
    "df.sample(3)"
   ]
  },
  {
   "cell_type": "code",
   "execution_count": 22,
   "metadata": {},
   "outputs": [
    {
     "data": {
      "text/plain": [
       "CreditScore          int64\n",
       "Geography           object\n",
       "Gender              object\n",
       "Age                  int64\n",
       "Tenure             float64\n",
       "Balance            float64\n",
       "NumOfProducts        int64\n",
       "HasCrCard            int64\n",
       "IsActiveMember       int64\n",
       "EstimatedSalary    float64\n",
       "Exited               int64\n",
       "dtype: object"
      ]
     },
     "execution_count": 22,
     "metadata": {},
     "output_type": "execute_result"
    }
   ],
   "source": [
    "df.dtypes"
   ]
  },
  {
   "cell_type": "markdown",
   "metadata": {},
   "source": [
    "У нас есть два категориальных принака: `Geography` и `Gender`. Преобразуем их методом `OHE`."
   ]
  },
  {
   "cell_type": "code",
   "execution_count": 23,
   "metadata": {},
   "outputs": [],
   "source": [
    "df_ohe = pd.get_dummies(df, drop_first=True)"
   ]
  },
  {
   "cell_type": "markdown",
   "metadata": {},
   "source": [
    "Проверим результаты:"
   ]
  },
  {
   "cell_type": "code",
   "execution_count": 24,
   "metadata": {
    "scrolled": true
   },
   "outputs": [
    {
     "name": "stdout",
     "output_type": "stream",
     "text": [
      "(9091, 12)\n"
     ]
    },
    {
     "data": {
      "text/html": [
       "<div>\n",
       "<style scoped>\n",
       "    .dataframe tbody tr th:only-of-type {\n",
       "        vertical-align: middle;\n",
       "    }\n",
       "\n",
       "    .dataframe tbody tr th {\n",
       "        vertical-align: top;\n",
       "    }\n",
       "\n",
       "    .dataframe thead th {\n",
       "        text-align: right;\n",
       "    }\n",
       "</style>\n",
       "<table border=\"1\" class=\"dataframe\">\n",
       "  <thead>\n",
       "    <tr style=\"text-align: right;\">\n",
       "      <th></th>\n",
       "      <th>CreditScore</th>\n",
       "      <th>Age</th>\n",
       "      <th>Tenure</th>\n",
       "      <th>Balance</th>\n",
       "      <th>NumOfProducts</th>\n",
       "      <th>HasCrCard</th>\n",
       "      <th>IsActiveMember</th>\n",
       "      <th>EstimatedSalary</th>\n",
       "      <th>Exited</th>\n",
       "      <th>Geography_Germany</th>\n",
       "      <th>Geography_Spain</th>\n",
       "      <th>Gender_Male</th>\n",
       "    </tr>\n",
       "  </thead>\n",
       "  <tbody>\n",
       "    <tr>\n",
       "      <th>0</th>\n",
       "      <td>619</td>\n",
       "      <td>42</td>\n",
       "      <td>2.0</td>\n",
       "      <td>0.00</td>\n",
       "      <td>1</td>\n",
       "      <td>1</td>\n",
       "      <td>1</td>\n",
       "      <td>101348.88</td>\n",
       "      <td>1</td>\n",
       "      <td>0</td>\n",
       "      <td>0</td>\n",
       "      <td>0</td>\n",
       "    </tr>\n",
       "    <tr>\n",
       "      <th>1</th>\n",
       "      <td>608</td>\n",
       "      <td>41</td>\n",
       "      <td>1.0</td>\n",
       "      <td>83807.86</td>\n",
       "      <td>1</td>\n",
       "      <td>0</td>\n",
       "      <td>1</td>\n",
       "      <td>112542.58</td>\n",
       "      <td>0</td>\n",
       "      <td>0</td>\n",
       "      <td>1</td>\n",
       "      <td>0</td>\n",
       "    </tr>\n",
       "    <tr>\n",
       "      <th>2</th>\n",
       "      <td>502</td>\n",
       "      <td>42</td>\n",
       "      <td>8.0</td>\n",
       "      <td>159660.80</td>\n",
       "      <td>3</td>\n",
       "      <td>1</td>\n",
       "      <td>0</td>\n",
       "      <td>113931.57</td>\n",
       "      <td>1</td>\n",
       "      <td>0</td>\n",
       "      <td>0</td>\n",
       "      <td>0</td>\n",
       "    </tr>\n",
       "  </tbody>\n",
       "</table>\n",
       "</div>"
      ],
      "text/plain": [
       "   CreditScore  Age  Tenure    Balance  NumOfProducts  HasCrCard  \\\n",
       "0          619   42     2.0       0.00              1          1   \n",
       "1          608   41     1.0   83807.86              1          0   \n",
       "2          502   42     8.0  159660.80              3          1   \n",
       "\n",
       "   IsActiveMember  EstimatedSalary  Exited  Geography_Germany  \\\n",
       "0               1        101348.88       1                  0   \n",
       "1               1        112542.58       0                  0   \n",
       "2               0        113931.57       1                  0   \n",
       "\n",
       "   Geography_Spain  Gender_Male  \n",
       "0                0            0  \n",
       "1                1            0  \n",
       "2                0            0  "
      ]
     },
     "execution_count": 24,
     "metadata": {},
     "output_type": "execute_result"
    }
   ],
   "source": [
    "print(df_ohe.shape)\n",
    "df_ohe.head(3)"
   ]
  },
  {
   "cell_type": "markdown",
   "metadata": {},
   "source": [
    "### Разделение выборки"
   ]
  },
  {
   "cell_type": "markdown",
   "metadata": {},
   "source": [
    "Разделим ДФ на три выборки в соотношении 60-20-20 (обучающая - валидационная - тестовая):"
   ]
  },
  {
   "cell_type": "code",
   "execution_count": 25,
   "metadata": {},
   "outputs": [],
   "source": [
    "train, valid = train_test_split(df_ohe, test_size=0.4, random_state=12345, stratify=df.Exited)"
   ]
  },
  {
   "cell_type": "code",
   "execution_count": 26,
   "metadata": {},
   "outputs": [],
   "source": [
    "valid, test = train_test_split(valid, test_size=0.5, random_state=12345, stratify=valid.Exited)"
   ]
  },
  {
   "cell_type": "markdown",
   "metadata": {},
   "source": [
    "Извлекаем признаки и целевой признак:"
   ]
  },
  {
   "cell_type": "code",
   "execution_count": 27,
   "metadata": {},
   "outputs": [],
   "source": [
    "features_train = train.drop(['Exited'], axis=1)\n",
    "target_train = train['Exited']\n",
    "\n",
    "features_valid = valid.drop(['Exited'], axis=1)\n",
    "target_valid = valid['Exited']\n",
    "\n",
    "features_test = test.drop(['Exited'], axis=1)\n",
    "target_test = test['Exited']"
   ]
  },
  {
   "cell_type": "markdown",
   "metadata": {},
   "source": [
    "Проверяем размеры получившихся выборок:"
   ]
  },
  {
   "cell_type": "code",
   "execution_count": 28,
   "metadata": {},
   "outputs": [
    {
     "data": {
      "text/plain": [
       "((5454, 11), (5454,))"
      ]
     },
     "execution_count": 28,
     "metadata": {},
     "output_type": "execute_result"
    }
   ],
   "source": [
    "features_train.shape, target_train.shape"
   ]
  },
  {
   "cell_type": "code",
   "execution_count": 29,
   "metadata": {},
   "outputs": [
    {
     "data": {
      "text/plain": [
       "((1818, 11), (1818,))"
      ]
     },
     "execution_count": 29,
     "metadata": {},
     "output_type": "execute_result"
    }
   ],
   "source": [
    "features_valid.shape, target_valid.shape"
   ]
  },
  {
   "cell_type": "code",
   "execution_count": 30,
   "metadata": {},
   "outputs": [
    {
     "data": {
      "text/plain": [
       "((1819, 11), (1819,))"
      ]
     },
     "execution_count": 30,
     "metadata": {},
     "output_type": "execute_result"
    }
   ],
   "source": [
    "features_test.shape, target_test.shape"
   ]
  },
  {
   "cell_type": "markdown",
   "metadata": {},
   "source": [
    "### Масштабирование признаков"
   ]
  },
  {
   "cell_type": "markdown",
   "metadata": {},
   "source": [
    "Создадим объект структуры стандартизации данных и настроим его на обучающих данных."
   ]
  },
  {
   "cell_type": "code",
   "execution_count": 31,
   "metadata": {},
   "outputs": [
    {
     "data": {
      "text/html": [
       "<style>#sk-container-id-1 {color: black;background-color: white;}#sk-container-id-1 pre{padding: 0;}#sk-container-id-1 div.sk-toggleable {background-color: white;}#sk-container-id-1 label.sk-toggleable__label {cursor: pointer;display: block;width: 100%;margin-bottom: 0;padding: 0.3em;box-sizing: border-box;text-align: center;}#sk-container-id-1 label.sk-toggleable__label-arrow:before {content: \"▸\";float: left;margin-right: 0.25em;color: #696969;}#sk-container-id-1 label.sk-toggleable__label-arrow:hover:before {color: black;}#sk-container-id-1 div.sk-estimator:hover label.sk-toggleable__label-arrow:before {color: black;}#sk-container-id-1 div.sk-toggleable__content {max-height: 0;max-width: 0;overflow: hidden;text-align: left;background-color: #f0f8ff;}#sk-container-id-1 div.sk-toggleable__content pre {margin: 0.2em;color: black;border-radius: 0.25em;background-color: #f0f8ff;}#sk-container-id-1 input.sk-toggleable__control:checked~div.sk-toggleable__content {max-height: 200px;max-width: 100%;overflow: auto;}#sk-container-id-1 input.sk-toggleable__control:checked~label.sk-toggleable__label-arrow:before {content: \"▾\";}#sk-container-id-1 div.sk-estimator input.sk-toggleable__control:checked~label.sk-toggleable__label {background-color: #d4ebff;}#sk-container-id-1 div.sk-label input.sk-toggleable__control:checked~label.sk-toggleable__label {background-color: #d4ebff;}#sk-container-id-1 input.sk-hidden--visually {border: 0;clip: rect(1px 1px 1px 1px);clip: rect(1px, 1px, 1px, 1px);height: 1px;margin: -1px;overflow: hidden;padding: 0;position: absolute;width: 1px;}#sk-container-id-1 div.sk-estimator {font-family: monospace;background-color: #f0f8ff;border: 1px dotted black;border-radius: 0.25em;box-sizing: border-box;margin-bottom: 0.5em;}#sk-container-id-1 div.sk-estimator:hover {background-color: #d4ebff;}#sk-container-id-1 div.sk-parallel-item::after {content: \"\";width: 100%;border-bottom: 1px solid gray;flex-grow: 1;}#sk-container-id-1 div.sk-label:hover label.sk-toggleable__label {background-color: #d4ebff;}#sk-container-id-1 div.sk-serial::before {content: \"\";position: absolute;border-left: 1px solid gray;box-sizing: border-box;top: 0;bottom: 0;left: 50%;z-index: 0;}#sk-container-id-1 div.sk-serial {display: flex;flex-direction: column;align-items: center;background-color: white;padding-right: 0.2em;padding-left: 0.2em;position: relative;}#sk-container-id-1 div.sk-item {position: relative;z-index: 1;}#sk-container-id-1 div.sk-parallel {display: flex;align-items: stretch;justify-content: center;background-color: white;position: relative;}#sk-container-id-1 div.sk-item::before, #sk-container-id-1 div.sk-parallel-item::before {content: \"\";position: absolute;border-left: 1px solid gray;box-sizing: border-box;top: 0;bottom: 0;left: 50%;z-index: -1;}#sk-container-id-1 div.sk-parallel-item {display: flex;flex-direction: column;z-index: 1;position: relative;background-color: white;}#sk-container-id-1 div.sk-parallel-item:first-child::after {align-self: flex-end;width: 50%;}#sk-container-id-1 div.sk-parallel-item:last-child::after {align-self: flex-start;width: 50%;}#sk-container-id-1 div.sk-parallel-item:only-child::after {width: 0;}#sk-container-id-1 div.sk-dashed-wrapped {border: 1px dashed gray;margin: 0 0.4em 0.5em 0.4em;box-sizing: border-box;padding-bottom: 0.4em;background-color: white;}#sk-container-id-1 div.sk-label label {font-family: monospace;font-weight: bold;display: inline-block;line-height: 1.2em;}#sk-container-id-1 div.sk-label-container {text-align: center;}#sk-container-id-1 div.sk-container {/* jupyter's `normalize.less` sets `[hidden] { display: none; }` but bootstrap.min.css set `[hidden] { display: none !important; }` so we also need the `!important` here to be able to override the default hidden behavior on the sphinx rendered scikit-learn.org. See: https://github.com/scikit-learn/scikit-learn/issues/21755 */display: inline-block !important;position: relative;}#sk-container-id-1 div.sk-text-repr-fallback {display: none;}</style><div id=\"sk-container-id-1\" class=\"sk-top-container\"><div class=\"sk-text-repr-fallback\"><pre>StandardScaler()</pre><b>In a Jupyter environment, please rerun this cell to show the HTML representation or trust the notebook. <br />On GitHub, the HTML representation is unable to render, please try loading this page with nbviewer.org.</b></div><div class=\"sk-container\" hidden><div class=\"sk-item\"><div class=\"sk-estimator sk-toggleable\"><input class=\"sk-toggleable__control sk-hidden--visually\" id=\"sk-estimator-id-1\" type=\"checkbox\" checked><label for=\"sk-estimator-id-1\" class=\"sk-toggleable__label sk-toggleable__label-arrow\">StandardScaler</label><div class=\"sk-toggleable__content\"><pre>StandardScaler()</pre></div></div></div></div></div>"
      ],
      "text/plain": [
       "StandardScaler()"
      ]
     },
     "execution_count": 31,
     "metadata": {},
     "output_type": "execute_result"
    }
   ],
   "source": [
    "scaler = StandardScaler()\n",
    "scaler.fit(features_train)"
   ]
  },
  {
   "cell_type": "markdown",
   "metadata": {},
   "source": [
    "Преобразуем обучающую, валидационную и тестовую выборки:"
   ]
  },
  {
   "cell_type": "code",
   "execution_count": 32,
   "metadata": {},
   "outputs": [],
   "source": [
    "features_train = scaler.transform(features_train)\n",
    "features_valid = scaler.transform(features_valid)\n",
    "features_test = scaler.transform(features_test)"
   ]
  },
  {
   "cell_type": "markdown",
   "metadata": {},
   "source": [
    "И проверим результаты преобразования:"
   ]
  },
  {
   "cell_type": "code",
   "execution_count": 33,
   "metadata": {},
   "outputs": [
    {
     "data": {
      "text/html": [
       "<div>\n",
       "<style scoped>\n",
       "    .dataframe tbody tr th:only-of-type {\n",
       "        vertical-align: middle;\n",
       "    }\n",
       "\n",
       "    .dataframe tbody tr th {\n",
       "        vertical-align: top;\n",
       "    }\n",
       "\n",
       "    .dataframe thead th {\n",
       "        text-align: right;\n",
       "    }\n",
       "</style>\n",
       "<table border=\"1\" class=\"dataframe\">\n",
       "  <thead>\n",
       "    <tr style=\"text-align: right;\">\n",
       "      <th></th>\n",
       "      <th>0</th>\n",
       "      <th>1</th>\n",
       "      <th>2</th>\n",
       "      <th>3</th>\n",
       "      <th>4</th>\n",
       "      <th>5</th>\n",
       "      <th>6</th>\n",
       "      <th>7</th>\n",
       "      <th>8</th>\n",
       "      <th>9</th>\n",
       "      <th>10</th>\n",
       "    </tr>\n",
       "  </thead>\n",
       "  <tbody>\n",
       "    <tr>\n",
       "      <th>0</th>\n",
       "      <td>-1.292898</td>\n",
       "      <td>-0.660843</td>\n",
       "      <td>0.686341</td>\n",
       "      <td>0.786636</td>\n",
       "      <td>-0.910943</td>\n",
       "      <td>-1.554765</td>\n",
       "      <td>-1.036226</td>\n",
       "      <td>-0.223548</td>\n",
       "      <td>-0.580032</td>\n",
       "      <td>-0.586808</td>\n",
       "      <td>0.917915</td>\n",
       "    </tr>\n",
       "    <tr>\n",
       "      <th>1</th>\n",
       "      <td>-1.563714</td>\n",
       "      <td>0.778434</td>\n",
       "      <td>1.034232</td>\n",
       "      <td>0.833795</td>\n",
       "      <td>-0.910943</td>\n",
       "      <td>0.643184</td>\n",
       "      <td>-1.036226</td>\n",
       "      <td>1.383021</td>\n",
       "      <td>-0.580032</td>\n",
       "      <td>1.704136</td>\n",
       "      <td>-1.089426</td>\n",
       "    </tr>\n",
       "    <tr>\n",
       "      <th>2</th>\n",
       "      <td>1.581914</td>\n",
       "      <td>0.106771</td>\n",
       "      <td>-0.357331</td>\n",
       "      <td>-1.222967</td>\n",
       "      <td>0.789359</td>\n",
       "      <td>0.643184</td>\n",
       "      <td>0.965040</td>\n",
       "      <td>-0.308331</td>\n",
       "      <td>-0.580032</td>\n",
       "      <td>1.704136</td>\n",
       "      <td>0.917915</td>\n",
       "    </tr>\n",
       "    <tr>\n",
       "      <th>3</th>\n",
       "      <td>0.842379</td>\n",
       "      <td>0.010820</td>\n",
       "      <td>-1.053112</td>\n",
       "      <td>0.807063</td>\n",
       "      <td>-0.910943</td>\n",
       "      <td>0.643184</td>\n",
       "      <td>0.965040</td>\n",
       "      <td>-0.430980</td>\n",
       "      <td>-0.580032</td>\n",
       "      <td>1.704136</td>\n",
       "      <td>-1.089426</td>\n",
       "    </tr>\n",
       "    <tr>\n",
       "      <th>4</th>\n",
       "      <td>-0.397123</td>\n",
       "      <td>-1.236554</td>\n",
       "      <td>-0.357331</td>\n",
       "      <td>-1.222967</td>\n",
       "      <td>0.789359</td>\n",
       "      <td>0.643184</td>\n",
       "      <td>0.965040</td>\n",
       "      <td>1.392642</td>\n",
       "      <td>-0.580032</td>\n",
       "      <td>1.704136</td>\n",
       "      <td>-1.089426</td>\n",
       "    </tr>\n",
       "  </tbody>\n",
       "</table>\n",
       "</div>"
      ],
      "text/plain": [
       "         0         1         2         3         4         5         6   \\\n",
       "0 -1.292898 -0.660843  0.686341  0.786636 -0.910943 -1.554765 -1.036226   \n",
       "1 -1.563714  0.778434  1.034232  0.833795 -0.910943  0.643184 -1.036226   \n",
       "2  1.581914  0.106771 -0.357331 -1.222967  0.789359  0.643184  0.965040   \n",
       "3  0.842379  0.010820 -1.053112  0.807063 -0.910943  0.643184  0.965040   \n",
       "4 -0.397123 -1.236554 -0.357331 -1.222967  0.789359  0.643184  0.965040   \n",
       "\n",
       "         7         8         9         10  \n",
       "0 -0.223548 -0.580032 -0.586808  0.917915  \n",
       "1  1.383021 -0.580032  1.704136 -1.089426  \n",
       "2 -0.308331 -0.580032  1.704136  0.917915  \n",
       "3 -0.430980 -0.580032  1.704136 -1.089426  \n",
       "4  1.392642 -0.580032  1.704136 -1.089426  "
      ]
     },
     "execution_count": 33,
     "metadata": {},
     "output_type": "execute_result"
    }
   ],
   "source": [
    "pd.DataFrame(features_train).head()"
   ]
  },
  {
   "cell_type": "code",
   "execution_count": 34,
   "metadata": {},
   "outputs": [
    {
     "data": {
      "text/html": [
       "<div>\n",
       "<style scoped>\n",
       "    .dataframe tbody tr th:only-of-type {\n",
       "        vertical-align: middle;\n",
       "    }\n",
       "\n",
       "    .dataframe tbody tr th {\n",
       "        vertical-align: top;\n",
       "    }\n",
       "\n",
       "    .dataframe thead th {\n",
       "        text-align: right;\n",
       "    }\n",
       "</style>\n",
       "<table border=\"1\" class=\"dataframe\">\n",
       "  <thead>\n",
       "    <tr style=\"text-align: right;\">\n",
       "      <th></th>\n",
       "      <th>0</th>\n",
       "      <th>1</th>\n",
       "      <th>2</th>\n",
       "      <th>3</th>\n",
       "      <th>4</th>\n",
       "      <th>5</th>\n",
       "      <th>6</th>\n",
       "      <th>7</th>\n",
       "      <th>8</th>\n",
       "      <th>9</th>\n",
       "      <th>10</th>\n",
       "    </tr>\n",
       "  </thead>\n",
       "  <tbody>\n",
       "    <tr>\n",
       "      <th>0</th>\n",
       "      <td>-0.417955</td>\n",
       "      <td>-0.181084</td>\n",
       "      <td>1.730013</td>\n",
       "      <td>1.023931</td>\n",
       "      <td>0.789359</td>\n",
       "      <td>0.643184</td>\n",
       "      <td>0.96504</td>\n",
       "      <td>0.519901</td>\n",
       "      <td>-0.580032</td>\n",
       "      <td>1.704136</td>\n",
       "      <td>-1.089426</td>\n",
       "    </tr>\n",
       "    <tr>\n",
       "      <th>1</th>\n",
       "      <td>0.113260</td>\n",
       "      <td>0.202723</td>\n",
       "      <td>-0.009440</td>\n",
       "      <td>0.738812</td>\n",
       "      <td>0.789359</td>\n",
       "      <td>-1.554765</td>\n",
       "      <td>0.96504</td>\n",
       "      <td>0.364920</td>\n",
       "      <td>1.724043</td>\n",
       "      <td>-0.586808</td>\n",
       "      <td>0.917915</td>\n",
       "    </tr>\n",
       "    <tr>\n",
       "      <th>2</th>\n",
       "      <td>1.071531</td>\n",
       "      <td>1.162241</td>\n",
       "      <td>-0.357331</td>\n",
       "      <td>0.054632</td>\n",
       "      <td>0.789359</td>\n",
       "      <td>-1.554765</td>\n",
       "      <td>0.96504</td>\n",
       "      <td>-0.545522</td>\n",
       "      <td>-0.580032</td>\n",
       "      <td>1.704136</td>\n",
       "      <td>0.917915</td>\n",
       "    </tr>\n",
       "    <tr>\n",
       "      <th>3</th>\n",
       "      <td>-0.845011</td>\n",
       "      <td>-0.852747</td>\n",
       "      <td>-0.705222</td>\n",
       "      <td>1.010554</td>\n",
       "      <td>-0.910943</td>\n",
       "      <td>0.643184</td>\n",
       "      <td>0.96504</td>\n",
       "      <td>-1.154323</td>\n",
       "      <td>-0.580032</td>\n",
       "      <td>1.704136</td>\n",
       "      <td>-1.089426</td>\n",
       "    </tr>\n",
       "    <tr>\n",
       "      <th>4</th>\n",
       "      <td>-0.553363</td>\n",
       "      <td>-0.085132</td>\n",
       "      <td>0.338450</td>\n",
       "      <td>0.629162</td>\n",
       "      <td>0.789359</td>\n",
       "      <td>0.643184</td>\n",
       "      <td>0.96504</td>\n",
       "      <td>-1.296336</td>\n",
       "      <td>-0.580032</td>\n",
       "      <td>1.704136</td>\n",
       "      <td>0.917915</td>\n",
       "    </tr>\n",
       "  </tbody>\n",
       "</table>\n",
       "</div>"
      ],
      "text/plain": [
       "         0         1         2         3         4         5        6   \\\n",
       "0 -0.417955 -0.181084  1.730013  1.023931  0.789359  0.643184  0.96504   \n",
       "1  0.113260  0.202723 -0.009440  0.738812  0.789359 -1.554765  0.96504   \n",
       "2  1.071531  1.162241 -0.357331  0.054632  0.789359 -1.554765  0.96504   \n",
       "3 -0.845011 -0.852747 -0.705222  1.010554 -0.910943  0.643184  0.96504   \n",
       "4 -0.553363 -0.085132  0.338450  0.629162  0.789359  0.643184  0.96504   \n",
       "\n",
       "         7         8         9         10  \n",
       "0  0.519901 -0.580032  1.704136 -1.089426  \n",
       "1  0.364920  1.724043 -0.586808  0.917915  \n",
       "2 -0.545522 -0.580032  1.704136  0.917915  \n",
       "3 -1.154323 -0.580032  1.704136 -1.089426  \n",
       "4 -1.296336 -0.580032  1.704136  0.917915  "
      ]
     },
     "execution_count": 34,
     "metadata": {},
     "output_type": "execute_result"
    }
   ],
   "source": [
    "pd.DataFrame(features_valid).head()"
   ]
  },
  {
   "cell_type": "code",
   "execution_count": 35,
   "metadata": {},
   "outputs": [
    {
     "data": {
      "text/html": [
       "<div>\n",
       "<style scoped>\n",
       "    .dataframe tbody tr th:only-of-type {\n",
       "        vertical-align: middle;\n",
       "    }\n",
       "\n",
       "    .dataframe tbody tr th {\n",
       "        vertical-align: top;\n",
       "    }\n",
       "\n",
       "    .dataframe thead th {\n",
       "        text-align: right;\n",
       "    }\n",
       "</style>\n",
       "<table border=\"1\" class=\"dataframe\">\n",
       "  <thead>\n",
       "    <tr style=\"text-align: right;\">\n",
       "      <th></th>\n",
       "      <th>0</th>\n",
       "      <th>1</th>\n",
       "      <th>2</th>\n",
       "      <th>3</th>\n",
       "      <th>4</th>\n",
       "      <th>5</th>\n",
       "      <th>6</th>\n",
       "      <th>7</th>\n",
       "      <th>8</th>\n",
       "      <th>9</th>\n",
       "      <th>10</th>\n",
       "    </tr>\n",
       "  </thead>\n",
       "  <tbody>\n",
       "    <tr>\n",
       "      <th>0</th>\n",
       "      <td>0.259084</td>\n",
       "      <td>-0.660843</td>\n",
       "      <td>1.730013</td>\n",
       "      <td>-1.222967</td>\n",
       "      <td>0.789359</td>\n",
       "      <td>0.643184</td>\n",
       "      <td>-1.036226</td>\n",
       "      <td>1.597110</td>\n",
       "      <td>-0.580032</td>\n",
       "      <td>1.704136</td>\n",
       "      <td>0.917915</td>\n",
       "    </tr>\n",
       "    <tr>\n",
       "      <th>1</th>\n",
       "      <td>1.394426</td>\n",
       "      <td>-0.085132</td>\n",
       "      <td>-1.401003</td>\n",
       "      <td>0.994334</td>\n",
       "      <td>-0.910943</td>\n",
       "      <td>0.643184</td>\n",
       "      <td>0.965040</td>\n",
       "      <td>1.253399</td>\n",
       "      <td>1.724043</td>\n",
       "      <td>-0.586808</td>\n",
       "      <td>0.917915</td>\n",
       "    </tr>\n",
       "    <tr>\n",
       "      <th>2</th>\n",
       "      <td>-0.063812</td>\n",
       "      <td>0.970338</td>\n",
       "      <td>1.730013</td>\n",
       "      <td>-1.222967</td>\n",
       "      <td>0.789359</td>\n",
       "      <td>0.643184</td>\n",
       "      <td>0.965040</td>\n",
       "      <td>0.789730</td>\n",
       "      <td>-0.580032</td>\n",
       "      <td>1.704136</td>\n",
       "      <td>0.917915</td>\n",
       "    </tr>\n",
       "    <tr>\n",
       "      <th>3</th>\n",
       "      <td>0.696555</td>\n",
       "      <td>-0.277036</td>\n",
       "      <td>-1.053112</td>\n",
       "      <td>0.425659</td>\n",
       "      <td>0.789359</td>\n",
       "      <td>-1.554765</td>\n",
       "      <td>0.965040</td>\n",
       "      <td>-0.877030</td>\n",
       "      <td>-0.580032</td>\n",
       "      <td>1.704136</td>\n",
       "      <td>0.917915</td>\n",
       "    </tr>\n",
       "    <tr>\n",
       "      <th>4</th>\n",
       "      <td>0.279916</td>\n",
       "      <td>-1.332505</td>\n",
       "      <td>-0.705222</td>\n",
       "      <td>-1.222967</td>\n",
       "      <td>0.789359</td>\n",
       "      <td>0.643184</td>\n",
       "      <td>-1.036226</td>\n",
       "      <td>1.389657</td>\n",
       "      <td>-0.580032</td>\n",
       "      <td>-0.586808</td>\n",
       "      <td>-1.089426</td>\n",
       "    </tr>\n",
       "  </tbody>\n",
       "</table>\n",
       "</div>"
      ],
      "text/plain": [
       "         0         1         2         3         4         5         6   \\\n",
       "0  0.259084 -0.660843  1.730013 -1.222967  0.789359  0.643184 -1.036226   \n",
       "1  1.394426 -0.085132 -1.401003  0.994334 -0.910943  0.643184  0.965040   \n",
       "2 -0.063812  0.970338  1.730013 -1.222967  0.789359  0.643184  0.965040   \n",
       "3  0.696555 -0.277036 -1.053112  0.425659  0.789359 -1.554765  0.965040   \n",
       "4  0.279916 -1.332505 -0.705222 -1.222967  0.789359  0.643184 -1.036226   \n",
       "\n",
       "         7         8         9         10  \n",
       "0  1.597110 -0.580032  1.704136  0.917915  \n",
       "1  1.253399  1.724043 -0.586808  0.917915  \n",
       "2  0.789730 -0.580032  1.704136  0.917915  \n",
       "3 -0.877030 -0.580032  1.704136  0.917915  \n",
       "4  1.389657 -0.580032 -0.586808 -1.089426  "
      ]
     },
     "execution_count": 35,
     "metadata": {},
     "output_type": "execute_result"
    }
   ],
   "source": [
    "pd.DataFrame(features_test).head()"
   ]
  },
  {
   "cell_type": "markdown",
   "metadata": {},
   "source": [
    "### Обучение модели без учёта дисбаланса классов"
   ]
  },
  {
   "cell_type": "markdown",
   "metadata": {},
   "source": [
    "Чтобы сократить количество кода будем для каждого типа модели создавать и затем вызывать функцию, которая для данной модели подбирает лучшие параметры путём изменения гиперпараметров в цикле, обучает модель с лучшими параметрами и выводит результаты."
   ]
  },
  {
   "cell_type": "markdown",
   "metadata": {},
   "source": [
    "#### Решающее дерево"
   ]
  },
  {
   "cell_type": "markdown",
   "metadata": {},
   "source": [
    "Создадим и вызовем функцию, которая для модели решающее дерево  подбирает лучшие параметры путём изменения гиперпараметров в цикле, обучает лучшую модель и выводит результаты.<br>"
   ]
  },
  {
   "cell_type": "code",
   "execution_count": 36,
   "metadata": {},
   "outputs": [],
   "source": [
    "def decision_tree_function(f_train, t_train, f_valid, t_valid):\n",
    "\n",
    "    best_max_depth = 1\n",
    "    best_max_features = 1\n",
    "    best_result_train = 0\n",
    "    best_result_valid = 0\n",
    "\n",
    "    for feature in range(2, 7):\n",
    "        for depth in range(2, 13):\n",
    "            model = DecisionTreeClassifier(random_state=12345, max_depth=depth, max_features=feature)        \n",
    "            model.fit(f_train, t_train)\n",
    "\n",
    "            predictions_train = model.predict(f_train)\n",
    "            result_train = f1_score(t_train, predictions_train)\n",
    "            predictions_valid = model.predict(f_valid)\n",
    "            result_valid = f1_score(t_valid, predictions_valid)\n",
    "\n",
    "            print(\"max_depth - {:.0f}, max_features - {:.0f} : F1_train  = {:.6f}, F1_valid  = {:.6f}\".\n",
    "                  format(depth, feature, result_train, result_valid))\n",
    "\n",
    "            if result_valid > best_result_valid:\n",
    "                best_max_depth = depth\n",
    "                best_max_features = feature\n",
    "                best_result_train = result_train\n",
    "                best_result_valid = result_valid\n",
    "                \n",
    "    print(\"\")\n",
    "    print(\"Лучшие результаты и параметры модели решающего дерева на валидационной выборке:\")\n",
    "    print(\"F1_valid: {:.6f}, F1_train: {:.6f}.\".format(best_result_valid, best_result_train))\n",
    "    print(\"max_features: {:.0f}, max_depth: {:.0f}.\".format(best_max_features, best_max_depth))\n",
    "    \n",
    "#     обучает лучшую модель, получает предсказания и переменные для построения графика и расчёта метрик\n",
    "    model = DecisionTreeClassifier(\n",
    "        random_state=12345, max_depth=best_max_depth, max_features=best_max_features)\n",
    "    model.fit(f_train, t_train)\n",
    "    predicted_valid = model.predict(f_valid)\n",
    "    probabilities_valid = model.predict_proba(f_valid)\n",
    "    probabilities_one_valid = probabilities_valid[:, 1]\n",
    "    \n",
    "#     строит график\n",
    "    print(\"\")\n",
    "    fpr, tpr, thresholds = roc_curve(t_valid, probabilities_one_valid) # < напишите код здесь >\n",
    "    plt.figure()\n",
    "    plt.plot(fpr, tpr)\n",
    "    plt.xlim([0.0, 1.0])\n",
    "    plt.ylim([0.0, 1.0])\n",
    "    plt.xlabel('False Positive Rate')\n",
    "    plt.ylabel('True Positive Rate')\n",
    "    plt.title('ROC-кривая')\n",
    "    plt.show()\n",
    "    \n",
    "    print(\"\")\n",
    "    print(\"AUC-ROC:\", roc_auc_score(t_valid, probabilities_one_valid))\n"
   ]
  },
  {
   "cell_type": "code",
   "execution_count": 37,
   "metadata": {},
   "outputs": [
    {
     "name": "stdout",
     "output_type": "stream",
     "text": [
      "max_depth - 2, max_features - 2 : F1_train  = 0.000000, F1_valid  = 0.000000\n",
      "max_depth - 3, max_features - 2 : F1_train  = 0.132550, F1_valid  = 0.140351\n",
      "max_depth - 4, max_features - 2 : F1_train  = 0.312849, F1_valid  = 0.298755\n",
      "max_depth - 5, max_features - 2 : F1_train  = 0.492703, F1_valid  = 0.477193\n",
      "max_depth - 6, max_features - 2 : F1_train  = 0.479722, F1_valid  = 0.447183\n",
      "max_depth - 7, max_features - 2 : F1_train  = 0.535406, F1_valid  = 0.497427\n",
      "max_depth - 8, max_features - 2 : F1_train  = 0.574850, F1_valid  = 0.489396\n",
      "max_depth - 9, max_features - 2 : F1_train  = 0.627451, F1_valid  = 0.527363\n",
      "max_depth - 10, max_features - 2 : F1_train  = 0.655666, F1_valid  = 0.511785\n",
      "max_depth - 11, max_features - 2 : F1_train  = 0.717840, F1_valid  = 0.491172\n",
      "max_depth - 12, max_features - 2 : F1_train  = 0.783019, F1_valid  = 0.450920\n",
      "max_depth - 2, max_features - 3 : F1_train  = 0.434099, F1_valid  = 0.463415\n",
      "max_depth - 3, max_features - 3 : F1_train  = 0.352021, F1_valid  = 0.386233\n",
      "max_depth - 4, max_features - 3 : F1_train  = 0.371978, F1_valid  = 0.396330\n",
      "max_depth - 5, max_features - 3 : F1_train  = 0.518340, F1_valid  = 0.552817\n",
      "max_depth - 6, max_features - 3 : F1_train  = 0.527313, F1_valid  = 0.525122\n",
      "max_depth - 7, max_features - 3 : F1_train  = 0.542334, F1_valid  = 0.483245\n",
      "max_depth - 8, max_features - 3 : F1_train  = 0.606593, F1_valid  = 0.563200\n",
      "max_depth - 9, max_features - 3 : F1_train  = 0.617450, F1_valid  = 0.525974\n",
      "max_depth - 10, max_features - 3 : F1_train  = 0.698413, F1_valid  = 0.523529\n",
      "max_depth - 11, max_features - 3 : F1_train  = 0.735186, F1_valid  = 0.527273\n",
      "max_depth - 12, max_features - 3 : F1_train  = 0.744997, F1_valid  = 0.534535\n",
      "max_depth - 2, max_features - 4 : F1_train  = 0.134647, F1_valid  = 0.125000\n",
      "max_depth - 3, max_features - 4 : F1_train  = 0.501136, F1_valid  = 0.524046\n",
      "max_depth - 4, max_features - 4 : F1_train  = 0.428937, F1_valid  = 0.439771\n",
      "max_depth - 5, max_features - 4 : F1_train  = 0.484576, F1_valid  = 0.513109\n",
      "max_depth - 6, max_features - 4 : F1_train  = 0.575875, F1_valid  = 0.543919\n",
      "max_depth - 7, max_features - 4 : F1_train  = 0.568675, F1_valid  = 0.509225\n",
      "max_depth - 8, max_features - 4 : F1_train  = 0.634120, F1_valid  = 0.552504\n",
      "max_depth - 9, max_features - 4 : F1_train  = 0.629587, F1_valid  = 0.505017\n",
      "max_depth - 10, max_features - 4 : F1_train  = 0.720384, F1_valid  = 0.566929\n",
      "max_depth - 11, max_features - 4 : F1_train  = 0.771429, F1_valid  = 0.581295\n",
      "max_depth - 12, max_features - 4 : F1_train  = 0.770844, F1_valid  = 0.531025\n",
      "max_depth - 2, max_features - 5 : F1_train  = 0.000000, F1_valid  = 0.000000\n",
      "max_depth - 3, max_features - 5 : F1_train  = 0.135452, F1_valid  = 0.134328\n",
      "max_depth - 4, max_features - 5 : F1_train  = 0.425781, F1_valid  = 0.439024\n",
      "max_depth - 5, max_features - 5 : F1_train  = 0.523923, F1_valid  = 0.517857\n",
      "max_depth - 6, max_features - 5 : F1_train  = 0.578583, F1_valid  = 0.566038\n",
      "max_depth - 7, max_features - 5 : F1_train  = 0.598028, F1_valid  = 0.567261\n",
      "max_depth - 8, max_features - 5 : F1_train  = 0.655703, F1_valid  = 0.569659\n",
      "max_depth - 9, max_features - 5 : F1_train  = 0.685777, F1_valid  = 0.528180\n",
      "max_depth - 10, max_features - 5 : F1_train  = 0.733064, F1_valid  = 0.568483\n",
      "max_depth - 11, max_features - 5 : F1_train  = 0.770613, F1_valid  = 0.526154\n",
      "max_depth - 12, max_features - 5 : F1_train  = 0.815485, F1_valid  = 0.552870\n",
      "max_depth - 2, max_features - 6 : F1_train  = 0.134647, F1_valid  = 0.125000\n",
      "max_depth - 3, max_features - 6 : F1_train  = 0.525084, F1_valid  = 0.544861\n",
      "max_depth - 4, max_features - 6 : F1_train  = 0.556406, F1_valid  = 0.552147\n",
      "max_depth - 5, max_features - 6 : F1_train  = 0.501247, F1_valid  = 0.521739\n",
      "max_depth - 6, max_features - 6 : F1_train  = 0.594147, F1_valid  = 0.583062\n",
      "max_depth - 7, max_features - 6 : F1_train  = 0.614965, F1_valid  = 0.587678\n",
      "max_depth - 8, max_features - 6 : F1_train  = 0.655949, F1_valid  = 0.596546\n",
      "max_depth - 9, max_features - 6 : F1_train  = 0.681745, F1_valid  = 0.594595\n",
      "max_depth - 10, max_features - 6 : F1_train  = 0.728894, F1_valid  = 0.575804\n",
      "max_depth - 11, max_features - 6 : F1_train  = 0.788247, F1_valid  = 0.552036\n",
      "max_depth - 12, max_features - 6 : F1_train  = 0.836725, F1_valid  = 0.522496\n",
      "\n",
      "Лучшие результаты и параметры модели решающего дерева на валидационной выборке:\n",
      "F1_valid: 0.596546, F1_train: 0.655949.\n",
      "max_features: 6, max_depth: 8.\n",
      "\n"
     ]
    },
    {
     "data": {
      "image/png": "[encoded data removed]",
      "text/plain": [
       "<Figure size 432x288 with 1 Axes>"
      ]
     },
     "metadata": {
      "needs_background": "light"
     },
     "output_type": "display_data"
    },
    {
     "name": "stdout",
     "output_type": "stream",
     "text": [
      "\n",
      "AUC-ROC: 0.8331616486941101\n"
     ]
    }
   ],
   "source": [
    "decision_tree_function(features_train, target_train, features_valid, target_valid)"
   ]
  },
  {
   "cell_type": "markdown",
   "metadata": {},
   "source": [
    "Даже без устранения дисбаланса классов достигнуто достаточное значение `F1-меры` на валидационной выборке. При этом модель не выглядит переобученной: разница в значениях метрики на обучающей и валидационной выборках составяет менее 10%.<br>\n",
    "Получены хорошая форма `ROC-кривой` и неплохие (высокие) значения метрики `AUC-ROC`. "
   ]
  },
  {
   "cell_type": "markdown",
   "metadata": {},
   "source": [
    "#### Случайный лес"
   ]
  },
  {
   "cell_type": "markdown",
   "metadata": {},
   "source": [
    "Создадим функцию, которая обучает модель случайного леса путём подбора гиперпараметров в цикле и выводит результаты обучения.<br>"
   ]
  },
  {
   "cell_type": "code",
   "execution_count": 38,
   "metadata": {},
   "outputs": [],
   "source": [
    "def random_forest_function(f_train, t_train, f_valid, t_valid):\n",
    "            \n",
    "    best_max_depth = 1\n",
    "    best_est = 1\n",
    "    best_result_train = 0\n",
    "    best_result_valid = 0\n",
    "\n",
    "    for est in range(80, 151, 10):\n",
    "        for depth in range (9, 14):\n",
    "\n",
    "            model = RandomForestClassifier(random_state=12345, n_estimators=est, max_depth=depth)\n",
    "            model.fit(f_train, t_train)\n",
    "\n",
    "            predictions_train = model.predict(f_train)\n",
    "            result_train = f1_score(t_train, predictions_train)\n",
    "            predictions_valid = model.predict(f_valid)\n",
    "            result_valid = f1_score(t_valid, predictions_valid)\n",
    "    \n",
    "            print(\"max_depth - {:.0f}, n_estimators - {:.0f} : F1_train  = {:.5f}, F1_valid  = {:.5f}\".\n",
    "              format(depth, est, result_train, result_valid))\n",
    "\n",
    "            if result_valid > best_result_valid:\n",
    "                best_max_depth = depth\n",
    "                best_est = est\n",
    "                best_result_train = result_train\n",
    "                best_result_valid = result_valid\n",
    "\n",
    "    print(\"\")\n",
    "    print(\"Лучшие результаты и параметры модели Случайный лес на валидационной выборке:\")\n",
    "    print(\"F1_valid: {:.6f}, F1_train: {:.6f}.\".format(best_result_valid, best_result_train))\n",
    "    print(\"n_estimators: {:.0f}, max_depth: {:.0f}.\".format(best_est, best_max_depth))\n",
    "    \n",
    "    \n",
    "#     обучает лучшую модель, получает предсказания и переменные для построения графика и расчёта метрик\n",
    "    model = RandomForestClassifier(max_depth=best_max_depth, n_estimators=best_est, random_state=12345)\n",
    "    model.fit(f_train, t_train)\n",
    "    predicted_valid = model.predict(f_valid)\n",
    "    probabilities_valid = model.predict_proba(f_valid)\n",
    "    probabilities_one_valid = probabilities_valid[:, 1]\n",
    "    \n",
    "#     строит график\n",
    "    print(\"\")\n",
    "    fpr, tpr, thresholds = roc_curve(t_valid, probabilities_one_valid) # < напишите код здесь >\n",
    "    plt.figure()\n",
    "    plt.plot(fpr, tpr)\n",
    "    plt.xlim([0.0, 1.0])\n",
    "    plt.ylim([0.0, 1.0])\n",
    "    plt.xlabel('False Positive Rate')\n",
    "    plt.ylabel('True Positive Rate')\n",
    "    plt.title('ROC-кривая')\n",
    "    plt.show()\n",
    "    \n",
    "    print(\"\")\n",
    "    print(\"AUC-ROC:\", roc_auc_score(t_valid, probabilities_one_valid))"
   ]
  },
  {
   "cell_type": "code",
   "execution_count": 39,
   "metadata": {},
   "outputs": [
    {
     "name": "stdout",
     "output_type": "stream",
     "text": [
      "max_depth - 9, n_estimators - 80 : F1_train  = 0.67204, F1_valid  = 0.58120\n",
      "max_depth - 10, n_estimators - 80 : F1_train  = 0.71059, F1_valid  = 0.57340\n",
      "max_depth - 11, n_estimators - 80 : F1_train  = 0.78017, F1_valid  = 0.60403\n",
      "max_depth - 12, n_estimators - 80 : F1_train  = 0.83212, F1_valid  = 0.59596\n",
      "max_depth - 13, n_estimators - 80 : F1_train  = 0.87776, F1_valid  = 0.60365\n",
      "max_depth - 9, n_estimators - 90 : F1_train  = 0.67012, F1_valid  = 0.59322\n",
      "max_depth - 10, n_estimators - 90 : F1_train  = 0.70953, F1_valid  = 0.57877\n",
      "max_depth - 11, n_estimators - 90 : F1_train  = 0.77405, F1_valid  = 0.60637\n",
      "max_depth - 12, n_estimators - 90 : F1_train  = 0.82647, F1_valid  = 0.59696\n",
      "max_depth - 13, n_estimators - 90 : F1_train  = 0.87607, F1_valid  = 0.60596\n",
      "max_depth - 9, n_estimators - 100 : F1_train  = 0.67011, F1_valid  = 0.58020\n",
      "max_depth - 10, n_estimators - 100 : F1_train  = 0.70946, F1_valid  = 0.57831\n",
      "max_depth - 11, n_estimators - 100 : F1_train  = 0.77604, F1_valid  = 0.59797\n",
      "max_depth - 12, n_estimators - 100 : F1_train  = 0.82439, F1_valid  = 0.59596\n",
      "max_depth - 13, n_estimators - 100 : F1_train  = 0.87682, F1_valid  = 0.60797\n",
      "max_depth - 9, n_estimators - 110 : F1_train  = 0.66974, F1_valid  = 0.58603\n",
      "max_depth - 10, n_estimators - 110 : F1_train  = 0.71244, F1_valid  = 0.58562\n",
      "max_depth - 11, n_estimators - 110 : F1_train  = 0.77430, F1_valid  = 0.60034\n",
      "max_depth - 12, n_estimators - 110 : F1_train  = 0.82622, F1_valid  = 0.60269\n",
      "max_depth - 13, n_estimators - 110 : F1_train  = 0.88020, F1_valid  = 0.61258\n",
      "max_depth - 9, n_estimators - 120 : F1_train  = 0.67051, F1_valid  = 0.58319\n",
      "max_depth - 10, n_estimators - 120 : F1_train  = 0.71211, F1_valid  = 0.58462\n",
      "max_depth - 11, n_estimators - 120 : F1_train  = 0.76915, F1_valid  = 0.59832\n",
      "max_depth - 12, n_estimators - 120 : F1_train  = 0.82597, F1_valid  = 0.59596\n",
      "max_depth - 13, n_estimators - 120 : F1_train  = 0.87920, F1_valid  = 0.61028\n",
      "max_depth - 9, n_estimators - 130 : F1_train  = 0.66897, F1_valid  = 0.57976\n",
      "max_depth - 10, n_estimators - 130 : F1_train  = 0.71106, F1_valid  = 0.58319\n",
      "max_depth - 11, n_estimators - 130 : F1_train  = 0.77073, F1_valid  = 0.59596\n",
      "max_depth - 12, n_estimators - 130 : F1_train  = 0.82744, F1_valid  = 0.59832\n",
      "max_depth - 13, n_estimators - 130 : F1_train  = 0.87920, F1_valid  = 0.60927\n",
      "max_depth - 9, n_estimators - 140 : F1_train  = 0.67282, F1_valid  = 0.57877\n",
      "max_depth - 10, n_estimators - 140 : F1_train  = 0.71259, F1_valid  = 0.58076\n",
      "max_depth - 11, n_estimators - 140 : F1_train  = 0.76982, F1_valid  = 0.60034\n",
      "max_depth - 12, n_estimators - 140 : F1_train  = 0.82665, F1_valid  = 0.59296\n",
      "max_depth - 13, n_estimators - 140 : F1_train  = 0.87976, F1_valid  = 0.60927\n",
      "max_depth - 9, n_estimators - 150 : F1_train  = 0.66936, F1_valid  = 0.58120\n",
      "max_depth - 10, n_estimators - 150 : F1_train  = 0.71146, F1_valid  = 0.57732\n",
      "max_depth - 11, n_estimators - 150 : F1_train  = 0.76957, F1_valid  = 0.59560\n",
      "max_depth - 12, n_estimators - 150 : F1_train  = 0.82622, F1_valid  = 0.60302\n",
      "max_depth - 13, n_estimators - 150 : F1_train  = 0.88232, F1_valid  = 0.60697\n",
      "\n",
      "Лучшие результаты и параметры модели Случайный лес на валидационной выборке:\n",
      "F1_valid: 0.612583, F1_train: 0.880201.\n",
      "n_estimators: 110, max_depth: 13.\n",
      "\n"
     ]
    },
    {
     "data": {
      "image/png": "[encoded data removed]",
      "text/plain": [
       "<Figure size 432x288 with 1 Axes>"
      ]
     },
     "metadata": {
      "needs_background": "light"
     },
     "output_type": "display_data"
    },
    {
     "name": "stdout",
     "output_type": "stream",
     "text": [
      "\n",
      "AUC-ROC: 0.8770986351536871\n"
     ]
    }
   ],
   "source": [
    "random_forest_function(features_train, target_train, features_valid, target_valid)"
   ]
  },
  {
   "cell_type": "markdown",
   "metadata": {},
   "source": [
    "Модель показала очень хорошие результаты: на валидационной выборке было достигнуто требуемое значение `F1-меры`, лучшее, чем у решающего дерева. Впрочем, така картина может объясняться \"везением\" при распределении данных в валидационную выборку.<br>\n",
    "Однако, эта модель выглядит переобученной: разница в значениях метрики на обучающей и валидационной выборке составляет около 30%.<br>\n",
    "Получилась лучшая из трёх моделей ROC-кривая: резко поднимается вверх и практически прижимается к единице после 0.6: это говорит о хорошей способности модели предсказывать положительный класс. Хотя опять же причиной здесь может быть \"везение\" при распределении данных в выборки."
   ]
  },
  {
   "cell_type": "markdown",
   "metadata": {},
   "source": [
    "#### Логистическая регрессия"
   ]
  },
  {
   "cell_type": "code",
   "execution_count": 40,
   "metadata": {},
   "outputs": [],
   "source": [
    "def logistic_regression_function(f_train, t_train, f_valid, t_valid):\n",
    "                \n",
    "    best_max_iter = 1\n",
    "    best_c = 1\n",
    "    best_result_train = 0\n",
    "    best_result_valid = 0\n",
    "\n",
    "    for c_num in np.arange(0.1, 1.5, 0.1):\n",
    "        for itr in range(100, 1001, 100):\n",
    "            \n",
    "            model = LogisticRegression(random_state=12345, solver='lbfgs', C=c_num, max_iter=itr)        \n",
    "            model.fit(f_train, t_train)\n",
    "\n",
    "            predictions_train = model.predict(f_train)\n",
    "            result_train = f1_score(t_train, predictions_train)\n",
    "            predictions_valid = model.predict(f_valid)\n",
    "            result_valid = f1_score(t_valid, predictions_valid)\n",
    "    \n",
    "            print(\"max_iter - {:.0f}, C - {:.1f} : F1_train  = {:.5f}, F1_valid  = {:.5f}\".\n",
    "                  format(itr, c_num, result_train, result_valid))\n",
    "\n",
    "            if result_valid > best_result_valid:\n",
    "                best_max_iter = itr\n",
    "                best_c = c_num\n",
    "                best_result_train = result_train\n",
    "                best_result_valid = result_valid\n",
    "\n",
    "\n",
    "    print(\"\")\n",
    "    print(\"Лучшие результаты и параметры модели Логистической регрессии на валидационной выборке:\")\n",
    "    print(\"F1_valid: {:.6f}, F1_train: {:.6f}.\".format(best_result_valid, best_result_train))\n",
    "    print(\"max_iter: {:.0f}, C: {:.1f}.\".format(best_max_iter, best_c))\n",
    "    \n",
    "    \n",
    "    \n",
    "#     обучает лучшую модель, получает предсказания и переменные для построения графика и расчёта метрик\n",
    "    model = LogisticRegression(random_state=12345, solver='lbfgs', C=best_c, max_iter=best_max_iter)\n",
    "    model.fit(f_train, t_train)\n",
    "    predicted_valid = model.predict(f_valid)\n",
    "    probabilities_valid = model.predict_proba(f_valid)\n",
    "    probabilities_one_valid = probabilities_valid[:, 1]\n",
    "    \n",
    "#     строит график\n",
    "    print(\"\")\n",
    "    fpr, tpr, thresholds = roc_curve(t_valid, probabilities_one_valid) # < напишите код здесь >\n",
    "    plt.figure()\n",
    "    plt.plot(fpr, tpr)\n",
    "    plt.xlim([0.0, 1.0])\n",
    "    plt.ylim([0.0, 1.0])\n",
    "    plt.xlabel('False Positive Rate')\n",
    "    plt.ylabel('True Positive Rate')\n",
    "    plt.title('ROC-кривая')\n",
    "    plt.show()\n",
    "    \n",
    "    print(\"\")\n",
    "    print(\"AUC-ROC:\", roc_auc_score(t_valid, probabilities_one_valid))"
   ]
  },
  {
   "cell_type": "code",
   "execution_count": 41,
   "metadata": {},
   "outputs": [
    {
     "name": "stdout",
     "output_type": "stream",
     "text": [
      "max_iter - 100, C - 0.1 : F1_train  = 0.27643, F1_valid  = 0.32129\n",
      "max_iter - 200, C - 0.1 : F1_train  = 0.27643, F1_valid  = 0.32129\n",
      "max_iter - 300, C - 0.1 : F1_train  = 0.27643, F1_valid  = 0.32129\n",
      "max_iter - 400, C - 0.1 : F1_train  = 0.27643, F1_valid  = 0.32129\n",
      "max_iter - 500, C - 0.1 : F1_train  = 0.27643, F1_valid  = 0.32129\n",
      "max_iter - 600, C - 0.1 : F1_train  = 0.27643, F1_valid  = 0.32129\n",
      "max_iter - 700, C - 0.1 : F1_train  = 0.27643, F1_valid  = 0.32129\n",
      "max_iter - 800, C - 0.1 : F1_train  = 0.27643, F1_valid  = 0.32129\n",
      "max_iter - 900, C - 0.1 : F1_train  = 0.27643, F1_valid  = 0.32129\n",
      "max_iter - 1000, C - 0.1 : F1_train  = 0.27643, F1_valid  = 0.32129\n",
      "max_iter - 100, C - 0.2 : F1_train  = 0.27686, F1_valid  = 0.32735\n",
      "max_iter - 200, C - 0.2 : F1_train  = 0.27686, F1_valid  = 0.32735\n",
      "max_iter - 300, C - 0.2 : F1_train  = 0.27686, F1_valid  = 0.32735\n",
      "max_iter - 400, C - 0.2 : F1_train  = 0.27686, F1_valid  = 0.32735\n",
      "max_iter - 500, C - 0.2 : F1_train  = 0.27686, F1_valid  = 0.32735\n",
      "max_iter - 600, C - 0.2 : F1_train  = 0.27686, F1_valid  = 0.32735\n",
      "max_iter - 700, C - 0.2 : F1_train  = 0.27686, F1_valid  = 0.32735\n",
      "max_iter - 800, C - 0.2 : F1_train  = 0.27686, F1_valid  = 0.32735\n",
      "max_iter - 900, C - 0.2 : F1_train  = 0.27686, F1_valid  = 0.32735\n",
      "max_iter - 1000, C - 0.2 : F1_train  = 0.27686, F1_valid  = 0.32735\n",
      "max_iter - 100, C - 0.3 : F1_train  = 0.27686, F1_valid  = 0.33068\n",
      "max_iter - 200, C - 0.3 : F1_train  = 0.27686, F1_valid  = 0.33068\n",
      "max_iter - 300, C - 0.3 : F1_train  = 0.27686, F1_valid  = 0.33068\n",
      "max_iter - 400, C - 0.3 : F1_train  = 0.27686, F1_valid  = 0.33068\n",
      "max_iter - 500, C - 0.3 : F1_train  = 0.27686, F1_valid  = 0.33068\n",
      "max_iter - 600, C - 0.3 : F1_train  = 0.27686, F1_valid  = 0.33068\n",
      "max_iter - 700, C - 0.3 : F1_train  = 0.27686, F1_valid  = 0.33068\n",
      "max_iter - 800, C - 0.3 : F1_train  = 0.27686, F1_valid  = 0.33068\n",
      "max_iter - 900, C - 0.3 : F1_train  = 0.27686, F1_valid  = 0.33068\n",
      "max_iter - 1000, C - 0.3 : F1_train  = 0.27686, F1_valid  = 0.33068\n",
      "max_iter - 100, C - 0.4 : F1_train  = 0.27667, F1_valid  = 0.33068\n",
      "max_iter - 200, C - 0.4 : F1_train  = 0.27667, F1_valid  = 0.33068\n",
      "max_iter - 300, C - 0.4 : F1_train  = 0.27667, F1_valid  = 0.33068\n",
      "max_iter - 400, C - 0.4 : F1_train  = 0.27667, F1_valid  = 0.33068\n",
      "max_iter - 500, C - 0.4 : F1_train  = 0.27667, F1_valid  = 0.33068\n",
      "max_iter - 600, C - 0.4 : F1_train  = 0.27667, F1_valid  = 0.33068\n",
      "max_iter - 700, C - 0.4 : F1_train  = 0.27667, F1_valid  = 0.33068\n",
      "max_iter - 800, C - 0.4 : F1_train  = 0.27667, F1_valid  = 0.33068\n",
      "max_iter - 900, C - 0.4 : F1_train  = 0.27667, F1_valid  = 0.33068\n",
      "max_iter - 1000, C - 0.4 : F1_train  = 0.27667, F1_valid  = 0.33068\n",
      "max_iter - 100, C - 0.5 : F1_train  = 0.27648, F1_valid  = 0.33068\n",
      "max_iter - 200, C - 0.5 : F1_train  = 0.27648, F1_valid  = 0.33068\n",
      "max_iter - 300, C - 0.5 : F1_train  = 0.27648, F1_valid  = 0.33068\n",
      "max_iter - 400, C - 0.5 : F1_train  = 0.27648, F1_valid  = 0.33068\n",
      "max_iter - 500, C - 0.5 : F1_train  = 0.27648, F1_valid  = 0.33068\n",
      "max_iter - 600, C - 0.5 : F1_train  = 0.27648, F1_valid  = 0.33068\n",
      "max_iter - 700, C - 0.5 : F1_train  = 0.27648, F1_valid  = 0.33068\n",
      "max_iter - 800, C - 0.5 : F1_train  = 0.27648, F1_valid  = 0.33068\n",
      "max_iter - 900, C - 0.5 : F1_train  = 0.27648, F1_valid  = 0.33068\n",
      "max_iter - 1000, C - 0.5 : F1_train  = 0.27648, F1_valid  = 0.33068\n",
      "max_iter - 100, C - 0.6 : F1_train  = 0.27629, F1_valid  = 0.33068\n",
      "max_iter - 200, C - 0.6 : F1_train  = 0.27629, F1_valid  = 0.33068\n",
      "max_iter - 300, C - 0.6 : F1_train  = 0.27629, F1_valid  = 0.33068\n",
      "max_iter - 400, C - 0.6 : F1_train  = 0.27629, F1_valid  = 0.33068\n",
      "max_iter - 500, C - 0.6 : F1_train  = 0.27629, F1_valid  = 0.33068\n",
      "max_iter - 600, C - 0.6 : F1_train  = 0.27629, F1_valid  = 0.33068\n",
      "max_iter - 700, C - 0.6 : F1_train  = 0.27629, F1_valid  = 0.33068\n",
      "max_iter - 800, C - 0.6 : F1_train  = 0.27629, F1_valid  = 0.33068\n",
      "max_iter - 900, C - 0.6 : F1_train  = 0.27629, F1_valid  = 0.33068\n",
      "max_iter - 1000, C - 0.6 : F1_train  = 0.27629, F1_valid  = 0.33068\n",
      "max_iter - 100, C - 0.7 : F1_train  = 0.27629, F1_valid  = 0.33068\n",
      "max_iter - 200, C - 0.7 : F1_train  = 0.27629, F1_valid  = 0.33068\n",
      "max_iter - 300, C - 0.7 : F1_train  = 0.27629, F1_valid  = 0.33068\n",
      "max_iter - 400, C - 0.7 : F1_train  = 0.27629, F1_valid  = 0.33068\n",
      "max_iter - 500, C - 0.7 : F1_train  = 0.27629, F1_valid  = 0.33068\n",
      "max_iter - 600, C - 0.7 : F1_train  = 0.27629, F1_valid  = 0.33068\n",
      "max_iter - 700, C - 0.7 : F1_train  = 0.27629, F1_valid  = 0.33068\n",
      "max_iter - 800, C - 0.7 : F1_train  = 0.27629, F1_valid  = 0.33068\n",
      "max_iter - 900, C - 0.7 : F1_train  = 0.27629, F1_valid  = 0.33068\n",
      "max_iter - 1000, C - 0.7 : F1_train  = 0.27629, F1_valid  = 0.33068\n",
      "max_iter - 100, C - 0.8 : F1_train  = 0.27629, F1_valid  = 0.33068\n",
      "max_iter - 200, C - 0.8 : F1_train  = 0.27629, F1_valid  = 0.33068\n",
      "max_iter - 300, C - 0.8 : F1_train  = 0.27629, F1_valid  = 0.33068\n",
      "max_iter - 400, C - 0.8 : F1_train  = 0.27629, F1_valid  = 0.33068\n",
      "max_iter - 500, C - 0.8 : F1_train  = 0.27629, F1_valid  = 0.33068\n",
      "max_iter - 600, C - 0.8 : F1_train  = 0.27629, F1_valid  = 0.33068\n",
      "max_iter - 700, C - 0.8 : F1_train  = 0.27629, F1_valid  = 0.33068\n",
      "max_iter - 800, C - 0.8 : F1_train  = 0.27629, F1_valid  = 0.33068\n",
      "max_iter - 900, C - 0.8 : F1_train  = 0.27629, F1_valid  = 0.33068\n",
      "max_iter - 1000, C - 0.8 : F1_train  = 0.27629, F1_valid  = 0.33068\n",
      "max_iter - 100, C - 0.9 : F1_train  = 0.27629, F1_valid  = 0.33068\n",
      "max_iter - 200, C - 0.9 : F1_train  = 0.27629, F1_valid  = 0.33068\n",
      "max_iter - 300, C - 0.9 : F1_train  = 0.27629, F1_valid  = 0.33068\n",
      "max_iter - 400, C - 0.9 : F1_train  = 0.27629, F1_valid  = 0.33068\n",
      "max_iter - 500, C - 0.9 : F1_train  = 0.27629, F1_valid  = 0.33068\n",
      "max_iter - 600, C - 0.9 : F1_train  = 0.27629, F1_valid  = 0.33068\n",
      "max_iter - 700, C - 0.9 : F1_train  = 0.27629, F1_valid  = 0.33068\n",
      "max_iter - 800, C - 0.9 : F1_train  = 0.27629, F1_valid  = 0.33068\n",
      "max_iter - 900, C - 0.9 : F1_train  = 0.27629, F1_valid  = 0.33068\n",
      "max_iter - 1000, C - 0.9 : F1_train  = 0.27629, F1_valid  = 0.33068\n",
      "max_iter - 100, C - 1.0 : F1_train  = 0.27629, F1_valid  = 0.33068\n",
      "max_iter - 200, C - 1.0 : F1_train  = 0.27629, F1_valid  = 0.33068\n",
      "max_iter - 300, C - 1.0 : F1_train  = 0.27629, F1_valid  = 0.33068\n",
      "max_iter - 400, C - 1.0 : F1_train  = 0.27629, F1_valid  = 0.33068\n",
      "max_iter - 500, C - 1.0 : F1_train  = 0.27629, F1_valid  = 0.33068\n",
      "max_iter - 600, C - 1.0 : F1_train  = 0.27629, F1_valid  = 0.33068\n",
      "max_iter - 700, C - 1.0 : F1_train  = 0.27629, F1_valid  = 0.33068\n",
      "max_iter - 800, C - 1.0 : F1_train  = 0.27629, F1_valid  = 0.33068\n",
      "max_iter - 900, C - 1.0 : F1_train  = 0.27629, F1_valid  = 0.33068\n",
      "max_iter - 1000, C - 1.0 : F1_train  = 0.27629, F1_valid  = 0.33068\n",
      "max_iter - 100, C - 1.1 : F1_train  = 0.27747, F1_valid  = 0.33068\n",
      "max_iter - 200, C - 1.1 : F1_train  = 0.27747, F1_valid  = 0.33068\n",
      "max_iter - 300, C - 1.1 : F1_train  = 0.27747, F1_valid  = 0.33068\n",
      "max_iter - 400, C - 1.1 : F1_train  = 0.27747, F1_valid  = 0.33068\n",
      "max_iter - 500, C - 1.1 : F1_train  = 0.27747, F1_valid  = 0.33068\n",
      "max_iter - 600, C - 1.1 : F1_train  = 0.27747, F1_valid  = 0.33068\n",
      "max_iter - 700, C - 1.1 : F1_train  = 0.27747, F1_valid  = 0.33068\n",
      "max_iter - 800, C - 1.1 : F1_train  = 0.27747, F1_valid  = 0.33068\n",
      "max_iter - 900, C - 1.1 : F1_train  = 0.27747, F1_valid  = 0.33068\n",
      "max_iter - 1000, C - 1.1 : F1_train  = 0.27747, F1_valid  = 0.33068\n",
      "max_iter - 100, C - 1.2 : F1_train  = 0.27747, F1_valid  = 0.33068\n",
      "max_iter - 200, C - 1.2 : F1_train  = 0.27747, F1_valid  = 0.33068\n",
      "max_iter - 300, C - 1.2 : F1_train  = 0.27747, F1_valid  = 0.33068\n",
      "max_iter - 400, C - 1.2 : F1_train  = 0.27747, F1_valid  = 0.33068\n",
      "max_iter - 500, C - 1.2 : F1_train  = 0.27747, F1_valid  = 0.33068\n",
      "max_iter - 600, C - 1.2 : F1_train  = 0.27747, F1_valid  = 0.33068\n",
      "max_iter - 700, C - 1.2 : F1_train  = 0.27747, F1_valid  = 0.33068\n",
      "max_iter - 800, C - 1.2 : F1_train  = 0.27747, F1_valid  = 0.33068\n",
      "max_iter - 900, C - 1.2 : F1_train  = 0.27747, F1_valid  = 0.33068\n",
      "max_iter - 1000, C - 1.2 : F1_train  = 0.27747, F1_valid  = 0.33068\n",
      "max_iter - 100, C - 1.3 : F1_train  = 0.27747, F1_valid  = 0.33068\n",
      "max_iter - 200, C - 1.3 : F1_train  = 0.27747, F1_valid  = 0.33068\n",
      "max_iter - 300, C - 1.3 : F1_train  = 0.27747, F1_valid  = 0.33068\n",
      "max_iter - 400, C - 1.3 : F1_train  = 0.27747, F1_valid  = 0.33068\n",
      "max_iter - 500, C - 1.3 : F1_train  = 0.27747, F1_valid  = 0.33068\n",
      "max_iter - 600, C - 1.3 : F1_train  = 0.27747, F1_valid  = 0.33068\n",
      "max_iter - 700, C - 1.3 : F1_train  = 0.27747, F1_valid  = 0.33068\n",
      "max_iter - 800, C - 1.3 : F1_train  = 0.27747, F1_valid  = 0.33068\n",
      "max_iter - 900, C - 1.3 : F1_train  = 0.27747, F1_valid  = 0.33068\n",
      "max_iter - 1000, C - 1.3 : F1_train  = 0.27747, F1_valid  = 0.33068\n",
      "max_iter - 100, C - 1.4 : F1_train  = 0.27747, F1_valid  = 0.33068\n",
      "max_iter - 200, C - 1.4 : F1_train  = 0.27747, F1_valid  = 0.33068\n",
      "max_iter - 300, C - 1.4 : F1_train  = 0.27747, F1_valid  = 0.33068\n",
      "max_iter - 400, C - 1.4 : F1_train  = 0.27747, F1_valid  = 0.33068\n",
      "max_iter - 500, C - 1.4 : F1_train  = 0.27747, F1_valid  = 0.33068\n",
      "max_iter - 600, C - 1.4 : F1_train  = 0.27747, F1_valid  = 0.33068\n",
      "max_iter - 700, C - 1.4 : F1_train  = 0.27747, F1_valid  = 0.33068\n",
      "max_iter - 800, C - 1.4 : F1_train  = 0.27747, F1_valid  = 0.33068\n",
      "max_iter - 900, C - 1.4 : F1_train  = 0.27747, F1_valid  = 0.33068\n",
      "max_iter - 1000, C - 1.4 : F1_train  = 0.27747, F1_valid  = 0.33068\n",
      "\n",
      "Лучшие результаты и параметры модели Логистической регрессии на валидационной выборке:\n",
      "F1_valid: 0.330677, F1_train: 0.276860.\n",
      "max_iter: 100, C: 0.3.\n",
      "\n"
     ]
    },
    {
     "data": {
      "image/png": "[encoded data removed]",
      "text/plain": [
       "<Figure size 432x288 with 1 Axes>"
      ]
     },
     "metadata": {
      "needs_background": "light"
     },
     "output_type": "display_data"
    },
    {
     "name": "stdout",
     "output_type": "stream",
     "text": [
      "\n",
      "AUC-ROC: 0.7892917216957849\n"
     ]
    }
   ],
   "source": [
    "logistic_regression_function(features_train, target_train, features_valid, target_valid)"
   ]
  },
  {
   "cell_type": "markdown",
   "metadata": {},
   "source": [
    "Переобучение модели чуть больше, чем у решающего дерева, но существенно меньше, чем у случайного леса: разница в значениях метрики модели на обучающей и валидационной выборках около 15%. <br>\n",
    "Однако качество прогноза положительного класса у модели крайне низкое: значение `F1-меры` всего 0.33: можно сказать, что прогноз положительного класса неудался. Причина в дисбалансе классов, к которому линейные модели  более чувствительны, чем деревянные.<br>\n",
    "При этом получили неплохие, хотя и хуже чем у остальных моделей, `ROC-кривую` и значение `ROC-AUC`, что выглядит несколько странно: предсказания модели гораздо лучше случайной, но предсказывает она, тем не менее, плохо."
   ]
  },
  {
   "cell_type": "markdown",
   "metadata": {},
   "source": [
    "Выводы: \n",
    "1. Данные имеют дисбаланс классов примерно 1:4 с перевесом нулевого класса.\n",
    "2. Лучшие значения метрик ожидаемо получились у случайного леса. На втором месте -- решающее дерево. На последнем с большим отставанием логистическая регрессия.<br> При этом для первых двух моделей заданное значение метрики `F1-мера` удалось достичь даже без применения борьбы с дисбалансом."
   ]
  },
  {
   "cell_type": "markdown",
   "metadata": {},
   "source": [
    "## Борьба с дисбалансом"
   ]
  },
  {
   "cell_type": "markdown",
   "metadata": {},
   "source": [
    "Еще раз вспомним значение дисбаланса:"
   ]
  },
  {
   "cell_type": "code",
   "execution_count": 42,
   "metadata": {},
   "outputs": [
    {
     "data": {
      "text/plain": [
       "0    0.796062\n",
       "1    0.203938\n",
       "Name: Exited, dtype: float64"
      ]
     },
     "execution_count": 42,
     "metadata": {},
     "output_type": "execute_result"
    }
   ],
   "source": [
    "df['Exited'].value_counts(normalize=True)"
   ]
  },
  {
   "cell_type": "markdown",
   "metadata": {},
   "source": [
    "Применим для борьбы с дисбалансом методы увеличения выборки и уменьшения выборки и оценим результаты каждого из них."
   ]
  },
  {
   "cell_type": "markdown",
   "metadata": {},
   "source": [
    "### Увеличение выборки"
   ]
  },
  {
   "cell_type": "markdown",
   "metadata": {},
   "source": [
    "Получим размеры выборок:"
   ]
  },
  {
   "cell_type": "code",
   "execution_count": 43,
   "metadata": {},
   "outputs": [
    {
     "data": {
      "text/plain": [
       "((5454, 11), (5454,))"
      ]
     },
     "execution_count": 43,
     "metadata": {},
     "output_type": "execute_result"
    }
   ],
   "source": [
    "features_train.shape, target_train.shape"
   ]
  },
  {
   "cell_type": "markdown",
   "metadata": {},
   "source": [
    "Создадим функцию, которая увеличит количество данных положительного класса кратно значению переменной `repeat`, задаваемому в параметрах функции: "
   ]
  },
  {
   "cell_type": "code",
   "execution_count": 44,
   "metadata": {},
   "outputs": [],
   "source": [
    "def upsample(features, target, repeat):\n",
    "    features_zeros = pd.DataFrame(features[target == 0])\n",
    "    features_ones = pd.DataFrame(features[target == 1])\n",
    "    target_zeros = target[target == 0]\n",
    "    target_ones = target[target == 1]\n",
    "\n",
    "    features_upsampled = pd.concat([features_zeros] + [features_ones] * repeat)\n",
    "    target_upsampled = pd.concat([target_zeros] + [target_ones] * repeat)\n",
    "    \n",
    "    features_upsampled, target_upsampled = shuffle(\n",
    "        features_upsampled, target_upsampled, random_state=12345)\n",
    "    \n",
    "    return features_upsampled, target_upsampled"
   ]
  },
  {
   "cell_type": "markdown",
   "metadata": {},
   "source": [
    "Поскольку наш дисбаланс равен 1:4, при вызове функции передадим в неё парметр `repeat` со значением `4`.<br> Проверим размеры получившихся выборок и новые пропорции распределения классов:"
   ]
  },
  {
   "cell_type": "code",
   "execution_count": 45,
   "metadata": {},
   "outputs": [
    {
     "name": "stdout",
     "output_type": "stream",
     "text": [
      "(8790, 11)\n",
      "(8790,)\n"
     ]
    }
   ],
   "source": [
    "features_upsampled, target_upsampled = upsample(features_train, target_train, 4)\n",
    "\n",
    "print(features_upsampled.shape)\n",
    "print(target_upsampled.shape)"
   ]
  },
  {
   "cell_type": "code",
   "execution_count": 46,
   "metadata": {
    "scrolled": true
   },
   "outputs": [
    {
     "data": {
      "text/plain": [
       "1    0.50603\n",
       "0    0.49397\n",
       "Name: Exited, dtype: float64"
      ]
     },
     "execution_count": 46,
     "metadata": {},
     "output_type": "execute_result"
    }
   ],
   "source": [
    "target_upsampled.value_counts(normalize=True)"
   ]
  },
  {
   "cell_type": "markdown",
   "metadata": {},
   "source": [
    "Цель достигнута: дисбаланс устранён, текущее соотношение классов практически равно 1:1."
   ]
  },
  {
   "cell_type": "markdown",
   "metadata": {},
   "source": [
    "#### Решающее дерево"
   ]
  },
  {
   "cell_type": "markdown",
   "metadata": {},
   "source": [
    "Вызовем ранее созданную функцию модели решающего дерева, передав ей новые параметры выборок. Затем так же поступим и с остальными функциями моделей."
   ]
  },
  {
   "cell_type": "code",
   "execution_count": 47,
   "metadata": {},
   "outputs": [
    {
     "name": "stdout",
     "output_type": "stream",
     "text": [
      "max_depth - 2, max_features - 2 : F1_train  = 0.669956, F1_valid  = 0.519565\n",
      "max_depth - 3, max_features - 2 : F1_train  = 0.650466, F1_valid  = 0.520482\n",
      "max_depth - 4, max_features - 2 : F1_train  = 0.694198, F1_valid  = 0.551237\n",
      "max_depth - 5, max_features - 2 : F1_train  = 0.732917, F1_valid  = 0.518255\n",
      "max_depth - 6, max_features - 2 : F1_train  = 0.713076, F1_valid  = 0.523462\n",
      "max_depth - 7, max_features - 2 : F1_train  = 0.748863, F1_valid  = 0.510978\n",
      "max_depth - 8, max_features - 2 : F1_train  = 0.790836, F1_valid  = 0.581897\n",
      "max_depth - 9, max_features - 2 : F1_train  = 0.803497, F1_valid  = 0.493989\n",
      "max_depth - 10, max_features - 2 : F1_train  = 0.855814, F1_valid  = 0.522293\n",
      "max_depth - 11, max_features - 2 : F1_train  = 0.872825, F1_valid  = 0.486175\n",
      "max_depth - 12, max_features - 2 : F1_train  = 0.891372, F1_valid  = 0.452214\n",
      "max_depth - 2, max_features - 3 : F1_train  = 0.671961, F1_valid  = 0.509240\n",
      "max_depth - 3, max_features - 3 : F1_train  = 0.686738, F1_valid  = 0.533937\n",
      "max_depth - 4, max_features - 3 : F1_train  = 0.717317, F1_valid  = 0.540330\n",
      "max_depth - 5, max_features - 3 : F1_train  = 0.744517, F1_valid  = 0.540490\n",
      "max_depth - 6, max_features - 3 : F1_train  = 0.761284, F1_valid  = 0.567797\n",
      "max_depth - 7, max_features - 3 : F1_train  = 0.753986, F1_valid  = 0.542299\n",
      "max_depth - 8, max_features - 3 : F1_train  = 0.786662, F1_valid  = 0.557851\n",
      "max_depth - 9, max_features - 3 : F1_train  = 0.822739, F1_valid  = 0.534860\n",
      "max_depth - 10, max_features - 3 : F1_train  = 0.856693, F1_valid  = 0.563758\n",
      "max_depth - 11, max_features - 3 : F1_train  = 0.844910, F1_valid  = 0.517063\n",
      "max_depth - 12, max_features - 3 : F1_train  = 0.895978, F1_valid  = 0.531616\n",
      "max_depth - 2, max_features - 4 : F1_train  = 0.705714, F1_valid  = 0.549311\n",
      "max_depth - 3, max_features - 4 : F1_train  = 0.710173, F1_valid  = 0.565264\n",
      "max_depth - 4, max_features - 4 : F1_train  = 0.706990, F1_valid  = 0.542156\n",
      "max_depth - 5, max_features - 4 : F1_train  = 0.745965, F1_valid  = 0.578548\n",
      "max_depth - 6, max_features - 4 : F1_train  = 0.770044, F1_valid  = 0.540594\n",
      "max_depth - 7, max_features - 4 : F1_train  = 0.779275, F1_valid  = 0.563559\n",
      "max_depth - 8, max_features - 4 : F1_train  = 0.803516, F1_valid  = 0.526316\n",
      "max_depth - 9, max_features - 4 : F1_train  = 0.821974, F1_valid  = 0.551651\n",
      "max_depth - 10, max_features - 4 : F1_train  = 0.862373, F1_valid  = 0.554926\n",
      "max_depth - 11, max_features - 4 : F1_train  = 0.893660, F1_valid  = 0.493213\n",
      "max_depth - 12, max_features - 4 : F1_train  = 0.897130, F1_valid  = 0.518602\n",
      "max_depth - 2, max_features - 5 : F1_train  = 0.669956, F1_valid  = 0.519565\n",
      "max_depth - 3, max_features - 5 : F1_train  = 0.699558, F1_valid  = 0.518210\n",
      "max_depth - 4, max_features - 5 : F1_train  = 0.701822, F1_valid  = 0.540598\n",
      "max_depth - 5, max_features - 5 : F1_train  = 0.729981, F1_valid  = 0.601415\n",
      "max_depth - 6, max_features - 5 : F1_train  = 0.769337, F1_valid  = 0.558671\n",
      "max_depth - 7, max_features - 5 : F1_train  = 0.786266, F1_valid  = 0.569565\n",
      "max_depth - 8, max_features - 5 : F1_train  = 0.820375, F1_valid  = 0.574665\n",
      "max_depth - 9, max_features - 5 : F1_train  = 0.834356, F1_valid  = 0.573971\n",
      "max_depth - 10, max_features - 5 : F1_train  = 0.859102, F1_valid  = 0.553781\n",
      "max_depth - 11, max_features - 5 : F1_train  = 0.887420, F1_valid  = 0.540481\n",
      "max_depth - 12, max_features - 5 : F1_train  = 0.918805, F1_valid  = 0.543923\n",
      "max_depth - 2, max_features - 6 : F1_train  = 0.705714, F1_valid  = 0.549311\n",
      "max_depth - 3, max_features - 6 : F1_train  = 0.706899, F1_valid  = 0.537613\n",
      "max_depth - 4, max_features - 6 : F1_train  = 0.740590, F1_valid  = 0.549855\n",
      "max_depth - 5, max_features - 6 : F1_train  = 0.735355, F1_valid  = 0.538383\n",
      "max_depth - 6, max_features - 6 : F1_train  = 0.771611, F1_valid  = 0.564706\n",
      "max_depth - 7, max_features - 6 : F1_train  = 0.792719, F1_valid  = 0.564995\n",
      "max_depth - 8, max_features - 6 : F1_train  = 0.826615, F1_valid  = 0.553283\n",
      "max_depth - 9, max_features - 6 : F1_train  = 0.845788, F1_valid  = 0.539446\n",
      "max_depth - 10, max_features - 6 : F1_train  = 0.857885, F1_valid  = 0.544036\n",
      "max_depth - 11, max_features - 6 : F1_train  = 0.898400, F1_valid  = 0.502806\n",
      "max_depth - 12, max_features - 6 : F1_train  = 0.922404, F1_valid  = 0.542035\n",
      "\n",
      "Лучшие результаты и параметры модели решающего дерева на валидационной выборке:\n",
      "F1_valid: 0.601415, F1_train: 0.729981.\n",
      "max_features: 5, max_depth: 5.\n",
      "\n"
     ]
    },
    {
     "data": {
      "image/png": "[encoded data removed]",
      "text/plain": [
       "<Figure size 432x288 with 1 Axes>"
      ]
     },
     "metadata": {
      "needs_background": "light"
     },
     "output_type": "display_data"
    },
    {
     "name": "stdout",
     "output_type": "stream",
     "text": [
      "\n",
      "AUC-ROC: 0.8333069441934888\n"
     ]
    }
   ],
   "source": [
    "decision_tree_function(features_upsampled, target_upsampled, features_valid, target_valid)"
   ]
  },
  {
   "cell_type": "markdown",
   "metadata": {},
   "source": [
    "Модель решающего дерева очень слабо отреагировала на увеличение выборки: значение метрики улучшилось незначительно, а вот переобучение модели возросло: разница в значениях метрики на обучающей и валидационной выборках возросла до 18%.<br>\n",
    "Несколько улучшилась (сгладилась при сохранении общего профиля) `ROC-кривая`, а вот значение `AUC-ROC` почти  не изменилось."
   ]
  },
  {
   "cell_type": "markdown",
   "metadata": {},
   "source": [
    "#### Случайный лес"
   ]
  },
  {
   "cell_type": "code",
   "execution_count": 48,
   "metadata": {},
   "outputs": [
    {
     "name": "stdout",
     "output_type": "stream",
     "text": [
      "max_depth - 9, n_estimators - 80 : F1_train  = 0.87131, F1_valid  = 0.63134\n",
      "max_depth - 10, n_estimators - 80 : F1_train  = 0.91313, F1_valid  = 0.62782\n",
      "max_depth - 11, n_estimators - 80 : F1_train  = 0.94619, F1_valid  = 0.63106\n",
      "max_depth - 12, n_estimators - 80 : F1_train  = 0.96962, F1_valid  = 0.63696\n",
      "max_depth - 13, n_estimators - 80 : F1_train  = 0.98606, F1_valid  = 0.63271\n",
      "max_depth - 9, n_estimators - 90 : F1_train  = 0.87006, F1_valid  = 0.62718\n",
      "max_depth - 10, n_estimators - 90 : F1_train  = 0.90958, F1_valid  = 0.62708\n",
      "max_depth - 11, n_estimators - 90 : F1_train  = 0.94324, F1_valid  = 0.63329\n",
      "max_depth - 12, n_estimators - 90 : F1_train  = 0.96986, F1_valid  = 0.63979\n",
      "max_depth - 13, n_estimators - 90 : F1_train  = 0.98717, F1_valid  = 0.63271\n",
      "max_depth - 9, n_estimators - 100 : F1_train  = 0.87060, F1_valid  = 0.62818\n",
      "max_depth - 10, n_estimators - 100 : F1_train  = 0.91075, F1_valid  = 0.62574\n",
      "max_depth - 11, n_estimators - 100 : F1_train  = 0.94218, F1_valid  = 0.63158\n",
      "max_depth - 12, n_estimators - 100 : F1_train  = 0.96921, F1_valid  = 0.63947\n",
      "max_depth - 13, n_estimators - 100 : F1_train  = 0.98651, F1_valid  = 0.63257\n",
      "max_depth - 9, n_estimators - 110 : F1_train  = 0.87276, F1_valid  = 0.62976\n",
      "max_depth - 10, n_estimators - 110 : F1_train  = 0.91057, F1_valid  = 0.62959\n",
      "max_depth - 11, n_estimators - 110 : F1_train  = 0.94123, F1_valid  = 0.63145\n",
      "max_depth - 12, n_estimators - 110 : F1_train  = 0.96956, F1_valid  = 0.64491\n",
      "max_depth - 13, n_estimators - 110 : F1_train  = 0.98650, F1_valid  = 0.63784\n",
      "max_depth - 9, n_estimators - 120 : F1_train  = 0.87173, F1_valid  = 0.63584\n",
      "max_depth - 10, n_estimators - 120 : F1_train  = 0.91194, F1_valid  = 0.62871\n",
      "max_depth - 11, n_estimators - 120 : F1_train  = 0.94202, F1_valid  = 0.62814\n",
      "max_depth - 12, n_estimators - 120 : F1_train  = 0.96907, F1_valid  = 0.64837\n",
      "max_depth - 13, n_estimators - 120 : F1_train  = 0.98661, F1_valid  = 0.63847\n",
      "max_depth - 9, n_estimators - 130 : F1_train  = 0.87070, F1_valid  = 0.63403\n",
      "max_depth - 10, n_estimators - 130 : F1_train  = 0.90967, F1_valid  = 0.63095\n",
      "max_depth - 11, n_estimators - 130 : F1_train  = 0.94292, F1_valid  = 0.62893\n",
      "max_depth - 12, n_estimators - 130 : F1_train  = 0.96986, F1_valid  = 0.65349\n",
      "max_depth - 13, n_estimators - 130 : F1_train  = 0.98706, F1_valid  = 0.63870\n",
      "max_depth - 9, n_estimators - 140 : F1_train  = 0.87130, F1_valid  = 0.63170\n",
      "max_depth - 10, n_estimators - 140 : F1_train  = 0.91049, F1_valid  = 0.63158\n",
      "max_depth - 11, n_estimators - 140 : F1_train  = 0.94160, F1_valid  = 0.63224\n",
      "max_depth - 12, n_estimators - 140 : F1_train  = 0.97075, F1_valid  = 0.63874\n",
      "max_depth - 13, n_estimators - 140 : F1_train  = 0.98706, F1_valid  = 0.63870\n",
      "max_depth - 9, n_estimators - 150 : F1_train  = 0.87304, F1_valid  = 0.63182\n",
      "max_depth - 10, n_estimators - 150 : F1_train  = 0.91098, F1_valid  = 0.63170\n",
      "max_depth - 11, n_estimators - 150 : F1_train  = 0.94360, F1_valid  = 0.62893\n",
      "max_depth - 12, n_estimators - 150 : F1_train  = 0.97154, F1_valid  = 0.64042\n",
      "max_depth - 13, n_estimators - 150 : F1_train  = 0.98729, F1_valid  = 0.63698\n",
      "\n",
      "Лучшие результаты и параметры модели Случайный лес на валидационной выборке:\n",
      "F1_valid: 0.653491, F1_train: 0.969859.\n",
      "n_estimators: 130, max_depth: 12.\n",
      "\n"
     ]
    },
    {
     "data": {
      "image/png": "[encoded data removed]",
      "text/plain": [
       "<Figure size 432x288 with 1 Axes>"
      ]
     },
     "metadata": {
      "needs_background": "light"
     },
     "output_type": "display_data"
    },
    {
     "name": "stdout",
     "output_type": "stream",
     "text": [
      "\n",
      "AUC-ROC: 0.8724249632570036\n"
     ]
    }
   ],
   "source": [
    "random_forest_function(features_upsampled, target_upsampled, features_valid, target_valid)"
   ]
  },
  {
   "cell_type": "markdown",
   "metadata": {},
   "source": [
    "В этой модели значение метрики `F1-мера` улучшилось сильнее, чем у решающего дерева.<br>\n",
    "Однако, \"платой\" за такое улучшение является сильна переобученность модели: разница между значениями метрики на учебной и валидационной выборках составляет более 30%.<br>\n",
    "ROC-кривая практически не изменилась, а вот значение AUC-ROC ухудшилось (уменьшилось), хотя и крайне незначительно."
   ]
  },
  {
   "cell_type": "markdown",
   "metadata": {},
   "source": [
    "#### Логистическая регрессия"
   ]
  },
  {
   "cell_type": "code",
   "execution_count": 49,
   "metadata": {
    "scrolled": false
   },
   "outputs": [
    {
     "name": "stdout",
     "output_type": "stream",
     "text": [
      "max_iter - 100, C - 0.1 : F1_train  = 0.70572, F1_valid  = 0.50417\n",
      "max_iter - 200, C - 0.1 : F1_train  = 0.70572, F1_valid  = 0.50417\n",
      "max_iter - 300, C - 0.1 : F1_train  = 0.70572, F1_valid  = 0.50417\n",
      "max_iter - 400, C - 0.1 : F1_train  = 0.70572, F1_valid  = 0.50417\n",
      "max_iter - 500, C - 0.1 : F1_train  = 0.70572, F1_valid  = 0.50417\n",
      "max_iter - 600, C - 0.1 : F1_train  = 0.70572, F1_valid  = 0.50417\n",
      "max_iter - 700, C - 0.1 : F1_train  = 0.70572, F1_valid  = 0.50417\n",
      "max_iter - 800, C - 0.1 : F1_train  = 0.70572, F1_valid  = 0.50417\n",
      "max_iter - 900, C - 0.1 : F1_train  = 0.70572, F1_valid  = 0.50417\n",
      "max_iter - 1000, C - 0.1 : F1_train  = 0.70572, F1_valid  = 0.50417\n",
      "max_iter - 100, C - 0.2 : F1_train  = 0.70572, F1_valid  = 0.50509\n",
      "max_iter - 200, C - 0.2 : F1_train  = 0.70572, F1_valid  = 0.50509\n",
      "max_iter - 300, C - 0.2 : F1_train  = 0.70572, F1_valid  = 0.50509\n",
      "max_iter - 400, C - 0.2 : F1_train  = 0.70572, F1_valid  = 0.50509\n",
      "max_iter - 500, C - 0.2 : F1_train  = 0.70572, F1_valid  = 0.50509\n",
      "max_iter - 600, C - 0.2 : F1_train  = 0.70572, F1_valid  = 0.50509\n",
      "max_iter - 700, C - 0.2 : F1_train  = 0.70572, F1_valid  = 0.50509\n",
      "max_iter - 800, C - 0.2 : F1_train  = 0.70572, F1_valid  = 0.50509\n",
      "max_iter - 900, C - 0.2 : F1_train  = 0.70572, F1_valid  = 0.50509\n",
      "max_iter - 1000, C - 0.2 : F1_train  = 0.70572, F1_valid  = 0.50509\n",
      "max_iter - 100, C - 0.3 : F1_train  = 0.70572, F1_valid  = 0.50509\n",
      "max_iter - 200, C - 0.3 : F1_train  = 0.70572, F1_valid  = 0.50509\n",
      "max_iter - 300, C - 0.3 : F1_train  = 0.70572, F1_valid  = 0.50509\n",
      "max_iter - 400, C - 0.3 : F1_train  = 0.70572, F1_valid  = 0.50509\n",
      "max_iter - 500, C - 0.3 : F1_train  = 0.70572, F1_valid  = 0.50509\n",
      "max_iter - 600, C - 0.3 : F1_train  = 0.70572, F1_valid  = 0.50509\n",
      "max_iter - 700, C - 0.3 : F1_train  = 0.70572, F1_valid  = 0.50509\n",
      "max_iter - 800, C - 0.3 : F1_train  = 0.70572, F1_valid  = 0.50509\n",
      "max_iter - 900, C - 0.3 : F1_train  = 0.70572, F1_valid  = 0.50509\n",
      "max_iter - 1000, C - 0.3 : F1_train  = 0.70572, F1_valid  = 0.50509\n",
      "max_iter - 100, C - 0.4 : F1_train  = 0.70572, F1_valid  = 0.50509\n",
      "max_iter - 200, C - 0.4 : F1_train  = 0.70572, F1_valid  = 0.50509\n",
      "max_iter - 300, C - 0.4 : F1_train  = 0.70572, F1_valid  = 0.50509\n",
      "max_iter - 400, C - 0.4 : F1_train  = 0.70572, F1_valid  = 0.50509\n",
      "max_iter - 500, C - 0.4 : F1_train  = 0.70572, F1_valid  = 0.50509\n",
      "max_iter - 600, C - 0.4 : F1_train  = 0.70572, F1_valid  = 0.50509\n",
      "max_iter - 700, C - 0.4 : F1_train  = 0.70572, F1_valid  = 0.50509\n",
      "max_iter - 800, C - 0.4 : F1_train  = 0.70572, F1_valid  = 0.50509\n",
      "max_iter - 900, C - 0.4 : F1_train  = 0.70572, F1_valid  = 0.50509\n",
      "max_iter - 1000, C - 0.4 : F1_train  = 0.70572, F1_valid  = 0.50509\n",
      "max_iter - 100, C - 0.5 : F1_train  = 0.70572, F1_valid  = 0.50509\n",
      "max_iter - 200, C - 0.5 : F1_train  = 0.70572, F1_valid  = 0.50509\n",
      "max_iter - 300, C - 0.5 : F1_train  = 0.70572, F1_valid  = 0.50509\n",
      "max_iter - 400, C - 0.5 : F1_train  = 0.70572, F1_valid  = 0.50509\n",
      "max_iter - 500, C - 0.5 : F1_train  = 0.70572, F1_valid  = 0.50509\n",
      "max_iter - 600, C - 0.5 : F1_train  = 0.70572, F1_valid  = 0.50509\n",
      "max_iter - 700, C - 0.5 : F1_train  = 0.70572, F1_valid  = 0.50509\n",
      "max_iter - 800, C - 0.5 : F1_train  = 0.70572, F1_valid  = 0.50509\n",
      "max_iter - 900, C - 0.5 : F1_train  = 0.70572, F1_valid  = 0.50509\n",
      "max_iter - 1000, C - 0.5 : F1_train  = 0.70572, F1_valid  = 0.50509\n",
      "max_iter - 100, C - 0.6 : F1_train  = 0.70572, F1_valid  = 0.50509\n",
      "max_iter - 200, C - 0.6 : F1_train  = 0.70572, F1_valid  = 0.50509\n",
      "max_iter - 300, C - 0.6 : F1_train  = 0.70572, F1_valid  = 0.50509\n",
      "max_iter - 400, C - 0.6 : F1_train  = 0.70572, F1_valid  = 0.50509\n",
      "max_iter - 500, C - 0.6 : F1_train  = 0.70572, F1_valid  = 0.50509\n",
      "max_iter - 600, C - 0.6 : F1_train  = 0.70572, F1_valid  = 0.50509\n",
      "max_iter - 700, C - 0.6 : F1_train  = 0.70572, F1_valid  = 0.50509\n",
      "max_iter - 800, C - 0.6 : F1_train  = 0.70572, F1_valid  = 0.50509\n",
      "max_iter - 900, C - 0.6 : F1_train  = 0.70572, F1_valid  = 0.50509\n",
      "max_iter - 1000, C - 0.6 : F1_train  = 0.70572, F1_valid  = 0.50509\n",
      "max_iter - 100, C - 0.7 : F1_train  = 0.70572, F1_valid  = 0.50509\n",
      "max_iter - 200, C - 0.7 : F1_train  = 0.70572, F1_valid  = 0.50509\n",
      "max_iter - 300, C - 0.7 : F1_train  = 0.70572, F1_valid  = 0.50509\n",
      "max_iter - 400, C - 0.7 : F1_train  = 0.70572, F1_valid  = 0.50509\n",
      "max_iter - 500, C - 0.7 : F1_train  = 0.70572, F1_valid  = 0.50509\n",
      "max_iter - 600, C - 0.7 : F1_train  = 0.70572, F1_valid  = 0.50509\n",
      "max_iter - 700, C - 0.7 : F1_train  = 0.70572, F1_valid  = 0.50509\n",
      "max_iter - 800, C - 0.7 : F1_train  = 0.70572, F1_valid  = 0.50509\n",
      "max_iter - 900, C - 0.7 : F1_train  = 0.70572, F1_valid  = 0.50509\n",
      "max_iter - 1000, C - 0.7 : F1_train  = 0.70572, F1_valid  = 0.50509\n",
      "max_iter - 100, C - 0.8 : F1_train  = 0.70572, F1_valid  = 0.50509\n",
      "max_iter - 200, C - 0.8 : F1_train  = 0.70572, F1_valid  = 0.50509\n",
      "max_iter - 300, C - 0.8 : F1_train  = 0.70572, F1_valid  = 0.50509\n",
      "max_iter - 400, C - 0.8 : F1_train  = 0.70572, F1_valid  = 0.50509\n",
      "max_iter - 500, C - 0.8 : F1_train  = 0.70572, F1_valid  = 0.50509\n",
      "max_iter - 600, C - 0.8 : F1_train  = 0.70572, F1_valid  = 0.50509\n",
      "max_iter - 700, C - 0.8 : F1_train  = 0.70572, F1_valid  = 0.50509\n",
      "max_iter - 800, C - 0.8 : F1_train  = 0.70572, F1_valid  = 0.50509\n",
      "max_iter - 900, C - 0.8 : F1_train  = 0.70572, F1_valid  = 0.50509\n",
      "max_iter - 1000, C - 0.8 : F1_train  = 0.70572, F1_valid  = 0.50509\n",
      "max_iter - 100, C - 0.9 : F1_train  = 0.70572, F1_valid  = 0.50509\n",
      "max_iter - 200, C - 0.9 : F1_train  = 0.70572, F1_valid  = 0.50509\n",
      "max_iter - 300, C - 0.9 : F1_train  = 0.70572, F1_valid  = 0.50509\n",
      "max_iter - 400, C - 0.9 : F1_train  = 0.70572, F1_valid  = 0.50509\n",
      "max_iter - 500, C - 0.9 : F1_train  = 0.70572, F1_valid  = 0.50509\n",
      "max_iter - 600, C - 0.9 : F1_train  = 0.70572, F1_valid  = 0.50509\n",
      "max_iter - 700, C - 0.9 : F1_train  = 0.70572, F1_valid  = 0.50509\n",
      "max_iter - 800, C - 0.9 : F1_train  = 0.70572, F1_valid  = 0.50509\n",
      "max_iter - 900, C - 0.9 : F1_train  = 0.70572, F1_valid  = 0.50509\n",
      "max_iter - 1000, C - 0.9 : F1_train  = 0.70572, F1_valid  = 0.50509\n",
      "max_iter - 100, C - 1.0 : F1_train  = 0.70572, F1_valid  = 0.50509\n",
      "max_iter - 200, C - 1.0 : F1_train  = 0.70572, F1_valid  = 0.50509\n",
      "max_iter - 300, C - 1.0 : F1_train  = 0.70572, F1_valid  = 0.50509\n",
      "max_iter - 400, C - 1.0 : F1_train  = 0.70572, F1_valid  = 0.50509\n",
      "max_iter - 500, C - 1.0 : F1_train  = 0.70572, F1_valid  = 0.50509\n",
      "max_iter - 600, C - 1.0 : F1_train  = 0.70572, F1_valid  = 0.50509\n",
      "max_iter - 700, C - 1.0 : F1_train  = 0.70572, F1_valid  = 0.50509\n",
      "max_iter - 800, C - 1.0 : F1_train  = 0.70572, F1_valid  = 0.50509\n",
      "max_iter - 900, C - 1.0 : F1_train  = 0.70572, F1_valid  = 0.50509\n",
      "max_iter - 1000, C - 1.0 : F1_train  = 0.70572, F1_valid  = 0.50509\n",
      "max_iter - 100, C - 1.1 : F1_train  = 0.70572, F1_valid  = 0.50509\n",
      "max_iter - 200, C - 1.1 : F1_train  = 0.70572, F1_valid  = 0.50509\n",
      "max_iter - 300, C - 1.1 : F1_train  = 0.70572, F1_valid  = 0.50509\n",
      "max_iter - 400, C - 1.1 : F1_train  = 0.70572, F1_valid  = 0.50509\n",
      "max_iter - 500, C - 1.1 : F1_train  = 0.70572, F1_valid  = 0.50509\n",
      "max_iter - 600, C - 1.1 : F1_train  = 0.70572, F1_valid  = 0.50509\n",
      "max_iter - 700, C - 1.1 : F1_train  = 0.70572, F1_valid  = 0.50509\n",
      "max_iter - 800, C - 1.1 : F1_train  = 0.70572, F1_valid  = 0.50509\n",
      "max_iter - 900, C - 1.1 : F1_train  = 0.70572, F1_valid  = 0.50509\n",
      "max_iter - 1000, C - 1.1 : F1_train  = 0.70572, F1_valid  = 0.50509\n",
      "max_iter - 100, C - 1.2 : F1_train  = 0.70572, F1_valid  = 0.50509\n",
      "max_iter - 200, C - 1.2 : F1_train  = 0.70572, F1_valid  = 0.50509\n",
      "max_iter - 300, C - 1.2 : F1_train  = 0.70572, F1_valid  = 0.50509\n",
      "max_iter - 400, C - 1.2 : F1_train  = 0.70572, F1_valid  = 0.50509\n",
      "max_iter - 500, C - 1.2 : F1_train  = 0.70572, F1_valid  = 0.50509\n",
      "max_iter - 600, C - 1.2 : F1_train  = 0.70572, F1_valid  = 0.50509\n",
      "max_iter - 700, C - 1.2 : F1_train  = 0.70572, F1_valid  = 0.50509\n",
      "max_iter - 800, C - 1.2 : F1_train  = 0.70572, F1_valid  = 0.50509\n",
      "max_iter - 900, C - 1.2 : F1_train  = 0.70572, F1_valid  = 0.50509\n",
      "max_iter - 1000, C - 1.2 : F1_train  = 0.70572, F1_valid  = 0.50509\n",
      "max_iter - 100, C - 1.3 : F1_train  = 0.70572, F1_valid  = 0.50509\n",
      "max_iter - 200, C - 1.3 : F1_train  = 0.70572, F1_valid  = 0.50509\n",
      "max_iter - 300, C - 1.3 : F1_train  = 0.70572, F1_valid  = 0.50509\n",
      "max_iter - 400, C - 1.3 : F1_train  = 0.70572, F1_valid  = 0.50509\n",
      "max_iter - 500, C - 1.3 : F1_train  = 0.70572, F1_valid  = 0.50509\n",
      "max_iter - 600, C - 1.3 : F1_train  = 0.70572, F1_valid  = 0.50509\n",
      "max_iter - 700, C - 1.3 : F1_train  = 0.70572, F1_valid  = 0.50509\n",
      "max_iter - 800, C - 1.3 : F1_train  = 0.70572, F1_valid  = 0.50509\n",
      "max_iter - 900, C - 1.3 : F1_train  = 0.70572, F1_valid  = 0.50509\n",
      "max_iter - 1000, C - 1.3 : F1_train  = 0.70572, F1_valid  = 0.50509\n",
      "max_iter - 100, C - 1.4 : F1_train  = 0.70572, F1_valid  = 0.50509\n",
      "max_iter - 200, C - 1.4 : F1_train  = 0.70572, F1_valid  = 0.50509\n",
      "max_iter - 300, C - 1.4 : F1_train  = 0.70572, F1_valid  = 0.50509\n"
     ]
    },
    {
     "name": "stdout",
     "output_type": "stream",
     "text": [
      "max_iter - 400, C - 1.4 : F1_train  = 0.70572, F1_valid  = 0.50509\n",
      "max_iter - 500, C - 1.4 : F1_train  = 0.70572, F1_valid  = 0.50509\n",
      "max_iter - 600, C - 1.4 : F1_train  = 0.70572, F1_valid  = 0.50509\n",
      "max_iter - 700, C - 1.4 : F1_train  = 0.70572, F1_valid  = 0.50509\n",
      "max_iter - 800, C - 1.4 : F1_train  = 0.70572, F1_valid  = 0.50509\n",
      "max_iter - 900, C - 1.4 : F1_train  = 0.70572, F1_valid  = 0.50509\n",
      "max_iter - 1000, C - 1.4 : F1_train  = 0.70572, F1_valid  = 0.50509\n",
      "\n",
      "Лучшие результаты и параметры модели Логистической регрессии на валидационной выборке:\n",
      "F1_valid: 0.505088, F1_train: 0.705723.\n",
      "max_iter: 100, C: 0.2.\n",
      "\n"
     ]
    },
    {
     "data": {
      "image/png": "[encoded data removed]",
      "text/plain": [
       "<Figure size 432x288 with 1 Axes>"
      ]
     },
     "metadata": {
      "needs_background": "light"
     },
     "output_type": "display_data"
    },
    {
     "name": "stdout",
     "output_type": "stream",
     "text": [
      "\n",
      "AUC-ROC: 0.7907521277408227\n"
     ]
    }
   ],
   "source": [
    "logistic_regression_function(features_upsampled, target_upsampled, features_valid, target_valid)"
   ]
  },
  {
   "cell_type": "markdown",
   "metadata": {},
   "source": [
    "Логистическая регрессия лучше всех отреагировала на увеличение выборки: параметр `F1-мера` улучшился с 0.33 до 0.50, то есть улучшилось качество прогноза положительного класса.<br>\n",
    "Однако, цена этого -- возникшее переобучениe модели: появился существенный -- почти 30% -- разрыв между значением метрики на обучающей выборке и на валидационной.<br>\n",
    "`ROC-кривая` стала лишь немного круче, но в целом почти не изменилась, так же как параметр `ROC_AUC`, который улучшился крайне незначительно."
   ]
  },
  {
   "cell_type": "markdown",
   "metadata": {},
   "source": [
    "### Уменьшение выборки"
   ]
  },
  {
   "cell_type": "markdown",
   "metadata": {},
   "source": [
    "Создадим функцию, которая уменьшит количество данных нулевого класса, сохранив их в количестве, кратном значению переменной `fraction`, задаваемому в параметрах функции: "
   ]
  },
  {
   "cell_type": "code",
   "execution_count": 50,
   "metadata": {},
   "outputs": [],
   "source": [
    "def downsample(features, target, fraction):\n",
    "    features_zeros = pd.DataFrame(features[target == 0])\n",
    "    features_ones = pd.DataFrame(features[target == 1])\n",
    "    target_zeros = target[target == 0]\n",
    "    target_ones = target[target == 1]\n",
    "\n",
    "    features_downsampled = pd.concat(\n",
    "        [features_zeros.sample(frac=fraction, random_state=12345)] + [features_ones])\n",
    "    target_downsampled = pd.concat(\n",
    "        [target_zeros.sample(frac=fraction, random_state=12345)] + [target_ones])\n",
    "        \n",
    "    features_downsampled, target_downsampled = shuffle(\n",
    "        features_downsampled, target_downsampled, random_state=12345)\n",
    "    \n",
    "    return features_downsampled, target_downsampled"
   ]
  },
  {
   "cell_type": "markdown",
   "metadata": {},
   "source": [
    "Поскольку наш дисбаланс равен 1:4, при вызове функции передадим в неё парметр `fraction` со значением `0.25`.<br> Проверим размеры получившихся выборок и новые пропорции распределения классов:"
   ]
  },
  {
   "cell_type": "code",
   "execution_count": 51,
   "metadata": {},
   "outputs": [
    {
     "name": "stdout",
     "output_type": "stream",
     "text": [
      "(2198, 11)\n",
      "(2198,)\n"
     ]
    }
   ],
   "source": [
    "features_downsampled, target_downsampled = downsample(features_train, target_train, 0.25)\n",
    "\n",
    "print(features_downsampled.shape)\n",
    "print(target_downsampled.shape)"
   ]
  },
  {
   "cell_type": "code",
   "execution_count": 52,
   "metadata": {
    "scrolled": true
   },
   "outputs": [
    {
     "data": {
      "text/plain": [
       "1    0.505914\n",
       "0    0.494086\n",
       "Name: Exited, dtype: float64"
      ]
     },
     "execution_count": 52,
     "metadata": {},
     "output_type": "execute_result"
    }
   ],
   "source": [
    "target_downsampled.value_counts(normalize=True)"
   ]
  },
  {
   "cell_type": "markdown",
   "metadata": {},
   "source": [
    "Цель достигнута: дисбаланс устранён, текущее соотношение классов практически равно 1:1."
   ]
  },
  {
   "cell_type": "markdown",
   "metadata": {},
   "source": [
    "#### Решающее дерево"
   ]
  },
  {
   "cell_type": "markdown",
   "metadata": {},
   "source": [
    "Вызовем ранее созданную функцию модели решающего дерева, передав ей новые параметры выборок. Затем так же поступим и с остальными функциями моделей."
   ]
  },
  {
   "cell_type": "code",
   "execution_count": 53,
   "metadata": {},
   "outputs": [
    {
     "name": "stdout",
     "output_type": "stream",
     "text": [
      "max_depth - 2, max_features - 2 : F1_train  = 0.675048, F1_valid  = 0.509240\n",
      "max_depth - 3, max_features - 2 : F1_train  = 0.675048, F1_valid  = 0.509240\n",
      "max_depth - 4, max_features - 2 : F1_train  = 0.663879, F1_valid  = 0.549398\n",
      "max_depth - 5, max_features - 2 : F1_train  = 0.721893, F1_valid  = 0.518027\n",
      "max_depth - 6, max_features - 2 : F1_train  = 0.752845, F1_valid  = 0.486891\n",
      "max_depth - 7, max_features - 2 : F1_train  = 0.763702, F1_valid  = 0.509225\n",
      "max_depth - 8, max_features - 2 : F1_train  = 0.792801, F1_valid  = 0.527725\n",
      "max_depth - 9, max_features - 2 : F1_train  = 0.805769, F1_valid  = 0.500000\n",
      "max_depth - 10, max_features - 2 : F1_train  = 0.855810, F1_valid  = 0.466859\n",
      "max_depth - 11, max_features - 2 : F1_train  = 0.879439, F1_valid  = 0.478764\n",
      "max_depth - 12, max_features - 2 : F1_train  = 0.920166, F1_valid  = 0.496183\n",
      "max_depth - 2, max_features - 3 : F1_train  = 0.675048, F1_valid  = 0.509240\n",
      "max_depth - 3, max_features - 3 : F1_train  = 0.714222, F1_valid  = 0.503145\n",
      "max_depth - 4, max_features - 3 : F1_train  = 0.723404, F1_valid  = 0.519784\n",
      "max_depth - 5, max_features - 3 : F1_train  = 0.741647, F1_valid  = 0.584222\n",
      "max_depth - 6, max_features - 3 : F1_train  = 0.739598, F1_valid  = 0.513274\n",
      "max_depth - 7, max_features - 3 : F1_train  = 0.785038, F1_valid  = 0.531955\n",
      "max_depth - 8, max_features - 3 : F1_train  = 0.805903, F1_valid  = 0.550562\n",
      "max_depth - 9, max_features - 3 : F1_train  = 0.826730, F1_valid  = 0.552604\n",
      "max_depth - 10, max_features - 3 : F1_train  = 0.875000, F1_valid  = 0.519380\n",
      "max_depth - 11, max_features - 3 : F1_train  = 0.896296, F1_valid  = 0.517308\n",
      "max_depth - 12, max_features - 3 : F1_train  = 0.925857, F1_valid  = 0.494706\n",
      "max_depth - 2, max_features - 4 : F1_train  = 0.710131, F1_valid  = 0.537613\n",
      "max_depth - 3, max_features - 4 : F1_train  = 0.710131, F1_valid  = 0.537613\n",
      "max_depth - 4, max_features - 4 : F1_train  = 0.675618, F1_valid  = 0.593830\n",
      "max_depth - 5, max_features - 4 : F1_train  = 0.730826, F1_valid  = 0.595455\n",
      "max_depth - 6, max_features - 4 : F1_train  = 0.732763, F1_valid  = 0.589349\n",
      "max_depth - 7, max_features - 4 : F1_train  = 0.793724, F1_valid  = 0.551935\n",
      "max_depth - 8, max_features - 4 : F1_train  = 0.810427, F1_valid  = 0.576842\n",
      "max_depth - 9, max_features - 4 : F1_train  = 0.838465, F1_valid  = 0.560496\n",
      "max_depth - 10, max_features - 4 : F1_train  = 0.871677, F1_valid  = 0.554656\n",
      "max_depth - 11, max_features - 4 : F1_train  = 0.892708, F1_valid  = 0.525253\n",
      "max_depth - 12, max_features - 4 : F1_train  = 0.932180, F1_valid  = 0.500000\n",
      "max_depth - 2, max_features - 5 : F1_train  = 0.675048, F1_valid  = 0.509240\n",
      "max_depth - 3, max_features - 5 : F1_train  = 0.730883, F1_valid  = 0.491372\n",
      "max_depth - 4, max_features - 5 : F1_train  = 0.692385, F1_valid  = 0.543981\n",
      "max_depth - 5, max_features - 5 : F1_train  = 0.738242, F1_valid  = 0.559574\n",
      "max_depth - 6, max_features - 5 : F1_train  = 0.775510, F1_valid  = 0.579324\n",
      "max_depth - 7, max_features - 5 : F1_train  = 0.789008, F1_valid  = 0.528046\n",
      "max_depth - 8, max_features - 5 : F1_train  = 0.837104, F1_valid  = 0.534597\n",
      "max_depth - 9, max_features - 5 : F1_train  = 0.852861, F1_valid  = 0.538760\n",
      "max_depth - 10, max_features - 5 : F1_train  = 0.891632, F1_valid  = 0.510718\n",
      "max_depth - 11, max_features - 5 : F1_train  = 0.911615, F1_valid  = 0.495146\n",
      "max_depth - 12, max_features - 5 : F1_train  = 0.929680, F1_valid  = 0.492252\n",
      "max_depth - 2, max_features - 6 : F1_train  = 0.710131, F1_valid  = 0.537613\n",
      "max_depth - 3, max_features - 6 : F1_train  = 0.709859, F1_valid  = 0.537613\n",
      "max_depth - 4, max_features - 6 : F1_train  = 0.740362, F1_valid  = 0.551515\n",
      "max_depth - 5, max_features - 6 : F1_train  = 0.757018, F1_valid  = 0.519965\n",
      "max_depth - 6, max_features - 6 : F1_train  = 0.774105, F1_valid  = 0.539806\n",
      "max_depth - 7, max_features - 6 : F1_train  = 0.795020, F1_valid  = 0.541045\n",
      "max_depth - 8, max_features - 6 : F1_train  = 0.828862, F1_valid  = 0.531313\n",
      "max_depth - 9, max_features - 6 : F1_train  = 0.855166, F1_valid  = 0.553661\n",
      "max_depth - 10, max_features - 6 : F1_train  = 0.896898, F1_valid  = 0.529528\n",
      "max_depth - 11, max_features - 6 : F1_train  = 0.910087, F1_valid  = 0.497661\n",
      "max_depth - 12, max_features - 6 : F1_train  = 0.946784, F1_valid  = 0.510427\n",
      "\n",
      "Лучшие результаты и параметры модели решающего дерева на валидационной выборке:\n",
      "F1_valid: 0.595455, F1_train: 0.730826.\n",
      "max_features: 4, max_depth: 5.\n",
      "\n"
     ]
    },
    {
     "data": {
      "image/png": "[encoded data removed]",
      "text/plain": [
       "<Figure size 432x288 with 1 Axes>"
      ]
     },
     "metadata": {
      "needs_background": "light"
     },
     "output_type": "display_data"
    },
    {
     "name": "stdout",
     "output_type": "stream",
     "text": [
      "\n",
      "AUC-ROC: 0.8209456501694183\n"
     ]
    }
   ],
   "source": [
    "decision_tree_function(features_downsampled, target_downsampled, features_valid, target_valid)"
   ]
  },
  {
   "cell_type": "markdown",
   "metadata": {},
   "source": [
    "Реакция модели решающего дерева на уменьшение выборки даже хуже, чем на увеличение: метрика очень назначительно, но ухудшилась по сравнению с первоначальной (без учёта дисбаланса).<br>\n",
    "Также незначительно ухудшились кривизна `ROC-кривой` и значение метрики `AUC-ROC`. "
   ]
  },
  {
   "cell_type": "markdown",
   "metadata": {},
   "source": [
    "#### Случайный лес"
   ]
  },
  {
   "cell_type": "code",
   "execution_count": 54,
   "metadata": {},
   "outputs": [
    {
     "name": "stdout",
     "output_type": "stream",
     "text": [
      "max_depth - 9, n_estimators - 80 : F1_train  = 0.90147, F1_valid  = 0.59579\n",
      "max_depth - 10, n_estimators - 80 : F1_train  = 0.93767, F1_valid  = 0.60752\n",
      "max_depth - 11, n_estimators - 80 : F1_train  = 0.96901, F1_valid  = 0.60166\n",
      "max_depth - 12, n_estimators - 80 : F1_train  = 0.98639, F1_valid  = 0.60103\n",
      "max_depth - 13, n_estimators - 80 : F1_train  = 0.99367, F1_valid  = 0.61083\n",
      "max_depth - 9, n_estimators - 90 : F1_train  = 0.90424, F1_valid  = 0.60147\n",
      "max_depth - 10, n_estimators - 90 : F1_train  = 0.93967, F1_valid  = 0.60797\n",
      "max_depth - 11, n_estimators - 90 : F1_train  = 0.96903, F1_valid  = 0.61186\n",
      "max_depth - 12, n_estimators - 90 : F1_train  = 0.98641, F1_valid  = 0.60807\n",
      "max_depth - 13, n_estimators - 90 : F1_train  = 0.99594, F1_valid  = 0.60754\n",
      "max_depth - 9, n_estimators - 100 : F1_train  = 0.90180, F1_valid  = 0.60021\n",
      "max_depth - 10, n_estimators - 100 : F1_train  = 0.93730, F1_valid  = 0.60988\n",
      "max_depth - 11, n_estimators - 100 : F1_train  = 0.97229, F1_valid  = 0.61233\n",
      "max_depth - 12, n_estimators - 100 : F1_train  = 0.98690, F1_valid  = 0.60644\n",
      "max_depth - 13, n_estimators - 100 : F1_train  = 0.99684, F1_valid  = 0.60327\n",
      "max_depth - 9, n_estimators - 110 : F1_train  = 0.90097, F1_valid  = 0.60125\n",
      "max_depth - 10, n_estimators - 110 : F1_train  = 0.93681, F1_valid  = 0.60543\n",
      "max_depth - 11, n_estimators - 110 : F1_train  = 0.97005, F1_valid  = 0.61042\n",
      "max_depth - 12, n_estimators - 110 : F1_train  = 0.98688, F1_valid  = 0.60744\n",
      "max_depth - 13, n_estimators - 110 : F1_train  = 0.99684, F1_valid  = 0.60370\n",
      "max_depth - 9, n_estimators - 120 : F1_train  = 0.90005, F1_valid  = 0.59979\n",
      "max_depth - 10, n_estimators - 120 : F1_train  = 0.93724, F1_valid  = 0.60460\n",
      "max_depth - 11, n_estimators - 120 : F1_train  = 0.96909, F1_valid  = 0.61105\n",
      "max_depth - 12, n_estimators - 120 : F1_train  = 0.98688, F1_valid  = 0.61267\n",
      "max_depth - 13, n_estimators - 120 : F1_train  = 0.99729, F1_valid  = 0.60494\n",
      "max_depth - 9, n_estimators - 130 : F1_train  = 0.90138, F1_valid  = 0.60271\n",
      "max_depth - 10, n_estimators - 130 : F1_train  = 0.93864, F1_valid  = 0.60714\n",
      "max_depth - 11, n_estimators - 130 : F1_train  = 0.97041, F1_valid  = 0.61140\n",
      "max_depth - 12, n_estimators - 130 : F1_train  = 0.98732, F1_valid  = 0.61634\n",
      "max_depth - 13, n_estimators - 130 : F1_train  = 0.99684, F1_valid  = 0.60843\n",
      "max_depth - 9, n_estimators - 140 : F1_train  = 0.90340, F1_valid  = 0.60291\n",
      "max_depth - 10, n_estimators - 140 : F1_train  = 0.93827, F1_valid  = 0.60669\n",
      "max_depth - 11, n_estimators - 140 : F1_train  = 0.97226, F1_valid  = 0.61059\n",
      "max_depth - 12, n_estimators - 140 : F1_train  = 0.98687, F1_valid  = 0.61174\n",
      "max_depth - 13, n_estimators - 140 : F1_train  = 0.99729, F1_valid  = 0.60843\n",
      "max_depth - 9, n_estimators - 150 : F1_train  = 0.90046, F1_valid  = 0.60499\n",
      "max_depth - 10, n_estimators - 150 : F1_train  = 0.93693, F1_valid  = 0.60397\n",
      "max_depth - 11, n_estimators - 150 : F1_train  = 0.97138, F1_valid  = 0.61105\n",
      "max_depth - 12, n_estimators - 150 : F1_train  = 0.98687, F1_valid  = 0.61554\n",
      "max_depth - 13, n_estimators - 150 : F1_train  = 0.99684, F1_valid  = 0.61048\n",
      "\n",
      "Лучшие результаты и параметры модели Случайный лес на валидационной выборке:\n",
      "F1_valid: 0.616339, F1_train: 0.987319.\n",
      "n_estimators: 130, max_depth: 12.\n",
      "\n"
     ]
    },
    {
     "data": {
      "image/png": "[encoded data removed]",
      "text/plain": [
       "<Figure size 432x288 with 1 Axes>"
      ]
     },
     "metadata": {
      "needs_background": "light"
     },
     "output_type": "display_data"
    },
    {
     "name": "stdout",
     "output_type": "stream",
     "text": [
      "\n",
      "AUC-ROC: 0.8783057054562186\n"
     ]
    }
   ],
   "source": [
    "random_forest_function(features_downsampled, target_downsampled, features_valid, target_valid)"
   ]
  },
  {
   "cell_type": "markdown",
   "metadata": {},
   "source": [
    "Значение метрики `F1-мера` у модели случайный лес при уменьшении выборки стало заметно хуже, чем при увеличении и практически сравнялось с первоначальным (без учёта дисбаланса).<br>\n",
    "Кроме того почти до 40% увеличился разрыв между значениями метрики на обучающей и валидационной выборках, что указывает на увеличение переобучения.<br>\n",
    "А вот форма ROC-кривой несколько улучшилась, так же, как и значение AUC-ROC, которое улучшилось, но незначительно."
   ]
  },
  {
   "cell_type": "markdown",
   "metadata": {},
   "source": [
    "#### Логистическая регрессия"
   ]
  },
  {
   "cell_type": "code",
   "execution_count": 55,
   "metadata": {},
   "outputs": [
    {
     "name": "stdout",
     "output_type": "stream",
     "text": [
      "max_iter - 100, C - 0.1 : F1_train  = 0.71615, F1_valid  = 0.51009\n",
      "max_iter - 200, C - 0.1 : F1_train  = 0.71615, F1_valid  = 0.51009\n",
      "max_iter - 300, C - 0.1 : F1_train  = 0.71615, F1_valid  = 0.51009\n",
      "max_iter - 400, C - 0.1 : F1_train  = 0.71615, F1_valid  = 0.51009\n",
      "max_iter - 500, C - 0.1 : F1_train  = 0.71615, F1_valid  = 0.51009\n",
      "max_iter - 600, C - 0.1 : F1_train  = 0.71615, F1_valid  = 0.51009\n",
      "max_iter - 700, C - 0.1 : F1_train  = 0.71615, F1_valid  = 0.51009\n",
      "max_iter - 800, C - 0.1 : F1_train  = 0.71615, F1_valid  = 0.51009\n",
      "max_iter - 900, C - 0.1 : F1_train  = 0.71615, F1_valid  = 0.51009\n",
      "max_iter - 1000, C - 0.1 : F1_train  = 0.71615, F1_valid  = 0.51009\n",
      "max_iter - 100, C - 0.2 : F1_train  = 0.71583, F1_valid  = 0.51009\n",
      "max_iter - 200, C - 0.2 : F1_train  = 0.71583, F1_valid  = 0.51009\n",
      "max_iter - 300, C - 0.2 : F1_train  = 0.71583, F1_valid  = 0.51009\n",
      "max_iter - 400, C - 0.2 : F1_train  = 0.71583, F1_valid  = 0.51009\n",
      "max_iter - 500, C - 0.2 : F1_train  = 0.71583, F1_valid  = 0.51009\n",
      "max_iter - 600, C - 0.2 : F1_train  = 0.71583, F1_valid  = 0.51009\n",
      "max_iter - 700, C - 0.2 : F1_train  = 0.71583, F1_valid  = 0.51009\n",
      "max_iter - 800, C - 0.2 : F1_train  = 0.71583, F1_valid  = 0.51009\n",
      "max_iter - 900, C - 0.2 : F1_train  = 0.71583, F1_valid  = 0.51009\n",
      "max_iter - 1000, C - 0.2 : F1_train  = 0.71583, F1_valid  = 0.51009\n",
      "max_iter - 100, C - 0.3 : F1_train  = 0.71583, F1_valid  = 0.50872\n",
      "max_iter - 200, C - 0.3 : F1_train  = 0.71583, F1_valid  = 0.50872\n",
      "max_iter - 300, C - 0.3 : F1_train  = 0.71583, F1_valid  = 0.50872\n",
      "max_iter - 400, C - 0.3 : F1_train  = 0.71583, F1_valid  = 0.50872\n",
      "max_iter - 500, C - 0.3 : F1_train  = 0.71583, F1_valid  = 0.50872\n",
      "max_iter - 600, C - 0.3 : F1_train  = 0.71583, F1_valid  = 0.50872\n",
      "max_iter - 700, C - 0.3 : F1_train  = 0.71583, F1_valid  = 0.50872\n",
      "max_iter - 800, C - 0.3 : F1_train  = 0.71583, F1_valid  = 0.50872\n",
      "max_iter - 900, C - 0.3 : F1_train  = 0.71583, F1_valid  = 0.50872\n",
      "max_iter - 1000, C - 0.3 : F1_train  = 0.71583, F1_valid  = 0.50872\n",
      "max_iter - 100, C - 0.4 : F1_train  = 0.71583, F1_valid  = 0.50872\n",
      "max_iter - 200, C - 0.4 : F1_train  = 0.71583, F1_valid  = 0.50872\n",
      "max_iter - 300, C - 0.4 : F1_train  = 0.71583, F1_valid  = 0.50872\n",
      "max_iter - 400, C - 0.4 : F1_train  = 0.71583, F1_valid  = 0.50872\n",
      "max_iter - 500, C - 0.4 : F1_train  = 0.71583, F1_valid  = 0.50872\n",
      "max_iter - 600, C - 0.4 : F1_train  = 0.71583, F1_valid  = 0.50872\n",
      "max_iter - 700, C - 0.4 : F1_train  = 0.71583, F1_valid  = 0.50872\n",
      "max_iter - 800, C - 0.4 : F1_train  = 0.71583, F1_valid  = 0.50872\n",
      "max_iter - 900, C - 0.4 : F1_train  = 0.71583, F1_valid  = 0.50872\n",
      "max_iter - 1000, C - 0.4 : F1_train  = 0.71583, F1_valid  = 0.50872\n",
      "max_iter - 100, C - 0.5 : F1_train  = 0.71583, F1_valid  = 0.50735\n",
      "max_iter - 200, C - 0.5 : F1_train  = 0.71583, F1_valid  = 0.50735\n",
      "max_iter - 300, C - 0.5 : F1_train  = 0.71583, F1_valid  = 0.50735\n",
      "max_iter - 400, C - 0.5 : F1_train  = 0.71583, F1_valid  = 0.50735\n",
      "max_iter - 500, C - 0.5 : F1_train  = 0.71583, F1_valid  = 0.50735\n",
      "max_iter - 600, C - 0.5 : F1_train  = 0.71583, F1_valid  = 0.50735\n",
      "max_iter - 700, C - 0.5 : F1_train  = 0.71583, F1_valid  = 0.50735\n",
      "max_iter - 800, C - 0.5 : F1_train  = 0.71583, F1_valid  = 0.50735\n",
      "max_iter - 900, C - 0.5 : F1_train  = 0.71583, F1_valid  = 0.50735\n",
      "max_iter - 1000, C - 0.5 : F1_train  = 0.71583, F1_valid  = 0.50735\n",
      "max_iter - 100, C - 0.6 : F1_train  = 0.71583, F1_valid  = 0.50735\n",
      "max_iter - 200, C - 0.6 : F1_train  = 0.71583, F1_valid  = 0.50735\n",
      "max_iter - 300, C - 0.6 : F1_train  = 0.71583, F1_valid  = 0.50735\n",
      "max_iter - 400, C - 0.6 : F1_train  = 0.71583, F1_valid  = 0.50735\n",
      "max_iter - 500, C - 0.6 : F1_train  = 0.71583, F1_valid  = 0.50735\n",
      "max_iter - 600, C - 0.6 : F1_train  = 0.71583, F1_valid  = 0.50735\n",
      "max_iter - 700, C - 0.6 : F1_train  = 0.71583, F1_valid  = 0.50735\n",
      "max_iter - 800, C - 0.6 : F1_train  = 0.71583, F1_valid  = 0.50735\n",
      "max_iter - 900, C - 0.6 : F1_train  = 0.71583, F1_valid  = 0.50735\n",
      "max_iter - 1000, C - 0.6 : F1_train  = 0.71583, F1_valid  = 0.50735\n",
      "max_iter - 100, C - 0.7 : F1_train  = 0.71583, F1_valid  = 0.50735\n",
      "max_iter - 200, C - 0.7 : F1_train  = 0.71583, F1_valid  = 0.50735\n",
      "max_iter - 300, C - 0.7 : F1_train  = 0.71583, F1_valid  = 0.50735\n",
      "max_iter - 400, C - 0.7 : F1_train  = 0.71583, F1_valid  = 0.50735\n",
      "max_iter - 500, C - 0.7 : F1_train  = 0.71583, F1_valid  = 0.50735\n",
      "max_iter - 600, C - 0.7 : F1_train  = 0.71583, F1_valid  = 0.50735\n",
      "max_iter - 700, C - 0.7 : F1_train  = 0.71583, F1_valid  = 0.50735\n",
      "max_iter - 800, C - 0.7 : F1_train  = 0.71583, F1_valid  = 0.50735\n",
      "max_iter - 900, C - 0.7 : F1_train  = 0.71583, F1_valid  = 0.50735\n",
      "max_iter - 1000, C - 0.7 : F1_train  = 0.71583, F1_valid  = 0.50735\n",
      "max_iter - 100, C - 0.8 : F1_train  = 0.71583, F1_valid  = 0.50735\n",
      "max_iter - 200, C - 0.8 : F1_train  = 0.71583, F1_valid  = 0.50735\n",
      "max_iter - 300, C - 0.8 : F1_train  = 0.71583, F1_valid  = 0.50735\n",
      "max_iter - 400, C - 0.8 : F1_train  = 0.71583, F1_valid  = 0.50735\n",
      "max_iter - 500, C - 0.8 : F1_train  = 0.71583, F1_valid  = 0.50735\n",
      "max_iter - 600, C - 0.8 : F1_train  = 0.71583, F1_valid  = 0.50735\n",
      "max_iter - 700, C - 0.8 : F1_train  = 0.71583, F1_valid  = 0.50735\n",
      "max_iter - 800, C - 0.8 : F1_train  = 0.71583, F1_valid  = 0.50735\n",
      "max_iter - 900, C - 0.8 : F1_train  = 0.71583, F1_valid  = 0.50735\n",
      "max_iter - 1000, C - 0.8 : F1_train  = 0.71583, F1_valid  = 0.50735\n",
      "max_iter - 100, C - 0.9 : F1_train  = 0.71583, F1_valid  = 0.50735\n",
      "max_iter - 200, C - 0.9 : F1_train  = 0.71583, F1_valid  = 0.50735\n",
      "max_iter - 300, C - 0.9 : F1_train  = 0.71583, F1_valid  = 0.50735\n",
      "max_iter - 400, C - 0.9 : F1_train  = 0.71583, F1_valid  = 0.50735\n",
      "max_iter - 500, C - 0.9 : F1_train  = 0.71583, F1_valid  = 0.50735\n",
      "max_iter - 600, C - 0.9 : F1_train  = 0.71583, F1_valid  = 0.50735\n",
      "max_iter - 700, C - 0.9 : F1_train  = 0.71583, F1_valid  = 0.50735\n",
      "max_iter - 800, C - 0.9 : F1_train  = 0.71583, F1_valid  = 0.50735\n",
      "max_iter - 900, C - 0.9 : F1_train  = 0.71583, F1_valid  = 0.50735\n",
      "max_iter - 1000, C - 0.9 : F1_train  = 0.71583, F1_valid  = 0.50735\n",
      "max_iter - 100, C - 1.0 : F1_train  = 0.71583, F1_valid  = 0.50782\n",
      "max_iter - 200, C - 1.0 : F1_train  = 0.71583, F1_valid  = 0.50782\n",
      "max_iter - 300, C - 1.0 : F1_train  = 0.71583, F1_valid  = 0.50782\n",
      "max_iter - 400, C - 1.0 : F1_train  = 0.71583, F1_valid  = 0.50782\n",
      "max_iter - 500, C - 1.0 : F1_train  = 0.71583, F1_valid  = 0.50782\n",
      "max_iter - 600, C - 1.0 : F1_train  = 0.71583, F1_valid  = 0.50782\n",
      "max_iter - 700, C - 1.0 : F1_train  = 0.71583, F1_valid  = 0.50782\n",
      "max_iter - 800, C - 1.0 : F1_train  = 0.71583, F1_valid  = 0.50782\n",
      "max_iter - 900, C - 1.0 : F1_train  = 0.71583, F1_valid  = 0.50782\n",
      "max_iter - 1000, C - 1.0 : F1_train  = 0.71583, F1_valid  = 0.50782\n",
      "max_iter - 100, C - 1.1 : F1_train  = 0.71583, F1_valid  = 0.50782\n",
      "max_iter - 200, C - 1.1 : F1_train  = 0.71583, F1_valid  = 0.50782\n",
      "max_iter - 300, C - 1.1 : F1_train  = 0.71583, F1_valid  = 0.50782\n",
      "max_iter - 400, C - 1.1 : F1_train  = 0.71583, F1_valid  = 0.50782\n",
      "max_iter - 500, C - 1.1 : F1_train  = 0.71583, F1_valid  = 0.50782\n",
      "max_iter - 600, C - 1.1 : F1_train  = 0.71583, F1_valid  = 0.50782\n",
      "max_iter - 700, C - 1.1 : F1_train  = 0.71583, F1_valid  = 0.50782\n",
      "max_iter - 800, C - 1.1 : F1_train  = 0.71583, F1_valid  = 0.50782\n",
      "max_iter - 900, C - 1.1 : F1_train  = 0.71583, F1_valid  = 0.50782\n",
      "max_iter - 1000, C - 1.1 : F1_train  = 0.71583, F1_valid  = 0.50782\n",
      "max_iter - 100, C - 1.2 : F1_train  = 0.71583, F1_valid  = 0.50782\n",
      "max_iter - 200, C - 1.2 : F1_train  = 0.71583, F1_valid  = 0.50782\n",
      "max_iter - 300, C - 1.2 : F1_train  = 0.71583, F1_valid  = 0.50782\n",
      "max_iter - 400, C - 1.2 : F1_train  = 0.71583, F1_valid  = 0.50782\n",
      "max_iter - 500, C - 1.2 : F1_train  = 0.71583, F1_valid  = 0.50782\n",
      "max_iter - 600, C - 1.2 : F1_train  = 0.71583, F1_valid  = 0.50782\n",
      "max_iter - 700, C - 1.2 : F1_train  = 0.71583, F1_valid  = 0.50782\n",
      "max_iter - 800, C - 1.2 : F1_train  = 0.71583, F1_valid  = 0.50782\n",
      "max_iter - 900, C - 1.2 : F1_train  = 0.71583, F1_valid  = 0.50782\n",
      "max_iter - 1000, C - 1.2 : F1_train  = 0.71583, F1_valid  = 0.50782\n",
      "max_iter - 100, C - 1.3 : F1_train  = 0.71583, F1_valid  = 0.50782\n",
      "max_iter - 200, C - 1.3 : F1_train  = 0.71583, F1_valid  = 0.50782\n",
      "max_iter - 300, C - 1.3 : F1_train  = 0.71583, F1_valid  = 0.50782\n"
     ]
    },
    {
     "name": "stdout",
     "output_type": "stream",
     "text": [
      "max_iter - 400, C - 1.3 : F1_train  = 0.71583, F1_valid  = 0.50782\n",
      "max_iter - 500, C - 1.3 : F1_train  = 0.71583, F1_valid  = 0.50782\n",
      "max_iter - 600, C - 1.3 : F1_train  = 0.71583, F1_valid  = 0.50782\n",
      "max_iter - 700, C - 1.3 : F1_train  = 0.71583, F1_valid  = 0.50782\n",
      "max_iter - 800, C - 1.3 : F1_train  = 0.71583, F1_valid  = 0.50782\n",
      "max_iter - 900, C - 1.3 : F1_train  = 0.71583, F1_valid  = 0.50782\n",
      "max_iter - 1000, C - 1.3 : F1_train  = 0.71583, F1_valid  = 0.50782\n",
      "max_iter - 100, C - 1.4 : F1_train  = 0.71583, F1_valid  = 0.50782\n",
      "max_iter - 200, C - 1.4 : F1_train  = 0.71583, F1_valid  = 0.50782\n",
      "max_iter - 300, C - 1.4 : F1_train  = 0.71583, F1_valid  = 0.50782\n",
      "max_iter - 400, C - 1.4 : F1_train  = 0.71583, F1_valid  = 0.50782\n",
      "max_iter - 500, C - 1.4 : F1_train  = 0.71583, F1_valid  = 0.50782\n",
      "max_iter - 600, C - 1.4 : F1_train  = 0.71583, F1_valid  = 0.50782\n",
      "max_iter - 700, C - 1.4 : F1_train  = 0.71583, F1_valid  = 0.50782\n",
      "max_iter - 800, C - 1.4 : F1_train  = 0.71583, F1_valid  = 0.50782\n",
      "max_iter - 900, C - 1.4 : F1_train  = 0.71583, F1_valid  = 0.50782\n",
      "max_iter - 1000, C - 1.4 : F1_train  = 0.71583, F1_valid  = 0.50782\n",
      "\n",
      "Лучшие результаты и параметры модели Логистической регрессии на валидационной выборке:\n",
      "F1_valid: 0.510092, F1_train: 0.716149.\n",
      "max_iter: 100, C: 0.1.\n",
      "\n"
     ]
    },
    {
     "data": {
      "image/png": "[encoded data removed]",
      "text/plain": [
       "<Figure size 432x288 with 1 Axes>"
      ]
     },
     "metadata": {
      "needs_background": "light"
     },
     "output_type": "display_data"
    },
    {
     "name": "stdout",
     "output_type": "stream",
     "text": [
      "\n",
      "AUC-ROC: 0.7911358568802076\n"
     ]
    }
   ],
   "source": [
    "logistic_regression_function(features_downsampled, target_downsampled, features_valid, target_valid)"
   ]
  },
  {
   "cell_type": "markdown",
   "metadata": {},
   "source": [
    "На уменьшение выборки логистическая регрессия отреагировала даже несколько лучше, чем на её увеличение: параметр `F1-мера` несколько улучшился: с 0.50 до 0.51.<br>\n",
    "Переобучениe модели не изменилось -- сохранился примерно тот же разрыв между значениями метрик на обучающей выборке и на валидации.<br>\n",
    "Крутизна `ROC-кривой` и параметр `ROC_AUC` практически не изменились."
   ]
  },
  {
   "cell_type": "markdown",
   "metadata": {},
   "source": [
    "Итоговый вывод: наилучшее значение метрики `F1-мера` на валидационной выборке показала модель случайного леса при увеличении размера выборки. Её и будем тестировать."
   ]
  },
  {
   "cell_type": "markdown",
   "metadata": {},
   "source": [
    "## Тестирование модели"
   ]
  },
  {
   "cell_type": "markdown",
   "metadata": {},
   "source": [
    "Объединим обучающую и валидационную выборки в их первоначальном (до увеличения и уменьшения) виде.<br>"
   ]
  },
  {
   "cell_type": "code",
   "execution_count": 56,
   "metadata": {},
   "outputs": [
    {
     "name": "stdout",
     "output_type": "stream",
     "text": [
      "(5454, 11) (1818, 11)\n",
      "(5454,) (1818,)\n"
     ]
    }
   ],
   "source": [
    "print(features_train.shape, features_valid.shape)\n",
    "print(target_train.shape, target_valid.shape)"
   ]
  },
  {
   "cell_type": "code",
   "execution_count": 57,
   "metadata": {},
   "outputs": [],
   "source": [
    "features_train = pd.concat([pd.DataFrame(features_train), pd.DataFrame(features_valid)], ignore_index=True)\n",
    "target_train = pd.concat([target_train, target_valid], ignore_index=True)"
   ]
  },
  {
   "cell_type": "markdown",
   "metadata": {},
   "source": [
    "Проверм корректность объединения:"
   ]
  },
  {
   "cell_type": "code",
   "execution_count": 58,
   "metadata": {},
   "outputs": [
    {
     "data": {
      "text/plain": [
       "((7272, 11), (7272,))"
      ]
     },
     "execution_count": 58,
     "metadata": {},
     "output_type": "execute_result"
    }
   ],
   "source": [
    "features_train.shape, target_train.shape"
   ]
  },
  {
   "cell_type": "code",
   "execution_count": 59,
   "metadata": {},
   "outputs": [
    {
     "data": {
      "text/html": [
       "<div>\n",
       "<style scoped>\n",
       "    .dataframe tbody tr th:only-of-type {\n",
       "        vertical-align: middle;\n",
       "    }\n",
       "\n",
       "    .dataframe tbody tr th {\n",
       "        vertical-align: top;\n",
       "    }\n",
       "\n",
       "    .dataframe thead th {\n",
       "        text-align: right;\n",
       "    }\n",
       "</style>\n",
       "<table border=\"1\" class=\"dataframe\">\n",
       "  <thead>\n",
       "    <tr style=\"text-align: right;\">\n",
       "      <th></th>\n",
       "      <th>0</th>\n",
       "      <th>1</th>\n",
       "      <th>2</th>\n",
       "      <th>3</th>\n",
       "      <th>4</th>\n",
       "      <th>5</th>\n",
       "      <th>6</th>\n",
       "      <th>7</th>\n",
       "      <th>8</th>\n",
       "      <th>9</th>\n",
       "      <th>10</th>\n",
       "    </tr>\n",
       "  </thead>\n",
       "  <tbody>\n",
       "    <tr>\n",
       "      <th>2547</th>\n",
       "      <td>0.904875</td>\n",
       "      <td>0.202723</td>\n",
       "      <td>-1.401003</td>\n",
       "      <td>0.409186</td>\n",
       "      <td>-0.910943</td>\n",
       "      <td>0.643184</td>\n",
       "      <td>0.965040</td>\n",
       "      <td>0.415336</td>\n",
       "      <td>-0.580032</td>\n",
       "      <td>-0.586808</td>\n",
       "      <td>0.917915</td>\n",
       "    </tr>\n",
       "    <tr>\n",
       "      <th>3827</th>\n",
       "      <td>0.082012</td>\n",
       "      <td>-0.756795</td>\n",
       "      <td>0.686341</td>\n",
       "      <td>0.761582</td>\n",
       "      <td>-0.910943</td>\n",
       "      <td>0.643184</td>\n",
       "      <td>-1.036226</td>\n",
       "      <td>0.043528</td>\n",
       "      <td>-0.580032</td>\n",
       "      <td>-0.586808</td>\n",
       "      <td>-1.089426</td>\n",
       "    </tr>\n",
       "    <tr>\n",
       "      <th>833</th>\n",
       "      <td>-1.084578</td>\n",
       "      <td>0.586530</td>\n",
       "      <td>-1.053112</td>\n",
       "      <td>-1.222967</td>\n",
       "      <td>-0.910943</td>\n",
       "      <td>-1.554765</td>\n",
       "      <td>-1.036226</td>\n",
       "      <td>1.705630</td>\n",
       "      <td>-0.580032</td>\n",
       "      <td>1.704136</td>\n",
       "      <td>-1.089426</td>\n",
       "    </tr>\n",
       "    <tr>\n",
       "      <th>5193</th>\n",
       "      <td>-0.532531</td>\n",
       "      <td>0.202723</td>\n",
       "      <td>-1.401003</td>\n",
       "      <td>-1.222967</td>\n",
       "      <td>0.789359</td>\n",
       "      <td>0.643184</td>\n",
       "      <td>-1.036226</td>\n",
       "      <td>-0.062208</td>\n",
       "      <td>-0.580032</td>\n",
       "      <td>-0.586808</td>\n",
       "      <td>-1.089426</td>\n",
       "    </tr>\n",
       "    <tr>\n",
       "      <th>2572</th>\n",
       "      <td>-0.042980</td>\n",
       "      <td>-0.085132</td>\n",
       "      <td>0.686341</td>\n",
       "      <td>-1.222967</td>\n",
       "      <td>0.789359</td>\n",
       "      <td>0.643184</td>\n",
       "      <td>-1.036226</td>\n",
       "      <td>-1.705286</td>\n",
       "      <td>-0.580032</td>\n",
       "      <td>-0.586808</td>\n",
       "      <td>0.917915</td>\n",
       "    </tr>\n",
       "  </tbody>\n",
       "</table>\n",
       "</div>"
      ],
      "text/plain": [
       "            0         1         2         3         4         5         6   \\\n",
       "2547  0.904875  0.202723 -1.401003  0.409186 -0.910943  0.643184  0.965040   \n",
       "3827  0.082012 -0.756795  0.686341  0.761582 -0.910943  0.643184 -1.036226   \n",
       "833  -1.084578  0.586530 -1.053112 -1.222967 -0.910943 -1.554765 -1.036226   \n",
       "5193 -0.532531  0.202723 -1.401003 -1.222967  0.789359  0.643184 -1.036226   \n",
       "2572 -0.042980 -0.085132  0.686341 -1.222967  0.789359  0.643184 -1.036226   \n",
       "\n",
       "            7         8         9         10  \n",
       "2547  0.415336 -0.580032 -0.586808  0.917915  \n",
       "3827  0.043528 -0.580032 -0.586808 -1.089426  \n",
       "833   1.705630 -0.580032  1.704136 -1.089426  \n",
       "5193 -0.062208 -0.580032 -0.586808 -1.089426  \n",
       "2572 -1.705286 -0.580032 -0.586808  0.917915  "
      ]
     },
     "execution_count": 59,
     "metadata": {},
     "output_type": "execute_result"
    }
   ],
   "source": [
    "features_train.sample(5)"
   ]
  },
  {
   "cell_type": "markdown",
   "metadata": {},
   "source": [
    "Проведём увеличение выборки с тем же параметрами, как мы это делали раньше:"
   ]
  },
  {
   "cell_type": "code",
   "execution_count": 60,
   "metadata": {},
   "outputs": [
    {
     "name": "stdout",
     "output_type": "stream",
     "text": [
      "(11721, 11) (11721,)\n"
     ]
    }
   ],
   "source": [
    "features_upsampled, target_upsampled = upsample(features_train, target_train, 4)\n",
    "print(features_upsampled.shape, target_upsampled.shape)"
   ]
  },
  {
   "cell_type": "markdown",
   "metadata": {},
   "source": [
    "Проверим отсутствие дисбаланса:"
   ]
  },
  {
   "cell_type": "code",
   "execution_count": 61,
   "metadata": {
    "scrolled": true
   },
   "outputs": [
    {
     "data": {
      "text/plain": [
       "1    0.5061\n",
       "0    0.4939\n",
       "Name: Exited, dtype: float64"
      ]
     },
     "execution_count": 61,
     "metadata": {},
     "output_type": "execute_result"
    }
   ],
   "source": [
    "target_upsampled.value_counts(normalize=True)"
   ]
  },
  {
   "cell_type": "markdown",
   "metadata": {},
   "source": [
    "Обучим модель с фикисрованными лучшими параметрами:"
   ]
  },
  {
   "cell_type": "code",
   "execution_count": 62,
   "metadata": {},
   "outputs": [],
   "source": [
    "model = RandomForestClassifier(max_depth=12, n_estimators=130, random_state=12345)\n",
    "model.fit(features_upsampled, target_upsampled)\n",
    "predictied_test = model.predict(features_test)\n",
    "probabilities_test = model.predict_proba(features_test)\n",
    "probabilities_one_test = probabilities_test[:, 1]"
   ]
  },
  {
   "cell_type": "code",
   "execution_count": 63,
   "metadata": {},
   "outputs": [
    {
     "name": "stdout",
     "output_type": "stream",
     "text": [
      "F1-мера: 0.6049543676662321\n"
     ]
    }
   ],
   "source": [
    "print(\"F1-мера:\", f1_score(target_test, predictied_test))"
   ]
  },
  {
   "cell_type": "code",
   "execution_count": 64,
   "metadata": {},
   "outputs": [
    {
     "data": {
      "image/png": "[encoded data removed]",
      "text/plain": [
       "<Figure size 432x288 with 1 Axes>"
      ]
     },
     "metadata": {
      "needs_background": "light"
     },
     "output_type": "display_data"
    }
   ],
   "source": [
    "fpr, tpr, thresholds = roc_curve(target_test, probabilities_one_test) # < напишите код здесь >\n",
    "plt.figure()\n",
    "plt.plot(fpr, tpr)\n",
    "plt.xlim([0.0, 1.0])\n",
    "plt.ylim([0.0, 1.0])\n",
    "plt.xlabel('False Positive Rate')\n",
    "plt.ylabel('True Positive Rate')\n",
    "plt.title('ROC-кривая')\n",
    "\n",
    "plt.show()"
   ]
  },
  {
   "cell_type": "code",
   "execution_count": 65,
   "metadata": {},
   "outputs": [
    {
     "name": "stdout",
     "output_type": "stream",
     "text": [
      "AUC-ROC: 0.8508752661911215\n"
     ]
    }
   ],
   "source": [
    "print(\"AUC-ROC:\", roc_auc_score(target_test, probabilities_one_test))"
   ]
  },
  {
   "cell_type": "markdown",
   "metadata": {},
   "source": [
    "## Чек-лист готовности проекта"
   ]
  },
  {
   "cell_type": "markdown",
   "metadata": {},
   "source": [
    "Поставьте 'x' в выполненных пунктах. Далее нажмите Shift+Enter."
   ]
  },
  {
   "cell_type": "markdown",
   "metadata": {},
   "source": [
    "- [x]  Jupyter Notebook открыт\n",
    "- [x]  Весь код выполняется без ошибок\n",
    "- [x]  Ячейки с кодом расположены в порядке исполнения\n",
    "- [x]  Выполнен шаг 1: данные подготовлены\n",
    "- [x]  Выполнен шаг 2: задача исследована\n",
    "    - [x]  Исследован баланс классов\n",
    "    - [x]  Изучены модели без учёта дисбаланса\n",
    "    - [x]  Написаны выводы по результатам исследования\n",
    "- [x]  Выполнен шаг 3: учтён дисбаланс\n",
    "    - [x]  Применено несколько способов борьбы с дисбалансом\n",
    "    - [x]  Написаны выводы по результатам исследования\n",
    "- [x]  Выполнен шаг 4: проведено тестирование\n",
    "- [x]  Удалось достичь *F1*-меры не менее 0.59\n",
    "- [x]  Исследована метрика *AUC-ROC*"
   ]
  },
  {
   "cell_type": "code",
   "execution_count": null,
   "metadata": {},
   "outputs": [],
   "source": []
  }
 ],
 "metadata": {
  "kernelspec": {
   "display_name": "Python 3 (ipykernel)",
   "language": "python",
   "name": "python3"
  },
  "language_info": {
   "codemirror_mode": {
    "name": "ipython",
    "version": 3
   },
   "file_extension": ".py",
   "mimetype": "text/x-python",
   "name": "python",
   "nbconvert_exporter": "python",
   "pygments_lexer": "ipython3",
   "version": "3.9.13"
  },
  "toc": {
   "base_numbering": 1,
   "nav_menu": {},
   "number_sections": true,
   "sideBar": true,
   "skip_h1_title": true,
   "title_cell": "Содержание",
   "title_sidebar": "Contents",
   "toc_cell": true,
   "toc_position": {
    "height": "calc(100% - 180px)",
    "left": "10px",
    "top": "150px",
    "width": "226px"
   },
   "toc_section_display": true,
   "toc_window_display": true
  }
 },
 "nbformat": 4,
 "nbformat_minor": 2
}
