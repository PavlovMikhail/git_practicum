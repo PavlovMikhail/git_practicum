{
 "cells": [
  {
   "cell_type": "markdown",
   "metadata": {},
   "source": [
    "Ссылка на репозиторий:\\\n",
    "https://github.com/PavlovMikhail/git_practicum.git"
   ]
  },
  {
   "cell_type": "markdown",
   "metadata": {
    "toc": true
   },
   "source": [
    "<h1>Содержание<span class=\"tocSkip\"></span></h1>\n",
    "<div class=\"toc\"><ul class=\"toc-item\"><li><span><a href=\"#Подготовка-данных\" data-toc-modified-id=\"Подготовка-данных-1\"><span class=\"toc-item-num\">1&nbsp;&nbsp;</span>Подготовка данных</a></span><ul class=\"toc-item\"><li><span><a href=\"#Чтение-данных-и-общая-информация\" data-toc-modified-id=\"Чтение-данных-и-общая-информация-1.1\"><span class=\"toc-item-num\">1.1&nbsp;&nbsp;</span>Чтение данных и общая информация</a></span></li><li><span><a href=\"#Обработка-пропусков-в-данных\" data-toc-modified-id=\"Обработка-пропусков-в-данных-1.2\"><span class=\"toc-item-num\">1.2&nbsp;&nbsp;</span>Обработка пропусков в данных</a></span></li><li><span><a href=\"#Удаление-лишних-значений-в-данных\" data-toc-modified-id=\"Удаление-лишних-значений-в-данных-1.3\"><span class=\"toc-item-num\">1.3&nbsp;&nbsp;</span>Удаление лишних значений в данных</a></span></li><li><span><a href=\"#Поиск-аномальных-значений-в-данных\" data-toc-modified-id=\"Поиск-аномальных-значений-в-данных-1.4\"><span class=\"toc-item-num\">1.4&nbsp;&nbsp;</span>Поиск аномальных значений в данных</a></span></li></ul></li><li><span><a href=\"#Исследование-задачи\" data-toc-modified-id=\"Исследование-задачи-2\"><span class=\"toc-item-num\">2&nbsp;&nbsp;</span>Исследование задачи</a></span><ul class=\"toc-item\"><li><span><a href=\"#Подготока-категориальных-признаков\" data-toc-modified-id=\"Подготока-категориальных-признаков-2.1\"><span class=\"toc-item-num\">2.1&nbsp;&nbsp;</span>Подготока категориальных признаков</a></span></li><li><span><a href=\"#Разделение-выборки\" data-toc-modified-id=\"Разделение-выборки-2.2\"><span class=\"toc-item-num\">2.2&nbsp;&nbsp;</span>Разделение выборки</a></span></li><li><span><a href=\"#Масштабирование-признаков\" data-toc-modified-id=\"Масштабирование-признаков-2.3\"><span class=\"toc-item-num\">2.3&nbsp;&nbsp;</span>Масштабирование признаков</a></span></li><li><span><a href=\"#Обучение-модели-без-учёта-дисбаланса-классов\" data-toc-modified-id=\"Обучение-модели-без-учёта-дисбаланса-классов-2.4\"><span class=\"toc-item-num\">2.4&nbsp;&nbsp;</span>Обучение модели без учёта дисбаланса классов</a></span><ul class=\"toc-item\"><li><span><a href=\"#Решающее-дерево\" data-toc-modified-id=\"Решающее-дерево-2.4.1\"><span class=\"toc-item-num\">2.4.1&nbsp;&nbsp;</span>Решающее дерево</a></span></li><li><span><a href=\"#Случайный-лес\" data-toc-modified-id=\"Случайный-лес-2.4.2\"><span class=\"toc-item-num\">2.4.2&nbsp;&nbsp;</span>Случайный лес</a></span></li></ul></li></ul></li><li><span><a href=\"#Борьба-с-дисбалансом\" data-toc-modified-id=\"Борьба-с-дисбалансом-3\"><span class=\"toc-item-num\">3&nbsp;&nbsp;</span>Борьба с дисбалансом</a></span><ul class=\"toc-item\"><li><span><a href=\"#Увеличение-выборки\" data-toc-modified-id=\"Увеличение-выборки-3.1\"><span class=\"toc-item-num\">3.1&nbsp;&nbsp;</span>Увеличение выборки</a></span><ul class=\"toc-item\"><li><span><a href=\"#Решающее-дерево\" data-toc-modified-id=\"Решающее-дерево-3.1.1\"><span class=\"toc-item-num\">3.1.1&nbsp;&nbsp;</span>Решающее дерево</a></span></li><li><span><a href=\"#Случайный-лес\" data-toc-modified-id=\"Случайный-лес-3.1.2\"><span class=\"toc-item-num\">3.1.2&nbsp;&nbsp;</span>Случайный лес</a></span></li></ul></li><li><span><a href=\"#Уменьшение-выборки\" data-toc-modified-id=\"Уменьшение-выборки-3.2\"><span class=\"toc-item-num\">3.2&nbsp;&nbsp;</span>Уменьшение выборки</a></span><ul class=\"toc-item\"><li><span><a href=\"#Решающее-дерево\" data-toc-modified-id=\"Решающее-дерево-3.2.1\"><span class=\"toc-item-num\">3.2.1&nbsp;&nbsp;</span>Решающее дерево</a></span></li><li><span><a href=\"#Случайный-лес\" data-toc-modified-id=\"Случайный-лес-3.2.2\"><span class=\"toc-item-num\">3.2.2&nbsp;&nbsp;</span>Случайный лес</a></span></li></ul></li></ul></li><li><span><a href=\"#Тестирование-модели\" data-toc-modified-id=\"Тестирование-модели-4\"><span class=\"toc-item-num\">4&nbsp;&nbsp;</span>Тестирование модели</a></span></li><li><span><a href=\"#Чек-лист-готовности-проекта\" data-toc-modified-id=\"Чек-лист-готовности-проекта-5\"><span class=\"toc-item-num\">5&nbsp;&nbsp;</span>Чек-лист готовности проекта</a></span></li></ul></div>"
   ]
  },
  {
   "cell_type": "markdown",
   "metadata": {},
   "source": [
    "# Отток клиентов"
   ]
  },
  {
   "cell_type": "markdown",
   "metadata": {},
   "source": [
    "Из «Бета-Банка» стали уходить клиенты. Каждый месяц. Немного, но заметно. Банковские маркетологи посчитали: сохранять текущих клиентов дешевле, чем привлекать новых.\n",
    "\n",
    "Нужно спрогнозировать, уйдёт клиент из банка в ближайшее время или нет. Вам предоставлены исторические данные о поведении клиентов и расторжении договоров с банком. \n",
    "\n",
    "Постройте модель с предельно большим значением *F1*-меры. Чтобы сдать проект успешно, нужно довести метрику до 0.59. Проверьте *F1*-меру на тестовой выборке самостоятельно.\n",
    "\n",
    "Дополнительно измеряйте *AUC-ROC*, сравнивайте её значение с *F1*-мерой.\n",
    "\n",
    "Источник данных: [https://www.kaggle.com/barelydedicated/bank-customer-churn-modeling](https://www.kaggle.com/barelydedicated/bank-customer-churn-modeling)"
   ]
  },
  {
   "cell_type": "markdown",
   "metadata": {},
   "source": [
    "## Подготовка данных"
   ]
  },
  {
   "cell_type": "code",
   "execution_count": 72,
   "metadata": {},
   "outputs": [],
   "source": [
    "import pandas as pd\n",
    "import numpy as np\n",
    "\n",
    "from matplotlib import pyplot as plt\n",
    "%matplotlib inline\n",
    "\n",
    "from sklearn.tree import DecisionTreeClassifier\n",
    "from sklearn.linear_model import LogisticRegression\n",
    "from sklearn.ensemble import RandomForestClassifier\n",
    "\n",
    "from sklearn.dummy import DummyClassifier\n",
    "from sklearn.preprocessing import StandardScaler\n",
    "\n",
    "from sklearn.model_selection import train_test_split, cross_val_score, RandomizedSearchCV, GridSearchCV\n",
    "from sklearn.metrics import accuracy_score, f1_score, roc_curve, roc_auc_score\n",
    "from sklearn.utils import shuffle"
   ]
  },
  {
   "cell_type": "markdown",
   "metadata": {},
   "source": [
    "### Чтение данных и общая информация"
   ]
  },
  {
   "cell_type": "code",
   "execution_count": 73,
   "metadata": {},
   "outputs": [],
   "source": [
    "# чтение данных и создание df\n",
    "try:\n",
    "    df = pd.read_csv('Churn.csv')\n",
    "except:\n",
    "    df = pd.read_csv('https://code.s3.yandex.net/datasets/Churn.csv')"
   ]
  },
  {
   "cell_type": "code",
   "execution_count": 74,
   "metadata": {
    "scrolled": false
   },
   "outputs": [
    {
     "name": "stdout",
     "output_type": "stream",
     "text": [
      "<class 'pandas.core.frame.DataFrame'>\n",
      "RangeIndex: 10000 entries, 0 to 9999\n",
      "Data columns (total 14 columns):\n",
      " #   Column           Non-Null Count  Dtype  \n",
      "---  ------           --------------  -----  \n",
      " 0   RowNumber        10000 non-null  int64  \n",
      " 1   CustomerId       10000 non-null  int64  \n",
      " 2   Surname          10000 non-null  object \n",
      " 3   CreditScore      10000 non-null  int64  \n",
      " 4   Geography        10000 non-null  object \n",
      " 5   Gender           10000 non-null  object \n",
      " 6   Age              10000 non-null  int64  \n",
      " 7   Tenure           9091 non-null   float64\n",
      " 8   Balance          10000 non-null  float64\n",
      " 9   NumOfProducts    10000 non-null  int64  \n",
      " 10  HasCrCard        10000 non-null  int64  \n",
      " 11  IsActiveMember   10000 non-null  int64  \n",
      " 12  EstimatedSalary  10000 non-null  float64\n",
      " 13  Exited           10000 non-null  int64  \n",
      "dtypes: float64(3), int64(8), object(3)\n",
      "memory usage: 1.1+ MB\n"
     ]
    },
    {
     "data": {
      "text/html": [
       "<div>\n",
       "<style scoped>\n",
       "    .dataframe tbody tr th:only-of-type {\n",
       "        vertical-align: middle;\n",
       "    }\n",
       "\n",
       "    .dataframe tbody tr th {\n",
       "        vertical-align: top;\n",
       "    }\n",
       "\n",
       "    .dataframe thead th {\n",
       "        text-align: right;\n",
       "    }\n",
       "</style>\n",
       "<table border=\"1\" class=\"dataframe\">\n",
       "  <thead>\n",
       "    <tr style=\"text-align: right;\">\n",
       "      <th></th>\n",
       "      <th>RowNumber</th>\n",
       "      <th>CustomerId</th>\n",
       "      <th>Surname</th>\n",
       "      <th>CreditScore</th>\n",
       "      <th>Geography</th>\n",
       "      <th>Gender</th>\n",
       "      <th>Age</th>\n",
       "      <th>Tenure</th>\n",
       "      <th>Balance</th>\n",
       "      <th>NumOfProducts</th>\n",
       "      <th>HasCrCard</th>\n",
       "      <th>IsActiveMember</th>\n",
       "      <th>EstimatedSalary</th>\n",
       "      <th>Exited</th>\n",
       "    </tr>\n",
       "  </thead>\n",
       "  <tbody>\n",
       "    <tr>\n",
       "      <th>0</th>\n",
       "      <td>1</td>\n",
       "      <td>15634602</td>\n",
       "      <td>Hargrave</td>\n",
       "      <td>619</td>\n",
       "      <td>France</td>\n",
       "      <td>Female</td>\n",
       "      <td>42</td>\n",
       "      <td>2.0</td>\n",
       "      <td>0.00</td>\n",
       "      <td>1</td>\n",
       "      <td>1</td>\n",
       "      <td>1</td>\n",
       "      <td>101348.88</td>\n",
       "      <td>1</td>\n",
       "    </tr>\n",
       "    <tr>\n",
       "      <th>1</th>\n",
       "      <td>2</td>\n",
       "      <td>15647311</td>\n",
       "      <td>Hill</td>\n",
       "      <td>608</td>\n",
       "      <td>Spain</td>\n",
       "      <td>Female</td>\n",
       "      <td>41</td>\n",
       "      <td>1.0</td>\n",
       "      <td>83807.86</td>\n",
       "      <td>1</td>\n",
       "      <td>0</td>\n",
       "      <td>1</td>\n",
       "      <td>112542.58</td>\n",
       "      <td>0</td>\n",
       "    </tr>\n",
       "    <tr>\n",
       "      <th>2</th>\n",
       "      <td>3</td>\n",
       "      <td>15619304</td>\n",
       "      <td>Onio</td>\n",
       "      <td>502</td>\n",
       "      <td>France</td>\n",
       "      <td>Female</td>\n",
       "      <td>42</td>\n",
       "      <td>8.0</td>\n",
       "      <td>159660.80</td>\n",
       "      <td>3</td>\n",
       "      <td>1</td>\n",
       "      <td>0</td>\n",
       "      <td>113931.57</td>\n",
       "      <td>1</td>\n",
       "    </tr>\n",
       "    <tr>\n",
       "      <th>3</th>\n",
       "      <td>4</td>\n",
       "      <td>15701354</td>\n",
       "      <td>Boni</td>\n",
       "      <td>699</td>\n",
       "      <td>France</td>\n",
       "      <td>Female</td>\n",
       "      <td>39</td>\n",
       "      <td>1.0</td>\n",
       "      <td>0.00</td>\n",
       "      <td>2</td>\n",
       "      <td>0</td>\n",
       "      <td>0</td>\n",
       "      <td>93826.63</td>\n",
       "      <td>0</td>\n",
       "    </tr>\n",
       "    <tr>\n",
       "      <th>4</th>\n",
       "      <td>5</td>\n",
       "      <td>15737888</td>\n",
       "      <td>Mitchell</td>\n",
       "      <td>850</td>\n",
       "      <td>Spain</td>\n",
       "      <td>Female</td>\n",
       "      <td>43</td>\n",
       "      <td>2.0</td>\n",
       "      <td>125510.82</td>\n",
       "      <td>1</td>\n",
       "      <td>1</td>\n",
       "      <td>1</td>\n",
       "      <td>79084.10</td>\n",
       "      <td>0</td>\n",
       "    </tr>\n",
       "  </tbody>\n",
       "</table>\n",
       "</div>"
      ],
      "text/plain": [
       "   RowNumber  CustomerId   Surname  CreditScore Geography  Gender  Age  \\\n",
       "0          1    15634602  Hargrave          619    France  Female   42   \n",
       "1          2    15647311      Hill          608     Spain  Female   41   \n",
       "2          3    15619304      Onio          502    France  Female   42   \n",
       "3          4    15701354      Boni          699    France  Female   39   \n",
       "4          5    15737888  Mitchell          850     Spain  Female   43   \n",
       "\n",
       "   Tenure    Balance  NumOfProducts  HasCrCard  IsActiveMember  \\\n",
       "0     2.0       0.00              1          1               1   \n",
       "1     1.0   83807.86              1          0               1   \n",
       "2     8.0  159660.80              3          1               0   \n",
       "3     1.0       0.00              2          0               0   \n",
       "4     2.0  125510.82              1          1               1   \n",
       "\n",
       "   EstimatedSalary  Exited  \n",
       "0        101348.88       1  \n",
       "1        112542.58       0  \n",
       "2        113931.57       1  \n",
       "3         93826.63       0  \n",
       "4         79084.10       0  "
      ]
     },
     "execution_count": 74,
     "metadata": {},
     "output_type": "execute_result"
    }
   ],
   "source": [
    "# общая информация и первые пять строк\n",
    "df.info()\n",
    "df.head()"
   ]
  },
  {
   "cell_type": "markdown",
   "metadata": {},
   "source": [
    "Здесь можно сказать, что мы имеем достаточное количество данных -- данные по 10000 клиентов, которые практически не нуждаются в обработке: типы данных везде заданы корректно, пропуски пристутсвуют только в одном столбце. Остаётся решить проблему с пропусками и проверить данные на аномальные значения.<br>\n",
    "Правда, 13 столбцов не считая целевого признака -- это довольно большое количество признаков для обучения моделей. Даже с учётом того, что далее мы избавимся от нескольких, как от явно бесполезных, их всё равно останется ещё довольно много."
   ]
  },
  {
   "cell_type": "code",
   "execution_count": 75,
   "metadata": {},
   "outputs": [
    {
     "data": {
      "text/html": [
       "<div>\n",
       "<style scoped>\n",
       "    .dataframe tbody tr th:only-of-type {\n",
       "        vertical-align: middle;\n",
       "    }\n",
       "\n",
       "    .dataframe tbody tr th {\n",
       "        vertical-align: top;\n",
       "    }\n",
       "\n",
       "    .dataframe thead th {\n",
       "        text-align: right;\n",
       "    }\n",
       "</style>\n",
       "<table border=\"1\" class=\"dataframe\">\n",
       "  <thead>\n",
       "    <tr style=\"text-align: right;\">\n",
       "      <th></th>\n",
       "      <th>CreditScore</th>\n",
       "      <th>Age</th>\n",
       "      <th>Tenure</th>\n",
       "      <th>Balance</th>\n",
       "      <th>EstimatedSalary</th>\n",
       "      <th>HasCrCard</th>\n",
       "      <th>IsActiveMember</th>\n",
       "      <th>NumOfProducts</th>\n",
       "      <th>Exited</th>\n",
       "    </tr>\n",
       "  </thead>\n",
       "  <tbody>\n",
       "    <tr>\n",
       "      <th>CreditScore</th>\n",
       "      <td>1.000000</td>\n",
       "      <td>-0.003965</td>\n",
       "      <td>-0.000062</td>\n",
       "      <td>0.006268</td>\n",
       "      <td>-0.001384</td>\n",
       "      <td>-0.005458</td>\n",
       "      <td>0.025651</td>\n",
       "      <td>0.012238</td>\n",
       "      <td>-0.027094</td>\n",
       "    </tr>\n",
       "    <tr>\n",
       "      <th>Age</th>\n",
       "      <td>-0.003965</td>\n",
       "      <td>1.000000</td>\n",
       "      <td>-0.013134</td>\n",
       "      <td>0.028308</td>\n",
       "      <td>-0.007201</td>\n",
       "      <td>-0.011721</td>\n",
       "      <td>0.085472</td>\n",
       "      <td>-0.030680</td>\n",
       "      <td>0.285323</td>\n",
       "    </tr>\n",
       "    <tr>\n",
       "      <th>Tenure</th>\n",
       "      <td>-0.000062</td>\n",
       "      <td>-0.013134</td>\n",
       "      <td>1.000000</td>\n",
       "      <td>-0.007911</td>\n",
       "      <td>0.010520</td>\n",
       "      <td>0.027232</td>\n",
       "      <td>-0.032178</td>\n",
       "      <td>0.011979</td>\n",
       "      <td>-0.016761</td>\n",
       "    </tr>\n",
       "    <tr>\n",
       "      <th>Balance</th>\n",
       "      <td>0.006268</td>\n",
       "      <td>0.028308</td>\n",
       "      <td>-0.007911</td>\n",
       "      <td>1.000000</td>\n",
       "      <td>0.012797</td>\n",
       "      <td>-0.014858</td>\n",
       "      <td>-0.010084</td>\n",
       "      <td>-0.304180</td>\n",
       "      <td>0.118533</td>\n",
       "    </tr>\n",
       "    <tr>\n",
       "      <th>EstimatedSalary</th>\n",
       "      <td>-0.001384</td>\n",
       "      <td>-0.007201</td>\n",
       "      <td>0.010520</td>\n",
       "      <td>0.012797</td>\n",
       "      <td>1.000000</td>\n",
       "      <td>-0.009933</td>\n",
       "      <td>-0.011421</td>\n",
       "      <td>0.014204</td>\n",
       "      <td>0.012097</td>\n",
       "    </tr>\n",
       "    <tr>\n",
       "      <th>HasCrCard</th>\n",
       "      <td>-0.005458</td>\n",
       "      <td>-0.011721</td>\n",
       "      <td>0.027232</td>\n",
       "      <td>-0.014858</td>\n",
       "      <td>-0.009933</td>\n",
       "      <td>1.000000</td>\n",
       "      <td>-0.011866</td>\n",
       "      <td>0.003183</td>\n",
       "      <td>-0.007138</td>\n",
       "    </tr>\n",
       "    <tr>\n",
       "      <th>IsActiveMember</th>\n",
       "      <td>0.025651</td>\n",
       "      <td>0.085472</td>\n",
       "      <td>-0.032178</td>\n",
       "      <td>-0.010084</td>\n",
       "      <td>-0.011421</td>\n",
       "      <td>-0.011866</td>\n",
       "      <td>1.000000</td>\n",
       "      <td>0.009612</td>\n",
       "      <td>-0.156128</td>\n",
       "    </tr>\n",
       "    <tr>\n",
       "      <th>NumOfProducts</th>\n",
       "      <td>0.012238</td>\n",
       "      <td>-0.030680</td>\n",
       "      <td>0.011979</td>\n",
       "      <td>-0.304180</td>\n",
       "      <td>0.014204</td>\n",
       "      <td>0.003183</td>\n",
       "      <td>0.009612</td>\n",
       "      <td>1.000000</td>\n",
       "      <td>-0.047820</td>\n",
       "    </tr>\n",
       "    <tr>\n",
       "      <th>Exited</th>\n",
       "      <td>-0.027094</td>\n",
       "      <td>0.285323</td>\n",
       "      <td>-0.016761</td>\n",
       "      <td>0.118533</td>\n",
       "      <td>0.012097</td>\n",
       "      <td>-0.007138</td>\n",
       "      <td>-0.156128</td>\n",
       "      <td>-0.047820</td>\n",
       "      <td>1.000000</td>\n",
       "    </tr>\n",
       "  </tbody>\n",
       "</table>\n",
       "</div>"
      ],
      "text/plain": [
       "                 CreditScore       Age    Tenure   Balance  EstimatedSalary  \\\n",
       "CreditScore         1.000000 -0.003965 -0.000062  0.006268        -0.001384   \n",
       "Age                -0.003965  1.000000 -0.013134  0.028308        -0.007201   \n",
       "Tenure             -0.000062 -0.013134  1.000000 -0.007911         0.010520   \n",
       "Balance             0.006268  0.028308 -0.007911  1.000000         0.012797   \n",
       "EstimatedSalary    -0.001384 -0.007201  0.010520  0.012797         1.000000   \n",
       "HasCrCard          -0.005458 -0.011721  0.027232 -0.014858        -0.009933   \n",
       "IsActiveMember      0.025651  0.085472 -0.032178 -0.010084        -0.011421   \n",
       "NumOfProducts       0.012238 -0.030680  0.011979 -0.304180         0.014204   \n",
       "Exited             -0.027094  0.285323 -0.016761  0.118533         0.012097   \n",
       "\n",
       "                 HasCrCard  IsActiveMember  NumOfProducts    Exited  \n",
       "CreditScore      -0.005458        0.025651       0.012238 -0.027094  \n",
       "Age              -0.011721        0.085472      -0.030680  0.285323  \n",
       "Tenure            0.027232       -0.032178       0.011979 -0.016761  \n",
       "Balance          -0.014858       -0.010084      -0.304180  0.118533  \n",
       "EstimatedSalary  -0.009933       -0.011421       0.014204  0.012097  \n",
       "HasCrCard         1.000000       -0.011866       0.003183 -0.007138  \n",
       "IsActiveMember   -0.011866        1.000000       0.009612 -0.156128  \n",
       "NumOfProducts     0.003183        0.009612       1.000000 -0.047820  \n",
       "Exited           -0.007138       -0.156128      -0.047820  1.000000  "
      ]
     },
     "execution_count": 75,
     "metadata": {},
     "output_type": "execute_result"
    }
   ],
   "source": [
    "# вычисляет корреляцию между столбцами в срезе\n",
    "df[['CreditScore', 'Age', 'Tenure', 'Balance', 'EstimatedSalary', 'HasCrCard', \\\n",
    "    'IsActiveMember', 'NumOfProducts', 'Exited']].corr()"
   ]
  },
  {
   "cell_type": "code",
   "execution_count": 76,
   "metadata": {},
   "outputs": [
    {
     "data": {
      "text/plain": [
       "RowNumber            0\n",
       "CustomerId           0\n",
       "Surname              0\n",
       "CreditScore          0\n",
       "Geography            0\n",
       "Gender               0\n",
       "Age                  0\n",
       "Tenure             909\n",
       "Balance              0\n",
       "NumOfProducts        0\n",
       "HasCrCard            0\n",
       "IsActiveMember       0\n",
       "EstimatedSalary      0\n",
       "Exited               0\n",
       "dtype: int64"
      ]
     },
     "execution_count": 76,
     "metadata": {},
     "output_type": "execute_result"
    }
   ],
   "source": [
    "# кол-во пропусков в каждом столбце\n",
    "df.isna().sum()"
   ]
  },
  {
   "cell_type": "code",
   "execution_count": 77,
   "metadata": {},
   "outputs": [
    {
     "data": {
      "text/plain": [
       "(10000, 14)"
      ]
     },
     "execution_count": 77,
     "metadata": {},
     "output_type": "execute_result"
    }
   ],
   "source": [
    "# проверяет размеры таблицы\n",
    "df.shape"
   ]
  },
  {
   "cell_type": "markdown",
   "metadata": {},
   "source": [
    "### Обработка пропусков в данных"
   ]
  },
  {
   "cell_type": "markdown",
   "metadata": {},
   "source": [
    "В данных о количестве лет \"пребывания клиента в банке\" (`Tenure`) имеются пропуски.<br>\n",
    "Два варианта действий с пропусками:\n",
    "- заменить пропуски медианными значениями `Tenure`;\n",
    "- удалить данные с пропусками.</div><br>\n",
    "\n",
    "В данном случае делаем выбор в пользу удаления данных, поскольку:\n",
    "- размер пропусков составляет менее 10% от общего размера ДФ при довольно значительном общем размере ДФ в 10000 строк;\n",
    "- количество лет, в течение которых человек являлся клиентом банка, может быть существенным (значимым) признаком для определения целевого признака.<br>\n",
    "<br>\n",
    "Перед удалением из любопытства сравним общий дисбаланс классов в ДФ и дисбаланс в данных с пропусками."
   ]
  },
  {
   "cell_type": "markdown",
   "metadata": {},
   "source": [
    "Вместо удаления пропусков заменим их медианными значениями с группировкой по стране, полу и возрастным диапазонам."
   ]
  },
  {
   "cell_type": "markdown",
   "metadata": {},
   "source": [
    "Получим статистики возраста `Age`, создадим дубликат этого столбца и разделим его на категории."
   ]
  },
  {
   "cell_type": "code",
   "execution_count": 78,
   "metadata": {},
   "outputs": [
    {
     "data": {
      "text/html": [
       "<div>\n",
       "<style scoped>\n",
       "    .dataframe tbody tr th:only-of-type {\n",
       "        vertical-align: middle;\n",
       "    }\n",
       "\n",
       "    .dataframe tbody tr th {\n",
       "        vertical-align: top;\n",
       "    }\n",
       "\n",
       "    .dataframe thead th {\n",
       "        text-align: right;\n",
       "    }\n",
       "</style>\n",
       "<table border=\"1\" class=\"dataframe\">\n",
       "  <thead>\n",
       "    <tr style=\"text-align: right;\">\n",
       "      <th></th>\n",
       "      <th>Age</th>\n",
       "    </tr>\n",
       "  </thead>\n",
       "  <tbody>\n",
       "    <tr>\n",
       "      <th>count</th>\n",
       "      <td>10000.0</td>\n",
       "    </tr>\n",
       "    <tr>\n",
       "      <th>mean</th>\n",
       "      <td>38.9</td>\n",
       "    </tr>\n",
       "    <tr>\n",
       "      <th>std</th>\n",
       "      <td>10.5</td>\n",
       "    </tr>\n",
       "    <tr>\n",
       "      <th>min</th>\n",
       "      <td>18.0</td>\n",
       "    </tr>\n",
       "    <tr>\n",
       "      <th>25%</th>\n",
       "      <td>32.0</td>\n",
       "    </tr>\n",
       "    <tr>\n",
       "      <th>50%</th>\n",
       "      <td>37.0</td>\n",
       "    </tr>\n",
       "    <tr>\n",
       "      <th>75%</th>\n",
       "      <td>44.0</td>\n",
       "    </tr>\n",
       "    <tr>\n",
       "      <th>max</th>\n",
       "      <td>92.0</td>\n",
       "    </tr>\n",
       "  </tbody>\n",
       "</table>\n",
       "</div>"
      ],
      "text/plain": [
       "           Age\n",
       "count  10000.0\n",
       "mean      38.9\n",
       "std       10.5\n",
       "min       18.0\n",
       "25%       32.0\n",
       "50%       37.0\n",
       "75%       44.0\n",
       "max       92.0"
      ]
     },
     "execution_count": 78,
     "metadata": {},
     "output_type": "execute_result"
    }
   ],
   "source": [
    "df[['Age']].describe().round(1)"
   ]
  },
  {
   "cell_type": "code",
   "execution_count": 79,
   "metadata": {},
   "outputs": [],
   "source": [
    "df['Age_'] = pd.cut(df['Age'], [0, 20, 25, 45, 55, 65, 75, 85, 95])"
   ]
  },
  {
   "cell_type": "markdown",
   "metadata": {},
   "source": [
    "Проверим, как меняются медианные значения при группировке:"
   ]
  },
  {
   "cell_type": "code",
   "execution_count": 80,
   "metadata": {
    "scrolled": true
   },
   "outputs": [
    {
     "data": {
      "text/html": [
       "<div>\n",
       "<style scoped>\n",
       "    .dataframe tbody tr th:only-of-type {\n",
       "        vertical-align: middle;\n",
       "    }\n",
       "\n",
       "    .dataframe tbody tr th {\n",
       "        vertical-align: top;\n",
       "    }\n",
       "\n",
       "    .dataframe thead th {\n",
       "        text-align: right;\n",
       "    }\n",
       "</style>\n",
       "<table border=\"1\" class=\"dataframe\">\n",
       "  <thead>\n",
       "    <tr style=\"text-align: right;\">\n",
       "      <th></th>\n",
       "      <th></th>\n",
       "      <th></th>\n",
       "      <th>Tenure</th>\n",
       "    </tr>\n",
       "    <tr>\n",
       "      <th>Gender</th>\n",
       "      <th>Geography</th>\n",
       "      <th>Age_</th>\n",
       "      <th></th>\n",
       "    </tr>\n",
       "  </thead>\n",
       "  <tbody>\n",
       "    <tr>\n",
       "      <th rowspan=\"24\" valign=\"top\">Female</th>\n",
       "      <th rowspan=\"8\" valign=\"top\">France</th>\n",
       "      <th>(0, 20]</th>\n",
       "      <td>5.0</td>\n",
       "    </tr>\n",
       "    <tr>\n",
       "      <th>(20, 25]</th>\n",
       "      <td>5.0</td>\n",
       "    </tr>\n",
       "    <tr>\n",
       "      <th>(25, 45]</th>\n",
       "      <td>5.0</td>\n",
       "    </tr>\n",
       "    <tr>\n",
       "      <th>(45, 55]</th>\n",
       "      <td>5.0</td>\n",
       "    </tr>\n",
       "    <tr>\n",
       "      <th>(55, 65]</th>\n",
       "      <td>4.5</td>\n",
       "    </tr>\n",
       "    <tr>\n",
       "      <th>(65, 75]</th>\n",
       "      <td>5.0</td>\n",
       "    </tr>\n",
       "    <tr>\n",
       "      <th>(75, 85]</th>\n",
       "      <td>6.0</td>\n",
       "    </tr>\n",
       "    <tr>\n",
       "      <th>(85, 95]</th>\n",
       "      <td>NaN</td>\n",
       "    </tr>\n",
       "    <tr>\n",
       "      <th rowspan=\"8\" valign=\"top\">Germany</th>\n",
       "      <th>(0, 20]</th>\n",
       "      <td>2.5</td>\n",
       "    </tr>\n",
       "    <tr>\n",
       "      <th>(20, 25]</th>\n",
       "      <td>5.0</td>\n",
       "    </tr>\n",
       "    <tr>\n",
       "      <th>(25, 45]</th>\n",
       "      <td>5.0</td>\n",
       "    </tr>\n",
       "    <tr>\n",
       "      <th>(45, 55]</th>\n",
       "      <td>5.0</td>\n",
       "    </tr>\n",
       "    <tr>\n",
       "      <th>(55, 65]</th>\n",
       "      <td>5.0</td>\n",
       "    </tr>\n",
       "    <tr>\n",
       "      <th>(65, 75]</th>\n",
       "      <td>5.0</td>\n",
       "    </tr>\n",
       "    <tr>\n",
       "      <th>(75, 85]</th>\n",
       "      <td>10.0</td>\n",
       "    </tr>\n",
       "    <tr>\n",
       "      <th>(85, 95]</th>\n",
       "      <td>NaN</td>\n",
       "    </tr>\n",
       "    <tr>\n",
       "      <th rowspan=\"8\" valign=\"top\">Spain</th>\n",
       "      <th>(0, 20]</th>\n",
       "      <td>6.0</td>\n",
       "    </tr>\n",
       "    <tr>\n",
       "      <th>(20, 25]</th>\n",
       "      <td>6.0</td>\n",
       "    </tr>\n",
       "    <tr>\n",
       "      <th>(25, 45]</th>\n",
       "      <td>5.0</td>\n",
       "    </tr>\n",
       "    <tr>\n",
       "      <th>(45, 55]</th>\n",
       "      <td>5.0</td>\n",
       "    </tr>\n",
       "    <tr>\n",
       "      <th>(55, 65]</th>\n",
       "      <td>4.0</td>\n",
       "    </tr>\n",
       "    <tr>\n",
       "      <th>(65, 75]</th>\n",
       "      <td>4.5</td>\n",
       "    </tr>\n",
       "    <tr>\n",
       "      <th>(75, 85]</th>\n",
       "      <td>5.0</td>\n",
       "    </tr>\n",
       "    <tr>\n",
       "      <th>(85, 95]</th>\n",
       "      <td>NaN</td>\n",
       "    </tr>\n",
       "    <tr>\n",
       "      <th rowspan=\"24\" valign=\"top\">Male</th>\n",
       "      <th rowspan=\"8\" valign=\"top\">France</th>\n",
       "      <th>(0, 20]</th>\n",
       "      <td>5.5</td>\n",
       "    </tr>\n",
       "    <tr>\n",
       "      <th>(20, 25]</th>\n",
       "      <td>5.0</td>\n",
       "    </tr>\n",
       "    <tr>\n",
       "      <th>(25, 45]</th>\n",
       "      <td>5.0</td>\n",
       "    </tr>\n",
       "    <tr>\n",
       "      <th>(45, 55]</th>\n",
       "      <td>5.0</td>\n",
       "    </tr>\n",
       "    <tr>\n",
       "      <th>(55, 65]</th>\n",
       "      <td>5.0</td>\n",
       "    </tr>\n",
       "    <tr>\n",
       "      <th>(65, 75]</th>\n",
       "      <td>4.0</td>\n",
       "    </tr>\n",
       "    <tr>\n",
       "      <th>(75, 85]</th>\n",
       "      <td>5.0</td>\n",
       "    </tr>\n",
       "    <tr>\n",
       "      <th>(85, 95]</th>\n",
       "      <td>1.0</td>\n",
       "    </tr>\n",
       "    <tr>\n",
       "      <th rowspan=\"8\" valign=\"top\">Germany</th>\n",
       "      <th>(0, 20]</th>\n",
       "      <td>3.5</td>\n",
       "    </tr>\n",
       "    <tr>\n",
       "      <th>(20, 25]</th>\n",
       "      <td>5.0</td>\n",
       "    </tr>\n",
       "    <tr>\n",
       "      <th>(25, 45]</th>\n",
       "      <td>5.0</td>\n",
       "    </tr>\n",
       "    <tr>\n",
       "      <th>(45, 55]</th>\n",
       "      <td>5.0</td>\n",
       "    </tr>\n",
       "    <tr>\n",
       "      <th>(55, 65]</th>\n",
       "      <td>4.0</td>\n",
       "    </tr>\n",
       "    <tr>\n",
       "      <th>(65, 75]</th>\n",
       "      <td>6.0</td>\n",
       "    </tr>\n",
       "    <tr>\n",
       "      <th>(75, 85]</th>\n",
       "      <td>6.0</td>\n",
       "    </tr>\n",
       "    <tr>\n",
       "      <th>(85, 95]</th>\n",
       "      <td>NaN</td>\n",
       "    </tr>\n",
       "    <tr>\n",
       "      <th rowspan=\"8\" valign=\"top\">Spain</th>\n",
       "      <th>(0, 20]</th>\n",
       "      <td>7.0</td>\n",
       "    </tr>\n",
       "    <tr>\n",
       "      <th>(20, 25]</th>\n",
       "      <td>6.0</td>\n",
       "    </tr>\n",
       "    <tr>\n",
       "      <th>(25, 45]</th>\n",
       "      <td>5.0</td>\n",
       "    </tr>\n",
       "    <tr>\n",
       "      <th>(45, 55]</th>\n",
       "      <td>5.0</td>\n",
       "    </tr>\n",
       "    <tr>\n",
       "      <th>(55, 65]</th>\n",
       "      <td>4.0</td>\n",
       "    </tr>\n",
       "    <tr>\n",
       "      <th>(65, 75]</th>\n",
       "      <td>5.0</td>\n",
       "    </tr>\n",
       "    <tr>\n",
       "      <th>(75, 85]</th>\n",
       "      <td>5.0</td>\n",
       "    </tr>\n",
       "    <tr>\n",
       "      <th>(85, 95]</th>\n",
       "      <td>10.0</td>\n",
       "    </tr>\n",
       "  </tbody>\n",
       "</table>\n",
       "</div>"
      ],
      "text/plain": [
       "                           Tenure\n",
       "Gender Geography Age_            \n",
       "Female France    (0, 20]      5.0\n",
       "                 (20, 25]     5.0\n",
       "                 (25, 45]     5.0\n",
       "                 (45, 55]     5.0\n",
       "                 (55, 65]     4.5\n",
       "                 (65, 75]     5.0\n",
       "                 (75, 85]     6.0\n",
       "                 (85, 95]     NaN\n",
       "       Germany   (0, 20]      2.5\n",
       "                 (20, 25]     5.0\n",
       "                 (25, 45]     5.0\n",
       "                 (45, 55]     5.0\n",
       "                 (55, 65]     5.0\n",
       "                 (65, 75]     5.0\n",
       "                 (75, 85]    10.0\n",
       "                 (85, 95]     NaN\n",
       "       Spain     (0, 20]      6.0\n",
       "                 (20, 25]     6.0\n",
       "                 (25, 45]     5.0\n",
       "                 (45, 55]     5.0\n",
       "                 (55, 65]     4.0\n",
       "                 (65, 75]     4.5\n",
       "                 (75, 85]     5.0\n",
       "                 (85, 95]     NaN\n",
       "Male   France    (0, 20]      5.5\n",
       "                 (20, 25]     5.0\n",
       "                 (25, 45]     5.0\n",
       "                 (45, 55]     5.0\n",
       "                 (55, 65]     5.0\n",
       "                 (65, 75]     4.0\n",
       "                 (75, 85]     5.0\n",
       "                 (85, 95]     1.0\n",
       "       Germany   (0, 20]      3.5\n",
       "                 (20, 25]     5.0\n",
       "                 (25, 45]     5.0\n",
       "                 (45, 55]     5.0\n",
       "                 (55, 65]     4.0\n",
       "                 (65, 75]     6.0\n",
       "                 (75, 85]     6.0\n",
       "                 (85, 95]     NaN\n",
       "       Spain     (0, 20]      7.0\n",
       "                 (20, 25]     6.0\n",
       "                 (25, 45]     5.0\n",
       "                 (45, 55]     5.0\n",
       "                 (55, 65]     4.0\n",
       "                 (65, 75]     5.0\n",
       "                 (75, 85]     5.0\n",
       "                 (85, 95]    10.0"
      ]
     },
     "execution_count": 80,
     "metadata": {},
     "output_type": "execute_result"
    }
   ],
   "source": [
    "df.groupby(['Gender', 'Geography', 'Age_'])[['Tenure']].median()"
   ]
  },
  {
   "cell_type": "markdown",
   "metadata": {},
   "source": [
    "Сделаем группировку и замену отсутствующих данных:"
   ]
  },
  {
   "cell_type": "code",
   "execution_count": 81,
   "metadata": {},
   "outputs": [],
   "source": [
    "# группирует данные по категориям, подсчитывает для каждой группы медианное значение 'Tenure' и\n",
    "# заполняет отсутсвующие данные в столбце df 'Tenure'\n",
    "df['Tenure'] = df['Tenure'].fillna(\n",
    "    df.groupby(['Gender', 'Geography', 'Age_'])['Tenure'].transform('median'))"
   ]
  },
  {
   "cell_type": "markdown",
   "metadata": {},
   "source": [
    "Проверяет результаты заполнения:"
   ]
  },
  {
   "cell_type": "code",
   "execution_count": 82,
   "metadata": {},
   "outputs": [
    {
     "data": {
      "text/plain": [
       "0"
      ]
     },
     "execution_count": 82,
     "metadata": {},
     "output_type": "execute_result"
    }
   ],
   "source": [
    "df['Tenure'].isna().sum()"
   ]
  },
  {
   "cell_type": "code",
   "execution_count": 83,
   "metadata": {},
   "outputs": [],
   "source": [
    "# удаляет столбец 'Age_'\n",
    "df.drop(columns='Age_', inplace=True)"
   ]
  },
  {
   "cell_type": "markdown",
   "metadata": {},
   "source": [
    "Проверяет результат:"
   ]
  },
  {
   "cell_type": "code",
   "execution_count": 84,
   "metadata": {},
   "outputs": [
    {
     "name": "stdout",
     "output_type": "stream",
     "text": [
      "(10000, 14)\n"
     ]
    },
    {
     "data": {
      "text/html": [
       "<div>\n",
       "<style scoped>\n",
       "    .dataframe tbody tr th:only-of-type {\n",
       "        vertical-align: middle;\n",
       "    }\n",
       "\n",
       "    .dataframe tbody tr th {\n",
       "        vertical-align: top;\n",
       "    }\n",
       "\n",
       "    .dataframe thead th {\n",
       "        text-align: right;\n",
       "    }\n",
       "</style>\n",
       "<table border=\"1\" class=\"dataframe\">\n",
       "  <thead>\n",
       "    <tr style=\"text-align: right;\">\n",
       "      <th></th>\n",
       "      <th>RowNumber</th>\n",
       "      <th>CustomerId</th>\n",
       "      <th>Surname</th>\n",
       "      <th>CreditScore</th>\n",
       "      <th>Geography</th>\n",
       "      <th>Gender</th>\n",
       "      <th>Age</th>\n",
       "      <th>Tenure</th>\n",
       "      <th>Balance</th>\n",
       "      <th>NumOfProducts</th>\n",
       "      <th>HasCrCard</th>\n",
       "      <th>IsActiveMember</th>\n",
       "      <th>EstimatedSalary</th>\n",
       "      <th>Exited</th>\n",
       "    </tr>\n",
       "  </thead>\n",
       "  <tbody>\n",
       "    <tr>\n",
       "      <th>0</th>\n",
       "      <td>1</td>\n",
       "      <td>15634602</td>\n",
       "      <td>Hargrave</td>\n",
       "      <td>619</td>\n",
       "      <td>France</td>\n",
       "      <td>Female</td>\n",
       "      <td>42</td>\n",
       "      <td>2.0</td>\n",
       "      <td>0.00</td>\n",
       "      <td>1</td>\n",
       "      <td>1</td>\n",
       "      <td>1</td>\n",
       "      <td>101348.88</td>\n",
       "      <td>1</td>\n",
       "    </tr>\n",
       "    <tr>\n",
       "      <th>1</th>\n",
       "      <td>2</td>\n",
       "      <td>15647311</td>\n",
       "      <td>Hill</td>\n",
       "      <td>608</td>\n",
       "      <td>Spain</td>\n",
       "      <td>Female</td>\n",
       "      <td>41</td>\n",
       "      <td>1.0</td>\n",
       "      <td>83807.86</td>\n",
       "      <td>1</td>\n",
       "      <td>0</td>\n",
       "      <td>1</td>\n",
       "      <td>112542.58</td>\n",
       "      <td>0</td>\n",
       "    </tr>\n",
       "    <tr>\n",
       "      <th>2</th>\n",
       "      <td>3</td>\n",
       "      <td>15619304</td>\n",
       "      <td>Onio</td>\n",
       "      <td>502</td>\n",
       "      <td>France</td>\n",
       "      <td>Female</td>\n",
       "      <td>42</td>\n",
       "      <td>8.0</td>\n",
       "      <td>159660.80</td>\n",
       "      <td>3</td>\n",
       "      <td>1</td>\n",
       "      <td>0</td>\n",
       "      <td>113931.57</td>\n",
       "      <td>1</td>\n",
       "    </tr>\n",
       "    <tr>\n",
       "      <th>3</th>\n",
       "      <td>4</td>\n",
       "      <td>15701354</td>\n",
       "      <td>Boni</td>\n",
       "      <td>699</td>\n",
       "      <td>France</td>\n",
       "      <td>Female</td>\n",
       "      <td>39</td>\n",
       "      <td>1.0</td>\n",
       "      <td>0.00</td>\n",
       "      <td>2</td>\n",
       "      <td>0</td>\n",
       "      <td>0</td>\n",
       "      <td>93826.63</td>\n",
       "      <td>0</td>\n",
       "    </tr>\n",
       "    <tr>\n",
       "      <th>4</th>\n",
       "      <td>5</td>\n",
       "      <td>15737888</td>\n",
       "      <td>Mitchell</td>\n",
       "      <td>850</td>\n",
       "      <td>Spain</td>\n",
       "      <td>Female</td>\n",
       "      <td>43</td>\n",
       "      <td>2.0</td>\n",
       "      <td>125510.82</td>\n",
       "      <td>1</td>\n",
       "      <td>1</td>\n",
       "      <td>1</td>\n",
       "      <td>79084.10</td>\n",
       "      <td>0</td>\n",
       "    </tr>\n",
       "  </tbody>\n",
       "</table>\n",
       "</div>"
      ],
      "text/plain": [
       "   RowNumber  CustomerId   Surname  CreditScore Geography  Gender  Age  \\\n",
       "0          1    15634602  Hargrave          619    France  Female   42   \n",
       "1          2    15647311      Hill          608     Spain  Female   41   \n",
       "2          3    15619304      Onio          502    France  Female   42   \n",
       "3          4    15701354      Boni          699    France  Female   39   \n",
       "4          5    15737888  Mitchell          850     Spain  Female   43   \n",
       "\n",
       "   Tenure    Balance  NumOfProducts  HasCrCard  IsActiveMember  \\\n",
       "0     2.0       0.00              1          1               1   \n",
       "1     1.0   83807.86              1          0               1   \n",
       "2     8.0  159660.80              3          1               0   \n",
       "3     1.0       0.00              2          0               0   \n",
       "4     2.0  125510.82              1          1               1   \n",
       "\n",
       "   EstimatedSalary  Exited  \n",
       "0        101348.88       1  \n",
       "1        112542.58       0  \n",
       "2        113931.57       1  \n",
       "3         93826.63       0  \n",
       "4         79084.10       0  "
      ]
     },
     "execution_count": 84,
     "metadata": {},
     "output_type": "execute_result"
    }
   ],
   "source": [
    "print(df.shape)\n",
    "df.head()"
   ]
  },
  {
   "cell_type": "markdown",
   "metadata": {},
   "source": [
    "Замена проведена корректно: пропуски отсутствуют, размер датасета не изменился."
   ]
  },
  {
   "cell_type": "markdown",
   "metadata": {},
   "source": [
    "### Удаление лишних значений в данных"
   ]
  },
  {
   "cell_type": "markdown",
   "metadata": {},
   "source": [
    "При построении модели следующие данные нам не только не потребуются, но окажутся лишними, так как они не содержат никакой полезной информации для модели: <br>\n",
    "`RowNumber` - индекс строки<br>\n",
    "`CustomerId`- идентификатор клиента<br>\n",
    "`Surname` - фамилия клиента<br>\n",
    "Удалим эти столбцы."
   ]
  },
  {
   "cell_type": "code",
   "execution_count": 85,
   "metadata": {},
   "outputs": [],
   "source": [
    "df = df.drop(['RowNumber', 'CustomerId', 'Surname'], axis=1)"
   ]
  },
  {
   "cell_type": "code",
   "execution_count": 86,
   "metadata": {
    "scrolled": true
   },
   "outputs": [
    {
     "name": "stdout",
     "output_type": "stream",
     "text": [
      "(10000, 11)\n"
     ]
    },
    {
     "data": {
      "text/html": [
       "<div>\n",
       "<style scoped>\n",
       "    .dataframe tbody tr th:only-of-type {\n",
       "        vertical-align: middle;\n",
       "    }\n",
       "\n",
       "    .dataframe tbody tr th {\n",
       "        vertical-align: top;\n",
       "    }\n",
       "\n",
       "    .dataframe thead th {\n",
       "        text-align: right;\n",
       "    }\n",
       "</style>\n",
       "<table border=\"1\" class=\"dataframe\">\n",
       "  <thead>\n",
       "    <tr style=\"text-align: right;\">\n",
       "      <th></th>\n",
       "      <th>CreditScore</th>\n",
       "      <th>Geography</th>\n",
       "      <th>Gender</th>\n",
       "      <th>Age</th>\n",
       "      <th>Tenure</th>\n",
       "      <th>Balance</th>\n",
       "      <th>NumOfProducts</th>\n",
       "      <th>HasCrCard</th>\n",
       "      <th>IsActiveMember</th>\n",
       "      <th>EstimatedSalary</th>\n",
       "      <th>Exited</th>\n",
       "    </tr>\n",
       "  </thead>\n",
       "  <tbody>\n",
       "    <tr>\n",
       "      <th>0</th>\n",
       "      <td>619</td>\n",
       "      <td>France</td>\n",
       "      <td>Female</td>\n",
       "      <td>42</td>\n",
       "      <td>2.0</td>\n",
       "      <td>0.00</td>\n",
       "      <td>1</td>\n",
       "      <td>1</td>\n",
       "      <td>1</td>\n",
       "      <td>101348.88</td>\n",
       "      <td>1</td>\n",
       "    </tr>\n",
       "    <tr>\n",
       "      <th>1</th>\n",
       "      <td>608</td>\n",
       "      <td>Spain</td>\n",
       "      <td>Female</td>\n",
       "      <td>41</td>\n",
       "      <td>1.0</td>\n",
       "      <td>83807.86</td>\n",
       "      <td>1</td>\n",
       "      <td>0</td>\n",
       "      <td>1</td>\n",
       "      <td>112542.58</td>\n",
       "      <td>0</td>\n",
       "    </tr>\n",
       "    <tr>\n",
       "      <th>2</th>\n",
       "      <td>502</td>\n",
       "      <td>France</td>\n",
       "      <td>Female</td>\n",
       "      <td>42</td>\n",
       "      <td>8.0</td>\n",
       "      <td>159660.80</td>\n",
       "      <td>3</td>\n",
       "      <td>1</td>\n",
       "      <td>0</td>\n",
       "      <td>113931.57</td>\n",
       "      <td>1</td>\n",
       "    </tr>\n",
       "    <tr>\n",
       "      <th>3</th>\n",
       "      <td>699</td>\n",
       "      <td>France</td>\n",
       "      <td>Female</td>\n",
       "      <td>39</td>\n",
       "      <td>1.0</td>\n",
       "      <td>0.00</td>\n",
       "      <td>2</td>\n",
       "      <td>0</td>\n",
       "      <td>0</td>\n",
       "      <td>93826.63</td>\n",
       "      <td>0</td>\n",
       "    </tr>\n",
       "    <tr>\n",
       "      <th>4</th>\n",
       "      <td>850</td>\n",
       "      <td>Spain</td>\n",
       "      <td>Female</td>\n",
       "      <td>43</td>\n",
       "      <td>2.0</td>\n",
       "      <td>125510.82</td>\n",
       "      <td>1</td>\n",
       "      <td>1</td>\n",
       "      <td>1</td>\n",
       "      <td>79084.10</td>\n",
       "      <td>0</td>\n",
       "    </tr>\n",
       "  </tbody>\n",
       "</table>\n",
       "</div>"
      ],
      "text/plain": [
       "   CreditScore Geography  Gender  Age  Tenure    Balance  NumOfProducts  \\\n",
       "0          619    France  Female   42     2.0       0.00              1   \n",
       "1          608     Spain  Female   41     1.0   83807.86              1   \n",
       "2          502    France  Female   42     8.0  159660.80              3   \n",
       "3          699    France  Female   39     1.0       0.00              2   \n",
       "4          850     Spain  Female   43     2.0  125510.82              1   \n",
       "\n",
       "   HasCrCard  IsActiveMember  EstimatedSalary  Exited  \n",
       "0          1               1        101348.88       1  \n",
       "1          0               1        112542.58       0  \n",
       "2          1               0        113931.57       1  \n",
       "3          0               0         93826.63       0  \n",
       "4          1               1         79084.10       0  "
      ]
     },
     "execution_count": 86,
     "metadata": {},
     "output_type": "execute_result"
    }
   ],
   "source": [
    "# проверяет результаты удаления\n",
    "print(df.shape)\n",
    "df.head()"
   ]
  },
  {
   "cell_type": "markdown",
   "metadata": {},
   "source": [
    "### Поиск аномальных значений в данных"
   ]
  },
  {
   "cell_type": "markdown",
   "metadata": {},
   "source": [
    "Проверим данные на явные аномальные значения:"
   ]
  },
  {
   "cell_type": "markdown",
   "metadata": {},
   "source": [
    "Значения страны и пола:"
   ]
  },
  {
   "cell_type": "code",
   "execution_count": 87,
   "metadata": {},
   "outputs": [
    {
     "data": {
      "text/plain": [
       "array(['France', 'Spain', 'Germany'], dtype=object)"
      ]
     },
     "execution_count": 87,
     "metadata": {},
     "output_type": "execute_result"
    }
   ],
   "source": [
    "df.Geography.unique()"
   ]
  },
  {
   "cell_type": "code",
   "execution_count": 88,
   "metadata": {},
   "outputs": [
    {
     "data": {
      "text/plain": [
       "array(['Female', 'Male'], dtype=object)"
      ]
     },
     "execution_count": 88,
     "metadata": {},
     "output_type": "execute_result"
    }
   ],
   "source": [
    "df.Gender.unique()"
   ]
  },
  {
   "cell_type": "markdown",
   "metadata": {},
   "source": [
    "Возрас меньше или равный нулю:"
   ]
  },
  {
   "cell_type": "code",
   "execution_count": 89,
   "metadata": {},
   "outputs": [
    {
     "data": {
      "text/html": [
       "<div>\n",
       "<style scoped>\n",
       "    .dataframe tbody tr th:only-of-type {\n",
       "        vertical-align: middle;\n",
       "    }\n",
       "\n",
       "    .dataframe tbody tr th {\n",
       "        vertical-align: top;\n",
       "    }\n",
       "\n",
       "    .dataframe thead th {\n",
       "        text-align: right;\n",
       "    }\n",
       "</style>\n",
       "<table border=\"1\" class=\"dataframe\">\n",
       "  <thead>\n",
       "    <tr style=\"text-align: right;\">\n",
       "      <th></th>\n",
       "      <th>CreditScore</th>\n",
       "      <th>Geography</th>\n",
       "      <th>Gender</th>\n",
       "      <th>Age</th>\n",
       "      <th>Tenure</th>\n",
       "      <th>Balance</th>\n",
       "      <th>NumOfProducts</th>\n",
       "      <th>HasCrCard</th>\n",
       "      <th>IsActiveMember</th>\n",
       "      <th>EstimatedSalary</th>\n",
       "      <th>Exited</th>\n",
       "    </tr>\n",
       "  </thead>\n",
       "  <tbody>\n",
       "  </tbody>\n",
       "</table>\n",
       "</div>"
      ],
      "text/plain": [
       "Empty DataFrame\n",
       "Columns: [CreditScore, Geography, Gender, Age, Tenure, Balance, NumOfProducts, HasCrCard, IsActiveMember, EstimatedSalary, Exited]\n",
       "Index: []"
      ]
     },
     "execution_count": 89,
     "metadata": {},
     "output_type": "execute_result"
    }
   ],
   "source": [
    "df[df.Age <= 0]"
   ]
  },
  {
   "cell_type": "markdown",
   "metadata": {},
   "source": [
    "Отрицательные значения в данных о количестве лет пребывания в банке:"
   ]
  },
  {
   "cell_type": "code",
   "execution_count": 90,
   "metadata": {},
   "outputs": [
    {
     "data": {
      "text/html": [
       "<div>\n",
       "<style scoped>\n",
       "    .dataframe tbody tr th:only-of-type {\n",
       "        vertical-align: middle;\n",
       "    }\n",
       "\n",
       "    .dataframe tbody tr th {\n",
       "        vertical-align: top;\n",
       "    }\n",
       "\n",
       "    .dataframe thead th {\n",
       "        text-align: right;\n",
       "    }\n",
       "</style>\n",
       "<table border=\"1\" class=\"dataframe\">\n",
       "  <thead>\n",
       "    <tr style=\"text-align: right;\">\n",
       "      <th></th>\n",
       "      <th>CreditScore</th>\n",
       "      <th>Geography</th>\n",
       "      <th>Gender</th>\n",
       "      <th>Age</th>\n",
       "      <th>Tenure</th>\n",
       "      <th>Balance</th>\n",
       "      <th>NumOfProducts</th>\n",
       "      <th>HasCrCard</th>\n",
       "      <th>IsActiveMember</th>\n",
       "      <th>EstimatedSalary</th>\n",
       "      <th>Exited</th>\n",
       "    </tr>\n",
       "  </thead>\n",
       "  <tbody>\n",
       "  </tbody>\n",
       "</table>\n",
       "</div>"
      ],
      "text/plain": [
       "Empty DataFrame\n",
       "Columns: [CreditScore, Geography, Gender, Age, Tenure, Balance, NumOfProducts, HasCrCard, IsActiveMember, EstimatedSalary, Exited]\n",
       "Index: []"
      ]
     },
     "execution_count": 90,
     "metadata": {},
     "output_type": "execute_result"
    }
   ],
   "source": [
    "df[df.Tenure < 0]"
   ]
  },
  {
   "cell_type": "markdown",
   "metadata": {},
   "source": [
    "Количество используемых продуктов банка и активность клиента:"
   ]
  },
  {
   "cell_type": "code",
   "execution_count": 91,
   "metadata": {},
   "outputs": [
    {
     "data": {
      "text/plain": [
       "array([1, 3, 2, 4], dtype=int64)"
      ]
     },
     "execution_count": 91,
     "metadata": {},
     "output_type": "execute_result"
    }
   ],
   "source": [
    "df.NumOfProducts.unique()"
   ]
  },
  {
   "cell_type": "code",
   "execution_count": 92,
   "metadata": {},
   "outputs": [
    {
     "data": {
      "text/plain": [
       "array([1, 0], dtype=int64)"
      ]
     },
     "execution_count": 92,
     "metadata": {},
     "output_type": "execute_result"
    }
   ],
   "source": [
    "df.IsActiveMember.unique()"
   ]
  },
  {
   "cell_type": "markdown",
   "metadata": {},
   "source": [
    "Зарплата меньше или равна нулю:"
   ]
  },
  {
   "cell_type": "code",
   "execution_count": 93,
   "metadata": {},
   "outputs": [
    {
     "data": {
      "text/html": [
       "<div>\n",
       "<style scoped>\n",
       "    .dataframe tbody tr th:only-of-type {\n",
       "        vertical-align: middle;\n",
       "    }\n",
       "\n",
       "    .dataframe tbody tr th {\n",
       "        vertical-align: top;\n",
       "    }\n",
       "\n",
       "    .dataframe thead th {\n",
       "        text-align: right;\n",
       "    }\n",
       "</style>\n",
       "<table border=\"1\" class=\"dataframe\">\n",
       "  <thead>\n",
       "    <tr style=\"text-align: right;\">\n",
       "      <th></th>\n",
       "      <th>CreditScore</th>\n",
       "      <th>Geography</th>\n",
       "      <th>Gender</th>\n",
       "      <th>Age</th>\n",
       "      <th>Tenure</th>\n",
       "      <th>Balance</th>\n",
       "      <th>NumOfProducts</th>\n",
       "      <th>HasCrCard</th>\n",
       "      <th>IsActiveMember</th>\n",
       "      <th>EstimatedSalary</th>\n",
       "      <th>Exited</th>\n",
       "    </tr>\n",
       "  </thead>\n",
       "  <tbody>\n",
       "  </tbody>\n",
       "</table>\n",
       "</div>"
      ],
      "text/plain": [
       "Empty DataFrame\n",
       "Columns: [CreditScore, Geography, Gender, Age, Tenure, Balance, NumOfProducts, HasCrCard, IsActiveMember, EstimatedSalary, Exited]\n",
       "Index: []"
      ]
     },
     "execution_count": 93,
     "metadata": {},
     "output_type": "execute_result"
    }
   ],
   "source": [
    "df[df.EstimatedSalary <= 0]"
   ]
  },
  {
   "cell_type": "markdown",
   "metadata": {},
   "source": [
    "Значения целевого признака:"
   ]
  },
  {
   "cell_type": "code",
   "execution_count": 94,
   "metadata": {
    "scrolled": true
   },
   "outputs": [
    {
     "data": {
      "text/plain": [
       "array([1, 0], dtype=int64)"
      ]
     },
     "execution_count": 94,
     "metadata": {},
     "output_type": "execute_result"
    }
   ],
   "source": [
    "df.Exited.unique()"
   ]
  },
  {
   "cell_type": "code",
   "execution_count": 95,
   "metadata": {},
   "outputs": [
    {
     "data": {
      "text/html": [
       "<div>\n",
       "<style scoped>\n",
       "    .dataframe tbody tr th:only-of-type {\n",
       "        vertical-align: middle;\n",
       "    }\n",
       "\n",
       "    .dataframe tbody tr th {\n",
       "        vertical-align: top;\n",
       "    }\n",
       "\n",
       "    .dataframe thead th {\n",
       "        text-align: right;\n",
       "    }\n",
       "</style>\n",
       "<table border=\"1\" class=\"dataframe\">\n",
       "  <thead>\n",
       "    <tr style=\"text-align: right;\">\n",
       "      <th></th>\n",
       "      <th>CreditScore</th>\n",
       "      <th>Age</th>\n",
       "      <th>Tenure</th>\n",
       "      <th>Balance</th>\n",
       "      <th>NumOfProducts</th>\n",
       "      <th>HasCrCard</th>\n",
       "      <th>IsActiveMember</th>\n",
       "      <th>EstimatedSalary</th>\n",
       "      <th>Exited</th>\n",
       "    </tr>\n",
       "  </thead>\n",
       "  <tbody>\n",
       "    <tr>\n",
       "      <th>count</th>\n",
       "      <td>10000.000000</td>\n",
       "      <td>10000.000000</td>\n",
       "      <td>10000.000000</td>\n",
       "      <td>10000.000000</td>\n",
       "      <td>10000.000000</td>\n",
       "      <td>10000.00000</td>\n",
       "      <td>10000.000000</td>\n",
       "      <td>10000.000000</td>\n",
       "      <td>10000.000000</td>\n",
       "    </tr>\n",
       "    <tr>\n",
       "      <th>mean</th>\n",
       "      <td>650.528800</td>\n",
       "      <td>38.921800</td>\n",
       "      <td>4.997400</td>\n",
       "      <td>76485.889288</td>\n",
       "      <td>1.530200</td>\n",
       "      <td>0.70550</td>\n",
       "      <td>0.515100</td>\n",
       "      <td>100090.239881</td>\n",
       "      <td>0.203700</td>\n",
       "    </tr>\n",
       "    <tr>\n",
       "      <th>std</th>\n",
       "      <td>96.653299</td>\n",
       "      <td>10.487806</td>\n",
       "      <td>2.761205</td>\n",
       "      <td>62397.405202</td>\n",
       "      <td>0.581654</td>\n",
       "      <td>0.45584</td>\n",
       "      <td>0.499797</td>\n",
       "      <td>57510.492818</td>\n",
       "      <td>0.402769</td>\n",
       "    </tr>\n",
       "    <tr>\n",
       "      <th>min</th>\n",
       "      <td>350.000000</td>\n",
       "      <td>18.000000</td>\n",
       "      <td>0.000000</td>\n",
       "      <td>0.000000</td>\n",
       "      <td>1.000000</td>\n",
       "      <td>0.00000</td>\n",
       "      <td>0.000000</td>\n",
       "      <td>11.580000</td>\n",
       "      <td>0.000000</td>\n",
       "    </tr>\n",
       "    <tr>\n",
       "      <th>25%</th>\n",
       "      <td>584.000000</td>\n",
       "      <td>32.000000</td>\n",
       "      <td>3.000000</td>\n",
       "      <td>0.000000</td>\n",
       "      <td>1.000000</td>\n",
       "      <td>0.00000</td>\n",
       "      <td>0.000000</td>\n",
       "      <td>51002.110000</td>\n",
       "      <td>0.000000</td>\n",
       "    </tr>\n",
       "    <tr>\n",
       "      <th>50%</th>\n",
       "      <td>652.000000</td>\n",
       "      <td>37.000000</td>\n",
       "      <td>5.000000</td>\n",
       "      <td>97198.540000</td>\n",
       "      <td>1.000000</td>\n",
       "      <td>1.00000</td>\n",
       "      <td>1.000000</td>\n",
       "      <td>100193.915000</td>\n",
       "      <td>0.000000</td>\n",
       "    </tr>\n",
       "    <tr>\n",
       "      <th>75%</th>\n",
       "      <td>718.000000</td>\n",
       "      <td>44.000000</td>\n",
       "      <td>7.000000</td>\n",
       "      <td>127644.240000</td>\n",
       "      <td>2.000000</td>\n",
       "      <td>1.00000</td>\n",
       "      <td>1.000000</td>\n",
       "      <td>149388.247500</td>\n",
       "      <td>0.000000</td>\n",
       "    </tr>\n",
       "    <tr>\n",
       "      <th>max</th>\n",
       "      <td>850.000000</td>\n",
       "      <td>92.000000</td>\n",
       "      <td>10.000000</td>\n",
       "      <td>250898.090000</td>\n",
       "      <td>4.000000</td>\n",
       "      <td>1.00000</td>\n",
       "      <td>1.000000</td>\n",
       "      <td>199992.480000</td>\n",
       "      <td>1.000000</td>\n",
       "    </tr>\n",
       "  </tbody>\n",
       "</table>\n",
       "</div>"
      ],
      "text/plain": [
       "        CreditScore           Age        Tenure        Balance  NumOfProducts  \\\n",
       "count  10000.000000  10000.000000  10000.000000   10000.000000   10000.000000   \n",
       "mean     650.528800     38.921800      4.997400   76485.889288       1.530200   \n",
       "std       96.653299     10.487806      2.761205   62397.405202       0.581654   \n",
       "min      350.000000     18.000000      0.000000       0.000000       1.000000   \n",
       "25%      584.000000     32.000000      3.000000       0.000000       1.000000   \n",
       "50%      652.000000     37.000000      5.000000   97198.540000       1.000000   \n",
       "75%      718.000000     44.000000      7.000000  127644.240000       2.000000   \n",
       "max      850.000000     92.000000     10.000000  250898.090000       4.000000   \n",
       "\n",
       "         HasCrCard  IsActiveMember  EstimatedSalary        Exited  \n",
       "count  10000.00000    10000.000000     10000.000000  10000.000000  \n",
       "mean       0.70550        0.515100    100090.239881      0.203700  \n",
       "std        0.45584        0.499797     57510.492818      0.402769  \n",
       "min        0.00000        0.000000        11.580000      0.000000  \n",
       "25%        0.00000        0.000000     51002.110000      0.000000  \n",
       "50%        1.00000        1.000000    100193.915000      0.000000  \n",
       "75%        1.00000        1.000000    149388.247500      0.000000  \n",
       "max        1.00000        1.000000    199992.480000      1.000000  "
      ]
     },
     "execution_count": 95,
     "metadata": {},
     "output_type": "execute_result"
    }
   ],
   "source": [
    "df.describe()"
   ]
  },
  {
   "cell_type": "markdown",
   "metadata": {},
   "source": [
    "Явных аномальных значений в данных не выявлено."
   ]
  },
  {
   "cell_type": "markdown",
   "metadata": {},
   "source": [
    "## Исследование задачи"
   ]
  },
  {
   "cell_type": "markdown",
   "metadata": {},
   "source": [
    "Еще раз вычислим дисбаланс классов для получившегося ДФ:"
   ]
  },
  {
   "cell_type": "code",
   "execution_count": 96,
   "metadata": {},
   "outputs": [
    {
     "data": {
      "text/plain": [
       "0    0.7963\n",
       "1    0.2037\n",
       "Name: Exited, dtype: float64"
      ]
     },
     "execution_count": 96,
     "metadata": {},
     "output_type": "execute_result"
    }
   ],
   "source": [
    "df.Exited.value_counts(normalize=True)"
   ]
  },
  {
   "cell_type": "markdown",
   "metadata": {},
   "source": [
    "Примерно 20% клиентов банка покинули банк.<br>\n",
    "Соотношение данных 1:4 -- далеко от 1:1, это явный дисбаланс классов, который необходимо устранить."
   ]
  },
  {
   "cell_type": "markdown",
   "metadata": {},
   "source": [
    "### Подготока категориальных признаков"
   ]
  },
  {
   "cell_type": "markdown",
   "metadata": {},
   "source": [
    "Подготовим категориальные признаки. Еще раз выведем данные:  "
   ]
  },
  {
   "cell_type": "code",
   "execution_count": 97,
   "metadata": {},
   "outputs": [
    {
     "data": {
      "text/html": [
       "<div>\n",
       "<style scoped>\n",
       "    .dataframe tbody tr th:only-of-type {\n",
       "        vertical-align: middle;\n",
       "    }\n",
       "\n",
       "    .dataframe tbody tr th {\n",
       "        vertical-align: top;\n",
       "    }\n",
       "\n",
       "    .dataframe thead th {\n",
       "        text-align: right;\n",
       "    }\n",
       "</style>\n",
       "<table border=\"1\" class=\"dataframe\">\n",
       "  <thead>\n",
       "    <tr style=\"text-align: right;\">\n",
       "      <th></th>\n",
       "      <th>CreditScore</th>\n",
       "      <th>Geography</th>\n",
       "      <th>Gender</th>\n",
       "      <th>Age</th>\n",
       "      <th>Tenure</th>\n",
       "      <th>Balance</th>\n",
       "      <th>NumOfProducts</th>\n",
       "      <th>HasCrCard</th>\n",
       "      <th>IsActiveMember</th>\n",
       "      <th>EstimatedSalary</th>\n",
       "      <th>Exited</th>\n",
       "    </tr>\n",
       "  </thead>\n",
       "  <tbody>\n",
       "    <tr>\n",
       "      <th>8197</th>\n",
       "      <td>617</td>\n",
       "      <td>France</td>\n",
       "      <td>Male</td>\n",
       "      <td>54</td>\n",
       "      <td>6.0</td>\n",
       "      <td>102141.90</td>\n",
       "      <td>1</td>\n",
       "      <td>1</td>\n",
       "      <td>1</td>\n",
       "      <td>45325.26</td>\n",
       "      <td>0</td>\n",
       "    </tr>\n",
       "    <tr>\n",
       "      <th>4224</th>\n",
       "      <td>767</td>\n",
       "      <td>Spain</td>\n",
       "      <td>Male</td>\n",
       "      <td>47</td>\n",
       "      <td>2.0</td>\n",
       "      <td>0.00</td>\n",
       "      <td>1</td>\n",
       "      <td>1</td>\n",
       "      <td>0</td>\n",
       "      <td>48161.18</td>\n",
       "      <td>1</td>\n",
       "    </tr>\n",
       "    <tr>\n",
       "      <th>7564</th>\n",
       "      <td>598</td>\n",
       "      <td>Germany</td>\n",
       "      <td>Male</td>\n",
       "      <td>38</td>\n",
       "      <td>5.0</td>\n",
       "      <td>101487.18</td>\n",
       "      <td>1</td>\n",
       "      <td>1</td>\n",
       "      <td>1</td>\n",
       "      <td>75959.10</td>\n",
       "      <td>1</td>\n",
       "    </tr>\n",
       "  </tbody>\n",
       "</table>\n",
       "</div>"
      ],
      "text/plain": [
       "      CreditScore Geography Gender  Age  Tenure    Balance  NumOfProducts  \\\n",
       "8197          617    France   Male   54     6.0  102141.90              1   \n",
       "4224          767     Spain   Male   47     2.0       0.00              1   \n",
       "7564          598   Germany   Male   38     5.0  101487.18              1   \n",
       "\n",
       "      HasCrCard  IsActiveMember  EstimatedSalary  Exited  \n",
       "8197          1               1         45325.26       0  \n",
       "4224          1               0         48161.18       1  \n",
       "7564          1               1         75959.10       1  "
      ]
     },
     "execution_count": 97,
     "metadata": {},
     "output_type": "execute_result"
    }
   ],
   "source": [
    "df.sample(3)"
   ]
  },
  {
   "cell_type": "code",
   "execution_count": 98,
   "metadata": {},
   "outputs": [
    {
     "data": {
      "text/plain": [
       "CreditScore          int64\n",
       "Geography           object\n",
       "Gender              object\n",
       "Age                  int64\n",
       "Tenure             float64\n",
       "Balance            float64\n",
       "NumOfProducts        int64\n",
       "HasCrCard            int64\n",
       "IsActiveMember       int64\n",
       "EstimatedSalary    float64\n",
       "Exited               int64\n",
       "dtype: object"
      ]
     },
     "execution_count": 98,
     "metadata": {},
     "output_type": "execute_result"
    }
   ],
   "source": [
    "df.dtypes"
   ]
  },
  {
   "cell_type": "markdown",
   "metadata": {},
   "source": [
    "У нас есть два категориальных принака: `Geography` и `Gender`. Преобразуем их методом `OHE`."
   ]
  },
  {
   "cell_type": "code",
   "execution_count": 99,
   "metadata": {},
   "outputs": [],
   "source": [
    "df_ohe = pd.get_dummies(df, drop_first=True)"
   ]
  },
  {
   "cell_type": "markdown",
   "metadata": {},
   "source": [
    "Проверим результаты:"
   ]
  },
  {
   "cell_type": "code",
   "execution_count": 100,
   "metadata": {
    "scrolled": true
   },
   "outputs": [
    {
     "name": "stdout",
     "output_type": "stream",
     "text": [
      "(10000, 12)\n"
     ]
    },
    {
     "data": {
      "text/html": [
       "<div>\n",
       "<style scoped>\n",
       "    .dataframe tbody tr th:only-of-type {\n",
       "        vertical-align: middle;\n",
       "    }\n",
       "\n",
       "    .dataframe tbody tr th {\n",
       "        vertical-align: top;\n",
       "    }\n",
       "\n",
       "    .dataframe thead th {\n",
       "        text-align: right;\n",
       "    }\n",
       "</style>\n",
       "<table border=\"1\" class=\"dataframe\">\n",
       "  <thead>\n",
       "    <tr style=\"text-align: right;\">\n",
       "      <th></th>\n",
       "      <th>CreditScore</th>\n",
       "      <th>Age</th>\n",
       "      <th>Tenure</th>\n",
       "      <th>Balance</th>\n",
       "      <th>NumOfProducts</th>\n",
       "      <th>HasCrCard</th>\n",
       "      <th>IsActiveMember</th>\n",
       "      <th>EstimatedSalary</th>\n",
       "      <th>Exited</th>\n",
       "      <th>Geography_Germany</th>\n",
       "      <th>Geography_Spain</th>\n",
       "      <th>Gender_Male</th>\n",
       "    </tr>\n",
       "  </thead>\n",
       "  <tbody>\n",
       "    <tr>\n",
       "      <th>0</th>\n",
       "      <td>619</td>\n",
       "      <td>42</td>\n",
       "      <td>2.0</td>\n",
       "      <td>0.00</td>\n",
       "      <td>1</td>\n",
       "      <td>1</td>\n",
       "      <td>1</td>\n",
       "      <td>101348.88</td>\n",
       "      <td>1</td>\n",
       "      <td>0</td>\n",
       "      <td>0</td>\n",
       "      <td>0</td>\n",
       "    </tr>\n",
       "    <tr>\n",
       "      <th>1</th>\n",
       "      <td>608</td>\n",
       "      <td>41</td>\n",
       "      <td>1.0</td>\n",
       "      <td>83807.86</td>\n",
       "      <td>1</td>\n",
       "      <td>0</td>\n",
       "      <td>1</td>\n",
       "      <td>112542.58</td>\n",
       "      <td>0</td>\n",
       "      <td>0</td>\n",
       "      <td>1</td>\n",
       "      <td>0</td>\n",
       "    </tr>\n",
       "    <tr>\n",
       "      <th>2</th>\n",
       "      <td>502</td>\n",
       "      <td>42</td>\n",
       "      <td>8.0</td>\n",
       "      <td>159660.80</td>\n",
       "      <td>3</td>\n",
       "      <td>1</td>\n",
       "      <td>0</td>\n",
       "      <td>113931.57</td>\n",
       "      <td>1</td>\n",
       "      <td>0</td>\n",
       "      <td>0</td>\n",
       "      <td>0</td>\n",
       "    </tr>\n",
       "  </tbody>\n",
       "</table>\n",
       "</div>"
      ],
      "text/plain": [
       "   CreditScore  Age  Tenure    Balance  NumOfProducts  HasCrCard  \\\n",
       "0          619   42     2.0       0.00              1          1   \n",
       "1          608   41     1.0   83807.86              1          0   \n",
       "2          502   42     8.0  159660.80              3          1   \n",
       "\n",
       "   IsActiveMember  EstimatedSalary  Exited  Geography_Germany  \\\n",
       "0               1        101348.88       1                  0   \n",
       "1               1        112542.58       0                  0   \n",
       "2               0        113931.57       1                  0   \n",
       "\n",
       "   Geography_Spain  Gender_Male  \n",
       "0                0            0  \n",
       "1                1            0  \n",
       "2                0            0  "
      ]
     },
     "execution_count": 100,
     "metadata": {},
     "output_type": "execute_result"
    }
   ],
   "source": [
    "print(df_ohe.shape)\n",
    "df_ohe.head(3)"
   ]
  },
  {
   "cell_type": "markdown",
   "metadata": {},
   "source": [
    "### Разделение выборки"
   ]
  },
  {
   "cell_type": "markdown",
   "metadata": {},
   "source": [
    "Разделим ДФ на три выборки в соотношении 60-20-20 (обучающая - валидационная - тестовая):"
   ]
  },
  {
   "cell_type": "code",
   "execution_count": 101,
   "metadata": {},
   "outputs": [],
   "source": [
    "train, valid = train_test_split(df_ohe, test_size=0.4, random_state=12345, stratify=df.Exited)"
   ]
  },
  {
   "cell_type": "code",
   "execution_count": 102,
   "metadata": {},
   "outputs": [],
   "source": [
    "valid, test = train_test_split(valid, test_size=0.5, random_state=12345, stratify=valid.Exited)"
   ]
  },
  {
   "cell_type": "markdown",
   "metadata": {},
   "source": [
    "Извлекаем признаки и целевой признак:"
   ]
  },
  {
   "cell_type": "code",
   "execution_count": 103,
   "metadata": {},
   "outputs": [],
   "source": [
    "features_train = train.drop(['Exited'], axis=1)\n",
    "target_train = train['Exited']\n",
    "\n",
    "features_valid = valid.drop(['Exited'], axis=1)\n",
    "target_valid = valid['Exited']\n",
    "\n",
    "features_test = test.drop(['Exited'], axis=1)\n",
    "target_test = test['Exited']"
   ]
  },
  {
   "cell_type": "markdown",
   "metadata": {},
   "source": [
    "Проверяем размеры получившихся выборок:"
   ]
  },
  {
   "cell_type": "code",
   "execution_count": 104,
   "metadata": {},
   "outputs": [
    {
     "data": {
      "text/plain": [
       "((6000, 11), (6000,))"
      ]
     },
     "execution_count": 104,
     "metadata": {},
     "output_type": "execute_result"
    }
   ],
   "source": [
    "features_train.shape, target_train.shape"
   ]
  },
  {
   "cell_type": "code",
   "execution_count": 105,
   "metadata": {},
   "outputs": [
    {
     "data": {
      "text/plain": [
       "((2000, 11), (2000,))"
      ]
     },
     "execution_count": 105,
     "metadata": {},
     "output_type": "execute_result"
    }
   ],
   "source": [
    "features_valid.shape, target_valid.shape"
   ]
  },
  {
   "cell_type": "code",
   "execution_count": 106,
   "metadata": {},
   "outputs": [
    {
     "data": {
      "text/plain": [
       "((2000, 11), (2000,))"
      ]
     },
     "execution_count": 106,
     "metadata": {},
     "output_type": "execute_result"
    }
   ],
   "source": [
    "features_test.shape, target_test.shape"
   ]
  },
  {
   "cell_type": "markdown",
   "metadata": {},
   "source": [
    "### Масштабирование признаков"
   ]
  },
  {
   "cell_type": "markdown",
   "metadata": {},
   "source": [
    "Создадим объект структуры стандартизации данных и настроим его на обучающих данных."
   ]
  },
  {
   "cell_type": "code",
   "execution_count": 107,
   "metadata": {},
   "outputs": [],
   "source": [
    "columns = features_train.columns"
   ]
  },
  {
   "cell_type": "code",
   "execution_count": 108,
   "metadata": {},
   "outputs": [
    {
     "data": {
      "text/html": [
       "<style>#sk-container-id-2 {color: black;background-color: white;}#sk-container-id-2 pre{padding: 0;}#sk-container-id-2 div.sk-toggleable {background-color: white;}#sk-container-id-2 label.sk-toggleable__label {cursor: pointer;display: block;width: 100%;margin-bottom: 0;padding: 0.3em;box-sizing: border-box;text-align: center;}#sk-container-id-2 label.sk-toggleable__label-arrow:before {content: \"▸\";float: left;margin-right: 0.25em;color: #696969;}#sk-container-id-2 label.sk-toggleable__label-arrow:hover:before {color: black;}#sk-container-id-2 div.sk-estimator:hover label.sk-toggleable__label-arrow:before {color: black;}#sk-container-id-2 div.sk-toggleable__content {max-height: 0;max-width: 0;overflow: hidden;text-align: left;background-color: #f0f8ff;}#sk-container-id-2 div.sk-toggleable__content pre {margin: 0.2em;color: black;border-radius: 0.25em;background-color: #f0f8ff;}#sk-container-id-2 input.sk-toggleable__control:checked~div.sk-toggleable__content {max-height: 200px;max-width: 100%;overflow: auto;}#sk-container-id-2 input.sk-toggleable__control:checked~label.sk-toggleable__label-arrow:before {content: \"▾\";}#sk-container-id-2 div.sk-estimator input.sk-toggleable__control:checked~label.sk-toggleable__label {background-color: #d4ebff;}#sk-container-id-2 div.sk-label input.sk-toggleable__control:checked~label.sk-toggleable__label {background-color: #d4ebff;}#sk-container-id-2 input.sk-hidden--visually {border: 0;clip: rect(1px 1px 1px 1px);clip: rect(1px, 1px, 1px, 1px);height: 1px;margin: -1px;overflow: hidden;padding: 0;position: absolute;width: 1px;}#sk-container-id-2 div.sk-estimator {font-family: monospace;background-color: #f0f8ff;border: 1px dotted black;border-radius: 0.25em;box-sizing: border-box;margin-bottom: 0.5em;}#sk-container-id-2 div.sk-estimator:hover {background-color: #d4ebff;}#sk-container-id-2 div.sk-parallel-item::after {content: \"\";width: 100%;border-bottom: 1px solid gray;flex-grow: 1;}#sk-container-id-2 div.sk-label:hover label.sk-toggleable__label {background-color: #d4ebff;}#sk-container-id-2 div.sk-serial::before {content: \"\";position: absolute;border-left: 1px solid gray;box-sizing: border-box;top: 0;bottom: 0;left: 50%;z-index: 0;}#sk-container-id-2 div.sk-serial {display: flex;flex-direction: column;align-items: center;background-color: white;padding-right: 0.2em;padding-left: 0.2em;position: relative;}#sk-container-id-2 div.sk-item {position: relative;z-index: 1;}#sk-container-id-2 div.sk-parallel {display: flex;align-items: stretch;justify-content: center;background-color: white;position: relative;}#sk-container-id-2 div.sk-item::before, #sk-container-id-2 div.sk-parallel-item::before {content: \"\";position: absolute;border-left: 1px solid gray;box-sizing: border-box;top: 0;bottom: 0;left: 50%;z-index: -1;}#sk-container-id-2 div.sk-parallel-item {display: flex;flex-direction: column;z-index: 1;position: relative;background-color: white;}#sk-container-id-2 div.sk-parallel-item:first-child::after {align-self: flex-end;width: 50%;}#sk-container-id-2 div.sk-parallel-item:last-child::after {align-self: flex-start;width: 50%;}#sk-container-id-2 div.sk-parallel-item:only-child::after {width: 0;}#sk-container-id-2 div.sk-dashed-wrapped {border: 1px dashed gray;margin: 0 0.4em 0.5em 0.4em;box-sizing: border-box;padding-bottom: 0.4em;background-color: white;}#sk-container-id-2 div.sk-label label {font-family: monospace;font-weight: bold;display: inline-block;line-height: 1.2em;}#sk-container-id-2 div.sk-label-container {text-align: center;}#sk-container-id-2 div.sk-container {/* jupyter's `normalize.less` sets `[hidden] { display: none; }` but bootstrap.min.css set `[hidden] { display: none !important; }` so we also need the `!important` here to be able to override the default hidden behavior on the sphinx rendered scikit-learn.org. See: https://github.com/scikit-learn/scikit-learn/issues/21755 */display: inline-block !important;position: relative;}#sk-container-id-2 div.sk-text-repr-fallback {display: none;}</style><div id=\"sk-container-id-2\" class=\"sk-top-container\"><div class=\"sk-text-repr-fallback\"><pre>StandardScaler()</pre><b>In a Jupyter environment, please rerun this cell to show the HTML representation or trust the notebook. <br />On GitHub, the HTML representation is unable to render, please try loading this page with nbviewer.org.</b></div><div class=\"sk-container\" hidden><div class=\"sk-item\"><div class=\"sk-estimator sk-toggleable\"><input class=\"sk-toggleable__control sk-hidden--visually\" id=\"sk-estimator-id-2\" type=\"checkbox\" checked><label for=\"sk-estimator-id-2\" class=\"sk-toggleable__label sk-toggleable__label-arrow\">StandardScaler</label><div class=\"sk-toggleable__content\"><pre>StandardScaler()</pre></div></div></div></div></div>"
      ],
      "text/plain": [
       "StandardScaler()"
      ]
     },
     "execution_count": 108,
     "metadata": {},
     "output_type": "execute_result"
    }
   ],
   "source": [
    "scaler = StandardScaler()\n",
    "scaler.fit(features_train)"
   ]
  },
  {
   "cell_type": "markdown",
   "metadata": {},
   "source": [
    "Преобразуем обучающую, валидационную и тестовую выборки:"
   ]
  },
  {
   "cell_type": "code",
   "execution_count": 109,
   "metadata": {},
   "outputs": [],
   "source": [
    "features_train[columns] = scaler.transform(features_train[columns])\n",
    "features_valid[columns] = scaler.transform(features_valid[columns])\n",
    "features_test[columns] = scaler.transform(features_test[columns])"
   ]
  },
  {
   "cell_type": "markdown",
   "metadata": {},
   "source": [
    "И проверим результаты преобразования:"
   ]
  },
  {
   "cell_type": "code",
   "execution_count": 110,
   "metadata": {},
   "outputs": [
    {
     "data": {
      "text/html": [
       "<div>\n",
       "<style scoped>\n",
       "    .dataframe tbody tr th:only-of-type {\n",
       "        vertical-align: middle;\n",
       "    }\n",
       "\n",
       "    .dataframe tbody tr th {\n",
       "        vertical-align: top;\n",
       "    }\n",
       "\n",
       "    .dataframe thead th {\n",
       "        text-align: right;\n",
       "    }\n",
       "</style>\n",
       "<table border=\"1\" class=\"dataframe\">\n",
       "  <thead>\n",
       "    <tr style=\"text-align: right;\">\n",
       "      <th></th>\n",
       "      <th>CreditScore</th>\n",
       "      <th>Age</th>\n",
       "      <th>Tenure</th>\n",
       "      <th>Balance</th>\n",
       "      <th>NumOfProducts</th>\n",
       "      <th>HasCrCard</th>\n",
       "      <th>IsActiveMember</th>\n",
       "      <th>EstimatedSalary</th>\n",
       "      <th>Geography_Germany</th>\n",
       "      <th>Geography_Spain</th>\n",
       "      <th>Gender_Male</th>\n",
       "    </tr>\n",
       "  </thead>\n",
       "  <tbody>\n",
       "    <tr>\n",
       "      <th>2837</th>\n",
       "      <td>-1.040434</td>\n",
       "      <td>0.953312</td>\n",
       "      <td>0.360915</td>\n",
       "      <td>0.774657</td>\n",
       "      <td>-0.914708</td>\n",
       "      <td>-1.525709</td>\n",
       "      <td>0.969466</td>\n",
       "      <td>-0.119110</td>\n",
       "      <td>1.739007</td>\n",
       "      <td>-0.575811</td>\n",
       "      <td>-1.102198</td>\n",
       "    </tr>\n",
       "    <tr>\n",
       "      <th>9925</th>\n",
       "      <td>0.454006</td>\n",
       "      <td>-0.095244</td>\n",
       "      <td>-0.002300</td>\n",
       "      <td>1.910540</td>\n",
       "      <td>-0.914708</td>\n",
       "      <td>0.655433</td>\n",
       "      <td>0.969466</td>\n",
       "      <td>-0.258658</td>\n",
       "      <td>-0.575041</td>\n",
       "      <td>-0.575811</td>\n",
       "      <td>-1.102198</td>\n",
       "    </tr>\n",
       "    <tr>\n",
       "      <th>8746</th>\n",
       "      <td>0.103585</td>\n",
       "      <td>-0.476537</td>\n",
       "      <td>1.087346</td>\n",
       "      <td>0.481608</td>\n",
       "      <td>0.820981</td>\n",
       "      <td>-1.525709</td>\n",
       "      <td>0.969466</td>\n",
       "      <td>1.422836</td>\n",
       "      <td>-0.575041</td>\n",
       "      <td>-0.575811</td>\n",
       "      <td>0.907278</td>\n",
       "    </tr>\n",
       "    <tr>\n",
       "      <th>660</th>\n",
       "      <td>-0.184996</td>\n",
       "      <td>0.190726</td>\n",
       "      <td>-0.002300</td>\n",
       "      <td>0.088439</td>\n",
       "      <td>-0.914708</td>\n",
       "      <td>0.655433</td>\n",
       "      <td>0.969466</td>\n",
       "      <td>-1.160427</td>\n",
       "      <td>1.739007</td>\n",
       "      <td>-0.575811</td>\n",
       "      <td>-1.102198</td>\n",
       "    </tr>\n",
       "    <tr>\n",
       "      <th>3610</th>\n",
       "      <td>-0.720933</td>\n",
       "      <td>1.620574</td>\n",
       "      <td>-1.455162</td>\n",
       "      <td>0.879129</td>\n",
       "      <td>-0.914708</td>\n",
       "      <td>0.655433</td>\n",
       "      <td>-1.031496</td>\n",
       "      <td>0.113236</td>\n",
       "      <td>-0.575041</td>\n",
       "      <td>-0.575811</td>\n",
       "      <td>-1.102198</td>\n",
       "    </tr>\n",
       "  </tbody>\n",
       "</table>\n",
       "</div>"
      ],
      "text/plain": [
       "      CreditScore       Age    Tenure   Balance  NumOfProducts  HasCrCard  \\\n",
       "2837    -1.040434  0.953312  0.360915  0.774657      -0.914708  -1.525709   \n",
       "9925     0.454006 -0.095244 -0.002300  1.910540      -0.914708   0.655433   \n",
       "8746     0.103585 -0.476537  1.087346  0.481608       0.820981  -1.525709   \n",
       "660     -0.184996  0.190726 -0.002300  0.088439      -0.914708   0.655433   \n",
       "3610    -0.720933  1.620574 -1.455162  0.879129      -0.914708   0.655433   \n",
       "\n",
       "      IsActiveMember  EstimatedSalary  Geography_Germany  Geography_Spain  \\\n",
       "2837        0.969466        -0.119110           1.739007        -0.575811   \n",
       "9925        0.969466        -0.258658          -0.575041        -0.575811   \n",
       "8746        0.969466         1.422836          -0.575041        -0.575811   \n",
       "660         0.969466        -1.160427           1.739007        -0.575811   \n",
       "3610       -1.031496         0.113236          -0.575041        -0.575811   \n",
       "\n",
       "      Gender_Male  \n",
       "2837    -1.102198  \n",
       "9925    -1.102198  \n",
       "8746     0.907278  \n",
       "660     -1.102198  \n",
       "3610    -1.102198  "
      ]
     },
     "execution_count": 110,
     "metadata": {},
     "output_type": "execute_result"
    }
   ],
   "source": [
    "pd.DataFrame(features_train).head()"
   ]
  },
  {
   "cell_type": "code",
   "execution_count": 111,
   "metadata": {},
   "outputs": [
    {
     "data": {
      "text/html": [
       "<div>\n",
       "<style scoped>\n",
       "    .dataframe tbody tr th:only-of-type {\n",
       "        vertical-align: middle;\n",
       "    }\n",
       "\n",
       "    .dataframe tbody tr th {\n",
       "        vertical-align: top;\n",
       "    }\n",
       "\n",
       "    .dataframe thead th {\n",
       "        text-align: right;\n",
       "    }\n",
       "</style>\n",
       "<table border=\"1\" class=\"dataframe\">\n",
       "  <thead>\n",
       "    <tr style=\"text-align: right;\">\n",
       "      <th></th>\n",
       "      <th>CreditScore</th>\n",
       "      <th>Age</th>\n",
       "      <th>Tenure</th>\n",
       "      <th>Balance</th>\n",
       "      <th>NumOfProducts</th>\n",
       "      <th>HasCrCard</th>\n",
       "      <th>IsActiveMember</th>\n",
       "      <th>EstimatedSalary</th>\n",
       "      <th>Geography_Germany</th>\n",
       "      <th>Geography_Spain</th>\n",
       "      <th>Gender_Male</th>\n",
       "    </tr>\n",
       "  </thead>\n",
       "  <tbody>\n",
       "    <tr>\n",
       "      <th>6612</th>\n",
       "      <td>-1.524838</td>\n",
       "      <td>2.383160</td>\n",
       "      <td>-0.728731</td>\n",
       "      <td>1.011655</td>\n",
       "      <td>-0.914708</td>\n",
       "      <td>-1.525709</td>\n",
       "      <td>0.969466</td>\n",
       "      <td>0.010275</td>\n",
       "      <td>-0.575041</td>\n",
       "      <td>-0.575811</td>\n",
       "      <td>-1.102198</td>\n",
       "    </tr>\n",
       "    <tr>\n",
       "      <th>519</th>\n",
       "      <td>0.587990</td>\n",
       "      <td>1.811221</td>\n",
       "      <td>0.360915</td>\n",
       "      <td>0.213192</td>\n",
       "      <td>-0.914708</td>\n",
       "      <td>-1.525709</td>\n",
       "      <td>0.969466</td>\n",
       "      <td>0.453089</td>\n",
       "      <td>-0.575041</td>\n",
       "      <td>-0.575811</td>\n",
       "      <td>0.907278</td>\n",
       "    </tr>\n",
       "    <tr>\n",
       "      <th>1609</th>\n",
       "      <td>-0.318980</td>\n",
       "      <td>-0.381213</td>\n",
       "      <td>1.087346</td>\n",
       "      <td>0.893896</td>\n",
       "      <td>-0.914708</td>\n",
       "      <td>0.655433</td>\n",
       "      <td>-1.031496</td>\n",
       "      <td>-0.603508</td>\n",
       "      <td>-0.575041</td>\n",
       "      <td>-0.575811</td>\n",
       "      <td>-1.102198</td>\n",
       "    </tr>\n",
       "    <tr>\n",
       "      <th>3475</th>\n",
       "      <td>1.226991</td>\n",
       "      <td>-0.762506</td>\n",
       "      <td>-0.365516</td>\n",
       "      <td>-0.240363</td>\n",
       "      <td>0.820981</td>\n",
       "      <td>0.655433</td>\n",
       "      <td>0.969466</td>\n",
       "      <td>-1.621460</td>\n",
       "      <td>-0.575041</td>\n",
       "      <td>-0.575811</td>\n",
       "      <td>0.907278</td>\n",
       "    </tr>\n",
       "    <tr>\n",
       "      <th>2707</th>\n",
       "      <td>-0.133464</td>\n",
       "      <td>-0.095244</td>\n",
       "      <td>-0.728731</td>\n",
       "      <td>0.447305</td>\n",
       "      <td>-0.914708</td>\n",
       "      <td>-1.525709</td>\n",
       "      <td>-1.031496</td>\n",
       "      <td>0.338574</td>\n",
       "      <td>-0.575041</td>\n",
       "      <td>-0.575811</td>\n",
       "      <td>-1.102198</td>\n",
       "    </tr>\n",
       "  </tbody>\n",
       "</table>\n",
       "</div>"
      ],
      "text/plain": [
       "      CreditScore       Age    Tenure   Balance  NumOfProducts  HasCrCard  \\\n",
       "6612    -1.524838  2.383160 -0.728731  1.011655      -0.914708  -1.525709   \n",
       "519      0.587990  1.811221  0.360915  0.213192      -0.914708  -1.525709   \n",
       "1609    -0.318980 -0.381213  1.087346  0.893896      -0.914708   0.655433   \n",
       "3475     1.226991 -0.762506 -0.365516 -0.240363       0.820981   0.655433   \n",
       "2707    -0.133464 -0.095244 -0.728731  0.447305      -0.914708  -1.525709   \n",
       "\n",
       "      IsActiveMember  EstimatedSalary  Geography_Germany  Geography_Spain  \\\n",
       "6612        0.969466         0.010275          -0.575041        -0.575811   \n",
       "519         0.969466         0.453089          -0.575041        -0.575811   \n",
       "1609       -1.031496        -0.603508          -0.575041        -0.575811   \n",
       "3475        0.969466        -1.621460          -0.575041        -0.575811   \n",
       "2707       -1.031496         0.338574          -0.575041        -0.575811   \n",
       "\n",
       "      Gender_Male  \n",
       "6612    -1.102198  \n",
       "519      0.907278  \n",
       "1609    -1.102198  \n",
       "3475     0.907278  \n",
       "2707    -1.102198  "
      ]
     },
     "execution_count": 111,
     "metadata": {},
     "output_type": "execute_result"
    }
   ],
   "source": [
    "pd.DataFrame(features_valid).head()"
   ]
  },
  {
   "cell_type": "code",
   "execution_count": 112,
   "metadata": {},
   "outputs": [
    {
     "data": {
      "text/html": [
       "<div>\n",
       "<style scoped>\n",
       "    .dataframe tbody tr th:only-of-type {\n",
       "        vertical-align: middle;\n",
       "    }\n",
       "\n",
       "    .dataframe tbody tr th {\n",
       "        vertical-align: top;\n",
       "    }\n",
       "\n",
       "    .dataframe thead th {\n",
       "        text-align: right;\n",
       "    }\n",
       "</style>\n",
       "<table border=\"1\" class=\"dataframe\">\n",
       "  <thead>\n",
       "    <tr style=\"text-align: right;\">\n",
       "      <th></th>\n",
       "      <th>CreditScore</th>\n",
       "      <th>Age</th>\n",
       "      <th>Tenure</th>\n",
       "      <th>Balance</th>\n",
       "      <th>NumOfProducts</th>\n",
       "      <th>HasCrCard</th>\n",
       "      <th>IsActiveMember</th>\n",
       "      <th>EstimatedSalary</th>\n",
       "      <th>Geography_Germany</th>\n",
       "      <th>Geography_Spain</th>\n",
       "      <th>Gender_Male</th>\n",
       "    </tr>\n",
       "  </thead>\n",
       "  <tbody>\n",
       "    <tr>\n",
       "      <th>657</th>\n",
       "      <td>-0.504497</td>\n",
       "      <td>1.429928</td>\n",
       "      <td>-1.455162</td>\n",
       "      <td>0.873883</td>\n",
       "      <td>0.820981</td>\n",
       "      <td>0.655433</td>\n",
       "      <td>0.969466</td>\n",
       "      <td>1.725255</td>\n",
       "      <td>1.739007</td>\n",
       "      <td>-0.575811</td>\n",
       "      <td>-1.102198</td>\n",
       "    </tr>\n",
       "    <tr>\n",
       "      <th>2083</th>\n",
       "      <td>-1.195031</td>\n",
       "      <td>-1.429769</td>\n",
       "      <td>-1.455162</td>\n",
       "      <td>-1.219673</td>\n",
       "      <td>-0.914708</td>\n",
       "      <td>0.655433</td>\n",
       "      <td>0.969466</td>\n",
       "      <td>1.203665</td>\n",
       "      <td>-0.575041</td>\n",
       "      <td>-0.575811</td>\n",
       "      <td>0.907278</td>\n",
       "    </tr>\n",
       "    <tr>\n",
       "      <th>3234</th>\n",
       "      <td>-1.267176</td>\n",
       "      <td>0.762665</td>\n",
       "      <td>-1.455162</td>\n",
       "      <td>-1.219673</td>\n",
       "      <td>-0.914708</td>\n",
       "      <td>0.655433</td>\n",
       "      <td>-1.031496</td>\n",
       "      <td>-1.374743</td>\n",
       "      <td>-0.575041</td>\n",
       "      <td>-0.575811</td>\n",
       "      <td>0.907278</td>\n",
       "    </tr>\n",
       "    <tr>\n",
       "      <th>1551</th>\n",
       "      <td>0.825039</td>\n",
       "      <td>1.239281</td>\n",
       "      <td>0.724130</td>\n",
       "      <td>-1.219673</td>\n",
       "      <td>0.820981</td>\n",
       "      <td>-1.525709</td>\n",
       "      <td>0.969466</td>\n",
       "      <td>0.382306</td>\n",
       "      <td>-0.575041</td>\n",
       "      <td>1.736682</td>\n",
       "      <td>-1.102198</td>\n",
       "    </tr>\n",
       "    <tr>\n",
       "      <th>2344</th>\n",
       "      <td>0.660135</td>\n",
       "      <td>0.953312</td>\n",
       "      <td>-0.365516</td>\n",
       "      <td>0.267087</td>\n",
       "      <td>-0.914708</td>\n",
       "      <td>0.655433</td>\n",
       "      <td>-1.031496</td>\n",
       "      <td>-1.613578</td>\n",
       "      <td>1.739007</td>\n",
       "      <td>-0.575811</td>\n",
       "      <td>-1.102198</td>\n",
       "    </tr>\n",
       "  </tbody>\n",
       "</table>\n",
       "</div>"
      ],
      "text/plain": [
       "      CreditScore       Age    Tenure   Balance  NumOfProducts  HasCrCard  \\\n",
       "657     -0.504497  1.429928 -1.455162  0.873883       0.820981   0.655433   \n",
       "2083    -1.195031 -1.429769 -1.455162 -1.219673      -0.914708   0.655433   \n",
       "3234    -1.267176  0.762665 -1.455162 -1.219673      -0.914708   0.655433   \n",
       "1551     0.825039  1.239281  0.724130 -1.219673       0.820981  -1.525709   \n",
       "2344     0.660135  0.953312 -0.365516  0.267087      -0.914708   0.655433   \n",
       "\n",
       "      IsActiveMember  EstimatedSalary  Geography_Germany  Geography_Spain  \\\n",
       "657         0.969466         1.725255           1.739007        -0.575811   \n",
       "2083        0.969466         1.203665          -0.575041        -0.575811   \n",
       "3234       -1.031496        -1.374743          -0.575041        -0.575811   \n",
       "1551        0.969466         0.382306          -0.575041         1.736682   \n",
       "2344       -1.031496        -1.613578           1.739007        -0.575811   \n",
       "\n",
       "      Gender_Male  \n",
       "657     -1.102198  \n",
       "2083     0.907278  \n",
       "3234     0.907278  \n",
       "1551    -1.102198  \n",
       "2344    -1.102198  "
      ]
     },
     "execution_count": 112,
     "metadata": {},
     "output_type": "execute_result"
    }
   ],
   "source": [
    "pd.DataFrame(features_test).head()"
   ]
  },
  {
   "cell_type": "markdown",
   "metadata": {},
   "source": [
    "### Обучение модели без учёта дисбаланса классов"
   ]
  },
  {
   "cell_type": "markdown",
   "metadata": {},
   "source": [
    "Чтобы сократить количество кода будем для каждого типа модели создавать и затем вызывать функцию, которая для данной модели подбирает лучшие параметры путём изменения гиперпараметров в цикле, обучает модель с лучшими параметрами и выводит результаты."
   ]
  },
  {
   "cell_type": "markdown",
   "metadata": {},
   "source": [
    "#### Решающее дерево"
   ]
  },
  {
   "cell_type": "markdown",
   "metadata": {},
   "source": [
    "Создадим и вызовем функцию, которая для модели решающее дерево  подбирает лучшие параметры путём изменения гиперпараметров в цикле, обучает лучшую модель и выводит результаты.<br>"
   ]
  },
  {
   "cell_type": "code",
   "execution_count": 113,
   "metadata": {},
   "outputs": [],
   "source": [
    "def decision_tree_function(f_train, t_train, f_valid, t_valid):\n",
    "\n",
    "    best_max_depth = 1\n",
    "    best_max_features = 1\n",
    "    best_result_train = 0\n",
    "    best_result_valid = 0\n",
    "\n",
    "    for feature in range(7, 15):\n",
    "        for depth in range(10, 17):\n",
    "            model = DecisionTreeClassifier(random_state=12345, max_depth=depth, max_features=feature)        \n",
    "            model.fit(f_train, t_train)\n",
    "\n",
    "            predictions_train = model.predict(f_train)\n",
    "            result_train = f1_score(t_train, predictions_train)\n",
    "            predictions_valid = model.predict(f_valid)\n",
    "            result_valid = f1_score(t_valid, predictions_valid)\n",
    "\n",
    "            print(\"max_depth - {:.0f}, max_features - {:.0f} : F1_train  = {:.6f}, F1_valid  = {:.6f}\".\n",
    "                  format(depth, feature, result_train, result_valid))\n",
    "\n",
    "            if result_valid > best_result_valid:\n",
    "                best_max_depth = depth\n",
    "                best_max_features = feature\n",
    "                best_result_train = result_train\n",
    "                best_result_valid = result_valid\n",
    "                \n",
    "    print(\"\")\n",
    "    print(\"Лучшие результаты и параметры модели решающего дерева на валидационной выборке:\")\n",
    "    print(\"F1_valid: {:.6f}, F1_train: {:.6f}.\".format(best_result_valid, best_result_train))\n",
    "    print(\"max_features: {:.0f}, max_depth: {:.0f}.\".format(best_max_features, best_max_depth))\n",
    "    \n",
    "#     обучает лучшую модель, получает предсказания и переменные для построения графика и расчёта метрик\n",
    "    model = DecisionTreeClassifier(\n",
    "        random_state=12345, max_depth=best_max_depth, max_features=best_max_features)\n",
    "    model.fit(f_train, t_train)\n",
    "    predicted_valid = model.predict(f_valid)\n",
    "    probabilities_valid = model.predict_proba(f_valid)\n",
    "    probabilities_one_valid = probabilities_valid[:, 1]\n",
    "    \n",
    "#     строит график\n",
    "    print(\"\")\n",
    "    fpr, tpr, thresholds = roc_curve(t_valid, probabilities_one_valid) # < напишите код здесь >\n",
    "    plt.figure()\n",
    "    plt.plot(fpr, tpr)\n",
    "    plt.xlim([0.0, 1.0])\n",
    "    plt.ylim([0.0, 1.0])\n",
    "    plt.xlabel('False Positive Rate')\n",
    "    plt.ylabel('True Positive Rate')\n",
    "    plt.title('ROC-кривая')\n",
    "    plt.show()\n",
    "    \n",
    "    print(\"\")\n",
    "    print(\"AUC-ROC:\", roc_auc_score(t_valid, probabilities_one_valid))\n"
   ]
  },
  {
   "cell_type": "code",
   "execution_count": 114,
   "metadata": {},
   "outputs": [
    {
     "name": "stdout",
     "output_type": "stream",
     "text": [
      "max_depth - 10, max_features - 7 : F1_train  = 0.729934, F1_valid  = 0.561308\n",
      "max_depth - 11, max_features - 7 : F1_train  = 0.762967, F1_valid  = 0.563265\n",
      "max_depth - 12, max_features - 7 : F1_train  = 0.821966, F1_valid  = 0.572903\n",
      "max_depth - 13, max_features - 7 : F1_train  = 0.842576, F1_valid  = 0.575096\n",
      "max_depth - 14, max_features - 7 : F1_train  = 0.884801, F1_valid  = 0.574026\n",
      "max_depth - 15, max_features - 7 : F1_train  = 0.920293, F1_valid  = 0.515803\n",
      "max_depth - 16, max_features - 7 : F1_train  = 0.922421, F1_valid  = 0.558198\n",
      "max_depth - 10, max_features - 8 : F1_train  = 0.739110, F1_valid  = 0.557029\n",
      "max_depth - 11, max_features - 8 : F1_train  = 0.761817, F1_valid  = 0.585752\n",
      "max_depth - 12, max_features - 8 : F1_train  = 0.844062, F1_valid  = 0.538765\n",
      "max_depth - 13, max_features - 8 : F1_train  = 0.851140, F1_valid  = 0.568032\n",
      "max_depth - 14, max_features - 8 : F1_train  = 0.906087, F1_valid  = 0.524345\n",
      "max_depth - 15, max_features - 8 : F1_train  = 0.930887, F1_valid  = 0.536108\n",
      "max_depth - 16, max_features - 8 : F1_train  = 0.960875, F1_valid  = 0.530713\n",
      "max_depth - 10, max_features - 9 : F1_train  = 0.750355, F1_valid  = 0.576132\n",
      "max_depth - 11, max_features - 9 : F1_train  = 0.782766, F1_valid  = 0.560626\n",
      "max_depth - 12, max_features - 9 : F1_train  = 0.809546, F1_valid  = 0.555701\n",
      "max_depth - 13, max_features - 9 : F1_train  = 0.865217, F1_valid  = 0.567807\n",
      "max_depth - 14, max_features - 9 : F1_train  = 0.898896, F1_valid  = 0.535897\n",
      "max_depth - 15, max_features - 9 : F1_train  = 0.925655, F1_valid  = 0.538647\n",
      "max_depth - 16, max_features - 9 : F1_train  = 0.957137, F1_valid  = 0.532178\n",
      "max_depth - 10, max_features - 10 : F1_train  = 0.756279, F1_valid  = 0.558140\n",
      "max_depth - 11, max_features - 10 : F1_train  = 0.796134, F1_valid  = 0.533153\n",
      "max_depth - 12, max_features - 10 : F1_train  = 0.842851, F1_valid  = 0.527704\n",
      "max_depth - 13, max_features - 10 : F1_train  = 0.886643, F1_valid  = 0.534351\n",
      "max_depth - 14, max_features - 10 : F1_train  = 0.925118, F1_valid  = 0.502415\n",
      "max_depth - 15, max_features - 10 : F1_train  = 0.945671, F1_valid  = 0.542787\n",
      "max_depth - 16, max_features - 10 : F1_train  = 0.964017, F1_valid  = 0.519512\n",
      "max_depth - 10, max_features - 11 : F1_train  = 0.732075, F1_valid  = 0.546207\n",
      "max_depth - 11, max_features - 11 : F1_train  = 0.769448, F1_valid  = 0.542185\n",
      "max_depth - 12, max_features - 11 : F1_train  = 0.816345, F1_valid  = 0.547908\n",
      "max_depth - 13, max_features - 11 : F1_train  = 0.861307, F1_valid  = 0.547588\n",
      "max_depth - 14, max_features - 11 : F1_train  = 0.906087, F1_valid  = 0.521957\n",
      "max_depth - 15, max_features - 11 : F1_train  = 0.925054, F1_valid  = 0.511222\n",
      "max_depth - 16, max_features - 11 : F1_train  = 0.954028, F1_valid  = 0.503741\n",
      "max_depth - 10, max_features - 12 : F1_train  = 0.732075, F1_valid  = 0.546207\n",
      "max_depth - 11, max_features - 12 : F1_train  = 0.769448, F1_valid  = 0.542185\n",
      "max_depth - 12, max_features - 12 : F1_train  = 0.816345, F1_valid  = 0.547908\n",
      "max_depth - 13, max_features - 12 : F1_train  = 0.861307, F1_valid  = 0.547588\n",
      "max_depth - 14, max_features - 12 : F1_train  = 0.906087, F1_valid  = 0.521957\n",
      "max_depth - 15, max_features - 12 : F1_train  = 0.925054, F1_valid  = 0.511222\n",
      "max_depth - 16, max_features - 12 : F1_train  = 0.954028, F1_valid  = 0.503741\n",
      "max_depth - 10, max_features - 13 : F1_train  = 0.732075, F1_valid  = 0.546207\n",
      "max_depth - 11, max_features - 13 : F1_train  = 0.769448, F1_valid  = 0.542185\n",
      "max_depth - 12, max_features - 13 : F1_train  = 0.816345, F1_valid  = 0.547908\n",
      "max_depth - 13, max_features - 13 : F1_train  = 0.861307, F1_valid  = 0.547588\n",
      "max_depth - 14, max_features - 13 : F1_train  = 0.906087, F1_valid  = 0.521957\n",
      "max_depth - 15, max_features - 13 : F1_train  = 0.925054, F1_valid  = 0.511222\n",
      "max_depth - 16, max_features - 13 : F1_train  = 0.954028, F1_valid  = 0.503741\n",
      "max_depth - 10, max_features - 14 : F1_train  = 0.732075, F1_valid  = 0.546207\n",
      "max_depth - 11, max_features - 14 : F1_train  = 0.769448, F1_valid  = 0.542185\n",
      "max_depth - 12, max_features - 14 : F1_train  = 0.816345, F1_valid  = 0.547908\n",
      "max_depth - 13, max_features - 14 : F1_train  = 0.861307, F1_valid  = 0.547588\n",
      "max_depth - 14, max_features - 14 : F1_train  = 0.906087, F1_valid  = 0.521957\n",
      "max_depth - 15, max_features - 14 : F1_train  = 0.925054, F1_valid  = 0.511222\n",
      "max_depth - 16, max_features - 14 : F1_train  = 0.954028, F1_valid  = 0.503741\n",
      "\n",
      "Лучшие результаты и параметры модели решающего дерева на валидационной выборке:\n",
      "F1_valid: 0.585752, F1_train: 0.761817.\n",
      "max_features: 8, max_depth: 11.\n",
      "\n"
     ]
    },
    {
     "data": {
      "image/png": "[encoded data removed]",
      "text/plain": [
       "<Figure size 432x288 with 1 Axes>"
      ]
     },
     "metadata": {
      "needs_background": "light"
     },
     "output_type": "display_data"
    },
    {
     "name": "stdout",
     "output_type": "stream",
     "text": [
      "\n",
      "AUC-ROC: 0.7838826485368017\n"
     ]
    }
   ],
   "source": [
    "decision_tree_function(features_train, target_train, features_valid, target_valid)"
   ]
  },
  {
   "cell_type": "markdown",
   "metadata": {},
   "source": [
    "Даже без устранения дисбаланса классов достигнуто достаточное значение `F1-меры` на валидационной выборке. При этом модель не выглядит переобученной: разница в значениях метрики на обучающей и валидационной выборках составяет менее 10%.<br>\n",
    "Получены хорошая форма `ROC-кривой` и неплохие (высокие) значения метрики `AUC-ROC`. "
   ]
  },
  {
   "cell_type": "markdown",
   "metadata": {},
   "source": [
    "#### Случайный лес"
   ]
  },
  {
   "cell_type": "markdown",
   "metadata": {},
   "source": [
    "Создадим функцию, которая обучает модель случайного леса путём подбора гиперпараметров в цикле и выводит результаты обучения.<br>"
   ]
  },
  {
   "cell_type": "code",
   "execution_count": 115,
   "metadata": {},
   "outputs": [],
   "source": [
    "def random_forest_function(f_train, t_train, f_valid, t_valid):\n",
    "            \n",
    "    best_max_depth = 1\n",
    "    best_est = 1\n",
    "    best_result_train = 0\n",
    "    best_result_valid = 0\n",
    "\n",
    "    for est in range(80, 151, 10):\n",
    "        for depth in range (9, 14):\n",
    "\n",
    "            model = RandomForestClassifier(random_state=12345, n_estimators=est, max_depth=depth)\n",
    "            model.fit(f_train, t_train)\n",
    "\n",
    "            predictions_train = model.predict(f_train)\n",
    "            result_train = f1_score(t_train, predictions_train)\n",
    "            predictions_valid = model.predict(f_valid)\n",
    "            result_valid = f1_score(t_valid, predictions_valid)\n",
    "    \n",
    "            print(\"max_depth - {:.0f}, n_estimators - {:.0f} : F1_train  = {:.5f}, F1_valid  = {:.5f}\".\n",
    "              format(depth, est, result_train, result_valid))\n",
    "\n",
    "            if result_valid > best_result_valid:\n",
    "                best_max_depth = depth\n",
    "                best_est = est\n",
    "                best_result_train = result_train\n",
    "                best_result_valid = result_valid\n",
    "\n",
    "    print(\"\")\n",
    "    print(\"Лучшие результаты и параметры модели Случайный лес на валидационной выборке:\")\n",
    "    print(\"F1_valid: {:.6f}, F1_train: {:.6f}.\".format(best_result_valid, best_result_train))\n",
    "    print(\"n_estimators: {:.0f}, max_depth: {:.0f}.\".format(best_est, best_max_depth))\n",
    "    \n",
    "    \n",
    "#     обучает лучшую модель, получает предсказания и переменные для построения графика и расчёта метрик\n",
    "    model = RandomForestClassifier(max_depth=best_max_depth, n_estimators=best_est, random_state=12345)\n",
    "    model.fit(f_train, t_train)\n",
    "    predicted_valid = model.predict(f_valid)\n",
    "    probabilities_valid = model.predict_proba(f_valid)\n",
    "    probabilities_one_valid = probabilities_valid[:, 1]\n",
    "    \n",
    "#     строит график\n",
    "    print(\"\")\n",
    "    fpr, tpr, thresholds = roc_curve(t_valid, probabilities_one_valid) # < напишите код здесь >\n",
    "    plt.figure()\n",
    "    plt.plot(fpr, tpr)\n",
    "    plt.xlim([0.0, 1.0])\n",
    "    plt.ylim([0.0, 1.0])\n",
    "    plt.xlabel('False Positive Rate')\n",
    "    plt.ylabel('True Positive Rate')\n",
    "    plt.title('ROC-кривая')\n",
    "    plt.show()\n",
    "    \n",
    "    print(\"\")\n",
    "    print(\"AUC-ROC:\", roc_auc_score(t_valid, probabilities_one_valid))"
   ]
  },
  {
   "cell_type": "code",
   "execution_count": 116,
   "metadata": {},
   "outputs": [
    {
     "name": "stdout",
     "output_type": "stream",
     "text": [
      "max_depth - 9, n_estimators - 80 : F1_train  = 0.65293, F1_valid  = 0.58642\n",
      "max_depth - 10, n_estimators - 80 : F1_train  = 0.70407, F1_valid  = 0.58951\n",
      "max_depth - 11, n_estimators - 80 : F1_train  = 0.74260, F1_valid  = 0.59697\n",
      "max_depth - 12, n_estimators - 80 : F1_train  = 0.79903, F1_valid  = 0.59361\n",
      "max_depth - 13, n_estimators - 80 : F1_train  = 0.86018, F1_valid  = 0.60570\n",
      "max_depth - 9, n_estimators - 90 : F1_train  = 0.65362, F1_valid  = 0.59077\n",
      "max_depth - 10, n_estimators - 90 : F1_train  = 0.70031, F1_valid  = 0.59509\n",
      "max_depth - 11, n_estimators - 90 : F1_train  = 0.74637, F1_valid  = 0.60578\n",
      "max_depth - 12, n_estimators - 90 : F1_train  = 0.80097, F1_valid  = 0.59394\n",
      "max_depth - 13, n_estimators - 90 : F1_train  = 0.86320, F1_valid  = 0.60241\n",
      "max_depth - 9, n_estimators - 100 : F1_train  = 0.65541, F1_valid  = 0.58204\n",
      "max_depth - 10, n_estimators - 100 : F1_train  = 0.70298, F1_valid  = 0.59509\n",
      "max_depth - 11, n_estimators - 100 : F1_train  = 0.74260, F1_valid  = 0.60486\n",
      "max_depth - 12, n_estimators - 100 : F1_train  = 0.79923, F1_valid  = 0.59304\n",
      "max_depth - 13, n_estimators - 100 : F1_train  = 0.86228, F1_valid  = 0.60121\n",
      "max_depth - 9, n_estimators - 110 : F1_train  = 0.65506, F1_valid  = 0.58642\n",
      "max_depth - 10, n_estimators - 110 : F1_train  = 0.70134, F1_valid  = 0.59568\n",
      "max_depth - 11, n_estimators - 110 : F1_train  = 0.74197, F1_valid  = 0.60091\n",
      "max_depth - 12, n_estimators - 110 : F1_train  = 0.79864, F1_valid  = 0.59304\n",
      "max_depth - 13, n_estimators - 110 : F1_train  = 0.86553, F1_valid  = 0.60150\n",
      "max_depth - 9, n_estimators - 120 : F1_train  = 0.65114, F1_valid  = 0.58860\n",
      "max_depth - 10, n_estimators - 120 : F1_train  = 0.69830, F1_valid  = 0.59385\n",
      "max_depth - 11, n_estimators - 120 : F1_train  = 0.74197, F1_valid  = 0.60486\n",
      "max_depth - 12, n_estimators - 120 : F1_train  = 0.79748, F1_valid  = 0.60121\n",
      "max_depth - 13, n_estimators - 120 : F1_train  = 0.86657, F1_valid  = 0.60451\n",
      "max_depth - 9, n_estimators - 130 : F1_train  = 0.65401, F1_valid  = 0.58423\n",
      "max_depth - 10, n_estimators - 130 : F1_train  = 0.70165, F1_valid  = 0.59908\n",
      "max_depth - 11, n_estimators - 130 : F1_train  = 0.74260, F1_valid  = 0.60091\n",
      "max_depth - 12, n_estimators - 130 : F1_train  = 0.79768, F1_valid  = 0.59788\n",
      "max_depth - 13, n_estimators - 130 : F1_train  = 0.86657, F1_valid  = 0.60725\n",
      "max_depth - 9, n_estimators - 140 : F1_train  = 0.65222, F1_valid  = 0.58769\n",
      "max_depth - 10, n_estimators - 140 : F1_train  = 0.70431, F1_valid  = 0.59908\n",
      "max_depth - 11, n_estimators - 140 : F1_train  = 0.74260, F1_valid  = 0.59756\n",
      "max_depth - 12, n_estimators - 140 : F1_train  = 0.79923, F1_valid  = 0.59394\n",
      "max_depth - 13, n_estimators - 140 : F1_train  = 0.87163, F1_valid  = 0.60212\n",
      "max_depth - 9, n_estimators - 150 : F1_train  = 0.65397, F1_valid  = 0.58114\n",
      "max_depth - 10, n_estimators - 150 : F1_train  = 0.70401, F1_valid  = 0.59259\n",
      "max_depth - 11, n_estimators - 150 : F1_train  = 0.74260, F1_valid  = 0.59665\n",
      "max_depth - 12, n_estimators - 150 : F1_train  = 0.79903, F1_valid  = 0.59056\n",
      "max_depth - 13, n_estimators - 150 : F1_train  = 0.87243, F1_valid  = 0.60935\n",
      "\n",
      "Лучшие результаты и параметры модели Случайный лес на валидационной выборке:\n",
      "F1_valid: 0.609351, F1_train: 0.872428.\n",
      "n_estimators: 150, max_depth: 13.\n",
      "\n"
     ]
    },
    {
     "data": {
      "image/png": "[encoded data removed]",
      "text/plain": [
       "<Figure size 432x288 with 1 Axes>"
      ]
     },
     "metadata": {
      "needs_background": "light"
     },
     "output_type": "display_data"
    },
    {
     "name": "stdout",
     "output_type": "stream",
     "text": [
      "\n",
      "AUC-ROC: 0.8683721918415608\n"
     ]
    }
   ],
   "source": [
    "random_forest_function(features_train, target_train, features_valid, target_valid)"
   ]
  },
  {
   "cell_type": "markdown",
   "metadata": {},
   "source": [
    "Модель показала очень хорошие результаты: на валидационной выборке было достигнуто требуемое значение `F1-меры`, лучшее, чем у решающего дерева. Впрочем, така картина может объясняться \"везением\" при распределении данных в валидационную выборку.<br>\n",
    "Однако, эта модель выглядит переобученной: разница в значениях метрики на обучающей и валидационной выборке составляет около 30%.<br>\n",
    "Получилась лучшая из трёх моделей ROC-кривая: резко поднимается вверх и практически прижимается к единице после 0.6: это говорит о хорошей способности модели предсказывать положительный класс. Хотя опять же причиной здесь может быть \"везение\" при распределении данных в выборки."
   ]
  },
  {
   "cell_type": "markdown",
   "metadata": {},
   "source": [
    "Выводы: \n",
    "1. Данные имеют дисбаланс классов примерно 1:4 с перевесом нулевого класса.\n",
    "2. Лучшие значения метрик ожидаемо получились у случайного леса. На втором месте -- решающее дерево. На последнем с большим отставанием логистическая регрессия.<br> При этом для первых двух моделей заданное значение метрики `F1-мера` удалось достичь даже без применения борьбы с дисбалансом."
   ]
  },
  {
   "cell_type": "markdown",
   "metadata": {},
   "source": [
    "## Борьба с дисбалансом"
   ]
  },
  {
   "cell_type": "markdown",
   "metadata": {},
   "source": [
    "Еще раз вспомним значение дисбаланса:"
   ]
  },
  {
   "cell_type": "code",
   "execution_count": 117,
   "metadata": {},
   "outputs": [
    {
     "data": {
      "text/plain": [
       "0    0.7963\n",
       "1    0.2037\n",
       "Name: Exited, dtype: float64"
      ]
     },
     "execution_count": 117,
     "metadata": {},
     "output_type": "execute_result"
    }
   ],
   "source": [
    "df['Exited'].value_counts(normalize=True)"
   ]
  },
  {
   "cell_type": "markdown",
   "metadata": {},
   "source": [
    "Применим для борьбы с дисбалансом методы увеличения выборки и уменьшения выборки и оценим результаты каждого из них."
   ]
  },
  {
   "cell_type": "markdown",
   "metadata": {},
   "source": [
    "### Увеличение выборки"
   ]
  },
  {
   "cell_type": "markdown",
   "metadata": {},
   "source": [
    "Получим размеры выборок:"
   ]
  },
  {
   "cell_type": "code",
   "execution_count": 118,
   "metadata": {},
   "outputs": [
    {
     "data": {
      "text/plain": [
       "((6000, 11), (6000,))"
      ]
     },
     "execution_count": 118,
     "metadata": {},
     "output_type": "execute_result"
    }
   ],
   "source": [
    "features_train.shape, target_train.shape"
   ]
  },
  {
   "cell_type": "markdown",
   "metadata": {},
   "source": [
    "Создадим функцию, которая увеличит количество данных положительного класса кратно значению переменной `repeat`, задаваемому в параметрах функции: "
   ]
  },
  {
   "cell_type": "code",
   "execution_count": 119,
   "metadata": {},
   "outputs": [],
   "source": [
    "def upsample(features, target, repeat):\n",
    "    features_zeros = pd.DataFrame(features[target == 0])\n",
    "    features_ones = pd.DataFrame(features[target == 1])\n",
    "    target_zeros = target[target == 0]\n",
    "    target_ones = target[target == 1]\n",
    "\n",
    "    features_upsampled = pd.concat([features_zeros] + [features_ones] * repeat)\n",
    "    target_upsampled = pd.concat([target_zeros] + [target_ones] * repeat)\n",
    "    \n",
    "    features_upsampled, target_upsampled = shuffle(\n",
    "        features_upsampled, target_upsampled, random_state=12345)\n",
    "    \n",
    "    return features_upsampled, target_upsampled"
   ]
  },
  {
   "cell_type": "markdown",
   "metadata": {},
   "source": [
    "Поскольку наш дисбаланс равен 1:4, при вызове функции передадим в неё парметр `repeat` со значением `4`.<br> Проверим размеры получившихся выборок и новые пропорции распределения классов:"
   ]
  },
  {
   "cell_type": "code",
   "execution_count": 120,
   "metadata": {},
   "outputs": [
    {
     "name": "stdout",
     "output_type": "stream",
     "text": [
      "(9666, 11)\n",
      "(9666,)\n"
     ]
    }
   ],
   "source": [
    "features_upsampled, target_upsampled = upsample(features_train, target_train, 4)\n",
    "\n",
    "print(features_upsampled.shape)\n",
    "print(target_upsampled.shape)"
   ]
  },
  {
   "cell_type": "code",
   "execution_count": 121,
   "metadata": {
    "scrolled": true
   },
   "outputs": [
    {
     "data": {
      "text/plain": [
       "1    0.50569\n",
       "0    0.49431\n",
       "Name: Exited, dtype: float64"
      ]
     },
     "execution_count": 121,
     "metadata": {},
     "output_type": "execute_result"
    }
   ],
   "source": [
    "target_upsampled.value_counts(normalize=True)"
   ]
  },
  {
   "cell_type": "markdown",
   "metadata": {},
   "source": [
    "Цель достигнута: дисбаланс устранён, текущее соотношение классов практически равно 1:1."
   ]
  },
  {
   "cell_type": "markdown",
   "metadata": {},
   "source": [
    "#### Решающее дерево"
   ]
  },
  {
   "cell_type": "markdown",
   "metadata": {},
   "source": [
    "Вызовем ранее созданную функцию модели решающего дерева, передав ей новые параметры выборок. Затем так же поступим и с остальными функциями моделей."
   ]
  },
  {
   "cell_type": "code",
   "execution_count": 122,
   "metadata": {},
   "outputs": [
    {
     "name": "stdout",
     "output_type": "stream",
     "text": [
      "max_depth - 10, max_features - 7 : F1_train  = 0.875947, F1_valid  = 0.523107\n",
      "max_depth - 11, max_features - 7 : F1_train  = 0.889067, F1_valid  = 0.542744\n",
      "max_depth - 12, max_features - 7 : F1_train  = 0.914058, F1_valid  = 0.558376\n",
      "max_depth - 13, max_features - 7 : F1_train  = 0.932828, F1_valid  = 0.510053\n",
      "max_depth - 14, max_features - 7 : F1_train  = 0.952475, F1_valid  = 0.499466\n",
      "max_depth - 15, max_features - 7 : F1_train  = 0.962382, F1_valid  = 0.510823\n",
      "max_depth - 16, max_features - 7 : F1_train  = 0.975942, F1_valid  = 0.524089\n",
      "max_depth - 10, max_features - 8 : F1_train  = 0.864295, F1_valid  = 0.556962\n",
      "max_depth - 11, max_features - 8 : F1_train  = 0.894146, F1_valid  = 0.572314\n",
      "max_depth - 12, max_features - 8 : F1_train  = 0.921119, F1_valid  = 0.543879\n",
      "max_depth - 13, max_features - 8 : F1_train  = 0.944225, F1_valid  = 0.537017\n",
      "max_depth - 14, max_features - 8 : F1_train  = 0.961601, F1_valid  = 0.543624\n",
      "max_depth - 15, max_features - 8 : F1_train  = 0.977155, F1_valid  = 0.530892\n",
      "max_depth - 16, max_features - 8 : F1_train  = 0.984204, F1_valid  = 0.517483\n",
      "max_depth - 10, max_features - 9 : F1_train  = 0.872551, F1_valid  = 0.563492\n",
      "max_depth - 11, max_features - 9 : F1_train  = 0.888247, F1_valid  = 0.556745\n",
      "max_depth - 12, max_features - 9 : F1_train  = 0.930233, F1_valid  = 0.557068\n",
      "max_depth - 13, max_features - 9 : F1_train  = 0.949900, F1_valid  = 0.544662\n",
      "max_depth - 14, max_features - 9 : F1_train  = 0.963904, F1_valid  = 0.535755\n",
      "max_depth - 15, max_features - 9 : F1_train  = 0.980036, F1_valid  = 0.544202\n",
      "max_depth - 16, max_features - 9 : F1_train  = 0.982910, F1_valid  = 0.544170\n",
      "max_depth - 10, max_features - 10 : F1_train  = 0.877270, F1_valid  = 0.545633\n",
      "max_depth - 11, max_features - 10 : F1_train  = 0.899812, F1_valid  = 0.554358\n",
      "max_depth - 12, max_features - 10 : F1_train  = 0.921663, F1_valid  = 0.538144\n",
      "max_depth - 13, max_features - 10 : F1_train  = 0.947691, F1_valid  = 0.519453\n",
      "max_depth - 14, max_features - 10 : F1_train  = 0.962418, F1_valid  = 0.491150\n",
      "max_depth - 15, max_features - 10 : F1_train  = 0.975668, F1_valid  = 0.514286\n",
      "max_depth - 16, max_features - 10 : F1_train  = 0.983402, F1_valid  = 0.517200\n",
      "max_depth - 10, max_features - 11 : F1_train  = 0.873152, F1_valid  = 0.538071\n",
      "max_depth - 11, max_features - 11 : F1_train  = 0.901669, F1_valid  = 0.530271\n",
      "max_depth - 12, max_features - 11 : F1_train  = 0.920212, F1_valid  = 0.513034\n",
      "max_depth - 13, max_features - 11 : F1_train  = 0.943287, F1_valid  = 0.513602\n",
      "max_depth - 14, max_features - 11 : F1_train  = 0.957455, F1_valid  = 0.524664\n",
      "max_depth - 15, max_features - 11 : F1_train  = 0.973473, F1_valid  = 0.522754\n",
      "max_depth - 16, max_features - 11 : F1_train  = 0.981506, F1_valid  = 0.526807\n",
      "max_depth - 10, max_features - 12 : F1_train  = 0.873152, F1_valid  = 0.538071\n",
      "max_depth - 11, max_features - 12 : F1_train  = 0.901669, F1_valid  = 0.530271\n",
      "max_depth - 12, max_features - 12 : F1_train  = 0.920212, F1_valid  = 0.513034\n",
      "max_depth - 13, max_features - 12 : F1_train  = 0.943287, F1_valid  = 0.513602\n",
      "max_depth - 14, max_features - 12 : F1_train  = 0.957455, F1_valid  = 0.524664\n",
      "max_depth - 15, max_features - 12 : F1_train  = 0.973473, F1_valid  = 0.522754\n",
      "max_depth - 16, max_features - 12 : F1_train  = 0.981506, F1_valid  = 0.526807\n",
      "max_depth - 10, max_features - 13 : F1_train  = 0.873152, F1_valid  = 0.538071\n",
      "max_depth - 11, max_features - 13 : F1_train  = 0.901669, F1_valid  = 0.530271\n",
      "max_depth - 12, max_features - 13 : F1_train  = 0.920212, F1_valid  = 0.513034\n",
      "max_depth - 13, max_features - 13 : F1_train  = 0.943287, F1_valid  = 0.513602\n",
      "max_depth - 14, max_features - 13 : F1_train  = 0.957455, F1_valid  = 0.524664\n",
      "max_depth - 15, max_features - 13 : F1_train  = 0.973473, F1_valid  = 0.522754\n",
      "max_depth - 16, max_features - 13 : F1_train  = 0.981506, F1_valid  = 0.526807\n",
      "max_depth - 10, max_features - 14 : F1_train  = 0.873152, F1_valid  = 0.538071\n",
      "max_depth - 11, max_features - 14 : F1_train  = 0.901669, F1_valid  = 0.530271\n",
      "max_depth - 12, max_features - 14 : F1_train  = 0.920212, F1_valid  = 0.513034\n",
      "max_depth - 13, max_features - 14 : F1_train  = 0.943287, F1_valid  = 0.513602\n",
      "max_depth - 14, max_features - 14 : F1_train  = 0.957455, F1_valid  = 0.524664\n",
      "max_depth - 15, max_features - 14 : F1_train  = 0.973473, F1_valid  = 0.522754\n",
      "max_depth - 16, max_features - 14 : F1_train  = 0.981506, F1_valid  = 0.526807\n",
      "\n",
      "Лучшие результаты и параметры модели решающего дерева на валидационной выборке:\n",
      "F1_valid: 0.572314, F1_train: 0.894146.\n",
      "max_features: 8, max_depth: 11.\n",
      "\n"
     ]
    },
    {
     "data": {
      "image/png": "[encoded data removed]",
      "text/plain": [
       "<Figure size 432x288 with 1 Axes>"
      ]
     },
     "metadata": {
      "needs_background": "light"
     },
     "output_type": "display_data"
    },
    {
     "name": "stdout",
     "output_type": "stream",
     "text": [
      "\n",
      "AUC-ROC: 0.7714722509606857\n"
     ]
    }
   ],
   "source": [
    "decision_tree_function(features_upsampled, target_upsampled, features_valid, target_valid)"
   ]
  },
  {
   "cell_type": "markdown",
   "metadata": {},
   "source": [
    "Модель решающего дерева очень слабо отреагировала на увеличение выборки: значение метрики улучшилось незначительно, а вот переобучение модели возросло: разница в значениях метрики на обучающей и валидационной выборках возросла до 18%.<br>\n",
    "Несколько улучшилась (сгладилась при сохранении общего профиля) `ROC-кривая`, а вот значение `AUC-ROC` почти  не изменилось."
   ]
  },
  {
   "cell_type": "markdown",
   "metadata": {},
   "source": [
    "#### Случайный лес"
   ]
  },
  {
   "cell_type": "code",
   "execution_count": 123,
   "metadata": {},
   "outputs": [
    {
     "name": "stdout",
     "output_type": "stream",
     "text": [
      "max_depth - 9, n_estimators - 80 : F1_train  = 0.87229, F1_valid  = 0.64094\n",
      "max_depth - 10, n_estimators - 80 : F1_train  = 0.91403, F1_valid  = 0.63308\n",
      "max_depth - 11, n_estimators - 80 : F1_train  = 0.94806, F1_valid  = 0.63844\n",
      "max_depth - 12, n_estimators - 80 : F1_train  = 0.97211, F1_valid  = 0.63170\n",
      "max_depth - 13, n_estimators - 80 : F1_train  = 0.98806, F1_valid  = 0.63659\n",
      "max_depth - 9, n_estimators - 90 : F1_train  = 0.87418, F1_valid  = 0.63880\n",
      "max_depth - 10, n_estimators - 90 : F1_train  = 0.91179, F1_valid  = 0.63666\n",
      "max_depth - 11, n_estimators - 90 : F1_train  = 0.94786, F1_valid  = 0.63761\n",
      "max_depth - 12, n_estimators - 90 : F1_train  = 0.97314, F1_valid  = 0.63084\n",
      "max_depth - 13, n_estimators - 90 : F1_train  = 0.98725, F1_valid  = 0.63825\n",
      "max_depth - 9, n_estimators - 100 : F1_train  = 0.87453, F1_valid  = 0.63812\n",
      "max_depth - 10, n_estimators - 100 : F1_train  = 0.91349, F1_valid  = 0.64168\n",
      "max_depth - 11, n_estimators - 100 : F1_train  = 0.94782, F1_valid  = 0.63678\n",
      "max_depth - 12, n_estimators - 100 : F1_train  = 0.97314, F1_valid  = 0.63455\n",
      "max_depth - 13, n_estimators - 100 : F1_train  = 0.98745, F1_valid  = 0.63758\n",
      "max_depth - 9, n_estimators - 110 : F1_train  = 0.87362, F1_valid  = 0.63666\n",
      "max_depth - 10, n_estimators - 110 : F1_train  = 0.91644, F1_valid  = 0.64246\n",
      "max_depth - 11, n_estimators - 110 : F1_train  = 0.94792, F1_valid  = 0.63616\n",
      "max_depth - 12, n_estimators - 110 : F1_train  = 0.97262, F1_valid  = 0.63392\n",
      "max_depth - 13, n_estimators - 110 : F1_train  = 0.98684, F1_valid  = 0.63835\n",
      "max_depth - 9, n_estimators - 120 : F1_train  = 0.87353, F1_valid  = 0.64224\n",
      "max_depth - 10, n_estimators - 120 : F1_train  = 0.91530, F1_valid  = 0.64764\n",
      "max_depth - 11, n_estimators - 120 : F1_train  = 0.94801, F1_valid  = 0.63761\n",
      "max_depth - 12, n_estimators - 120 : F1_train  = 0.97417, F1_valid  = 0.63540\n",
      "max_depth - 13, n_estimators - 120 : F1_train  = 0.98686, F1_valid  = 0.64225\n",
      "max_depth - 9, n_estimators - 130 : F1_train  = 0.87473, F1_valid  = 0.64370\n",
      "max_depth - 10, n_estimators - 130 : F1_train  = 0.91332, F1_valid  = 0.65127\n",
      "max_depth - 11, n_estimators - 130 : F1_train  = 0.94864, F1_valid  = 0.63616\n",
      "max_depth - 12, n_estimators - 130 : F1_train  = 0.97245, F1_valid  = 0.63934\n",
      "max_depth - 13, n_estimators - 130 : F1_train  = 0.98686, F1_valid  = 0.64078\n",
      "max_depth - 9, n_estimators - 140 : F1_train  = 0.87436, F1_valid  = 0.64301\n",
      "max_depth - 10, n_estimators - 140 : F1_train  = 0.91044, F1_valid  = 0.64537\n",
      "max_depth - 11, n_estimators - 140 : F1_train  = 0.94917, F1_valid  = 0.63761\n",
      "max_depth - 12, n_estimators - 140 : F1_train  = 0.97294, F1_valid  = 0.63529\n",
      "max_depth - 13, n_estimators - 140 : F1_train  = 0.98715, F1_valid  = 0.64000\n",
      "max_depth - 9, n_estimators - 150 : F1_train  = 0.87406, F1_valid  = 0.64440\n",
      "max_depth - 10, n_estimators - 150 : F1_train  = 0.91054, F1_valid  = 0.64246\n",
      "max_depth - 11, n_estimators - 150 : F1_train  = 0.94911, F1_valid  = 0.63918\n",
      "max_depth - 12, n_estimators - 150 : F1_train  = 0.97294, F1_valid  = 0.63690\n",
      "max_depth - 13, n_estimators - 150 : F1_train  = 0.98665, F1_valid  = 0.63923\n",
      "\n",
      "Лучшие результаты и параметры модели Случайный лес на валидационной выборке:\n",
      "F1_valid: 0.651265, F1_train: 0.913321.\n",
      "n_estimators: 130, max_depth: 10.\n",
      "\n"
     ]
    },
    {
     "data": {
      "image/png": "[encoded data removed]",
      "text/plain": [
       "<Figure size 432x288 with 1 Axes>"
      ]
     },
     "metadata": {
      "needs_background": "light"
     },
     "output_type": "display_data"
    },
    {
     "name": "stdout",
     "output_type": "stream",
     "text": [
      "\n",
      "AUC-ROC: 0.8701904128485565\n"
     ]
    }
   ],
   "source": [
    "random_forest_function(features_upsampled, target_upsampled, features_valid, target_valid)"
   ]
  },
  {
   "cell_type": "markdown",
   "metadata": {},
   "source": [
    "В этой модели значение метрики `F1-мера` улучшилось сильнее, чем у решающего дерева.<br>\n",
    "Однако, \"платой\" за такое улучшение является сильна переобученность модели: разница между значениями метрики на учебной и валидационной выборках составляет более 30%.<br>\n",
    "ROC-кривая практически не изменилась, а вот значение AUC-ROC ухудшилось (уменьшилось), хотя и крайне незначительно."
   ]
  },
  {
   "cell_type": "markdown",
   "metadata": {},
   "source": [
    "### Уменьшение выборки"
   ]
  },
  {
   "cell_type": "markdown",
   "metadata": {},
   "source": [
    "Создадим функцию, которая уменьшит количество данных нулевого класса, сохранив их в количестве, кратном значению переменной `fraction`, задаваемому в параметрах функции: "
   ]
  },
  {
   "cell_type": "code",
   "execution_count": 124,
   "metadata": {},
   "outputs": [],
   "source": [
    "def downsample(features, target, fraction):\n",
    "    features_zeros = pd.DataFrame(features[target == 0])\n",
    "    features_ones = pd.DataFrame(features[target == 1])\n",
    "    target_zeros = target[target == 0]\n",
    "    target_ones = target[target == 1]\n",
    "\n",
    "    features_downsampled = pd.concat(\n",
    "        [features_zeros.sample(frac=fraction, random_state=12345)] + [features_ones])\n",
    "    target_downsampled = pd.concat(\n",
    "        [target_zeros.sample(frac=fraction, random_state=12345)] + [target_ones])\n",
    "        \n",
    "    features_downsampled, target_downsampled = shuffle(\n",
    "        features_downsampled, target_downsampled, random_state=12345)\n",
    "    \n",
    "    return features_downsampled, target_downsampled"
   ]
  },
  {
   "cell_type": "markdown",
   "metadata": {},
   "source": [
    "Поскольку наш дисбаланс равен 1:4, при вызове функции передадим в неё парметр `fraction` со значением `0.25`.<br> Проверим размеры получившихся выборок и новые пропорции распределения классов:"
   ]
  },
  {
   "cell_type": "code",
   "execution_count": 125,
   "metadata": {},
   "outputs": [
    {
     "name": "stdout",
     "output_type": "stream",
     "text": [
      "(2416, 11)\n",
      "(2416,)\n"
     ]
    }
   ],
   "source": [
    "features_downsampled, target_downsampled = downsample(features_train, target_train, 0.25)\n",
    "\n",
    "print(features_downsampled.shape)\n",
    "print(target_downsampled.shape)"
   ]
  },
  {
   "cell_type": "code",
   "execution_count": 126,
   "metadata": {
    "scrolled": true
   },
   "outputs": [
    {
     "data": {
      "text/plain": [
       "1    0.505795\n",
       "0    0.494205\n",
       "Name: Exited, dtype: float64"
      ]
     },
     "execution_count": 126,
     "metadata": {},
     "output_type": "execute_result"
    }
   ],
   "source": [
    "target_downsampled.value_counts(normalize=True)"
   ]
  },
  {
   "cell_type": "markdown",
   "metadata": {},
   "source": [
    "Цель достигнута: дисбаланс устранён, текущее соотношение классов практически равно 1:1."
   ]
  },
  {
   "cell_type": "markdown",
   "metadata": {},
   "source": [
    "#### Решающее дерево"
   ]
  },
  {
   "cell_type": "markdown",
   "metadata": {},
   "source": [
    "Вызовем ранее созданную функцию модели решающего дерева, передав ей новые параметры выборок. Затем так же поступим и с остальными функциями моделей."
   ]
  },
  {
   "cell_type": "code",
   "execution_count": 127,
   "metadata": {},
   "outputs": [
    {
     "name": "stdout",
     "output_type": "stream",
     "text": [
      "max_depth - 10, max_features - 7 : F1_train  = 0.888983, F1_valid  = 0.538249\n",
      "max_depth - 11, max_features - 7 : F1_train  = 0.919550, F1_valid  = 0.540210\n",
      "max_depth - 12, max_features - 7 : F1_train  = 0.930369, F1_valid  = 0.529623\n",
      "max_depth - 13, max_features - 7 : F1_train  = 0.953757, F1_valid  = 0.474606\n",
      "max_depth - 14, max_features - 7 : F1_train  = 0.976151, F1_valid  = 0.497854\n",
      "max_depth - 15, max_features - 7 : F1_train  = 0.984298, F1_valid  = 0.502180\n",
      "max_depth - 16, max_features - 7 : F1_train  = 0.993448, F1_valid  = 0.492360\n",
      "max_depth - 10, max_features - 8 : F1_train  = 0.896609, F1_valid  = 0.542705\n",
      "max_depth - 11, max_features - 8 : F1_train  = 0.919521, F1_valid  = 0.533452\n",
      "max_depth - 12, max_features - 8 : F1_train  = 0.937110, F1_valid  = 0.541667\n",
      "max_depth - 13, max_features - 8 : F1_train  = 0.970273, F1_valid  = 0.512069\n",
      "max_depth - 14, max_features - 8 : F1_train  = 0.985638, F1_valid  = 0.504721\n",
      "max_depth - 15, max_features - 8 : F1_train  = 0.989725, F1_valid  = 0.486986\n",
      "max_depth - 16, max_features - 8 : F1_train  = 0.997953, F1_valid  = 0.497869\n",
      "max_depth - 10, max_features - 9 : F1_train  = 0.893237, F1_valid  = 0.538603\n",
      "max_depth - 11, max_features - 9 : F1_train  = 0.918609, F1_valid  = 0.541379\n",
      "max_depth - 12, max_features - 9 : F1_train  = 0.952264, F1_valid  = 0.526946\n",
      "max_depth - 13, max_features - 9 : F1_train  = 0.967848, F1_valid  = 0.519231\n",
      "max_depth - 14, max_features - 9 : F1_train  = 0.978601, F1_valid  = 0.524786\n",
      "max_depth - 15, max_features - 9 : F1_train  = 0.992611, F1_valid  = 0.480335\n",
      "max_depth - 16, max_features - 9 : F1_train  = 0.998772, F1_valid  = 0.498741\n",
      "max_depth - 10, max_features - 10 : F1_train  = 0.901592, F1_valid  = 0.527320\n",
      "max_depth - 11, max_features - 10 : F1_train  = 0.926002, F1_valid  = 0.526502\n",
      "max_depth - 12, max_features - 10 : F1_train  = 0.942101, F1_valid  = 0.520619\n",
      "max_depth - 13, max_features - 10 : F1_train  = 0.958882, F1_valid  = 0.510785\n",
      "max_depth - 14, max_features - 10 : F1_train  = 0.977199, F1_valid  = 0.513625\n",
      "max_depth - 15, max_features - 10 : F1_train  = 0.989370, F1_valid  = 0.506372\n",
      "max_depth - 16, max_features - 10 : F1_train  = 0.993437, F1_valid  = 0.519966\n",
      "max_depth - 10, max_features - 11 : F1_train  = 0.891709, F1_valid  = 0.572222\n",
      "max_depth - 11, max_features - 11 : F1_train  = 0.920911, F1_valid  = 0.541777\n",
      "max_depth - 12, max_features - 11 : F1_train  = 0.941860, F1_valid  = 0.536155\n",
      "max_depth - 13, max_features - 11 : F1_train  = 0.960728, F1_valid  = 0.531822\n",
      "max_depth - 14, max_features - 11 : F1_train  = 0.974928, F1_valid  = 0.517811\n",
      "max_depth - 15, max_features - 11 : F1_train  = 0.985173, F1_valid  = 0.504259\n",
      "max_depth - 16, max_features - 11 : F1_train  = 0.995090, F1_valid  = 0.508389\n",
      "max_depth - 10, max_features - 12 : F1_train  = 0.891709, F1_valid  = 0.572222\n",
      "max_depth - 11, max_features - 12 : F1_train  = 0.920911, F1_valid  = 0.541777\n",
      "max_depth - 12, max_features - 12 : F1_train  = 0.941860, F1_valid  = 0.536155\n",
      "max_depth - 13, max_features - 12 : F1_train  = 0.960728, F1_valid  = 0.531822\n",
      "max_depth - 14, max_features - 12 : F1_train  = 0.974928, F1_valid  = 0.517811\n",
      "max_depth - 15, max_features - 12 : F1_train  = 0.985173, F1_valid  = 0.504259\n",
      "max_depth - 16, max_features - 12 : F1_train  = 0.995090, F1_valid  = 0.508389\n",
      "max_depth - 10, max_features - 13 : F1_train  = 0.891709, F1_valid  = 0.572222\n",
      "max_depth - 11, max_features - 13 : F1_train  = 0.920911, F1_valid  = 0.541777\n",
      "max_depth - 12, max_features - 13 : F1_train  = 0.941860, F1_valid  = 0.536155\n",
      "max_depth - 13, max_features - 13 : F1_train  = 0.960728, F1_valid  = 0.531822\n",
      "max_depth - 14, max_features - 13 : F1_train  = 0.974928, F1_valid  = 0.517811\n",
      "max_depth - 15, max_features - 13 : F1_train  = 0.985173, F1_valid  = 0.504259\n",
      "max_depth - 16, max_features - 13 : F1_train  = 0.995090, F1_valid  = 0.508389\n",
      "max_depth - 10, max_features - 14 : F1_train  = 0.891709, F1_valid  = 0.572222\n",
      "max_depth - 11, max_features - 14 : F1_train  = 0.920911, F1_valid  = 0.541777\n",
      "max_depth - 12, max_features - 14 : F1_train  = 0.941860, F1_valid  = 0.536155\n",
      "max_depth - 13, max_features - 14 : F1_train  = 0.960728, F1_valid  = 0.531822\n",
      "max_depth - 14, max_features - 14 : F1_train  = 0.974928, F1_valid  = 0.517811\n",
      "max_depth - 15, max_features - 14 : F1_train  = 0.985173, F1_valid  = 0.504259\n",
      "max_depth - 16, max_features - 14 : F1_train  = 0.995090, F1_valid  = 0.508389\n",
      "\n",
      "Лучшие результаты и параметры модели решающего дерева на валидационной выборке:\n",
      "F1_valid: 0.572222, F1_train: 0.891709.\n",
      "max_features: 11, max_depth: 10.\n",
      "\n"
     ]
    },
    {
     "data": {
      "image/png": "[encoded data removed]",
      "text/plain": [
       "<Figure size 432x288 with 1 Axes>"
      ]
     },
     "metadata": {
      "needs_background": "light"
     },
     "output_type": "display_data"
    },
    {
     "name": "stdout",
     "output_type": "stream",
     "text": [
      "\n",
      "AUC-ROC: 0.780852023598384\n"
     ]
    }
   ],
   "source": [
    "decision_tree_function(features_downsampled, target_downsampled, features_valid, target_valid)"
   ]
  },
  {
   "cell_type": "markdown",
   "metadata": {},
   "source": [
    "Реакция модели решающего дерева на уменьшение выборки даже хуже, чем на увеличение: метрика очень назначительно, но ухудшилась по сравнению с первоначальной (без учёта дисбаланса).<br>\n",
    "Также незначительно ухудшились кривизна `ROC-кривой` и значение метрики `AUC-ROC`. "
   ]
  },
  {
   "cell_type": "markdown",
   "metadata": {},
   "source": [
    "#### Случайный лес"
   ]
  },
  {
   "cell_type": "code",
   "execution_count": 128,
   "metadata": {},
   "outputs": [
    {
     "name": "stdout",
     "output_type": "stream",
     "text": [
      "max_depth - 9, n_estimators - 80 : F1_train  = 0.89920, F1_valid  = 0.62128\n",
      "max_depth - 10, n_estimators - 80 : F1_train  = 0.93138, F1_valid  = 0.61524\n",
      "max_depth - 11, n_estimators - 80 : F1_train  = 0.96229, F1_valid  = 0.61290\n",
      "max_depth - 12, n_estimators - 80 : F1_train  = 0.98021, F1_valid  = 0.61991\n",
      "max_depth - 13, n_estimators - 80 : F1_train  = 0.99302, F1_valid  = 0.60902\n",
      "max_depth - 9, n_estimators - 90 : F1_train  = 0.90004, F1_valid  = 0.62273\n",
      "max_depth - 10, n_estimators - 90 : F1_train  = 0.93144, F1_valid  = 0.61377\n",
      "max_depth - 11, n_estimators - 90 : F1_train  = 0.96189, F1_valid  = 0.61318\n",
      "max_depth - 12, n_estimators - 90 : F1_train  = 0.97851, F1_valid  = 0.61524\n",
      "max_depth - 13, n_estimators - 90 : F1_train  = 0.99302, F1_valid  = 0.60837\n",
      "max_depth - 9, n_estimators - 100 : F1_train  = 0.90189, F1_valid  = 0.62201\n",
      "max_depth - 10, n_estimators - 100 : F1_train  = 0.92959, F1_valid  = 0.61773\n",
      "max_depth - 11, n_estimators - 100 : F1_train  = 0.96152, F1_valid  = 0.61244\n",
      "max_depth - 12, n_estimators - 100 : F1_train  = 0.97936, F1_valid  = 0.61263\n",
      "max_depth - 13, n_estimators - 100 : F1_train  = 0.99261, F1_valid  = 0.60297\n",
      "max_depth - 9, n_estimators - 110 : F1_train  = 0.89975, F1_valid  = 0.61405\n",
      "max_depth - 10, n_estimators - 110 : F1_train  = 0.93021, F1_valid  = 0.61656\n",
      "max_depth - 11, n_estimators - 110 : F1_train  = 0.96186, F1_valid  = 0.61700\n",
      "max_depth - 12, n_estimators - 110 : F1_train  = 0.97893, F1_valid  = 0.61033\n",
      "max_depth - 13, n_estimators - 110 : F1_train  = 0.99385, F1_valid  = 0.60037\n",
      "max_depth - 9, n_estimators - 120 : F1_train  = 0.89996, F1_valid  = 0.62261\n",
      "max_depth - 10, n_estimators - 120 : F1_train  = 0.92932, F1_valid  = 0.61846\n",
      "max_depth - 11, n_estimators - 120 : F1_train  = 0.96192, F1_valid  = 0.61509\n",
      "max_depth - 12, n_estimators - 120 : F1_train  = 0.97897, F1_valid  = 0.61364\n",
      "max_depth - 13, n_estimators - 120 : F1_train  = 0.99385, F1_valid  = 0.60335\n",
      "max_depth - 9, n_estimators - 130 : F1_train  = 0.89696, F1_valid  = 0.62115\n",
      "max_depth - 10, n_estimators - 130 : F1_train  = 0.92785, F1_valid  = 0.61248\n",
      "max_depth - 11, n_estimators - 130 : F1_train  = 0.96275, F1_valid  = 0.60640\n",
      "max_depth - 12, n_estimators - 130 : F1_train  = 0.97648, F1_valid  = 0.61553\n",
      "max_depth - 13, n_estimators - 130 : F1_train  = 0.99302, F1_valid  = 0.59981\n",
      "max_depth - 9, n_estimators - 140 : F1_train  = 0.89903, F1_valid  = 0.62524\n",
      "max_depth - 10, n_estimators - 140 : F1_train  = 0.92971, F1_valid  = 0.61321\n",
      "max_depth - 11, n_estimators - 140 : F1_train  = 0.96139, F1_valid  = 0.61248\n",
      "max_depth - 12, n_estimators - 140 : F1_train  = 0.97811, F1_valid  = 0.61480\n",
      "max_depth - 13, n_estimators - 140 : F1_train  = 0.99261, F1_valid  = 0.60332\n",
      "max_depth - 9, n_estimators - 150 : F1_train  = 0.89958, F1_valid  = 0.62584\n",
      "max_depth - 10, n_estimators - 150 : F1_train  = 0.92797, F1_valid  = 0.61394\n",
      "max_depth - 11, n_estimators - 150 : F1_train  = 0.96183, F1_valid  = 0.60960\n",
      "max_depth - 12, n_estimators - 150 : F1_train  = 0.97769, F1_valid  = 0.61148\n",
      "max_depth - 13, n_estimators - 150 : F1_train  = 0.99261, F1_valid  = 0.60388\n",
      "\n",
      "Лучшие результаты и параметры модели Случайный лес на валидационной выборке:\n",
      "F1_valid: 0.625837, F1_train: 0.899578.\n",
      "n_estimators: 150, max_depth: 9.\n",
      "\n"
     ]
    },
    {
     "data": {
      "image/png": "[encoded data removed]",
      "text/plain": [
       "<Figure size 432x288 with 1 Axes>"
      ]
     },
     "metadata": {
      "needs_background": "light"
     },
     "output_type": "display_data"
    },
    {
     "name": "stdout",
     "output_type": "stream",
     "text": [
      "\n",
      "AUC-ROC: 0.8675885555227116\n"
     ]
    }
   ],
   "source": [
    "random_forest_function(features_downsampled, target_downsampled, features_valid, target_valid)"
   ]
  },
  {
   "cell_type": "markdown",
   "metadata": {},
   "source": [
    "Значение метрики `F1-мера` у модели случайный лес при уменьшении выборки стало заметно хуже, чем при увеличении и практически сравнялось с первоначальным (без учёта дисбаланса).<br>\n",
    "Кроме того почти до 40% увеличился разрыв между значениями метрики на обучающей и валидационной выборках, что указывает на увеличение переобучения.<br>\n",
    "А вот форма ROC-кривой несколько улучшилась, так же, как и значение AUC-ROC, которое улучшилось, но незначительно."
   ]
  },
  {
   "cell_type": "markdown",
   "metadata": {},
   "source": [
    "Итоговый вывод: наилучшее значение метрики `F1-мера` на валидационной выборке показала модель случайного леса при увеличении размера выборки. Её и будем тестировать."
   ]
  },
  {
   "cell_type": "markdown",
   "metadata": {},
   "source": [
    "## Тестирование модели"
   ]
  },
  {
   "cell_type": "markdown",
   "metadata": {},
   "source": [
    "Объединим обучающую и валидационную выборки в их первоначальном (до увеличения и уменьшения) виде.<br>"
   ]
  },
  {
   "cell_type": "code",
   "execution_count": 129,
   "metadata": {},
   "outputs": [
    {
     "name": "stdout",
     "output_type": "stream",
     "text": [
      "(6000, 11) (2000, 11)\n",
      "(6000,) (2000,)\n"
     ]
    }
   ],
   "source": [
    "print(features_train.shape, features_valid.shape)\n",
    "print(target_train.shape, target_valid.shape)"
   ]
  },
  {
   "cell_type": "code",
   "execution_count": 130,
   "metadata": {},
   "outputs": [],
   "source": [
    "features_train = pd.concat([pd.DataFrame(features_train), pd.DataFrame(features_valid)], ignore_index=True)\n",
    "target_train = pd.concat([target_train, target_valid], ignore_index=True)"
   ]
  },
  {
   "cell_type": "markdown",
   "metadata": {},
   "source": [
    "Проверм корректность объединения:"
   ]
  },
  {
   "cell_type": "code",
   "execution_count": 131,
   "metadata": {},
   "outputs": [
    {
     "data": {
      "text/plain": [
       "((8000, 11), (8000,))"
      ]
     },
     "execution_count": 131,
     "metadata": {},
     "output_type": "execute_result"
    }
   ],
   "source": [
    "features_train.shape, target_train.shape"
   ]
  },
  {
   "cell_type": "code",
   "execution_count": 132,
   "metadata": {},
   "outputs": [
    {
     "data": {
      "text/html": [
       "<div>\n",
       "<style scoped>\n",
       "    .dataframe tbody tr th:only-of-type {\n",
       "        vertical-align: middle;\n",
       "    }\n",
       "\n",
       "    .dataframe tbody tr th {\n",
       "        vertical-align: top;\n",
       "    }\n",
       "\n",
       "    .dataframe thead th {\n",
       "        text-align: right;\n",
       "    }\n",
       "</style>\n",
       "<table border=\"1\" class=\"dataframe\">\n",
       "  <thead>\n",
       "    <tr style=\"text-align: right;\">\n",
       "      <th></th>\n",
       "      <th>CreditScore</th>\n",
       "      <th>Age</th>\n",
       "      <th>Tenure</th>\n",
       "      <th>Balance</th>\n",
       "      <th>NumOfProducts</th>\n",
       "      <th>HasCrCard</th>\n",
       "      <th>IsActiveMember</th>\n",
       "      <th>EstimatedSalary</th>\n",
       "      <th>Geography_Germany</th>\n",
       "      <th>Geography_Spain</th>\n",
       "      <th>Gender_Male</th>\n",
       "    </tr>\n",
       "  </thead>\n",
       "  <tbody>\n",
       "    <tr>\n",
       "      <th>7354</th>\n",
       "      <td>-1.576371</td>\n",
       "      <td>-1.429769</td>\n",
       "      <td>-0.728731</td>\n",
       "      <td>-1.219673</td>\n",
       "      <td>0.820981</td>\n",
       "      <td>0.655433</td>\n",
       "      <td>-1.031496</td>\n",
       "      <td>-0.417402</td>\n",
       "      <td>-0.575041</td>\n",
       "      <td>1.736682</td>\n",
       "      <td>0.907278</td>\n",
       "    </tr>\n",
       "    <tr>\n",
       "      <th>449</th>\n",
       "      <td>0.227263</td>\n",
       "      <td>-0.762506</td>\n",
       "      <td>0.360915</td>\n",
       "      <td>0.236195</td>\n",
       "      <td>-0.914708</td>\n",
       "      <td>0.655433</td>\n",
       "      <td>-1.031496</td>\n",
       "      <td>1.336506</td>\n",
       "      <td>-0.575041</td>\n",
       "      <td>-0.575811</td>\n",
       "      <td>0.907278</td>\n",
       "    </tr>\n",
       "    <tr>\n",
       "      <th>7855</th>\n",
       "      <td>0.577683</td>\n",
       "      <td>-1.429769</td>\n",
       "      <td>-1.091946</td>\n",
       "      <td>1.034265</td>\n",
       "      <td>-0.914708</td>\n",
       "      <td>0.655433</td>\n",
       "      <td>0.969466</td>\n",
       "      <td>-1.321022</td>\n",
       "      <td>-0.575041</td>\n",
       "      <td>1.736682</td>\n",
       "      <td>0.907278</td>\n",
       "    </tr>\n",
       "    <tr>\n",
       "      <th>5139</th>\n",
       "      <td>-0.422045</td>\n",
       "      <td>0.000079</td>\n",
       "      <td>1.087346</td>\n",
       "      <td>1.043797</td>\n",
       "      <td>-0.914708</td>\n",
       "      <td>-1.525709</td>\n",
       "      <td>0.969466</td>\n",
       "      <td>1.308145</td>\n",
       "      <td>-0.575041</td>\n",
       "      <td>-0.575811</td>\n",
       "      <td>-1.102198</td>\n",
       "    </tr>\n",
       "    <tr>\n",
       "      <th>2940</th>\n",
       "      <td>1.835074</td>\n",
       "      <td>-1.048476</td>\n",
       "      <td>1.087346</td>\n",
       "      <td>0.933426</td>\n",
       "      <td>-0.914708</td>\n",
       "      <td>0.655433</td>\n",
       "      <td>-1.031496</td>\n",
       "      <td>-0.365850</td>\n",
       "      <td>-0.575041</td>\n",
       "      <td>1.736682</td>\n",
       "      <td>0.907278</td>\n",
       "    </tr>\n",
       "  </tbody>\n",
       "</table>\n",
       "</div>"
      ],
      "text/plain": [
       "      CreditScore       Age    Tenure   Balance  NumOfProducts  HasCrCard  \\\n",
       "7354    -1.576371 -1.429769 -0.728731 -1.219673       0.820981   0.655433   \n",
       "449      0.227263 -0.762506  0.360915  0.236195      -0.914708   0.655433   \n",
       "7855     0.577683 -1.429769 -1.091946  1.034265      -0.914708   0.655433   \n",
       "5139    -0.422045  0.000079  1.087346  1.043797      -0.914708  -1.525709   \n",
       "2940     1.835074 -1.048476  1.087346  0.933426      -0.914708   0.655433   \n",
       "\n",
       "      IsActiveMember  EstimatedSalary  Geography_Germany  Geography_Spain  \\\n",
       "7354       -1.031496        -0.417402          -0.575041         1.736682   \n",
       "449        -1.031496         1.336506          -0.575041        -0.575811   \n",
       "7855        0.969466        -1.321022          -0.575041         1.736682   \n",
       "5139        0.969466         1.308145          -0.575041        -0.575811   \n",
       "2940       -1.031496        -0.365850          -0.575041         1.736682   \n",
       "\n",
       "      Gender_Male  \n",
       "7354     0.907278  \n",
       "449      0.907278  \n",
       "7855     0.907278  \n",
       "5139    -1.102198  \n",
       "2940     0.907278  "
      ]
     },
     "execution_count": 132,
     "metadata": {},
     "output_type": "execute_result"
    }
   ],
   "source": [
    "features_train.sample(5)"
   ]
  },
  {
   "cell_type": "markdown",
   "metadata": {},
   "source": [
    "Проведём увеличение выборки с тем же параметрами, как мы это делали раньше:"
   ]
  },
  {
   "cell_type": "code",
   "execution_count": 133,
   "metadata": {},
   "outputs": [
    {
     "name": "stdout",
     "output_type": "stream",
     "text": [
      "(12890, 11) (12890,)\n"
     ]
    }
   ],
   "source": [
    "features_upsampled, target_upsampled = upsample(features_train, target_train, 4)\n",
    "print(features_upsampled.shape, target_upsampled.shape)"
   ]
  },
  {
   "cell_type": "markdown",
   "metadata": {},
   "source": [
    "Проверим отсутствие дисбаланса:"
   ]
  },
  {
   "cell_type": "code",
   "execution_count": 134,
   "metadata": {
    "scrolled": true
   },
   "outputs": [
    {
     "data": {
      "text/plain": [
       "1    0.505818\n",
       "0    0.494182\n",
       "Name: Exited, dtype: float64"
      ]
     },
     "execution_count": 134,
     "metadata": {},
     "output_type": "execute_result"
    }
   ],
   "source": [
    "target_upsampled.value_counts(normalize=True)"
   ]
  },
  {
   "cell_type": "markdown",
   "metadata": {},
   "source": [
    "Обучим модель с фикисрованными лучшими параметрами:"
   ]
  },
  {
   "cell_type": "code",
   "execution_count": 135,
   "metadata": {},
   "outputs": [],
   "source": [
    "model = RandomForestClassifier(max_depth=12, n_estimators=130, random_state=12345)\n",
    "model.fit(features_upsampled, target_upsampled)\n",
    "predictied_test = model.predict(features_test)\n",
    "probabilities_test = model.predict_proba(features_test)\n",
    "probabilities_one_test = probabilities_test[:, 1]"
   ]
  },
  {
   "cell_type": "code",
   "execution_count": 136,
   "metadata": {},
   "outputs": [
    {
     "name": "stdout",
     "output_type": "stream",
     "text": [
      "F1-мера: 0.596244131455399\n"
     ]
    }
   ],
   "source": [
    "print(\"F1-мера:\", f1_score(target_test, predictied_test))"
   ]
  },
  {
   "cell_type": "code",
   "execution_count": 137,
   "metadata": {},
   "outputs": [
    {
     "data": {
      "image/png": "[encoded data removed]",
      "text/plain": [
       "<Figure size 432x288 with 1 Axes>"
      ]
     },
     "metadata": {
      "needs_background": "light"
     },
     "output_type": "display_data"
    }
   ],
   "source": [
    "fpr, tpr, thresholds = roc_curve(target_test, probabilities_one_test) # < напишите код здесь >\n",
    "plt.figure()\n",
    "plt.plot(fpr, tpr)\n",
    "plt.xlim([0.0, 1.0])\n",
    "plt.ylim([0.0, 1.0])\n",
    "plt.xlabel('False Positive Rate')\n",
    "plt.ylabel('True Positive Rate')\n",
    "plt.title('ROC-кривая')\n",
    "\n",
    "plt.show()"
   ]
  },
  {
   "cell_type": "code",
   "execution_count": 138,
   "metadata": {},
   "outputs": [
    {
     "name": "stdout",
     "output_type": "stream",
     "text": [
      "AUC-ROC: 0.857604908452366\n"
     ]
    }
   ],
   "source": [
    "print(\"AUC-ROC:\", roc_auc_score(target_test, probabilities_one_test))"
   ]
  },
  {
   "cell_type": "markdown",
   "metadata": {},
   "source": [
    "**Итоговый вывод:**<br>\n",
    "*цель проекта* -- построить модель, прогнозирующую уход клиентов из банка по историческим данным о клиентах, с параметрами метрики *F1*-меры не ниже 0.59.<br> \n",
    "Проведёны:<br>\n",
    "- предобработка исторических данных, в ходе которой пропуски в данных о продолжительности отношений клиента с банком (`Tenure`) были заполнены медианными значениями этого параметра, сгрупированными по стране, полу и возрастному диапазону;\n",
    "- оценка трёх моделей: решаюшее дерево, случайный лес и логистическая регрессия на исходных данных без учёта дисбаланса классов;\n",
    "- борьба с выявленным дисбалансом классов в данных с использованием методов увеличения и уменьшения выборки. Наилучший вариант достигнут при увеличении выборки.<br>\n",
    "\n",
    "В итоговой модели выбран алгортм случайного леса, обученный на увеличенной выборке. Значения метрики `F1-мера` на тестовых данных для итогового алгоритма составило 0.613, метрики `AUC-ROC` - 0.859."
   ]
  },
  {
   "cell_type": "markdown",
   "metadata": {},
   "source": [
    "## Чек-лист готовности проекта"
   ]
  },
  {
   "cell_type": "markdown",
   "metadata": {},
   "source": [
    "Поставьте 'x' в выполненных пунктах. Далее нажмите Shift+Enter."
   ]
  },
  {
   "cell_type": "markdown",
   "metadata": {},
   "source": [
    "- [x]  Jupyter Notebook открыт\n",
    "- [x]  Весь код выполняется без ошибок\n",
    "- [x]  Ячейки с кодом расположены в порядке исполнения\n",
    "- [x]  Выполнен шаг 1: данные подготовлены\n",
    "- [x]  Выполнен шаг 2: задача исследована\n",
    "    - [x]  Исследован баланс классов\n",
    "    - [x]  Изучены модели без учёта дисбаланса\n",
    "    - [x]  Написаны выводы по результатам исследования\n",
    "- [x]  Выполнен шаг 3: учтён дисбаланс\n",
    "    - [x]  Применено несколько способов борьбы с дисбалансом\n",
    "    - [x]  Написаны выводы по результатам исследования\n",
    "- [x]  Выполнен шаг 4: проведено тестирование\n",
    "- [x]  Удалось достичь *F1*-меры не менее 0.59\n",
    "- [x]  Исследована метрика *AUC-ROC*"
   ]
  },
  {
   "cell_type": "code",
   "execution_count": null,
   "metadata": {},
   "outputs": [],
   "source": []
  }
 ],
 "metadata": {
  "kernelspec": {
   "display_name": "Python 3 (ipykernel)",
   "language": "python",
   "name": "python3"
  },
  "language_info": {
   "codemirror_mode": {
    "name": "ipython",
    "version": 3
   },
   "file_extension": ".py",
   "mimetype": "text/x-python",
   "name": "python",
   "nbconvert_exporter": "python",
   "pygments_lexer": "ipython3",
   "version": "3.9.13"
  },
  "toc": {
   "base_numbering": 1,
   "nav_menu": {},
   "number_sections": true,
   "sideBar": true,
   "skip_h1_title": true,
   "title_cell": "Содержание",
   "title_sidebar": "Contents",
   "toc_cell": true,
   "toc_position": {
    "height": "calc(100% - 180px)",
    "left": "10px",
    "top": "150px",
    "width": "226px"
   },
   "toc_section_display": true,
   "toc_window_display": true
  }
 },
 "nbformat": 4,
 "nbformat_minor": 2
}
