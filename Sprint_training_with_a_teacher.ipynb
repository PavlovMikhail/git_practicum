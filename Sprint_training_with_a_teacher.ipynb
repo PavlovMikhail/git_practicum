{
 "cells": [
  {
   "cell_type": "markdown",
   "metadata": {},
   "source": [
    "Ссылка на репозиторий:\\\n",
    "https://github.com/PavlovMikhail/git_practicum.git"
   ]
  },
  {
   "cell_type": "markdown",
   "metadata": {
    "toc": true
   },
   "source": [
    "<h1>Содержание<span class=\"tocSkip\"></span></h1>\n",
    "<div class=\"toc\"><ul class=\"toc-item\"><li><span><a href=\"#Подготовка-данных\" data-toc-modified-id=\"Подготовка-данных-1\"><span class=\"toc-item-num\">1&nbsp;&nbsp;</span>Подготовка данных</a></span><ul class=\"toc-item\"><li><span><a href=\"#Чтение-данных-и-общая-информация\" data-toc-modified-id=\"Чтение-данных-и-общая-информация-1.1\"><span class=\"toc-item-num\">1.1&nbsp;&nbsp;</span>Чтение данных и общая информация</a></span></li><li><span><a href=\"#Обработка-пропусков-в-данных\" data-toc-modified-id=\"Обработка-пропусков-в-данных-1.2\"><span class=\"toc-item-num\">1.2&nbsp;&nbsp;</span>Обработка пропусков в данных</a></span></li><li><span><a href=\"#Удаление-лишних-значений-в-данных\" data-toc-modified-id=\"Удаление-лишних-значений-в-данных-1.3\"><span class=\"toc-item-num\">1.3&nbsp;&nbsp;</span>Удаление лишних значений в данных</a></span></li><li><span><a href=\"#Поиск-аномальных-значений-в-данных\" data-toc-modified-id=\"Поиск-аномальных-значений-в-данных-1.4\"><span class=\"toc-item-num\">1.4&nbsp;&nbsp;</span>Поиск аномальных значений в данных</a></span></li></ul></li><li><span><a href=\"#Исследование-задачи\" data-toc-modified-id=\"Исследование-задачи-2\"><span class=\"toc-item-num\">2&nbsp;&nbsp;</span>Исследование задачи</a></span><ul class=\"toc-item\"><li><span><a href=\"#Подготока-категориальных-признаков\" data-toc-modified-id=\"Подготока-категориальных-признаков-2.1\"><span class=\"toc-item-num\">2.1&nbsp;&nbsp;</span>Подготока категориальных признаков</a></span></li><li><span><a href=\"#Разделение-выборки\" data-toc-modified-id=\"Разделение-выборки-2.2\"><span class=\"toc-item-num\">2.2&nbsp;&nbsp;</span>Разделение выборки</a></span></li><li><span><a href=\"#Масштабирование-признаков\" data-toc-modified-id=\"Масштабирование-признаков-2.3\"><span class=\"toc-item-num\">2.3&nbsp;&nbsp;</span>Масштабирование признаков</a></span></li><li><span><a href=\"#Обучение-модели-без-учёта-дисбаланса-классов\" data-toc-modified-id=\"Обучение-модели-без-учёта-дисбаланса-классов-2.4\"><span class=\"toc-item-num\">2.4&nbsp;&nbsp;</span>Обучение модели без учёта дисбаланса классов</a></span><ul class=\"toc-item\"><li><span><a href=\"#Решающее-дерево\" data-toc-modified-id=\"Решающее-дерево-2.4.1\"><span class=\"toc-item-num\">2.4.1&nbsp;&nbsp;</span>Решающее дерево</a></span></li><li><span><a href=\"#Случайный-лес\" data-toc-modified-id=\"Случайный-лес-2.4.2\"><span class=\"toc-item-num\">2.4.2&nbsp;&nbsp;</span>Случайный лес</a></span></li><li><span><a href=\"#Логистическая-регрессия\" data-toc-modified-id=\"Логистическая-регрессия-2.4.3\"><span class=\"toc-item-num\">2.4.3&nbsp;&nbsp;</span>Логистическая регрессия</a></span></li></ul></li></ul></li><li><span><a href=\"#Борьба-с-дисбалансом\" data-toc-modified-id=\"Борьба-с-дисбалансом-3\"><span class=\"toc-item-num\">3&nbsp;&nbsp;</span>Борьба с дисбалансом</a></span><ul class=\"toc-item\"><li><span><a href=\"#Увеличение-выборки\" data-toc-modified-id=\"Увеличение-выборки-3.1\"><span class=\"toc-item-num\">3.1&nbsp;&nbsp;</span>Увеличение выборки</a></span><ul class=\"toc-item\"><li><span><a href=\"#Решающее-дерево\" data-toc-modified-id=\"Решающее-дерево-3.1.1\"><span class=\"toc-item-num\">3.1.1&nbsp;&nbsp;</span>Решающее дерево</a></span></li><li><span><a href=\"#Случайный-лес\" data-toc-modified-id=\"Случайный-лес-3.1.2\"><span class=\"toc-item-num\">3.1.2&nbsp;&nbsp;</span>Случайный лес</a></span></li><li><span><a href=\"#Логистическая-регрессия\" data-toc-modified-id=\"Логистическая-регрессия-3.1.3\"><span class=\"toc-item-num\">3.1.3&nbsp;&nbsp;</span>Логистическая регрессия</a></span></li></ul></li><li><span><a href=\"#Уменьшение-выборки\" data-toc-modified-id=\"Уменьшение-выборки-3.2\"><span class=\"toc-item-num\">3.2&nbsp;&nbsp;</span>Уменьшение выборки</a></span><ul class=\"toc-item\"><li><span><a href=\"#Решающее-дерево\" data-toc-modified-id=\"Решающее-дерево-3.2.1\"><span class=\"toc-item-num\">3.2.1&nbsp;&nbsp;</span>Решающее дерево</a></span></li><li><span><a href=\"#Случайный-лес\" data-toc-modified-id=\"Случайный-лес-3.2.2\"><span class=\"toc-item-num\">3.2.2&nbsp;&nbsp;</span>Случайный лес</a></span></li><li><span><a href=\"#Логистическая-регрессия\" data-toc-modified-id=\"Логистическая-регрессия-3.2.3\"><span class=\"toc-item-num\">3.2.3&nbsp;&nbsp;</span>Логистическая регрессия</a></span></li></ul></li></ul></li><li><span><a href=\"#Тестирование-модели\" data-toc-modified-id=\"Тестирование-модели-4\"><span class=\"toc-item-num\">4&nbsp;&nbsp;</span>Тестирование модели</a></span></li><li><span><a href=\"#Чек-лист-готовности-проекта\" data-toc-modified-id=\"Чек-лист-готовности-проекта-5\"><span class=\"toc-item-num\">5&nbsp;&nbsp;</span>Чек-лист готовности проекта</a></span></li></ul></div>"
   ]
  },
  {
   "cell_type": "markdown",
   "metadata": {},
   "source": [
    "# Отток клиентов"
   ]
  },
  {
   "cell_type": "markdown",
   "metadata": {},
   "source": [
    "Из «Бета-Банка» стали уходить клиенты. Каждый месяц. Немного, но заметно. Банковские маркетологи посчитали: сохранять текущих клиентов дешевле, чем привлекать новых.\n",
    "\n",
    "Нужно спрогнозировать, уйдёт клиент из банка в ближайшее время или нет. Вам предоставлены исторические данные о поведении клиентов и расторжении договоров с банком. \n",
    "\n",
    "Постройте модель с предельно большим значением *F1*-меры. Чтобы сдать проект успешно, нужно довести метрику до 0.59. Проверьте *F1*-меру на тестовой выборке самостоятельно.\n",
    "\n",
    "Дополнительно измеряйте *AUC-ROC*, сравнивайте её значение с *F1*-мерой.\n",
    "\n",
    "Источник данных: [https://www.kaggle.com/barelydedicated/bank-customer-churn-modeling](https://www.kaggle.com/barelydedicated/bank-customer-churn-modeling)"
   ]
  },
  {
   "cell_type": "markdown",
   "metadata": {},
   "source": [
    "## Подготовка данных"
   ]
  },
  {
   "cell_type": "code",
   "execution_count": 1,
   "metadata": {},
   "outputs": [],
   "source": [
    "import pandas as pd\n",
    "import numpy as np\n",
    "\n",
    "from matplotlib import pyplot as plt\n",
    "%matplotlib inline\n",
    "\n",
    "from sklearn.tree import DecisionTreeClassifier\n",
    "from sklearn.linear_model import LogisticRegression\n",
    "from sklearn.ensemble import RandomForestClassifier\n",
    "\n",
    "from sklearn.dummy import DummyClassifier\n",
    "from sklearn.preprocessing import StandardScaler\n",
    "\n",
    "from sklearn.model_selection import train_test_split, cross_val_score, RandomizedSearchCV, GridSearchCV\n",
    "from sklearn.metrics import accuracy_score, f1_score, roc_curve, roc_auc_score\n",
    "from sklearn.utils import shuffle"
   ]
  },
  {
   "cell_type": "markdown",
   "metadata": {},
   "source": [
    "### Чтение данных и общая информация"
   ]
  },
  {
   "cell_type": "code",
   "execution_count": 2,
   "metadata": {},
   "outputs": [],
   "source": [
    "# чтение данных и создание df\n",
    "try:\n",
    "    df = pd.read_csv('Churn.csv')\n",
    "except:\n",
    "    df = pd.read_csv('https://code.s3.yandex.net/datasets/Churn.csv')"
   ]
  },
  {
   "cell_type": "code",
   "execution_count": 3,
   "metadata": {
    "scrolled": false
   },
   "outputs": [
    {
     "name": "stdout",
     "output_type": "stream",
     "text": [
      "<class 'pandas.core.frame.DataFrame'>\n",
      "RangeIndex: 10000 entries, 0 to 9999\n",
      "Data columns (total 14 columns):\n",
      " #   Column           Non-Null Count  Dtype  \n",
      "---  ------           --------------  -----  \n",
      " 0   RowNumber        10000 non-null  int64  \n",
      " 1   CustomerId       10000 non-null  int64  \n",
      " 2   Surname          10000 non-null  object \n",
      " 3   CreditScore      10000 non-null  int64  \n",
      " 4   Geography        10000 non-null  object \n",
      " 5   Gender           10000 non-null  object \n",
      " 6   Age              10000 non-null  int64  \n",
      " 7   Tenure           9091 non-null   float64\n",
      " 8   Balance          10000 non-null  float64\n",
      " 9   NumOfProducts    10000 non-null  int64  \n",
      " 10  HasCrCard        10000 non-null  int64  \n",
      " 11  IsActiveMember   10000 non-null  int64  \n",
      " 12  EstimatedSalary  10000 non-null  float64\n",
      " 13  Exited           10000 non-null  int64  \n",
      "dtypes: float64(3), int64(8), object(3)\n",
      "memory usage: 1.1+ MB\n"
     ]
    },
    {
     "data": {
      "text/html": [
       "<div>\n",
       "<style scoped>\n",
       "    .dataframe tbody tr th:only-of-type {\n",
       "        vertical-align: middle;\n",
       "    }\n",
       "\n",
       "    .dataframe tbody tr th {\n",
       "        vertical-align: top;\n",
       "    }\n",
       "\n",
       "    .dataframe thead th {\n",
       "        text-align: right;\n",
       "    }\n",
       "</style>\n",
       "<table border=\"1\" class=\"dataframe\">\n",
       "  <thead>\n",
       "    <tr style=\"text-align: right;\">\n",
       "      <th></th>\n",
       "      <th>RowNumber</th>\n",
       "      <th>CustomerId</th>\n",
       "      <th>Surname</th>\n",
       "      <th>CreditScore</th>\n",
       "      <th>Geography</th>\n",
       "      <th>Gender</th>\n",
       "      <th>Age</th>\n",
       "      <th>Tenure</th>\n",
       "      <th>Balance</th>\n",
       "      <th>NumOfProducts</th>\n",
       "      <th>HasCrCard</th>\n",
       "      <th>IsActiveMember</th>\n",
       "      <th>EstimatedSalary</th>\n",
       "      <th>Exited</th>\n",
       "    </tr>\n",
       "  </thead>\n",
       "  <tbody>\n",
       "    <tr>\n",
       "      <th>0</th>\n",
       "      <td>1</td>\n",
       "      <td>15634602</td>\n",
       "      <td>Hargrave</td>\n",
       "      <td>619</td>\n",
       "      <td>France</td>\n",
       "      <td>Female</td>\n",
       "      <td>42</td>\n",
       "      <td>2.0</td>\n",
       "      <td>0.00</td>\n",
       "      <td>1</td>\n",
       "      <td>1</td>\n",
       "      <td>1</td>\n",
       "      <td>101348.88</td>\n",
       "      <td>1</td>\n",
       "    </tr>\n",
       "    <tr>\n",
       "      <th>1</th>\n",
       "      <td>2</td>\n",
       "      <td>15647311</td>\n",
       "      <td>Hill</td>\n",
       "      <td>608</td>\n",
       "      <td>Spain</td>\n",
       "      <td>Female</td>\n",
       "      <td>41</td>\n",
       "      <td>1.0</td>\n",
       "      <td>83807.86</td>\n",
       "      <td>1</td>\n",
       "      <td>0</td>\n",
       "      <td>1</td>\n",
       "      <td>112542.58</td>\n",
       "      <td>0</td>\n",
       "    </tr>\n",
       "    <tr>\n",
       "      <th>2</th>\n",
       "      <td>3</td>\n",
       "      <td>15619304</td>\n",
       "      <td>Onio</td>\n",
       "      <td>502</td>\n",
       "      <td>France</td>\n",
       "      <td>Female</td>\n",
       "      <td>42</td>\n",
       "      <td>8.0</td>\n",
       "      <td>159660.80</td>\n",
       "      <td>3</td>\n",
       "      <td>1</td>\n",
       "      <td>0</td>\n",
       "      <td>113931.57</td>\n",
       "      <td>1</td>\n",
       "    </tr>\n",
       "    <tr>\n",
       "      <th>3</th>\n",
       "      <td>4</td>\n",
       "      <td>15701354</td>\n",
       "      <td>Boni</td>\n",
       "      <td>699</td>\n",
       "      <td>France</td>\n",
       "      <td>Female</td>\n",
       "      <td>39</td>\n",
       "      <td>1.0</td>\n",
       "      <td>0.00</td>\n",
       "      <td>2</td>\n",
       "      <td>0</td>\n",
       "      <td>0</td>\n",
       "      <td>93826.63</td>\n",
       "      <td>0</td>\n",
       "    </tr>\n",
       "    <tr>\n",
       "      <th>4</th>\n",
       "      <td>5</td>\n",
       "      <td>15737888</td>\n",
       "      <td>Mitchell</td>\n",
       "      <td>850</td>\n",
       "      <td>Spain</td>\n",
       "      <td>Female</td>\n",
       "      <td>43</td>\n",
       "      <td>2.0</td>\n",
       "      <td>125510.82</td>\n",
       "      <td>1</td>\n",
       "      <td>1</td>\n",
       "      <td>1</td>\n",
       "      <td>79084.10</td>\n",
       "      <td>0</td>\n",
       "    </tr>\n",
       "  </tbody>\n",
       "</table>\n",
       "</div>"
      ],
      "text/plain": [
       "   RowNumber  CustomerId   Surname  CreditScore Geography  Gender  Age  \\\n",
       "0          1    15634602  Hargrave          619    France  Female   42   \n",
       "1          2    15647311      Hill          608     Spain  Female   41   \n",
       "2          3    15619304      Onio          502    France  Female   42   \n",
       "3          4    15701354      Boni          699    France  Female   39   \n",
       "4          5    15737888  Mitchell          850     Spain  Female   43   \n",
       "\n",
       "   Tenure    Balance  NumOfProducts  HasCrCard  IsActiveMember  \\\n",
       "0     2.0       0.00              1          1               1   \n",
       "1     1.0   83807.86              1          0               1   \n",
       "2     8.0  159660.80              3          1               0   \n",
       "3     1.0       0.00              2          0               0   \n",
       "4     2.0  125510.82              1          1               1   \n",
       "\n",
       "   EstimatedSalary  Exited  \n",
       "0        101348.88       1  \n",
       "1        112542.58       0  \n",
       "2        113931.57       1  \n",
       "3         93826.63       0  \n",
       "4         79084.10       0  "
      ]
     },
     "execution_count": 3,
     "metadata": {},
     "output_type": "execute_result"
    }
   ],
   "source": [
    "# общая информация и первые пять строк\n",
    "df.info()\n",
    "df.head()"
   ]
  },
  {
   "cell_type": "markdown",
   "metadata": {},
   "source": [
    "Здесь можно сказать, что мы имеем достаточное количество данных -- данные по 10000 клиентов, которые практически не нуждаются в обработке: типы данных везде заданы корректно, пропуски пристутсвуют только в одном столбце. Остаётся решить проблему с пропусками и проверить данные на аномальные значения.<br>\n",
    "Правда, 13 столбцов не считая целевого признака -- это довольно большое количество признаков для обучения моделей. Даже с учётом того, что далее мы избавимся от нескольких, как от явно бесполезных, их всё равно останется ещё довольно много."
   ]
  },
  {
   "cell_type": "code",
   "execution_count": 4,
   "metadata": {},
   "outputs": [
    {
     "data": {
      "text/html": [
       "<div>\n",
       "<style scoped>\n",
       "    .dataframe tbody tr th:only-of-type {\n",
       "        vertical-align: middle;\n",
       "    }\n",
       "\n",
       "    .dataframe tbody tr th {\n",
       "        vertical-align: top;\n",
       "    }\n",
       "\n",
       "    .dataframe thead th {\n",
       "        text-align: right;\n",
       "    }\n",
       "</style>\n",
       "<table border=\"1\" class=\"dataframe\">\n",
       "  <thead>\n",
       "    <tr style=\"text-align: right;\">\n",
       "      <th></th>\n",
       "      <th>CreditScore</th>\n",
       "      <th>Age</th>\n",
       "      <th>Tenure</th>\n",
       "      <th>Balance</th>\n",
       "      <th>EstimatedSalary</th>\n",
       "      <th>HasCrCard</th>\n",
       "      <th>IsActiveMember</th>\n",
       "      <th>NumOfProducts</th>\n",
       "      <th>Exited</th>\n",
       "    </tr>\n",
       "  </thead>\n",
       "  <tbody>\n",
       "    <tr>\n",
       "      <th>CreditScore</th>\n",
       "      <td>1.000000</td>\n",
       "      <td>-0.003965</td>\n",
       "      <td>-0.000062</td>\n",
       "      <td>0.006268</td>\n",
       "      <td>-0.001384</td>\n",
       "      <td>-0.005458</td>\n",
       "      <td>0.025651</td>\n",
       "      <td>0.012238</td>\n",
       "      <td>-0.027094</td>\n",
       "    </tr>\n",
       "    <tr>\n",
       "      <th>Age</th>\n",
       "      <td>-0.003965</td>\n",
       "      <td>1.000000</td>\n",
       "      <td>-0.013134</td>\n",
       "      <td>0.028308</td>\n",
       "      <td>-0.007201</td>\n",
       "      <td>-0.011721</td>\n",
       "      <td>0.085472</td>\n",
       "      <td>-0.030680</td>\n",
       "      <td>0.285323</td>\n",
       "    </tr>\n",
       "    <tr>\n",
       "      <th>Tenure</th>\n",
       "      <td>-0.000062</td>\n",
       "      <td>-0.013134</td>\n",
       "      <td>1.000000</td>\n",
       "      <td>-0.007911</td>\n",
       "      <td>0.010520</td>\n",
       "      <td>0.027232</td>\n",
       "      <td>-0.032178</td>\n",
       "      <td>0.011979</td>\n",
       "      <td>-0.016761</td>\n",
       "    </tr>\n",
       "    <tr>\n",
       "      <th>Balance</th>\n",
       "      <td>0.006268</td>\n",
       "      <td>0.028308</td>\n",
       "      <td>-0.007911</td>\n",
       "      <td>1.000000</td>\n",
       "      <td>0.012797</td>\n",
       "      <td>-0.014858</td>\n",
       "      <td>-0.010084</td>\n",
       "      <td>-0.304180</td>\n",
       "      <td>0.118533</td>\n",
       "    </tr>\n",
       "    <tr>\n",
       "      <th>EstimatedSalary</th>\n",
       "      <td>-0.001384</td>\n",
       "      <td>-0.007201</td>\n",
       "      <td>0.010520</td>\n",
       "      <td>0.012797</td>\n",
       "      <td>1.000000</td>\n",
       "      <td>-0.009933</td>\n",
       "      <td>-0.011421</td>\n",
       "      <td>0.014204</td>\n",
       "      <td>0.012097</td>\n",
       "    </tr>\n",
       "    <tr>\n",
       "      <th>HasCrCard</th>\n",
       "      <td>-0.005458</td>\n",
       "      <td>-0.011721</td>\n",
       "      <td>0.027232</td>\n",
       "      <td>-0.014858</td>\n",
       "      <td>-0.009933</td>\n",
       "      <td>1.000000</td>\n",
       "      <td>-0.011866</td>\n",
       "      <td>0.003183</td>\n",
       "      <td>-0.007138</td>\n",
       "    </tr>\n",
       "    <tr>\n",
       "      <th>IsActiveMember</th>\n",
       "      <td>0.025651</td>\n",
       "      <td>0.085472</td>\n",
       "      <td>-0.032178</td>\n",
       "      <td>-0.010084</td>\n",
       "      <td>-0.011421</td>\n",
       "      <td>-0.011866</td>\n",
       "      <td>1.000000</td>\n",
       "      <td>0.009612</td>\n",
       "      <td>-0.156128</td>\n",
       "    </tr>\n",
       "    <tr>\n",
       "      <th>NumOfProducts</th>\n",
       "      <td>0.012238</td>\n",
       "      <td>-0.030680</td>\n",
       "      <td>0.011979</td>\n",
       "      <td>-0.304180</td>\n",
       "      <td>0.014204</td>\n",
       "      <td>0.003183</td>\n",
       "      <td>0.009612</td>\n",
       "      <td>1.000000</td>\n",
       "      <td>-0.047820</td>\n",
       "    </tr>\n",
       "    <tr>\n",
       "      <th>Exited</th>\n",
       "      <td>-0.027094</td>\n",
       "      <td>0.285323</td>\n",
       "      <td>-0.016761</td>\n",
       "      <td>0.118533</td>\n",
       "      <td>0.012097</td>\n",
       "      <td>-0.007138</td>\n",
       "      <td>-0.156128</td>\n",
       "      <td>-0.047820</td>\n",
       "      <td>1.000000</td>\n",
       "    </tr>\n",
       "  </tbody>\n",
       "</table>\n",
       "</div>"
      ],
      "text/plain": [
       "                 CreditScore       Age    Tenure   Balance  EstimatedSalary  \\\n",
       "CreditScore         1.000000 -0.003965 -0.000062  0.006268        -0.001384   \n",
       "Age                -0.003965  1.000000 -0.013134  0.028308        -0.007201   \n",
       "Tenure             -0.000062 -0.013134  1.000000 -0.007911         0.010520   \n",
       "Balance             0.006268  0.028308 -0.007911  1.000000         0.012797   \n",
       "EstimatedSalary    -0.001384 -0.007201  0.010520  0.012797         1.000000   \n",
       "HasCrCard          -0.005458 -0.011721  0.027232 -0.014858        -0.009933   \n",
       "IsActiveMember      0.025651  0.085472 -0.032178 -0.010084        -0.011421   \n",
       "NumOfProducts       0.012238 -0.030680  0.011979 -0.304180         0.014204   \n",
       "Exited             -0.027094  0.285323 -0.016761  0.118533         0.012097   \n",
       "\n",
       "                 HasCrCard  IsActiveMember  NumOfProducts    Exited  \n",
       "CreditScore      -0.005458        0.025651       0.012238 -0.027094  \n",
       "Age              -0.011721        0.085472      -0.030680  0.285323  \n",
       "Tenure            0.027232       -0.032178       0.011979 -0.016761  \n",
       "Balance          -0.014858       -0.010084      -0.304180  0.118533  \n",
       "EstimatedSalary  -0.009933       -0.011421       0.014204  0.012097  \n",
       "HasCrCard         1.000000       -0.011866       0.003183 -0.007138  \n",
       "IsActiveMember   -0.011866        1.000000       0.009612 -0.156128  \n",
       "NumOfProducts     0.003183        0.009612       1.000000 -0.047820  \n",
       "Exited           -0.007138       -0.156128      -0.047820  1.000000  "
      ]
     },
     "execution_count": 4,
     "metadata": {},
     "output_type": "execute_result"
    }
   ],
   "source": [
    "# вычисляет корреляцию между столбцами в срезе\n",
    "df[['CreditScore', 'Age', 'Tenure', 'Balance', 'EstimatedSalary', 'HasCrCard', \\\n",
    "    'IsActiveMember', 'NumOfProducts', 'Exited']].corr()"
   ]
  },
  {
   "cell_type": "code",
   "execution_count": 5,
   "metadata": {},
   "outputs": [
    {
     "data": {
      "text/plain": [
       "RowNumber            0\n",
       "CustomerId           0\n",
       "Surname              0\n",
       "CreditScore          0\n",
       "Geography            0\n",
       "Gender               0\n",
       "Age                  0\n",
       "Tenure             909\n",
       "Balance              0\n",
       "NumOfProducts        0\n",
       "HasCrCard            0\n",
       "IsActiveMember       0\n",
       "EstimatedSalary      0\n",
       "Exited               0\n",
       "dtype: int64"
      ]
     },
     "execution_count": 5,
     "metadata": {},
     "output_type": "execute_result"
    }
   ],
   "source": [
    "# кол-во пропусков в каждом столбце\n",
    "df.isna().sum()"
   ]
  },
  {
   "cell_type": "code",
   "execution_count": 6,
   "metadata": {},
   "outputs": [
    {
     "data": {
      "text/plain": [
       "(10000, 14)"
      ]
     },
     "execution_count": 6,
     "metadata": {},
     "output_type": "execute_result"
    }
   ],
   "source": [
    "# проверяет размеры таблицы\n",
    "df.shape"
   ]
  },
  {
   "cell_type": "markdown",
   "metadata": {},
   "source": [
    "### Обработка пропусков в данных"
   ]
  },
  {
   "cell_type": "markdown",
   "metadata": {},
   "source": [
    "В данных о количестве лет \"пребывания клиента в банке\" (`Tenure`) имеются пропуски.<br>\n",
    "Два варианта действий с пропусками:\n",
    "- заменить пропуски медианными значениями `Tenure`;\n",
    "- удалить данные с пропусками.</div><br>\n",
    "\n",
    "В данном случае делаем выбор в пользу удаления данных, поскольку:\n",
    "- размер пропусков составляет менее 10% от общего размера ДФ при довольно значительном общем размере ДФ в 10000 строк;\n",
    "- количество лет, в течение которых человек являлся клиентом банка, может быть существенным (значимым) признаком для определения целевого признака.<br>\n",
    "<br>\n",
    "Перед удалением из любопытства сравним общий дисбаланс классов в ДФ и дисбаланс в данных с пропусками."
   ]
  },
  {
   "cell_type": "markdown",
   "metadata": {},
   "source": [
    "Вместо удаления пропусков заменим их медианными значениями с группировкой по стране, полу и возрастным диапазонам."
   ]
  },
  {
   "cell_type": "markdown",
   "metadata": {},
   "source": [
    "Получим статистики возраста `Age`, создадим дубликат этого столбца и разделим его на категории."
   ]
  },
  {
   "cell_type": "code",
   "execution_count": 7,
   "metadata": {},
   "outputs": [
    {
     "data": {
      "text/html": [
       "<div>\n",
       "<style scoped>\n",
       "    .dataframe tbody tr th:only-of-type {\n",
       "        vertical-align: middle;\n",
       "    }\n",
       "\n",
       "    .dataframe tbody tr th {\n",
       "        vertical-align: top;\n",
       "    }\n",
       "\n",
       "    .dataframe thead th {\n",
       "        text-align: right;\n",
       "    }\n",
       "</style>\n",
       "<table border=\"1\" class=\"dataframe\">\n",
       "  <thead>\n",
       "    <tr style=\"text-align: right;\">\n",
       "      <th></th>\n",
       "      <th>Age</th>\n",
       "    </tr>\n",
       "  </thead>\n",
       "  <tbody>\n",
       "    <tr>\n",
       "      <th>count</th>\n",
       "      <td>10000.0</td>\n",
       "    </tr>\n",
       "    <tr>\n",
       "      <th>mean</th>\n",
       "      <td>38.9</td>\n",
       "    </tr>\n",
       "    <tr>\n",
       "      <th>std</th>\n",
       "      <td>10.5</td>\n",
       "    </tr>\n",
       "    <tr>\n",
       "      <th>min</th>\n",
       "      <td>18.0</td>\n",
       "    </tr>\n",
       "    <tr>\n",
       "      <th>25%</th>\n",
       "      <td>32.0</td>\n",
       "    </tr>\n",
       "    <tr>\n",
       "      <th>50%</th>\n",
       "      <td>37.0</td>\n",
       "    </tr>\n",
       "    <tr>\n",
       "      <th>75%</th>\n",
       "      <td>44.0</td>\n",
       "    </tr>\n",
       "    <tr>\n",
       "      <th>max</th>\n",
       "      <td>92.0</td>\n",
       "    </tr>\n",
       "  </tbody>\n",
       "</table>\n",
       "</div>"
      ],
      "text/plain": [
       "           Age\n",
       "count  10000.0\n",
       "mean      38.9\n",
       "std       10.5\n",
       "min       18.0\n",
       "25%       32.0\n",
       "50%       37.0\n",
       "75%       44.0\n",
       "max       92.0"
      ]
     },
     "execution_count": 7,
     "metadata": {},
     "output_type": "execute_result"
    }
   ],
   "source": [
    "df[['Age']].describe().round(1)"
   ]
  },
  {
   "cell_type": "code",
   "execution_count": 8,
   "metadata": {},
   "outputs": [],
   "source": [
    "df['Age_'] = pd.cut(df['Age'], [0, 20, 25, 45, 55, 65, 75, 85, 95])"
   ]
  },
  {
   "cell_type": "markdown",
   "metadata": {},
   "source": [
    "Проверим, как меняются медианные значения при группировке:"
   ]
  },
  {
   "cell_type": "code",
   "execution_count": 9,
   "metadata": {
    "scrolled": true
   },
   "outputs": [
    {
     "data": {
      "text/html": [
       "<div>\n",
       "<style scoped>\n",
       "    .dataframe tbody tr th:only-of-type {\n",
       "        vertical-align: middle;\n",
       "    }\n",
       "\n",
       "    .dataframe tbody tr th {\n",
       "        vertical-align: top;\n",
       "    }\n",
       "\n",
       "    .dataframe thead th {\n",
       "        text-align: right;\n",
       "    }\n",
       "</style>\n",
       "<table border=\"1\" class=\"dataframe\">\n",
       "  <thead>\n",
       "    <tr style=\"text-align: right;\">\n",
       "      <th></th>\n",
       "      <th></th>\n",
       "      <th></th>\n",
       "      <th>Tenure</th>\n",
       "    </tr>\n",
       "    <tr>\n",
       "      <th>Gender</th>\n",
       "      <th>Geography</th>\n",
       "      <th>Age_</th>\n",
       "      <th></th>\n",
       "    </tr>\n",
       "  </thead>\n",
       "  <tbody>\n",
       "    <tr>\n",
       "      <th rowspan=\"24\" valign=\"top\">Female</th>\n",
       "      <th rowspan=\"8\" valign=\"top\">France</th>\n",
       "      <th>(0, 20]</th>\n",
       "      <td>5.0</td>\n",
       "    </tr>\n",
       "    <tr>\n",
       "      <th>(20, 25]</th>\n",
       "      <td>5.0</td>\n",
       "    </tr>\n",
       "    <tr>\n",
       "      <th>(25, 45]</th>\n",
       "      <td>5.0</td>\n",
       "    </tr>\n",
       "    <tr>\n",
       "      <th>(45, 55]</th>\n",
       "      <td>5.0</td>\n",
       "    </tr>\n",
       "    <tr>\n",
       "      <th>(55, 65]</th>\n",
       "      <td>4.5</td>\n",
       "    </tr>\n",
       "    <tr>\n",
       "      <th>(65, 75]</th>\n",
       "      <td>5.0</td>\n",
       "    </tr>\n",
       "    <tr>\n",
       "      <th>(75, 85]</th>\n",
       "      <td>6.0</td>\n",
       "    </tr>\n",
       "    <tr>\n",
       "      <th>(85, 95]</th>\n",
       "      <td>NaN</td>\n",
       "    </tr>\n",
       "    <tr>\n",
       "      <th rowspan=\"8\" valign=\"top\">Germany</th>\n",
       "      <th>(0, 20]</th>\n",
       "      <td>2.5</td>\n",
       "    </tr>\n",
       "    <tr>\n",
       "      <th>(20, 25]</th>\n",
       "      <td>5.0</td>\n",
       "    </tr>\n",
       "    <tr>\n",
       "      <th>(25, 45]</th>\n",
       "      <td>5.0</td>\n",
       "    </tr>\n",
       "    <tr>\n",
       "      <th>(45, 55]</th>\n",
       "      <td>5.0</td>\n",
       "    </tr>\n",
       "    <tr>\n",
       "      <th>(55, 65]</th>\n",
       "      <td>5.0</td>\n",
       "    </tr>\n",
       "    <tr>\n",
       "      <th>(65, 75]</th>\n",
       "      <td>5.0</td>\n",
       "    </tr>\n",
       "    <tr>\n",
       "      <th>(75, 85]</th>\n",
       "      <td>10.0</td>\n",
       "    </tr>\n",
       "    <tr>\n",
       "      <th>(85, 95]</th>\n",
       "      <td>NaN</td>\n",
       "    </tr>\n",
       "    <tr>\n",
       "      <th rowspan=\"8\" valign=\"top\">Spain</th>\n",
       "      <th>(0, 20]</th>\n",
       "      <td>6.0</td>\n",
       "    </tr>\n",
       "    <tr>\n",
       "      <th>(20, 25]</th>\n",
       "      <td>6.0</td>\n",
       "    </tr>\n",
       "    <tr>\n",
       "      <th>(25, 45]</th>\n",
       "      <td>5.0</td>\n",
       "    </tr>\n",
       "    <tr>\n",
       "      <th>(45, 55]</th>\n",
       "      <td>5.0</td>\n",
       "    </tr>\n",
       "    <tr>\n",
       "      <th>(55, 65]</th>\n",
       "      <td>4.0</td>\n",
       "    </tr>\n",
       "    <tr>\n",
       "      <th>(65, 75]</th>\n",
       "      <td>4.5</td>\n",
       "    </tr>\n",
       "    <tr>\n",
       "      <th>(75, 85]</th>\n",
       "      <td>5.0</td>\n",
       "    </tr>\n",
       "    <tr>\n",
       "      <th>(85, 95]</th>\n",
       "      <td>NaN</td>\n",
       "    </tr>\n",
       "    <tr>\n",
       "      <th rowspan=\"24\" valign=\"top\">Male</th>\n",
       "      <th rowspan=\"8\" valign=\"top\">France</th>\n",
       "      <th>(0, 20]</th>\n",
       "      <td>5.5</td>\n",
       "    </tr>\n",
       "    <tr>\n",
       "      <th>(20, 25]</th>\n",
       "      <td>5.0</td>\n",
       "    </tr>\n",
       "    <tr>\n",
       "      <th>(25, 45]</th>\n",
       "      <td>5.0</td>\n",
       "    </tr>\n",
       "    <tr>\n",
       "      <th>(45, 55]</th>\n",
       "      <td>5.0</td>\n",
       "    </tr>\n",
       "    <tr>\n",
       "      <th>(55, 65]</th>\n",
       "      <td>5.0</td>\n",
       "    </tr>\n",
       "    <tr>\n",
       "      <th>(65, 75]</th>\n",
       "      <td>4.0</td>\n",
       "    </tr>\n",
       "    <tr>\n",
       "      <th>(75, 85]</th>\n",
       "      <td>5.0</td>\n",
       "    </tr>\n",
       "    <tr>\n",
       "      <th>(85, 95]</th>\n",
       "      <td>1.0</td>\n",
       "    </tr>\n",
       "    <tr>\n",
       "      <th rowspan=\"8\" valign=\"top\">Germany</th>\n",
       "      <th>(0, 20]</th>\n",
       "      <td>3.5</td>\n",
       "    </tr>\n",
       "    <tr>\n",
       "      <th>(20, 25]</th>\n",
       "      <td>5.0</td>\n",
       "    </tr>\n",
       "    <tr>\n",
       "      <th>(25, 45]</th>\n",
       "      <td>5.0</td>\n",
       "    </tr>\n",
       "    <tr>\n",
       "      <th>(45, 55]</th>\n",
       "      <td>5.0</td>\n",
       "    </tr>\n",
       "    <tr>\n",
       "      <th>(55, 65]</th>\n",
       "      <td>4.0</td>\n",
       "    </tr>\n",
       "    <tr>\n",
       "      <th>(65, 75]</th>\n",
       "      <td>6.0</td>\n",
       "    </tr>\n",
       "    <tr>\n",
       "      <th>(75, 85]</th>\n",
       "      <td>6.0</td>\n",
       "    </tr>\n",
       "    <tr>\n",
       "      <th>(85, 95]</th>\n",
       "      <td>NaN</td>\n",
       "    </tr>\n",
       "    <tr>\n",
       "      <th rowspan=\"8\" valign=\"top\">Spain</th>\n",
       "      <th>(0, 20]</th>\n",
       "      <td>7.0</td>\n",
       "    </tr>\n",
       "    <tr>\n",
       "      <th>(20, 25]</th>\n",
       "      <td>6.0</td>\n",
       "    </tr>\n",
       "    <tr>\n",
       "      <th>(25, 45]</th>\n",
       "      <td>5.0</td>\n",
       "    </tr>\n",
       "    <tr>\n",
       "      <th>(45, 55]</th>\n",
       "      <td>5.0</td>\n",
       "    </tr>\n",
       "    <tr>\n",
       "      <th>(55, 65]</th>\n",
       "      <td>4.0</td>\n",
       "    </tr>\n",
       "    <tr>\n",
       "      <th>(65, 75]</th>\n",
       "      <td>5.0</td>\n",
       "    </tr>\n",
       "    <tr>\n",
       "      <th>(75, 85]</th>\n",
       "      <td>5.0</td>\n",
       "    </tr>\n",
       "    <tr>\n",
       "      <th>(85, 95]</th>\n",
       "      <td>10.0</td>\n",
       "    </tr>\n",
       "  </tbody>\n",
       "</table>\n",
       "</div>"
      ],
      "text/plain": [
       "                           Tenure\n",
       "Gender Geography Age_            \n",
       "Female France    (0, 20]      5.0\n",
       "                 (20, 25]     5.0\n",
       "                 (25, 45]     5.0\n",
       "                 (45, 55]     5.0\n",
       "                 (55, 65]     4.5\n",
       "                 (65, 75]     5.0\n",
       "                 (75, 85]     6.0\n",
       "                 (85, 95]     NaN\n",
       "       Germany   (0, 20]      2.5\n",
       "                 (20, 25]     5.0\n",
       "                 (25, 45]     5.0\n",
       "                 (45, 55]     5.0\n",
       "                 (55, 65]     5.0\n",
       "                 (65, 75]     5.0\n",
       "                 (75, 85]    10.0\n",
       "                 (85, 95]     NaN\n",
       "       Spain     (0, 20]      6.0\n",
       "                 (20, 25]     6.0\n",
       "                 (25, 45]     5.0\n",
       "                 (45, 55]     5.0\n",
       "                 (55, 65]     4.0\n",
       "                 (65, 75]     4.5\n",
       "                 (75, 85]     5.0\n",
       "                 (85, 95]     NaN\n",
       "Male   France    (0, 20]      5.5\n",
       "                 (20, 25]     5.0\n",
       "                 (25, 45]     5.0\n",
       "                 (45, 55]     5.0\n",
       "                 (55, 65]     5.0\n",
       "                 (65, 75]     4.0\n",
       "                 (75, 85]     5.0\n",
       "                 (85, 95]     1.0\n",
       "       Germany   (0, 20]      3.5\n",
       "                 (20, 25]     5.0\n",
       "                 (25, 45]     5.0\n",
       "                 (45, 55]     5.0\n",
       "                 (55, 65]     4.0\n",
       "                 (65, 75]     6.0\n",
       "                 (75, 85]     6.0\n",
       "                 (85, 95]     NaN\n",
       "       Spain     (0, 20]      7.0\n",
       "                 (20, 25]     6.0\n",
       "                 (25, 45]     5.0\n",
       "                 (45, 55]     5.0\n",
       "                 (55, 65]     4.0\n",
       "                 (65, 75]     5.0\n",
       "                 (75, 85]     5.0\n",
       "                 (85, 95]    10.0"
      ]
     },
     "execution_count": 9,
     "metadata": {},
     "output_type": "execute_result"
    }
   ],
   "source": [
    "df.groupby(['Gender', 'Geography', 'Age_'])[['Tenure']].median()"
   ]
  },
  {
   "cell_type": "markdown",
   "metadata": {},
   "source": [
    "Сделаем группировку и замену отсутствующих данных:"
   ]
  },
  {
   "cell_type": "code",
   "execution_count": 10,
   "metadata": {},
   "outputs": [],
   "source": [
    "# группирует данные по категориям, подсчитывает для каждой группы медианное значение 'Tenure' и\n",
    "# заполняет отсутсвующие данные в столбце df 'Tenure'\n",
    "df['Tenure'] = df['Tenure'].fillna(\n",
    "    df.groupby(['Gender', 'Geography', 'Age_'])['Tenure'].transform('median'))"
   ]
  },
  {
   "cell_type": "markdown",
   "metadata": {},
   "source": [
    "Проверяет результаты заполнения:"
   ]
  },
  {
   "cell_type": "code",
   "execution_count": 11,
   "metadata": {},
   "outputs": [
    {
     "data": {
      "text/plain": [
       "0"
      ]
     },
     "execution_count": 11,
     "metadata": {},
     "output_type": "execute_result"
    }
   ],
   "source": [
    "df['Tenure'].isna().sum()"
   ]
  },
  {
   "cell_type": "code",
   "execution_count": 12,
   "metadata": {},
   "outputs": [],
   "source": [
    "# удаляет столбец 'Age_'\n",
    "df.drop(columns='Age_', inplace=True)"
   ]
  },
  {
   "cell_type": "markdown",
   "metadata": {},
   "source": [
    "Проверяет результат:"
   ]
  },
  {
   "cell_type": "code",
   "execution_count": 13,
   "metadata": {},
   "outputs": [
    {
     "name": "stdout",
     "output_type": "stream",
     "text": [
      "(10000, 14)\n"
     ]
    },
    {
     "data": {
      "text/html": [
       "<div>\n",
       "<style scoped>\n",
       "    .dataframe tbody tr th:only-of-type {\n",
       "        vertical-align: middle;\n",
       "    }\n",
       "\n",
       "    .dataframe tbody tr th {\n",
       "        vertical-align: top;\n",
       "    }\n",
       "\n",
       "    .dataframe thead th {\n",
       "        text-align: right;\n",
       "    }\n",
       "</style>\n",
       "<table border=\"1\" class=\"dataframe\">\n",
       "  <thead>\n",
       "    <tr style=\"text-align: right;\">\n",
       "      <th></th>\n",
       "      <th>RowNumber</th>\n",
       "      <th>CustomerId</th>\n",
       "      <th>Surname</th>\n",
       "      <th>CreditScore</th>\n",
       "      <th>Geography</th>\n",
       "      <th>Gender</th>\n",
       "      <th>Age</th>\n",
       "      <th>Tenure</th>\n",
       "      <th>Balance</th>\n",
       "      <th>NumOfProducts</th>\n",
       "      <th>HasCrCard</th>\n",
       "      <th>IsActiveMember</th>\n",
       "      <th>EstimatedSalary</th>\n",
       "      <th>Exited</th>\n",
       "    </tr>\n",
       "  </thead>\n",
       "  <tbody>\n",
       "    <tr>\n",
       "      <th>0</th>\n",
       "      <td>1</td>\n",
       "      <td>15634602</td>\n",
       "      <td>Hargrave</td>\n",
       "      <td>619</td>\n",
       "      <td>France</td>\n",
       "      <td>Female</td>\n",
       "      <td>42</td>\n",
       "      <td>2.0</td>\n",
       "      <td>0.00</td>\n",
       "      <td>1</td>\n",
       "      <td>1</td>\n",
       "      <td>1</td>\n",
       "      <td>101348.88</td>\n",
       "      <td>1</td>\n",
       "    </tr>\n",
       "    <tr>\n",
       "      <th>1</th>\n",
       "      <td>2</td>\n",
       "      <td>15647311</td>\n",
       "      <td>Hill</td>\n",
       "      <td>608</td>\n",
       "      <td>Spain</td>\n",
       "      <td>Female</td>\n",
       "      <td>41</td>\n",
       "      <td>1.0</td>\n",
       "      <td>83807.86</td>\n",
       "      <td>1</td>\n",
       "      <td>0</td>\n",
       "      <td>1</td>\n",
       "      <td>112542.58</td>\n",
       "      <td>0</td>\n",
       "    </tr>\n",
       "    <tr>\n",
       "      <th>2</th>\n",
       "      <td>3</td>\n",
       "      <td>15619304</td>\n",
       "      <td>Onio</td>\n",
       "      <td>502</td>\n",
       "      <td>France</td>\n",
       "      <td>Female</td>\n",
       "      <td>42</td>\n",
       "      <td>8.0</td>\n",
       "      <td>159660.80</td>\n",
       "      <td>3</td>\n",
       "      <td>1</td>\n",
       "      <td>0</td>\n",
       "      <td>113931.57</td>\n",
       "      <td>1</td>\n",
       "    </tr>\n",
       "    <tr>\n",
       "      <th>3</th>\n",
       "      <td>4</td>\n",
       "      <td>15701354</td>\n",
       "      <td>Boni</td>\n",
       "      <td>699</td>\n",
       "      <td>France</td>\n",
       "      <td>Female</td>\n",
       "      <td>39</td>\n",
       "      <td>1.0</td>\n",
       "      <td>0.00</td>\n",
       "      <td>2</td>\n",
       "      <td>0</td>\n",
       "      <td>0</td>\n",
       "      <td>93826.63</td>\n",
       "      <td>0</td>\n",
       "    </tr>\n",
       "    <tr>\n",
       "      <th>4</th>\n",
       "      <td>5</td>\n",
       "      <td>15737888</td>\n",
       "      <td>Mitchell</td>\n",
       "      <td>850</td>\n",
       "      <td>Spain</td>\n",
       "      <td>Female</td>\n",
       "      <td>43</td>\n",
       "      <td>2.0</td>\n",
       "      <td>125510.82</td>\n",
       "      <td>1</td>\n",
       "      <td>1</td>\n",
       "      <td>1</td>\n",
       "      <td>79084.10</td>\n",
       "      <td>0</td>\n",
       "    </tr>\n",
       "  </tbody>\n",
       "</table>\n",
       "</div>"
      ],
      "text/plain": [
       "   RowNumber  CustomerId   Surname  CreditScore Geography  Gender  Age  \\\n",
       "0          1    15634602  Hargrave          619    France  Female   42   \n",
       "1          2    15647311      Hill          608     Spain  Female   41   \n",
       "2          3    15619304      Onio          502    France  Female   42   \n",
       "3          4    15701354      Boni          699    France  Female   39   \n",
       "4          5    15737888  Mitchell          850     Spain  Female   43   \n",
       "\n",
       "   Tenure    Balance  NumOfProducts  HasCrCard  IsActiveMember  \\\n",
       "0     2.0       0.00              1          1               1   \n",
       "1     1.0   83807.86              1          0               1   \n",
       "2     8.0  159660.80              3          1               0   \n",
       "3     1.0       0.00              2          0               0   \n",
       "4     2.0  125510.82              1          1               1   \n",
       "\n",
       "   EstimatedSalary  Exited  \n",
       "0        101348.88       1  \n",
       "1        112542.58       0  \n",
       "2        113931.57       1  \n",
       "3         93826.63       0  \n",
       "4         79084.10       0  "
      ]
     },
     "execution_count": 13,
     "metadata": {},
     "output_type": "execute_result"
    }
   ],
   "source": [
    "print(df.shape)\n",
    "df.head()"
   ]
  },
  {
   "cell_type": "markdown",
   "metadata": {},
   "source": [
    "Замена проведена корректно: пропуски отсутствуют, размер датасета не изменился."
   ]
  },
  {
   "cell_type": "markdown",
   "metadata": {},
   "source": [
    "### Удаление лишних значений в данных"
   ]
  },
  {
   "cell_type": "markdown",
   "metadata": {},
   "source": [
    "При построении модели следующие данные нам не только не потребуются, но окажутся лишними, так как они не содержат никакой полезной информации для модели: <br>\n",
    "`RowNumber` - индекс строки<br>\n",
    "`CustomerId`- идентификатор клиента<br>\n",
    "`Surname` - фамилия клиента<br>\n",
    "Удалим эти столбцы."
   ]
  },
  {
   "cell_type": "code",
   "execution_count": 14,
   "metadata": {},
   "outputs": [],
   "source": [
    "df = df.drop(['RowNumber', 'CustomerId', 'Surname'], axis=1)"
   ]
  },
  {
   "cell_type": "code",
   "execution_count": 15,
   "metadata": {
    "scrolled": true
   },
   "outputs": [
    {
     "name": "stdout",
     "output_type": "stream",
     "text": [
      "(10000, 11)\n"
     ]
    },
    {
     "data": {
      "text/html": [
       "<div>\n",
       "<style scoped>\n",
       "    .dataframe tbody tr th:only-of-type {\n",
       "        vertical-align: middle;\n",
       "    }\n",
       "\n",
       "    .dataframe tbody tr th {\n",
       "        vertical-align: top;\n",
       "    }\n",
       "\n",
       "    .dataframe thead th {\n",
       "        text-align: right;\n",
       "    }\n",
       "</style>\n",
       "<table border=\"1\" class=\"dataframe\">\n",
       "  <thead>\n",
       "    <tr style=\"text-align: right;\">\n",
       "      <th></th>\n",
       "      <th>CreditScore</th>\n",
       "      <th>Geography</th>\n",
       "      <th>Gender</th>\n",
       "      <th>Age</th>\n",
       "      <th>Tenure</th>\n",
       "      <th>Balance</th>\n",
       "      <th>NumOfProducts</th>\n",
       "      <th>HasCrCard</th>\n",
       "      <th>IsActiveMember</th>\n",
       "      <th>EstimatedSalary</th>\n",
       "      <th>Exited</th>\n",
       "    </tr>\n",
       "  </thead>\n",
       "  <tbody>\n",
       "    <tr>\n",
       "      <th>0</th>\n",
       "      <td>619</td>\n",
       "      <td>France</td>\n",
       "      <td>Female</td>\n",
       "      <td>42</td>\n",
       "      <td>2.0</td>\n",
       "      <td>0.00</td>\n",
       "      <td>1</td>\n",
       "      <td>1</td>\n",
       "      <td>1</td>\n",
       "      <td>101348.88</td>\n",
       "      <td>1</td>\n",
       "    </tr>\n",
       "    <tr>\n",
       "      <th>1</th>\n",
       "      <td>608</td>\n",
       "      <td>Spain</td>\n",
       "      <td>Female</td>\n",
       "      <td>41</td>\n",
       "      <td>1.0</td>\n",
       "      <td>83807.86</td>\n",
       "      <td>1</td>\n",
       "      <td>0</td>\n",
       "      <td>1</td>\n",
       "      <td>112542.58</td>\n",
       "      <td>0</td>\n",
       "    </tr>\n",
       "    <tr>\n",
       "      <th>2</th>\n",
       "      <td>502</td>\n",
       "      <td>France</td>\n",
       "      <td>Female</td>\n",
       "      <td>42</td>\n",
       "      <td>8.0</td>\n",
       "      <td>159660.80</td>\n",
       "      <td>3</td>\n",
       "      <td>1</td>\n",
       "      <td>0</td>\n",
       "      <td>113931.57</td>\n",
       "      <td>1</td>\n",
       "    </tr>\n",
       "    <tr>\n",
       "      <th>3</th>\n",
       "      <td>699</td>\n",
       "      <td>France</td>\n",
       "      <td>Female</td>\n",
       "      <td>39</td>\n",
       "      <td>1.0</td>\n",
       "      <td>0.00</td>\n",
       "      <td>2</td>\n",
       "      <td>0</td>\n",
       "      <td>0</td>\n",
       "      <td>93826.63</td>\n",
       "      <td>0</td>\n",
       "    </tr>\n",
       "    <tr>\n",
       "      <th>4</th>\n",
       "      <td>850</td>\n",
       "      <td>Spain</td>\n",
       "      <td>Female</td>\n",
       "      <td>43</td>\n",
       "      <td>2.0</td>\n",
       "      <td>125510.82</td>\n",
       "      <td>1</td>\n",
       "      <td>1</td>\n",
       "      <td>1</td>\n",
       "      <td>79084.10</td>\n",
       "      <td>0</td>\n",
       "    </tr>\n",
       "  </tbody>\n",
       "</table>\n",
       "</div>"
      ],
      "text/plain": [
       "   CreditScore Geography  Gender  Age  Tenure    Balance  NumOfProducts  \\\n",
       "0          619    France  Female   42     2.0       0.00              1   \n",
       "1          608     Spain  Female   41     1.0   83807.86              1   \n",
       "2          502    France  Female   42     8.0  159660.80              3   \n",
       "3          699    France  Female   39     1.0       0.00              2   \n",
       "4          850     Spain  Female   43     2.0  125510.82              1   \n",
       "\n",
       "   HasCrCard  IsActiveMember  EstimatedSalary  Exited  \n",
       "0          1               1        101348.88       1  \n",
       "1          0               1        112542.58       0  \n",
       "2          1               0        113931.57       1  \n",
       "3          0               0         93826.63       0  \n",
       "4          1               1         79084.10       0  "
      ]
     },
     "execution_count": 15,
     "metadata": {},
     "output_type": "execute_result"
    }
   ],
   "source": [
    "# проверяет результаты удаления\n",
    "print(df.shape)\n",
    "df.head()"
   ]
  },
  {
   "cell_type": "markdown",
   "metadata": {},
   "source": [
    "### Поиск аномальных значений в данных"
   ]
  },
  {
   "cell_type": "markdown",
   "metadata": {},
   "source": [
    "Проверим данные на явные аномальные значения:"
   ]
  },
  {
   "cell_type": "markdown",
   "metadata": {},
   "source": [
    "Значения страны и пола:"
   ]
  },
  {
   "cell_type": "code",
   "execution_count": 16,
   "metadata": {},
   "outputs": [
    {
     "data": {
      "text/plain": [
       "array(['France', 'Spain', 'Germany'], dtype=object)"
      ]
     },
     "execution_count": 16,
     "metadata": {},
     "output_type": "execute_result"
    }
   ],
   "source": [
    "df.Geography.unique()"
   ]
  },
  {
   "cell_type": "code",
   "execution_count": 17,
   "metadata": {},
   "outputs": [
    {
     "data": {
      "text/plain": [
       "array(['Female', 'Male'], dtype=object)"
      ]
     },
     "execution_count": 17,
     "metadata": {},
     "output_type": "execute_result"
    }
   ],
   "source": [
    "df.Gender.unique()"
   ]
  },
  {
   "cell_type": "markdown",
   "metadata": {},
   "source": [
    "Возрас меньше или равный нулю:"
   ]
  },
  {
   "cell_type": "code",
   "execution_count": 18,
   "metadata": {},
   "outputs": [
    {
     "data": {
      "text/html": [
       "<div>\n",
       "<style scoped>\n",
       "    .dataframe tbody tr th:only-of-type {\n",
       "        vertical-align: middle;\n",
       "    }\n",
       "\n",
       "    .dataframe tbody tr th {\n",
       "        vertical-align: top;\n",
       "    }\n",
       "\n",
       "    .dataframe thead th {\n",
       "        text-align: right;\n",
       "    }\n",
       "</style>\n",
       "<table border=\"1\" class=\"dataframe\">\n",
       "  <thead>\n",
       "    <tr style=\"text-align: right;\">\n",
       "      <th></th>\n",
       "      <th>CreditScore</th>\n",
       "      <th>Geography</th>\n",
       "      <th>Gender</th>\n",
       "      <th>Age</th>\n",
       "      <th>Tenure</th>\n",
       "      <th>Balance</th>\n",
       "      <th>NumOfProducts</th>\n",
       "      <th>HasCrCard</th>\n",
       "      <th>IsActiveMember</th>\n",
       "      <th>EstimatedSalary</th>\n",
       "      <th>Exited</th>\n",
       "    </tr>\n",
       "  </thead>\n",
       "  <tbody>\n",
       "  </tbody>\n",
       "</table>\n",
       "</div>"
      ],
      "text/plain": [
       "Empty DataFrame\n",
       "Columns: [CreditScore, Geography, Gender, Age, Tenure, Balance, NumOfProducts, HasCrCard, IsActiveMember, EstimatedSalary, Exited]\n",
       "Index: []"
      ]
     },
     "execution_count": 18,
     "metadata": {},
     "output_type": "execute_result"
    }
   ],
   "source": [
    "df[df.Age <= 0]"
   ]
  },
  {
   "cell_type": "markdown",
   "metadata": {},
   "source": [
    "Отрицательные значения в данных о количестве лет пребывания в банке:"
   ]
  },
  {
   "cell_type": "code",
   "execution_count": 19,
   "metadata": {},
   "outputs": [
    {
     "data": {
      "text/html": [
       "<div>\n",
       "<style scoped>\n",
       "    .dataframe tbody tr th:only-of-type {\n",
       "        vertical-align: middle;\n",
       "    }\n",
       "\n",
       "    .dataframe tbody tr th {\n",
       "        vertical-align: top;\n",
       "    }\n",
       "\n",
       "    .dataframe thead th {\n",
       "        text-align: right;\n",
       "    }\n",
       "</style>\n",
       "<table border=\"1\" class=\"dataframe\">\n",
       "  <thead>\n",
       "    <tr style=\"text-align: right;\">\n",
       "      <th></th>\n",
       "      <th>CreditScore</th>\n",
       "      <th>Geography</th>\n",
       "      <th>Gender</th>\n",
       "      <th>Age</th>\n",
       "      <th>Tenure</th>\n",
       "      <th>Balance</th>\n",
       "      <th>NumOfProducts</th>\n",
       "      <th>HasCrCard</th>\n",
       "      <th>IsActiveMember</th>\n",
       "      <th>EstimatedSalary</th>\n",
       "      <th>Exited</th>\n",
       "    </tr>\n",
       "  </thead>\n",
       "  <tbody>\n",
       "  </tbody>\n",
       "</table>\n",
       "</div>"
      ],
      "text/plain": [
       "Empty DataFrame\n",
       "Columns: [CreditScore, Geography, Gender, Age, Tenure, Balance, NumOfProducts, HasCrCard, IsActiveMember, EstimatedSalary, Exited]\n",
       "Index: []"
      ]
     },
     "execution_count": 19,
     "metadata": {},
     "output_type": "execute_result"
    }
   ],
   "source": [
    "df[df.Tenure < 0]"
   ]
  },
  {
   "cell_type": "markdown",
   "metadata": {},
   "source": [
    "Количество используемых продуктов банка и активность клиента:"
   ]
  },
  {
   "cell_type": "code",
   "execution_count": 20,
   "metadata": {},
   "outputs": [
    {
     "data": {
      "text/plain": [
       "array([1, 3, 2, 4], dtype=int64)"
      ]
     },
     "execution_count": 20,
     "metadata": {},
     "output_type": "execute_result"
    }
   ],
   "source": [
    "df.NumOfProducts.unique()"
   ]
  },
  {
   "cell_type": "code",
   "execution_count": 21,
   "metadata": {},
   "outputs": [
    {
     "data": {
      "text/plain": [
       "array([1, 0], dtype=int64)"
      ]
     },
     "execution_count": 21,
     "metadata": {},
     "output_type": "execute_result"
    }
   ],
   "source": [
    "df.IsActiveMember.unique()"
   ]
  },
  {
   "cell_type": "markdown",
   "metadata": {},
   "source": [
    "Зарплата меньше или равна нулю:"
   ]
  },
  {
   "cell_type": "code",
   "execution_count": 22,
   "metadata": {},
   "outputs": [
    {
     "data": {
      "text/html": [
       "<div>\n",
       "<style scoped>\n",
       "    .dataframe tbody tr th:only-of-type {\n",
       "        vertical-align: middle;\n",
       "    }\n",
       "\n",
       "    .dataframe tbody tr th {\n",
       "        vertical-align: top;\n",
       "    }\n",
       "\n",
       "    .dataframe thead th {\n",
       "        text-align: right;\n",
       "    }\n",
       "</style>\n",
       "<table border=\"1\" class=\"dataframe\">\n",
       "  <thead>\n",
       "    <tr style=\"text-align: right;\">\n",
       "      <th></th>\n",
       "      <th>CreditScore</th>\n",
       "      <th>Geography</th>\n",
       "      <th>Gender</th>\n",
       "      <th>Age</th>\n",
       "      <th>Tenure</th>\n",
       "      <th>Balance</th>\n",
       "      <th>NumOfProducts</th>\n",
       "      <th>HasCrCard</th>\n",
       "      <th>IsActiveMember</th>\n",
       "      <th>EstimatedSalary</th>\n",
       "      <th>Exited</th>\n",
       "    </tr>\n",
       "  </thead>\n",
       "  <tbody>\n",
       "  </tbody>\n",
       "</table>\n",
       "</div>"
      ],
      "text/plain": [
       "Empty DataFrame\n",
       "Columns: [CreditScore, Geography, Gender, Age, Tenure, Balance, NumOfProducts, HasCrCard, IsActiveMember, EstimatedSalary, Exited]\n",
       "Index: []"
      ]
     },
     "execution_count": 22,
     "metadata": {},
     "output_type": "execute_result"
    }
   ],
   "source": [
    "df[df.EstimatedSalary <= 0]"
   ]
  },
  {
   "cell_type": "markdown",
   "metadata": {},
   "source": [
    "Значения целевого признака:"
   ]
  },
  {
   "cell_type": "code",
   "execution_count": 23,
   "metadata": {
    "scrolled": true
   },
   "outputs": [
    {
     "data": {
      "text/plain": [
       "array([1, 0], dtype=int64)"
      ]
     },
     "execution_count": 23,
     "metadata": {},
     "output_type": "execute_result"
    }
   ],
   "source": [
    "df.Exited.unique()"
   ]
  },
  {
   "cell_type": "code",
   "execution_count": 24,
   "metadata": {},
   "outputs": [
    {
     "data": {
      "text/html": [
       "<div>\n",
       "<style scoped>\n",
       "    .dataframe tbody tr th:only-of-type {\n",
       "        vertical-align: middle;\n",
       "    }\n",
       "\n",
       "    .dataframe tbody tr th {\n",
       "        vertical-align: top;\n",
       "    }\n",
       "\n",
       "    .dataframe thead th {\n",
       "        text-align: right;\n",
       "    }\n",
       "</style>\n",
       "<table border=\"1\" class=\"dataframe\">\n",
       "  <thead>\n",
       "    <tr style=\"text-align: right;\">\n",
       "      <th></th>\n",
       "      <th>CreditScore</th>\n",
       "      <th>Age</th>\n",
       "      <th>Tenure</th>\n",
       "      <th>Balance</th>\n",
       "      <th>NumOfProducts</th>\n",
       "      <th>HasCrCard</th>\n",
       "      <th>IsActiveMember</th>\n",
       "      <th>EstimatedSalary</th>\n",
       "      <th>Exited</th>\n",
       "    </tr>\n",
       "  </thead>\n",
       "  <tbody>\n",
       "    <tr>\n",
       "      <th>count</th>\n",
       "      <td>10000.000000</td>\n",
       "      <td>10000.000000</td>\n",
       "      <td>10000.000000</td>\n",
       "      <td>10000.000000</td>\n",
       "      <td>10000.000000</td>\n",
       "      <td>10000.00000</td>\n",
       "      <td>10000.000000</td>\n",
       "      <td>10000.000000</td>\n",
       "      <td>10000.000000</td>\n",
       "    </tr>\n",
       "    <tr>\n",
       "      <th>mean</th>\n",
       "      <td>650.528800</td>\n",
       "      <td>38.921800</td>\n",
       "      <td>4.997400</td>\n",
       "      <td>76485.889288</td>\n",
       "      <td>1.530200</td>\n",
       "      <td>0.70550</td>\n",
       "      <td>0.515100</td>\n",
       "      <td>100090.239881</td>\n",
       "      <td>0.203700</td>\n",
       "    </tr>\n",
       "    <tr>\n",
       "      <th>std</th>\n",
       "      <td>96.653299</td>\n",
       "      <td>10.487806</td>\n",
       "      <td>2.761205</td>\n",
       "      <td>62397.405202</td>\n",
       "      <td>0.581654</td>\n",
       "      <td>0.45584</td>\n",
       "      <td>0.499797</td>\n",
       "      <td>57510.492818</td>\n",
       "      <td>0.402769</td>\n",
       "    </tr>\n",
       "    <tr>\n",
       "      <th>min</th>\n",
       "      <td>350.000000</td>\n",
       "      <td>18.000000</td>\n",
       "      <td>0.000000</td>\n",
       "      <td>0.000000</td>\n",
       "      <td>1.000000</td>\n",
       "      <td>0.00000</td>\n",
       "      <td>0.000000</td>\n",
       "      <td>11.580000</td>\n",
       "      <td>0.000000</td>\n",
       "    </tr>\n",
       "    <tr>\n",
       "      <th>25%</th>\n",
       "      <td>584.000000</td>\n",
       "      <td>32.000000</td>\n",
       "      <td>3.000000</td>\n",
       "      <td>0.000000</td>\n",
       "      <td>1.000000</td>\n",
       "      <td>0.00000</td>\n",
       "      <td>0.000000</td>\n",
       "      <td>51002.110000</td>\n",
       "      <td>0.000000</td>\n",
       "    </tr>\n",
       "    <tr>\n",
       "      <th>50%</th>\n",
       "      <td>652.000000</td>\n",
       "      <td>37.000000</td>\n",
       "      <td>5.000000</td>\n",
       "      <td>97198.540000</td>\n",
       "      <td>1.000000</td>\n",
       "      <td>1.00000</td>\n",
       "      <td>1.000000</td>\n",
       "      <td>100193.915000</td>\n",
       "      <td>0.000000</td>\n",
       "    </tr>\n",
       "    <tr>\n",
       "      <th>75%</th>\n",
       "      <td>718.000000</td>\n",
       "      <td>44.000000</td>\n",
       "      <td>7.000000</td>\n",
       "      <td>127644.240000</td>\n",
       "      <td>2.000000</td>\n",
       "      <td>1.00000</td>\n",
       "      <td>1.000000</td>\n",
       "      <td>149388.247500</td>\n",
       "      <td>0.000000</td>\n",
       "    </tr>\n",
       "    <tr>\n",
       "      <th>max</th>\n",
       "      <td>850.000000</td>\n",
       "      <td>92.000000</td>\n",
       "      <td>10.000000</td>\n",
       "      <td>250898.090000</td>\n",
       "      <td>4.000000</td>\n",
       "      <td>1.00000</td>\n",
       "      <td>1.000000</td>\n",
       "      <td>199992.480000</td>\n",
       "      <td>1.000000</td>\n",
       "    </tr>\n",
       "  </tbody>\n",
       "</table>\n",
       "</div>"
      ],
      "text/plain": [
       "        CreditScore           Age        Tenure        Balance  NumOfProducts  \\\n",
       "count  10000.000000  10000.000000  10000.000000   10000.000000   10000.000000   \n",
       "mean     650.528800     38.921800      4.997400   76485.889288       1.530200   \n",
       "std       96.653299     10.487806      2.761205   62397.405202       0.581654   \n",
       "min      350.000000     18.000000      0.000000       0.000000       1.000000   \n",
       "25%      584.000000     32.000000      3.000000       0.000000       1.000000   \n",
       "50%      652.000000     37.000000      5.000000   97198.540000       1.000000   \n",
       "75%      718.000000     44.000000      7.000000  127644.240000       2.000000   \n",
       "max      850.000000     92.000000     10.000000  250898.090000       4.000000   \n",
       "\n",
       "         HasCrCard  IsActiveMember  EstimatedSalary        Exited  \n",
       "count  10000.00000    10000.000000     10000.000000  10000.000000  \n",
       "mean       0.70550        0.515100    100090.239881      0.203700  \n",
       "std        0.45584        0.499797     57510.492818      0.402769  \n",
       "min        0.00000        0.000000        11.580000      0.000000  \n",
       "25%        0.00000        0.000000     51002.110000      0.000000  \n",
       "50%        1.00000        1.000000    100193.915000      0.000000  \n",
       "75%        1.00000        1.000000    149388.247500      0.000000  \n",
       "max        1.00000        1.000000    199992.480000      1.000000  "
      ]
     },
     "execution_count": 24,
     "metadata": {},
     "output_type": "execute_result"
    }
   ],
   "source": [
    "df.describe()"
   ]
  },
  {
   "cell_type": "markdown",
   "metadata": {},
   "source": [
    "Явных аномальных значений в данных не выявлено."
   ]
  },
  {
   "cell_type": "markdown",
   "metadata": {},
   "source": [
    "## Исследование задачи"
   ]
  },
  {
   "cell_type": "markdown",
   "metadata": {},
   "source": [
    "Еще раз вычислим дисбаланс классов для получившегося ДФ:"
   ]
  },
  {
   "cell_type": "code",
   "execution_count": 25,
   "metadata": {},
   "outputs": [
    {
     "data": {
      "text/plain": [
       "0    0.7963\n",
       "1    0.2037\n",
       "Name: Exited, dtype: float64"
      ]
     },
     "execution_count": 25,
     "metadata": {},
     "output_type": "execute_result"
    }
   ],
   "source": [
    "df.Exited.value_counts(normalize=True)"
   ]
  },
  {
   "cell_type": "markdown",
   "metadata": {},
   "source": [
    "Примерно 20% клиентов банка покинули банк.<br>\n",
    "Соотношение данных 1:4 -- далеко от 1:1, это явный дисбаланс классов, который необходимо устранить."
   ]
  },
  {
   "cell_type": "markdown",
   "metadata": {},
   "source": [
    "### Подготока категориальных признаков"
   ]
  },
  {
   "cell_type": "markdown",
   "metadata": {},
   "source": [
    "Подготовим категориальные признаки. Еще раз выведем данные:  "
   ]
  },
  {
   "cell_type": "code",
   "execution_count": 26,
   "metadata": {},
   "outputs": [
    {
     "data": {
      "text/html": [
       "<div>\n",
       "<style scoped>\n",
       "    .dataframe tbody tr th:only-of-type {\n",
       "        vertical-align: middle;\n",
       "    }\n",
       "\n",
       "    .dataframe tbody tr th {\n",
       "        vertical-align: top;\n",
       "    }\n",
       "\n",
       "    .dataframe thead th {\n",
       "        text-align: right;\n",
       "    }\n",
       "</style>\n",
       "<table border=\"1\" class=\"dataframe\">\n",
       "  <thead>\n",
       "    <tr style=\"text-align: right;\">\n",
       "      <th></th>\n",
       "      <th>CreditScore</th>\n",
       "      <th>Geography</th>\n",
       "      <th>Gender</th>\n",
       "      <th>Age</th>\n",
       "      <th>Tenure</th>\n",
       "      <th>Balance</th>\n",
       "      <th>NumOfProducts</th>\n",
       "      <th>HasCrCard</th>\n",
       "      <th>IsActiveMember</th>\n",
       "      <th>EstimatedSalary</th>\n",
       "      <th>Exited</th>\n",
       "    </tr>\n",
       "  </thead>\n",
       "  <tbody>\n",
       "    <tr>\n",
       "      <th>3933</th>\n",
       "      <td>698</td>\n",
       "      <td>France</td>\n",
       "      <td>Male</td>\n",
       "      <td>37</td>\n",
       "      <td>5.0</td>\n",
       "      <td>98400.61</td>\n",
       "      <td>2</td>\n",
       "      <td>0</td>\n",
       "      <td>0</td>\n",
       "      <td>25017.28</td>\n",
       "      <td>0</td>\n",
       "    </tr>\n",
       "    <tr>\n",
       "      <th>7656</th>\n",
       "      <td>492</td>\n",
       "      <td>Germany</td>\n",
       "      <td>Male</td>\n",
       "      <td>51</td>\n",
       "      <td>8.0</td>\n",
       "      <td>117808.74</td>\n",
       "      <td>2</td>\n",
       "      <td>1</td>\n",
       "      <td>1</td>\n",
       "      <td>67311.12</td>\n",
       "      <td>0</td>\n",
       "    </tr>\n",
       "    <tr>\n",
       "      <th>7225</th>\n",
       "      <td>781</td>\n",
       "      <td>Germany</td>\n",
       "      <td>Male</td>\n",
       "      <td>35</td>\n",
       "      <td>5.0</td>\n",
       "      <td>92526.15</td>\n",
       "      <td>2</td>\n",
       "      <td>1</td>\n",
       "      <td>1</td>\n",
       "      <td>173837.54</td>\n",
       "      <td>0</td>\n",
       "    </tr>\n",
       "  </tbody>\n",
       "</table>\n",
       "</div>"
      ],
      "text/plain": [
       "      CreditScore Geography Gender  Age  Tenure    Balance  NumOfProducts  \\\n",
       "3933          698    France   Male   37     5.0   98400.61              2   \n",
       "7656          492   Germany   Male   51     8.0  117808.74              2   \n",
       "7225          781   Germany   Male   35     5.0   92526.15              2   \n",
       "\n",
       "      HasCrCard  IsActiveMember  EstimatedSalary  Exited  \n",
       "3933          0               0         25017.28       0  \n",
       "7656          1               1         67311.12       0  \n",
       "7225          1               1        173837.54       0  "
      ]
     },
     "execution_count": 26,
     "metadata": {},
     "output_type": "execute_result"
    }
   ],
   "source": [
    "df.sample(3)"
   ]
  },
  {
   "cell_type": "code",
   "execution_count": 27,
   "metadata": {},
   "outputs": [
    {
     "data": {
      "text/plain": [
       "CreditScore          int64\n",
       "Geography           object\n",
       "Gender              object\n",
       "Age                  int64\n",
       "Tenure             float64\n",
       "Balance            float64\n",
       "NumOfProducts        int64\n",
       "HasCrCard            int64\n",
       "IsActiveMember       int64\n",
       "EstimatedSalary    float64\n",
       "Exited               int64\n",
       "dtype: object"
      ]
     },
     "execution_count": 27,
     "metadata": {},
     "output_type": "execute_result"
    }
   ],
   "source": [
    "df.dtypes"
   ]
  },
  {
   "cell_type": "markdown",
   "metadata": {},
   "source": [
    "У нас есть два категориальных принака: `Geography` и `Gender`. Преобразуем их методом `OHE`."
   ]
  },
  {
   "cell_type": "code",
   "execution_count": 28,
   "metadata": {},
   "outputs": [],
   "source": [
    "df_ohe = pd.get_dummies(df, drop_first=True)"
   ]
  },
  {
   "cell_type": "markdown",
   "metadata": {},
   "source": [
    "Проверим результаты:"
   ]
  },
  {
   "cell_type": "code",
   "execution_count": 29,
   "metadata": {
    "scrolled": true
   },
   "outputs": [
    {
     "name": "stdout",
     "output_type": "stream",
     "text": [
      "(10000, 12)\n"
     ]
    },
    {
     "data": {
      "text/html": [
       "<div>\n",
       "<style scoped>\n",
       "    .dataframe tbody tr th:only-of-type {\n",
       "        vertical-align: middle;\n",
       "    }\n",
       "\n",
       "    .dataframe tbody tr th {\n",
       "        vertical-align: top;\n",
       "    }\n",
       "\n",
       "    .dataframe thead th {\n",
       "        text-align: right;\n",
       "    }\n",
       "</style>\n",
       "<table border=\"1\" class=\"dataframe\">\n",
       "  <thead>\n",
       "    <tr style=\"text-align: right;\">\n",
       "      <th></th>\n",
       "      <th>CreditScore</th>\n",
       "      <th>Age</th>\n",
       "      <th>Tenure</th>\n",
       "      <th>Balance</th>\n",
       "      <th>NumOfProducts</th>\n",
       "      <th>HasCrCard</th>\n",
       "      <th>IsActiveMember</th>\n",
       "      <th>EstimatedSalary</th>\n",
       "      <th>Exited</th>\n",
       "      <th>Geography_Germany</th>\n",
       "      <th>Geography_Spain</th>\n",
       "      <th>Gender_Male</th>\n",
       "    </tr>\n",
       "  </thead>\n",
       "  <tbody>\n",
       "    <tr>\n",
       "      <th>0</th>\n",
       "      <td>619</td>\n",
       "      <td>42</td>\n",
       "      <td>2.0</td>\n",
       "      <td>0.00</td>\n",
       "      <td>1</td>\n",
       "      <td>1</td>\n",
       "      <td>1</td>\n",
       "      <td>101348.88</td>\n",
       "      <td>1</td>\n",
       "      <td>0</td>\n",
       "      <td>0</td>\n",
       "      <td>0</td>\n",
       "    </tr>\n",
       "    <tr>\n",
       "      <th>1</th>\n",
       "      <td>608</td>\n",
       "      <td>41</td>\n",
       "      <td>1.0</td>\n",
       "      <td>83807.86</td>\n",
       "      <td>1</td>\n",
       "      <td>0</td>\n",
       "      <td>1</td>\n",
       "      <td>112542.58</td>\n",
       "      <td>0</td>\n",
       "      <td>0</td>\n",
       "      <td>1</td>\n",
       "      <td>0</td>\n",
       "    </tr>\n",
       "    <tr>\n",
       "      <th>2</th>\n",
       "      <td>502</td>\n",
       "      <td>42</td>\n",
       "      <td>8.0</td>\n",
       "      <td>159660.80</td>\n",
       "      <td>3</td>\n",
       "      <td>1</td>\n",
       "      <td>0</td>\n",
       "      <td>113931.57</td>\n",
       "      <td>1</td>\n",
       "      <td>0</td>\n",
       "      <td>0</td>\n",
       "      <td>0</td>\n",
       "    </tr>\n",
       "  </tbody>\n",
       "</table>\n",
       "</div>"
      ],
      "text/plain": [
       "   CreditScore  Age  Tenure    Balance  NumOfProducts  HasCrCard  \\\n",
       "0          619   42     2.0       0.00              1          1   \n",
       "1          608   41     1.0   83807.86              1          0   \n",
       "2          502   42     8.0  159660.80              3          1   \n",
       "\n",
       "   IsActiveMember  EstimatedSalary  Exited  Geography_Germany  \\\n",
       "0               1        101348.88       1                  0   \n",
       "1               1        112542.58       0                  0   \n",
       "2               0        113931.57       1                  0   \n",
       "\n",
       "   Geography_Spain  Gender_Male  \n",
       "0                0            0  \n",
       "1                1            0  \n",
       "2                0            0  "
      ]
     },
     "execution_count": 29,
     "metadata": {},
     "output_type": "execute_result"
    }
   ],
   "source": [
    "print(df_ohe.shape)\n",
    "df_ohe.head(3)"
   ]
  },
  {
   "cell_type": "markdown",
   "metadata": {},
   "source": [
    "### Разделение выборки"
   ]
  },
  {
   "cell_type": "markdown",
   "metadata": {},
   "source": [
    "Разделим ДФ на три выборки в соотношении 60-20-20 (обучающая - валидационная - тестовая):"
   ]
  },
  {
   "cell_type": "code",
   "execution_count": 30,
   "metadata": {},
   "outputs": [],
   "source": [
    "train, valid = train_test_split(df_ohe, test_size=0.4, random_state=12345, stratify=df.Exited)"
   ]
  },
  {
   "cell_type": "code",
   "execution_count": 31,
   "metadata": {},
   "outputs": [],
   "source": [
    "valid, test = train_test_split(valid, test_size=0.5, random_state=12345, stratify=valid.Exited)"
   ]
  },
  {
   "cell_type": "markdown",
   "metadata": {},
   "source": [
    "Извлекаем признаки и целевой признак:"
   ]
  },
  {
   "cell_type": "code",
   "execution_count": 32,
   "metadata": {},
   "outputs": [],
   "source": [
    "features_train = train.drop(['Exited'], axis=1)\n",
    "target_train = train['Exited']\n",
    "\n",
    "features_valid = valid.drop(['Exited'], axis=1)\n",
    "target_valid = valid['Exited']\n",
    "\n",
    "features_test = test.drop(['Exited'], axis=1)\n",
    "target_test = test['Exited']"
   ]
  },
  {
   "cell_type": "markdown",
   "metadata": {},
   "source": [
    "Проверяем размеры получившихся выборок:"
   ]
  },
  {
   "cell_type": "code",
   "execution_count": 33,
   "metadata": {},
   "outputs": [
    {
     "data": {
      "text/plain": [
       "((6000, 11), (6000,))"
      ]
     },
     "execution_count": 33,
     "metadata": {},
     "output_type": "execute_result"
    }
   ],
   "source": [
    "features_train.shape, target_train.shape"
   ]
  },
  {
   "cell_type": "code",
   "execution_count": 34,
   "metadata": {},
   "outputs": [
    {
     "data": {
      "text/plain": [
       "((2000, 11), (2000,))"
      ]
     },
     "execution_count": 34,
     "metadata": {},
     "output_type": "execute_result"
    }
   ],
   "source": [
    "features_valid.shape, target_valid.shape"
   ]
  },
  {
   "cell_type": "code",
   "execution_count": 35,
   "metadata": {},
   "outputs": [
    {
     "data": {
      "text/plain": [
       "((2000, 11), (2000,))"
      ]
     },
     "execution_count": 35,
     "metadata": {},
     "output_type": "execute_result"
    }
   ],
   "source": [
    "features_test.shape, target_test.shape"
   ]
  },
  {
   "cell_type": "markdown",
   "metadata": {},
   "source": [
    "### Масштабирование признаков"
   ]
  },
  {
   "cell_type": "markdown",
   "metadata": {},
   "source": [
    "Создадим объект структуры стандартизации данных и настроим его на обучающих данных."
   ]
  },
  {
   "cell_type": "code",
   "execution_count": 36,
   "metadata": {},
   "outputs": [],
   "source": [
    "columns = features_train.columns"
   ]
  },
  {
   "cell_type": "code",
   "execution_count": 37,
   "metadata": {},
   "outputs": [
    {
     "data": {
      "text/html": [
       "<style>#sk-container-id-1 {color: black;background-color: white;}#sk-container-id-1 pre{padding: 0;}#sk-container-id-1 div.sk-toggleable {background-color: white;}#sk-container-id-1 label.sk-toggleable__label {cursor: pointer;display: block;width: 100%;margin-bottom: 0;padding: 0.3em;box-sizing: border-box;text-align: center;}#sk-container-id-1 label.sk-toggleable__label-arrow:before {content: \"▸\";float: left;margin-right: 0.25em;color: #696969;}#sk-container-id-1 label.sk-toggleable__label-arrow:hover:before {color: black;}#sk-container-id-1 div.sk-estimator:hover label.sk-toggleable__label-arrow:before {color: black;}#sk-container-id-1 div.sk-toggleable__content {max-height: 0;max-width: 0;overflow: hidden;text-align: left;background-color: #f0f8ff;}#sk-container-id-1 div.sk-toggleable__content pre {margin: 0.2em;color: black;border-radius: 0.25em;background-color: #f0f8ff;}#sk-container-id-1 input.sk-toggleable__control:checked~div.sk-toggleable__content {max-height: 200px;max-width: 100%;overflow: auto;}#sk-container-id-1 input.sk-toggleable__control:checked~label.sk-toggleable__label-arrow:before {content: \"▾\";}#sk-container-id-1 div.sk-estimator input.sk-toggleable__control:checked~label.sk-toggleable__label {background-color: #d4ebff;}#sk-container-id-1 div.sk-label input.sk-toggleable__control:checked~label.sk-toggleable__label {background-color: #d4ebff;}#sk-container-id-1 input.sk-hidden--visually {border: 0;clip: rect(1px 1px 1px 1px);clip: rect(1px, 1px, 1px, 1px);height: 1px;margin: -1px;overflow: hidden;padding: 0;position: absolute;width: 1px;}#sk-container-id-1 div.sk-estimator {font-family: monospace;background-color: #f0f8ff;border: 1px dotted black;border-radius: 0.25em;box-sizing: border-box;margin-bottom: 0.5em;}#sk-container-id-1 div.sk-estimator:hover {background-color: #d4ebff;}#sk-container-id-1 div.sk-parallel-item::after {content: \"\";width: 100%;border-bottom: 1px solid gray;flex-grow: 1;}#sk-container-id-1 div.sk-label:hover label.sk-toggleable__label {background-color: #d4ebff;}#sk-container-id-1 div.sk-serial::before {content: \"\";position: absolute;border-left: 1px solid gray;box-sizing: border-box;top: 0;bottom: 0;left: 50%;z-index: 0;}#sk-container-id-1 div.sk-serial {display: flex;flex-direction: column;align-items: center;background-color: white;padding-right: 0.2em;padding-left: 0.2em;position: relative;}#sk-container-id-1 div.sk-item {position: relative;z-index: 1;}#sk-container-id-1 div.sk-parallel {display: flex;align-items: stretch;justify-content: center;background-color: white;position: relative;}#sk-container-id-1 div.sk-item::before, #sk-container-id-1 div.sk-parallel-item::before {content: \"\";position: absolute;border-left: 1px solid gray;box-sizing: border-box;top: 0;bottom: 0;left: 50%;z-index: -1;}#sk-container-id-1 div.sk-parallel-item {display: flex;flex-direction: column;z-index: 1;position: relative;background-color: white;}#sk-container-id-1 div.sk-parallel-item:first-child::after {align-self: flex-end;width: 50%;}#sk-container-id-1 div.sk-parallel-item:last-child::after {align-self: flex-start;width: 50%;}#sk-container-id-1 div.sk-parallel-item:only-child::after {width: 0;}#sk-container-id-1 div.sk-dashed-wrapped {border: 1px dashed gray;margin: 0 0.4em 0.5em 0.4em;box-sizing: border-box;padding-bottom: 0.4em;background-color: white;}#sk-container-id-1 div.sk-label label {font-family: monospace;font-weight: bold;display: inline-block;line-height: 1.2em;}#sk-container-id-1 div.sk-label-container {text-align: center;}#sk-container-id-1 div.sk-container {/* jupyter's `normalize.less` sets `[hidden] { display: none; }` but bootstrap.min.css set `[hidden] { display: none !important; }` so we also need the `!important` here to be able to override the default hidden behavior on the sphinx rendered scikit-learn.org. See: https://github.com/scikit-learn/scikit-learn/issues/21755 */display: inline-block !important;position: relative;}#sk-container-id-1 div.sk-text-repr-fallback {display: none;}</style><div id=\"sk-container-id-1\" class=\"sk-top-container\"><div class=\"sk-text-repr-fallback\"><pre>StandardScaler()</pre><b>In a Jupyter environment, please rerun this cell to show the HTML representation or trust the notebook. <br />On GitHub, the HTML representation is unable to render, please try loading this page with nbviewer.org.</b></div><div class=\"sk-container\" hidden><div class=\"sk-item\"><div class=\"sk-estimator sk-toggleable\"><input class=\"sk-toggleable__control sk-hidden--visually\" id=\"sk-estimator-id-1\" type=\"checkbox\" checked><label for=\"sk-estimator-id-1\" class=\"sk-toggleable__label sk-toggleable__label-arrow\">StandardScaler</label><div class=\"sk-toggleable__content\"><pre>StandardScaler()</pre></div></div></div></div></div>"
      ],
      "text/plain": [
       "StandardScaler()"
      ]
     },
     "execution_count": 37,
     "metadata": {},
     "output_type": "execute_result"
    }
   ],
   "source": [
    "scaler = StandardScaler()\n",
    "scaler.fit(features_train)"
   ]
  },
  {
   "cell_type": "markdown",
   "metadata": {},
   "source": [
    "Преобразуем обучающую, валидационную и тестовую выборки:"
   ]
  },
  {
   "cell_type": "code",
   "execution_count": 38,
   "metadata": {},
   "outputs": [],
   "source": [
    "features_train[columns] = scaler.transform(features_train[columns])\n",
    "features_valid[columns] = scaler.transform(features_valid[columns])\n",
    "features_test[columns] = scaler.transform(features_test[columns])"
   ]
  },
  {
   "cell_type": "markdown",
   "metadata": {},
   "source": [
    "И проверим результаты преобразования:"
   ]
  },
  {
   "cell_type": "code",
   "execution_count": 39,
   "metadata": {},
   "outputs": [
    {
     "data": {
      "text/html": [
       "<div>\n",
       "<style scoped>\n",
       "    .dataframe tbody tr th:only-of-type {\n",
       "        vertical-align: middle;\n",
       "    }\n",
       "\n",
       "    .dataframe tbody tr th {\n",
       "        vertical-align: top;\n",
       "    }\n",
       "\n",
       "    .dataframe thead th {\n",
       "        text-align: right;\n",
       "    }\n",
       "</style>\n",
       "<table border=\"1\" class=\"dataframe\">\n",
       "  <thead>\n",
       "    <tr style=\"text-align: right;\">\n",
       "      <th></th>\n",
       "      <th>CreditScore</th>\n",
       "      <th>Age</th>\n",
       "      <th>Tenure</th>\n",
       "      <th>Balance</th>\n",
       "      <th>NumOfProducts</th>\n",
       "      <th>HasCrCard</th>\n",
       "      <th>IsActiveMember</th>\n",
       "      <th>EstimatedSalary</th>\n",
       "      <th>Geography_Germany</th>\n",
       "      <th>Geography_Spain</th>\n",
       "      <th>Gender_Male</th>\n",
       "    </tr>\n",
       "  </thead>\n",
       "  <tbody>\n",
       "    <tr>\n",
       "      <th>2837</th>\n",
       "      <td>-1.040434</td>\n",
       "      <td>0.953312</td>\n",
       "      <td>0.360915</td>\n",
       "      <td>0.774657</td>\n",
       "      <td>-0.914708</td>\n",
       "      <td>-1.525709</td>\n",
       "      <td>0.969466</td>\n",
       "      <td>-0.119110</td>\n",
       "      <td>1.739007</td>\n",
       "      <td>-0.575811</td>\n",
       "      <td>-1.102198</td>\n",
       "    </tr>\n",
       "    <tr>\n",
       "      <th>9925</th>\n",
       "      <td>0.454006</td>\n",
       "      <td>-0.095244</td>\n",
       "      <td>-0.002300</td>\n",
       "      <td>1.910540</td>\n",
       "      <td>-0.914708</td>\n",
       "      <td>0.655433</td>\n",
       "      <td>0.969466</td>\n",
       "      <td>-0.258658</td>\n",
       "      <td>-0.575041</td>\n",
       "      <td>-0.575811</td>\n",
       "      <td>-1.102198</td>\n",
       "    </tr>\n",
       "    <tr>\n",
       "      <th>8746</th>\n",
       "      <td>0.103585</td>\n",
       "      <td>-0.476537</td>\n",
       "      <td>1.087346</td>\n",
       "      <td>0.481608</td>\n",
       "      <td>0.820981</td>\n",
       "      <td>-1.525709</td>\n",
       "      <td>0.969466</td>\n",
       "      <td>1.422836</td>\n",
       "      <td>-0.575041</td>\n",
       "      <td>-0.575811</td>\n",
       "      <td>0.907278</td>\n",
       "    </tr>\n",
       "    <tr>\n",
       "      <th>660</th>\n",
       "      <td>-0.184996</td>\n",
       "      <td>0.190726</td>\n",
       "      <td>-0.002300</td>\n",
       "      <td>0.088439</td>\n",
       "      <td>-0.914708</td>\n",
       "      <td>0.655433</td>\n",
       "      <td>0.969466</td>\n",
       "      <td>-1.160427</td>\n",
       "      <td>1.739007</td>\n",
       "      <td>-0.575811</td>\n",
       "      <td>-1.102198</td>\n",
       "    </tr>\n",
       "    <tr>\n",
       "      <th>3610</th>\n",
       "      <td>-0.720933</td>\n",
       "      <td>1.620574</td>\n",
       "      <td>-1.455162</td>\n",
       "      <td>0.879129</td>\n",
       "      <td>-0.914708</td>\n",
       "      <td>0.655433</td>\n",
       "      <td>-1.031496</td>\n",
       "      <td>0.113236</td>\n",
       "      <td>-0.575041</td>\n",
       "      <td>-0.575811</td>\n",
       "      <td>-1.102198</td>\n",
       "    </tr>\n",
       "  </tbody>\n",
       "</table>\n",
       "</div>"
      ],
      "text/plain": [
       "      CreditScore       Age    Tenure   Balance  NumOfProducts  HasCrCard  \\\n",
       "2837    -1.040434  0.953312  0.360915  0.774657      -0.914708  -1.525709   \n",
       "9925     0.454006 -0.095244 -0.002300  1.910540      -0.914708   0.655433   \n",
       "8746     0.103585 -0.476537  1.087346  0.481608       0.820981  -1.525709   \n",
       "660     -0.184996  0.190726 -0.002300  0.088439      -0.914708   0.655433   \n",
       "3610    -0.720933  1.620574 -1.455162  0.879129      -0.914708   0.655433   \n",
       "\n",
       "      IsActiveMember  EstimatedSalary  Geography_Germany  Geography_Spain  \\\n",
       "2837        0.969466        -0.119110           1.739007        -0.575811   \n",
       "9925        0.969466        -0.258658          -0.575041        -0.575811   \n",
       "8746        0.969466         1.422836          -0.575041        -0.575811   \n",
       "660         0.969466        -1.160427           1.739007        -0.575811   \n",
       "3610       -1.031496         0.113236          -0.575041        -0.575811   \n",
       "\n",
       "      Gender_Male  \n",
       "2837    -1.102198  \n",
       "9925    -1.102198  \n",
       "8746     0.907278  \n",
       "660     -1.102198  \n",
       "3610    -1.102198  "
      ]
     },
     "execution_count": 39,
     "metadata": {},
     "output_type": "execute_result"
    }
   ],
   "source": [
    "pd.DataFrame(features_train).head()"
   ]
  },
  {
   "cell_type": "code",
   "execution_count": 40,
   "metadata": {},
   "outputs": [
    {
     "data": {
      "text/html": [
       "<div>\n",
       "<style scoped>\n",
       "    .dataframe tbody tr th:only-of-type {\n",
       "        vertical-align: middle;\n",
       "    }\n",
       "\n",
       "    .dataframe tbody tr th {\n",
       "        vertical-align: top;\n",
       "    }\n",
       "\n",
       "    .dataframe thead th {\n",
       "        text-align: right;\n",
       "    }\n",
       "</style>\n",
       "<table border=\"1\" class=\"dataframe\">\n",
       "  <thead>\n",
       "    <tr style=\"text-align: right;\">\n",
       "      <th></th>\n",
       "      <th>CreditScore</th>\n",
       "      <th>Age</th>\n",
       "      <th>Tenure</th>\n",
       "      <th>Balance</th>\n",
       "      <th>NumOfProducts</th>\n",
       "      <th>HasCrCard</th>\n",
       "      <th>IsActiveMember</th>\n",
       "      <th>EstimatedSalary</th>\n",
       "      <th>Geography_Germany</th>\n",
       "      <th>Geography_Spain</th>\n",
       "      <th>Gender_Male</th>\n",
       "    </tr>\n",
       "  </thead>\n",
       "  <tbody>\n",
       "    <tr>\n",
       "      <th>6612</th>\n",
       "      <td>-1.524838</td>\n",
       "      <td>2.383160</td>\n",
       "      <td>-0.728731</td>\n",
       "      <td>1.011655</td>\n",
       "      <td>-0.914708</td>\n",
       "      <td>-1.525709</td>\n",
       "      <td>0.969466</td>\n",
       "      <td>0.010275</td>\n",
       "      <td>-0.575041</td>\n",
       "      <td>-0.575811</td>\n",
       "      <td>-1.102198</td>\n",
       "    </tr>\n",
       "    <tr>\n",
       "      <th>519</th>\n",
       "      <td>0.587990</td>\n",
       "      <td>1.811221</td>\n",
       "      <td>0.360915</td>\n",
       "      <td>0.213192</td>\n",
       "      <td>-0.914708</td>\n",
       "      <td>-1.525709</td>\n",
       "      <td>0.969466</td>\n",
       "      <td>0.453089</td>\n",
       "      <td>-0.575041</td>\n",
       "      <td>-0.575811</td>\n",
       "      <td>0.907278</td>\n",
       "    </tr>\n",
       "    <tr>\n",
       "      <th>1609</th>\n",
       "      <td>-0.318980</td>\n",
       "      <td>-0.381213</td>\n",
       "      <td>1.087346</td>\n",
       "      <td>0.893896</td>\n",
       "      <td>-0.914708</td>\n",
       "      <td>0.655433</td>\n",
       "      <td>-1.031496</td>\n",
       "      <td>-0.603508</td>\n",
       "      <td>-0.575041</td>\n",
       "      <td>-0.575811</td>\n",
       "      <td>-1.102198</td>\n",
       "    </tr>\n",
       "    <tr>\n",
       "      <th>3475</th>\n",
       "      <td>1.226991</td>\n",
       "      <td>-0.762506</td>\n",
       "      <td>-0.365516</td>\n",
       "      <td>-0.240363</td>\n",
       "      <td>0.820981</td>\n",
       "      <td>0.655433</td>\n",
       "      <td>0.969466</td>\n",
       "      <td>-1.621460</td>\n",
       "      <td>-0.575041</td>\n",
       "      <td>-0.575811</td>\n",
       "      <td>0.907278</td>\n",
       "    </tr>\n",
       "    <tr>\n",
       "      <th>2707</th>\n",
       "      <td>-0.133464</td>\n",
       "      <td>-0.095244</td>\n",
       "      <td>-0.728731</td>\n",
       "      <td>0.447305</td>\n",
       "      <td>-0.914708</td>\n",
       "      <td>-1.525709</td>\n",
       "      <td>-1.031496</td>\n",
       "      <td>0.338574</td>\n",
       "      <td>-0.575041</td>\n",
       "      <td>-0.575811</td>\n",
       "      <td>-1.102198</td>\n",
       "    </tr>\n",
       "  </tbody>\n",
       "</table>\n",
       "</div>"
      ],
      "text/plain": [
       "      CreditScore       Age    Tenure   Balance  NumOfProducts  HasCrCard  \\\n",
       "6612    -1.524838  2.383160 -0.728731  1.011655      -0.914708  -1.525709   \n",
       "519      0.587990  1.811221  0.360915  0.213192      -0.914708  -1.525709   \n",
       "1609    -0.318980 -0.381213  1.087346  0.893896      -0.914708   0.655433   \n",
       "3475     1.226991 -0.762506 -0.365516 -0.240363       0.820981   0.655433   \n",
       "2707    -0.133464 -0.095244 -0.728731  0.447305      -0.914708  -1.525709   \n",
       "\n",
       "      IsActiveMember  EstimatedSalary  Geography_Germany  Geography_Spain  \\\n",
       "6612        0.969466         0.010275          -0.575041        -0.575811   \n",
       "519         0.969466         0.453089          -0.575041        -0.575811   \n",
       "1609       -1.031496        -0.603508          -0.575041        -0.575811   \n",
       "3475        0.969466        -1.621460          -0.575041        -0.575811   \n",
       "2707       -1.031496         0.338574          -0.575041        -0.575811   \n",
       "\n",
       "      Gender_Male  \n",
       "6612    -1.102198  \n",
       "519      0.907278  \n",
       "1609    -1.102198  \n",
       "3475     0.907278  \n",
       "2707    -1.102198  "
      ]
     },
     "execution_count": 40,
     "metadata": {},
     "output_type": "execute_result"
    }
   ],
   "source": [
    "pd.DataFrame(features_valid).head()"
   ]
  },
  {
   "cell_type": "code",
   "execution_count": 41,
   "metadata": {},
   "outputs": [
    {
     "data": {
      "text/html": [
       "<div>\n",
       "<style scoped>\n",
       "    .dataframe tbody tr th:only-of-type {\n",
       "        vertical-align: middle;\n",
       "    }\n",
       "\n",
       "    .dataframe tbody tr th {\n",
       "        vertical-align: top;\n",
       "    }\n",
       "\n",
       "    .dataframe thead th {\n",
       "        text-align: right;\n",
       "    }\n",
       "</style>\n",
       "<table border=\"1\" class=\"dataframe\">\n",
       "  <thead>\n",
       "    <tr style=\"text-align: right;\">\n",
       "      <th></th>\n",
       "      <th>CreditScore</th>\n",
       "      <th>Age</th>\n",
       "      <th>Tenure</th>\n",
       "      <th>Balance</th>\n",
       "      <th>NumOfProducts</th>\n",
       "      <th>HasCrCard</th>\n",
       "      <th>IsActiveMember</th>\n",
       "      <th>EstimatedSalary</th>\n",
       "      <th>Geography_Germany</th>\n",
       "      <th>Geography_Spain</th>\n",
       "      <th>Gender_Male</th>\n",
       "    </tr>\n",
       "  </thead>\n",
       "  <tbody>\n",
       "    <tr>\n",
       "      <th>657</th>\n",
       "      <td>-0.504497</td>\n",
       "      <td>1.429928</td>\n",
       "      <td>-1.455162</td>\n",
       "      <td>0.873883</td>\n",
       "      <td>0.820981</td>\n",
       "      <td>0.655433</td>\n",
       "      <td>0.969466</td>\n",
       "      <td>1.725255</td>\n",
       "      <td>1.739007</td>\n",
       "      <td>-0.575811</td>\n",
       "      <td>-1.102198</td>\n",
       "    </tr>\n",
       "    <tr>\n",
       "      <th>2083</th>\n",
       "      <td>-1.195031</td>\n",
       "      <td>-1.429769</td>\n",
       "      <td>-1.455162</td>\n",
       "      <td>-1.219673</td>\n",
       "      <td>-0.914708</td>\n",
       "      <td>0.655433</td>\n",
       "      <td>0.969466</td>\n",
       "      <td>1.203665</td>\n",
       "      <td>-0.575041</td>\n",
       "      <td>-0.575811</td>\n",
       "      <td>0.907278</td>\n",
       "    </tr>\n",
       "    <tr>\n",
       "      <th>3234</th>\n",
       "      <td>-1.267176</td>\n",
       "      <td>0.762665</td>\n",
       "      <td>-1.455162</td>\n",
       "      <td>-1.219673</td>\n",
       "      <td>-0.914708</td>\n",
       "      <td>0.655433</td>\n",
       "      <td>-1.031496</td>\n",
       "      <td>-1.374743</td>\n",
       "      <td>-0.575041</td>\n",
       "      <td>-0.575811</td>\n",
       "      <td>0.907278</td>\n",
       "    </tr>\n",
       "    <tr>\n",
       "      <th>1551</th>\n",
       "      <td>0.825039</td>\n",
       "      <td>1.239281</td>\n",
       "      <td>0.724130</td>\n",
       "      <td>-1.219673</td>\n",
       "      <td>0.820981</td>\n",
       "      <td>-1.525709</td>\n",
       "      <td>0.969466</td>\n",
       "      <td>0.382306</td>\n",
       "      <td>-0.575041</td>\n",
       "      <td>1.736682</td>\n",
       "      <td>-1.102198</td>\n",
       "    </tr>\n",
       "    <tr>\n",
       "      <th>2344</th>\n",
       "      <td>0.660135</td>\n",
       "      <td>0.953312</td>\n",
       "      <td>-0.365516</td>\n",
       "      <td>0.267087</td>\n",
       "      <td>-0.914708</td>\n",
       "      <td>0.655433</td>\n",
       "      <td>-1.031496</td>\n",
       "      <td>-1.613578</td>\n",
       "      <td>1.739007</td>\n",
       "      <td>-0.575811</td>\n",
       "      <td>-1.102198</td>\n",
       "    </tr>\n",
       "  </tbody>\n",
       "</table>\n",
       "</div>"
      ],
      "text/plain": [
       "      CreditScore       Age    Tenure   Balance  NumOfProducts  HasCrCard  \\\n",
       "657     -0.504497  1.429928 -1.455162  0.873883       0.820981   0.655433   \n",
       "2083    -1.195031 -1.429769 -1.455162 -1.219673      -0.914708   0.655433   \n",
       "3234    -1.267176  0.762665 -1.455162 -1.219673      -0.914708   0.655433   \n",
       "1551     0.825039  1.239281  0.724130 -1.219673       0.820981  -1.525709   \n",
       "2344     0.660135  0.953312 -0.365516  0.267087      -0.914708   0.655433   \n",
       "\n",
       "      IsActiveMember  EstimatedSalary  Geography_Germany  Geography_Spain  \\\n",
       "657         0.969466         1.725255           1.739007        -0.575811   \n",
       "2083        0.969466         1.203665          -0.575041        -0.575811   \n",
       "3234       -1.031496        -1.374743          -0.575041        -0.575811   \n",
       "1551        0.969466         0.382306          -0.575041         1.736682   \n",
       "2344       -1.031496        -1.613578           1.739007        -0.575811   \n",
       "\n",
       "      Gender_Male  \n",
       "657     -1.102198  \n",
       "2083     0.907278  \n",
       "3234     0.907278  \n",
       "1551    -1.102198  \n",
       "2344    -1.102198  "
      ]
     },
     "execution_count": 41,
     "metadata": {},
     "output_type": "execute_result"
    }
   ],
   "source": [
    "pd.DataFrame(features_test).head()"
   ]
  },
  {
   "cell_type": "markdown",
   "metadata": {},
   "source": [
    "### Обучение модели без учёта дисбаланса классов"
   ]
  },
  {
   "cell_type": "markdown",
   "metadata": {},
   "source": [
    "Чтобы сократить количество кода будем для каждого типа модели создавать и затем вызывать функцию, которая для данной модели подбирает лучшие параметры путём изменения гиперпараметров в цикле, обучает модель с лучшими параметрами и выводит результаты."
   ]
  },
  {
   "cell_type": "markdown",
   "metadata": {},
   "source": [
    "#### Решающее дерево"
   ]
  },
  {
   "cell_type": "markdown",
   "metadata": {},
   "source": [
    "Создадим и вызовем функцию, которая для модели решающее дерево  подбирает лучшие параметры путём изменения гиперпараметров в цикле, обучает лучшую модель и выводит результаты.<br>"
   ]
  },
  {
   "cell_type": "code",
   "execution_count": 42,
   "metadata": {},
   "outputs": [],
   "source": [
    "def decision_tree_function(f_train, t_train, f_valid, t_valid):\n",
    "\n",
    "    best_max_depth = 1\n",
    "    best_max_features = 1\n",
    "    best_result_train = 0\n",
    "    best_result_valid = 0\n",
    "\n",
    "    for feature in range(2, 7):\n",
    "        for depth in range(2, 13):\n",
    "            model = DecisionTreeClassifier(random_state=12345, max_depth=depth, max_features=feature)        \n",
    "            model.fit(f_train, t_train)\n",
    "\n",
    "            predictions_train = model.predict(f_train)\n",
    "            result_train = f1_score(t_train, predictions_train)\n",
    "            predictions_valid = model.predict(f_valid)\n",
    "            result_valid = f1_score(t_valid, predictions_valid)\n",
    "\n",
    "            print(\"max_depth - {:.0f}, max_features - {:.0f} : F1_train  = {:.6f}, F1_valid  = {:.6f}\".\n",
    "                  format(depth, feature, result_train, result_valid))\n",
    "\n",
    "            if result_valid > best_result_valid:\n",
    "                best_max_depth = depth\n",
    "                best_max_features = feature\n",
    "                best_result_train = result_train\n",
    "                best_result_valid = result_valid\n",
    "                \n",
    "    print(\"\")\n",
    "    print(\"Лучшие результаты и параметры модели решающего дерева на валидационной выборке:\")\n",
    "    print(\"F1_valid: {:.6f}, F1_train: {:.6f}.\".format(best_result_valid, best_result_train))\n",
    "    print(\"max_features: {:.0f}, max_depth: {:.0f}.\".format(best_max_features, best_max_depth))\n",
    "    \n",
    "#     обучает лучшую модель, получает предсказания и переменные для построения графика и расчёта метрик\n",
    "    model = DecisionTreeClassifier(\n",
    "        random_state=12345, max_depth=best_max_depth, max_features=best_max_features)\n",
    "    model.fit(f_train, t_train)\n",
    "    predicted_valid = model.predict(f_valid)\n",
    "    probabilities_valid = model.predict_proba(f_valid)\n",
    "    probabilities_one_valid = probabilities_valid[:, 1]\n",
    "    \n",
    "#     строит график\n",
    "    print(\"\")\n",
    "    fpr, tpr, thresholds = roc_curve(t_valid, probabilities_one_valid) # < напишите код здесь >\n",
    "    plt.figure()\n",
    "    plt.plot(fpr, tpr)\n",
    "    plt.xlim([0.0, 1.0])\n",
    "    plt.ylim([0.0, 1.0])\n",
    "    plt.xlabel('False Positive Rate')\n",
    "    plt.ylabel('True Positive Rate')\n",
    "    plt.title('ROC-кривая')\n",
    "    plt.show()\n",
    "    \n",
    "    print(\"\")\n",
    "    print(\"AUC-ROC:\", roc_auc_score(t_valid, probabilities_one_valid))\n"
   ]
  },
  {
   "cell_type": "code",
   "execution_count": 43,
   "metadata": {},
   "outputs": [
    {
     "name": "stdout",
     "output_type": "stream",
     "text": [
      "max_depth - 2, max_features - 2 : F1_train  = 0.000000, F1_valid  = 0.000000\n",
      "max_depth - 3, max_features - 2 : F1_train  = 0.130069, F1_valid  = 0.161798\n",
      "max_depth - 4, max_features - 2 : F1_train  = 0.459565, F1_valid  = 0.452033\n",
      "max_depth - 5, max_features - 2 : F1_train  = 0.415645, F1_valid  = 0.426117\n",
      "max_depth - 6, max_features - 2 : F1_train  = 0.555988, F1_valid  = 0.561453\n",
      "max_depth - 7, max_features - 2 : F1_train  = 0.506893, F1_valid  = 0.476190\n",
      "max_depth - 8, max_features - 2 : F1_train  = 0.563508, F1_valid  = 0.514970\n",
      "max_depth - 9, max_features - 2 : F1_train  = 0.610791, F1_valid  = 0.514881\n",
      "max_depth - 10, max_features - 2 : F1_train  = 0.649805, F1_valid  = 0.496494\n",
      "max_depth - 11, max_features - 2 : F1_train  = 0.681043, F1_valid  = 0.500000\n",
      "max_depth - 12, max_features - 2 : F1_train  = 0.755660, F1_valid  = 0.529248\n",
      "max_depth - 2, max_features - 3 : F1_train  = 0.464435, F1_valid  = 0.457757\n",
      "max_depth - 3, max_features - 3 : F1_train  = 0.369089, F1_valid  = 0.403419\n",
      "max_depth - 4, max_features - 3 : F1_train  = 0.297245, F1_valid  = 0.324952\n",
      "max_depth - 5, max_features - 3 : F1_train  = 0.541935, F1_valid  = 0.546584\n",
      "max_depth - 6, max_features - 3 : F1_train  = 0.560825, F1_valid  = 0.563798\n",
      "max_depth - 7, max_features - 3 : F1_train  = 0.579028, F1_valid  = 0.493902\n",
      "max_depth - 8, max_features - 3 : F1_train  = 0.560841, F1_valid  = 0.529221\n",
      "max_depth - 9, max_features - 3 : F1_train  = 0.644545, F1_valid  = 0.517857\n",
      "max_depth - 10, max_features - 3 : F1_train  = 0.659939, F1_valid  = 0.502216\n",
      "max_depth - 11, max_features - 3 : F1_train  = 0.712251, F1_valid  = 0.532414\n",
      "max_depth - 12, max_features - 3 : F1_train  = 0.797392, F1_valid  = 0.565629\n",
      "max_depth - 2, max_features - 4 : F1_train  = 0.387423, F1_valid  = 0.418760\n",
      "max_depth - 3, max_features - 4 : F1_train  = 0.454442, F1_valid  = 0.458746\n",
      "max_depth - 4, max_features - 4 : F1_train  = 0.416915, F1_valid  = 0.444056\n",
      "max_depth - 5, max_features - 4 : F1_train  = 0.381372, F1_valid  = 0.404412\n",
      "max_depth - 6, max_features - 4 : F1_train  = 0.561219, F1_valid  = 0.534562\n",
      "max_depth - 7, max_features - 4 : F1_train  = 0.559524, F1_valid  = 0.541213\n",
      "max_depth - 8, max_features - 4 : F1_train  = 0.616896, F1_valid  = 0.557940\n",
      "max_depth - 9, max_features - 4 : F1_train  = 0.648213, F1_valid  = 0.611191\n",
      "max_depth - 10, max_features - 4 : F1_train  = 0.713200, F1_valid  = 0.575305\n",
      "max_depth - 11, max_features - 4 : F1_train  = 0.747201, F1_valid  = 0.550532\n",
      "max_depth - 12, max_features - 4 : F1_train  = 0.798734, F1_valid  = 0.568831\n",
      "max_depth - 2, max_features - 5 : F1_train  = 0.322235, F1_valid  = 0.339286\n",
      "max_depth - 3, max_features - 5 : F1_train  = 0.366898, F1_valid  = 0.404110\n",
      "max_depth - 4, max_features - 5 : F1_train  = 0.441420, F1_valid  = 0.464164\n",
      "max_depth - 5, max_features - 5 : F1_train  = 0.546425, F1_valid  = 0.553517\n",
      "max_depth - 6, max_features - 5 : F1_train  = 0.555556, F1_valid  = 0.526786\n",
      "max_depth - 7, max_features - 5 : F1_train  = 0.583727, F1_valid  = 0.548780\n",
      "max_depth - 8, max_features - 5 : F1_train  = 0.616813, F1_valid  = 0.588757\n",
      "max_depth - 9, max_features - 5 : F1_train  = 0.685488, F1_valid  = 0.605714\n",
      "max_depth - 10, max_features - 5 : F1_train  = 0.732803, F1_valid  = 0.578667\n",
      "max_depth - 11, max_features - 5 : F1_train  = 0.779439, F1_valid  = 0.559572\n",
      "max_depth - 12, max_features - 5 : F1_train  = 0.800365, F1_valid  = 0.555705\n",
      "max_depth - 2, max_features - 6 : F1_train  = 0.112036, F1_valid  = 0.134831\n",
      "max_depth - 3, max_features - 6 : F1_train  = 0.536919, F1_valid  = 0.548295\n",
      "max_depth - 4, max_features - 6 : F1_train  = 0.412794, F1_valid  = 0.438938\n",
      "max_depth - 5, max_features - 6 : F1_train  = 0.550755, F1_valid  = 0.546828\n",
      "max_depth - 6, max_features - 6 : F1_train  = 0.580909, F1_valid  = 0.582723\n",
      "max_depth - 7, max_features - 6 : F1_train  = 0.596095, F1_valid  = 0.600583\n",
      "max_depth - 8, max_features - 6 : F1_train  = 0.634683, F1_valid  = 0.593123\n",
      "max_depth - 9, max_features - 6 : F1_train  = 0.679822, F1_valid  = 0.558074\n",
      "max_depth - 10, max_features - 6 : F1_train  = 0.732931, F1_valid  = 0.571819\n",
      "max_depth - 11, max_features - 6 : F1_train  = 0.760616, F1_valid  = 0.530120\n",
      "max_depth - 12, max_features - 6 : F1_train  = 0.821893, F1_valid  = 0.581333\n",
      "\n",
      "Лучшие результаты и параметры модели решающего дерева на валидационной выборке:\n",
      "F1_valid: 0.611191, F1_train: 0.648213.\n",
      "max_features: 4, max_depth: 9.\n",
      "\n"
     ]
    },
    {
     "data": {
      "image/png": "[encoded data removed]",
      "text/plain": [
       "<Figure size 432x288 with 1 Axes>"
      ]
     },
     "metadata": {
      "needs_background": "light"
     },
     "output_type": "display_data"
    },
    {
     "name": "stdout",
     "output_type": "stream",
     "text": [
      "\n",
      "AUC-ROC: 0.8211223088481624\n"
     ]
    }
   ],
   "source": [
    "decision_tree_function(features_train, target_train, features_valid, target_valid)"
   ]
  },
  {
   "cell_type": "markdown",
   "metadata": {},
   "source": [
    "Даже без устранения дисбаланса классов достигнуто достаточное значение `F1-меры` на валидационной выборке. При этом модель не выглядит переобученной: разница в значениях метрики на обучающей и валидационной выборках составяет менее 10%.<br>\n",
    "Получены хорошая форма `ROC-кривой` и неплохие (высокие) значения метрики `AUC-ROC`. "
   ]
  },
  {
   "cell_type": "markdown",
   "metadata": {},
   "source": [
    "#### Случайный лес"
   ]
  },
  {
   "cell_type": "markdown",
   "metadata": {},
   "source": [
    "Создадим функцию, которая обучает модель случайного леса путём подбора гиперпараметров в цикле и выводит результаты обучения.<br>"
   ]
  },
  {
   "cell_type": "code",
   "execution_count": 44,
   "metadata": {},
   "outputs": [],
   "source": [
    "def random_forest_function(f_train, t_train, f_valid, t_valid):\n",
    "            \n",
    "    best_max_depth = 1\n",
    "    best_est = 1\n",
    "    best_result_train = 0\n",
    "    best_result_valid = 0\n",
    "\n",
    "    for est in range(80, 151, 10):\n",
    "        for depth in range (9, 14):\n",
    "\n",
    "            model = RandomForestClassifier(random_state=12345, n_estimators=est, max_depth=depth)\n",
    "            model.fit(f_train, t_train)\n",
    "\n",
    "            predictions_train = model.predict(f_train)\n",
    "            result_train = f1_score(t_train, predictions_train)\n",
    "            predictions_valid = model.predict(f_valid)\n",
    "            result_valid = f1_score(t_valid, predictions_valid)\n",
    "    \n",
    "            print(\"max_depth - {:.0f}, n_estimators - {:.0f} : F1_train  = {:.5f}, F1_valid  = {:.5f}\".\n",
    "              format(depth, est, result_train, result_valid))\n",
    "\n",
    "            if result_valid > best_result_valid:\n",
    "                best_max_depth = depth\n",
    "                best_est = est\n",
    "                best_result_train = result_train\n",
    "                best_result_valid = result_valid\n",
    "\n",
    "    print(\"\")\n",
    "    print(\"Лучшие результаты и параметры модели Случайный лес на валидационной выборке:\")\n",
    "    print(\"F1_valid: {:.6f}, F1_train: {:.6f}.\".format(best_result_valid, best_result_train))\n",
    "    print(\"n_estimators: {:.0f}, max_depth: {:.0f}.\".format(best_est, best_max_depth))\n",
    "    \n",
    "    \n",
    "#     обучает лучшую модель, получает предсказания и переменные для построения графика и расчёта метрик\n",
    "    model = RandomForestClassifier(max_depth=best_max_depth, n_estimators=best_est, random_state=12345)\n",
    "    model.fit(f_train, t_train)\n",
    "    predicted_valid = model.predict(f_valid)\n",
    "    probabilities_valid = model.predict_proba(f_valid)\n",
    "    probabilities_one_valid = probabilities_valid[:, 1]\n",
    "    \n",
    "#     строит график\n",
    "    print(\"\")\n",
    "    fpr, tpr, thresholds = roc_curve(t_valid, probabilities_one_valid) # < напишите код здесь >\n",
    "    plt.figure()\n",
    "    plt.plot(fpr, tpr)\n",
    "    plt.xlim([0.0, 1.0])\n",
    "    plt.ylim([0.0, 1.0])\n",
    "    plt.xlabel('False Positive Rate')\n",
    "    plt.ylabel('True Positive Rate')\n",
    "    plt.title('ROC-кривая')\n",
    "    plt.show()\n",
    "    \n",
    "    print(\"\")\n",
    "    print(\"AUC-ROC:\", roc_auc_score(t_valid, probabilities_one_valid))"
   ]
  },
  {
   "cell_type": "code",
   "execution_count": 45,
   "metadata": {},
   "outputs": [
    {
     "name": "stdout",
     "output_type": "stream",
     "text": [
      "max_depth - 9, n_estimators - 80 : F1_train  = 0.65293, F1_valid  = 0.58642\n",
      "max_depth - 10, n_estimators - 80 : F1_train  = 0.70407, F1_valid  = 0.58951\n",
      "max_depth - 11, n_estimators - 80 : F1_train  = 0.74260, F1_valid  = 0.59697\n",
      "max_depth - 12, n_estimators - 80 : F1_train  = 0.79903, F1_valid  = 0.59361\n",
      "max_depth - 13, n_estimators - 80 : F1_train  = 0.86018, F1_valid  = 0.60570\n",
      "max_depth - 9, n_estimators - 90 : F1_train  = 0.65362, F1_valid  = 0.59077\n",
      "max_depth - 10, n_estimators - 90 : F1_train  = 0.70031, F1_valid  = 0.59509\n",
      "max_depth - 11, n_estimators - 90 : F1_train  = 0.74637, F1_valid  = 0.60578\n",
      "max_depth - 12, n_estimators - 90 : F1_train  = 0.80097, F1_valid  = 0.59394\n",
      "max_depth - 13, n_estimators - 90 : F1_train  = 0.86320, F1_valid  = 0.60241\n",
      "max_depth - 9, n_estimators - 100 : F1_train  = 0.65541, F1_valid  = 0.58204\n",
      "max_depth - 10, n_estimators - 100 : F1_train  = 0.70298, F1_valid  = 0.59509\n",
      "max_depth - 11, n_estimators - 100 : F1_train  = 0.74260, F1_valid  = 0.60486\n",
      "max_depth - 12, n_estimators - 100 : F1_train  = 0.79923, F1_valid  = 0.59304\n",
      "max_depth - 13, n_estimators - 100 : F1_train  = 0.86228, F1_valid  = 0.60121\n",
      "max_depth - 9, n_estimators - 110 : F1_train  = 0.65506, F1_valid  = 0.58642\n",
      "max_depth - 10, n_estimators - 110 : F1_train  = 0.70134, F1_valid  = 0.59568\n",
      "max_depth - 11, n_estimators - 110 : F1_train  = 0.74197, F1_valid  = 0.60091\n",
      "max_depth - 12, n_estimators - 110 : F1_train  = 0.79864, F1_valid  = 0.59304\n",
      "max_depth - 13, n_estimators - 110 : F1_train  = 0.86553, F1_valid  = 0.60150\n",
      "max_depth - 9, n_estimators - 120 : F1_train  = 0.65114, F1_valid  = 0.58860\n",
      "max_depth - 10, n_estimators - 120 : F1_train  = 0.69830, F1_valid  = 0.59385\n",
      "max_depth - 11, n_estimators - 120 : F1_train  = 0.74197, F1_valid  = 0.60486\n",
      "max_depth - 12, n_estimators - 120 : F1_train  = 0.79748, F1_valid  = 0.60121\n",
      "max_depth - 13, n_estimators - 120 : F1_train  = 0.86657, F1_valid  = 0.60451\n",
      "max_depth - 9, n_estimators - 130 : F1_train  = 0.65401, F1_valid  = 0.58423\n",
      "max_depth - 10, n_estimators - 130 : F1_train  = 0.70165, F1_valid  = 0.59908\n",
      "max_depth - 11, n_estimators - 130 : F1_train  = 0.74260, F1_valid  = 0.60091\n",
      "max_depth - 12, n_estimators - 130 : F1_train  = 0.79768, F1_valid  = 0.59788\n",
      "max_depth - 13, n_estimators - 130 : F1_train  = 0.86657, F1_valid  = 0.60725\n",
      "max_depth - 9, n_estimators - 140 : F1_train  = 0.65222, F1_valid  = 0.58769\n",
      "max_depth - 10, n_estimators - 140 : F1_train  = 0.70431, F1_valid  = 0.59908\n",
      "max_depth - 11, n_estimators - 140 : F1_train  = 0.74260, F1_valid  = 0.59756\n",
      "max_depth - 12, n_estimators - 140 : F1_train  = 0.79923, F1_valid  = 0.59394\n",
      "max_depth - 13, n_estimators - 140 : F1_train  = 0.87163, F1_valid  = 0.60212\n",
      "max_depth - 9, n_estimators - 150 : F1_train  = 0.65397, F1_valid  = 0.58114\n",
      "max_depth - 10, n_estimators - 150 : F1_train  = 0.70401, F1_valid  = 0.59259\n",
      "max_depth - 11, n_estimators - 150 : F1_train  = 0.74260, F1_valid  = 0.59665\n",
      "max_depth - 12, n_estimators - 150 : F1_train  = 0.79903, F1_valid  = 0.59056\n",
      "max_depth - 13, n_estimators - 150 : F1_train  = 0.87243, F1_valid  = 0.60935\n",
      "\n",
      "Лучшие результаты и параметры модели Случайный лес на валидационной выборке:\n",
      "F1_valid: 0.609351, F1_train: 0.872428.\n",
      "n_estimators: 150, max_depth: 13.\n",
      "\n"
     ]
    },
    {
     "data": {
      "image/png": "[encoded data removed]",
      "text/plain": [
       "<Figure size 432x288 with 1 Axes>"
      ]
     },
     "metadata": {
      "needs_background": "light"
     },
     "output_type": "display_data"
    },
    {
     "name": "stdout",
     "output_type": "stream",
     "text": [
      "\n",
      "AUC-ROC: 0.8683721918415608\n"
     ]
    }
   ],
   "source": [
    "random_forest_function(features_train, target_train, features_valid, target_valid)"
   ]
  },
  {
   "cell_type": "markdown",
   "metadata": {},
   "source": [
    "Модель показала очень хорошие результаты: на валидационной выборке было достигнуто требуемое значение `F1-меры`, лучшее, чем у решающего дерева. Впрочем, така картина может объясняться \"везением\" при распределении данных в валидационную выборку.<br>\n",
    "Однако, эта модель выглядит переобученной: разница в значениях метрики на обучающей и валидационной выборке составляет около 30%.<br>\n",
    "Получилась лучшая из трёх моделей ROC-кривая: резко поднимается вверх и практически прижимается к единице после 0.6: это говорит о хорошей способности модели предсказывать положительный класс. Хотя опять же причиной здесь может быть \"везение\" при распределении данных в выборки."
   ]
  },
  {
   "cell_type": "markdown",
   "metadata": {},
   "source": [
    "#### Логистическая регрессия"
   ]
  },
  {
   "cell_type": "code",
   "execution_count": 46,
   "metadata": {},
   "outputs": [],
   "source": [
    "def logistic_regression_function(f_train, t_train, f_valid, t_valid):\n",
    "                \n",
    "    best_max_iter = 1\n",
    "    best_c = 1\n",
    "    best_result_train = 0\n",
    "    best_result_valid = 0\n",
    "\n",
    "    for c_num in np.arange(0.1, 1.5, 0.1):\n",
    "        for itr in range(100, 1001, 100):\n",
    "            \n",
    "            model = LogisticRegression(random_state=12345, solver='lbfgs', C=c_num, max_iter=itr)        \n",
    "            model.fit(f_train, t_train)\n",
    "\n",
    "            predictions_train = model.predict(f_train)\n",
    "            result_train = f1_score(t_train, predictions_train)\n",
    "            predictions_valid = model.predict(f_valid)\n",
    "            result_valid = f1_score(t_valid, predictions_valid)\n",
    "    \n",
    "            print(\"max_iter - {:.0f}, C - {:.1f} : F1_train  = {:.5f}, F1_valid  = {:.5f}\".\n",
    "                  format(itr, c_num, result_train, result_valid))\n",
    "\n",
    "            if result_valid > best_result_valid:\n",
    "                best_max_iter = itr\n",
    "                best_c = c_num\n",
    "                best_result_train = result_train\n",
    "                best_result_valid = result_valid\n",
    "\n",
    "\n",
    "    print(\"\")\n",
    "    print(\"Лучшие результаты и параметры модели Логистической регрессии на валидационной выборке:\")\n",
    "    print(\"F1_valid: {:.6f}, F1_train: {:.6f}.\".format(best_result_valid, best_result_train))\n",
    "    print(\"max_iter: {:.0f}, C: {:.1f}.\".format(best_max_iter, best_c))\n",
    "    \n",
    "    \n",
    "    \n",
    "#     обучает лучшую модель, получает предсказания и переменные для построения графика и расчёта метрик\n",
    "    model = LogisticRegression(random_state=12345, solver='lbfgs', C=best_c, max_iter=best_max_iter)\n",
    "    model.fit(f_train, t_train)\n",
    "    predicted_valid = model.predict(f_valid)\n",
    "    probabilities_valid = model.predict_proba(f_valid)\n",
    "    probabilities_one_valid = probabilities_valid[:, 1]\n",
    "    \n",
    "#     строит график\n",
    "    print(\"\")\n",
    "    fpr, tpr, thresholds = roc_curve(t_valid, probabilities_one_valid) # < напишите код здесь >\n",
    "    plt.figure()\n",
    "    plt.plot(fpr, tpr)\n",
    "    plt.xlim([0.0, 1.0])\n",
    "    plt.ylim([0.0, 1.0])\n",
    "    plt.xlabel('False Positive Rate')\n",
    "    plt.ylabel('True Positive Rate')\n",
    "    plt.title('ROC-кривая')\n",
    "    plt.show()\n",
    "    \n",
    "    print(\"\")\n",
    "    print(\"AUC-ROC:\", roc_auc_score(t_valid, probabilities_one_valid))"
   ]
  },
  {
   "cell_type": "code",
   "execution_count": 47,
   "metadata": {},
   "outputs": [
    {
     "name": "stdout",
     "output_type": "stream",
     "text": [
      "max_iter - 100, C - 0.1 : F1_train  = 0.31284, F1_valid  = 0.30203\n",
      "max_iter - 200, C - 0.1 : F1_train  = 0.31284, F1_valid  = 0.30203\n",
      "max_iter - 300, C - 0.1 : F1_train  = 0.31284, F1_valid  = 0.30203\n",
      "max_iter - 400, C - 0.1 : F1_train  = 0.31284, F1_valid  = 0.30203\n",
      "max_iter - 500, C - 0.1 : F1_train  = 0.31284, F1_valid  = 0.30203\n",
      "max_iter - 600, C - 0.1 : F1_train  = 0.31284, F1_valid  = 0.30203\n",
      "max_iter - 700, C - 0.1 : F1_train  = 0.31284, F1_valid  = 0.30203\n",
      "max_iter - 800, C - 0.1 : F1_train  = 0.31284, F1_valid  = 0.30203\n",
      "max_iter - 900, C - 0.1 : F1_train  = 0.31284, F1_valid  = 0.30203\n",
      "max_iter - 1000, C - 0.1 : F1_train  = 0.31284, F1_valid  = 0.30203\n",
      "max_iter - 100, C - 0.2 : F1_train  = 0.31898, F1_valid  = 0.30459\n",
      "max_iter - 200, C - 0.2 : F1_train  = 0.31898, F1_valid  = 0.30459\n",
      "max_iter - 300, C - 0.2 : F1_train  = 0.31898, F1_valid  = 0.30459\n",
      "max_iter - 400, C - 0.2 : F1_train  = 0.31898, F1_valid  = 0.30459\n",
      "max_iter - 500, C - 0.2 : F1_train  = 0.31898, F1_valid  = 0.30459\n",
      "max_iter - 600, C - 0.2 : F1_train  = 0.31898, F1_valid  = 0.30459\n",
      "max_iter - 700, C - 0.2 : F1_train  = 0.31898, F1_valid  = 0.30459\n",
      "max_iter - 800, C - 0.2 : F1_train  = 0.31898, F1_valid  = 0.30459\n",
      "max_iter - 900, C - 0.2 : F1_train  = 0.31898, F1_valid  = 0.30459\n",
      "max_iter - 1000, C - 0.2 : F1_train  = 0.31898, F1_valid  = 0.30459\n",
      "max_iter - 100, C - 0.3 : F1_train  = 0.31923, F1_valid  = 0.30769\n",
      "max_iter - 200, C - 0.3 : F1_train  = 0.31923, F1_valid  = 0.30769\n",
      "max_iter - 300, C - 0.3 : F1_train  = 0.31923, F1_valid  = 0.30769\n",
      "max_iter - 400, C - 0.3 : F1_train  = 0.31923, F1_valid  = 0.30769\n",
      "max_iter - 500, C - 0.3 : F1_train  = 0.31923, F1_valid  = 0.30769\n",
      "max_iter - 600, C - 0.3 : F1_train  = 0.31923, F1_valid  = 0.30769\n",
      "max_iter - 700, C - 0.3 : F1_train  = 0.31923, F1_valid  = 0.30769\n",
      "max_iter - 800, C - 0.3 : F1_train  = 0.31923, F1_valid  = 0.30769\n",
      "max_iter - 900, C - 0.3 : F1_train  = 0.31923, F1_valid  = 0.30769\n",
      "max_iter - 1000, C - 0.3 : F1_train  = 0.31923, F1_valid  = 0.30769\n",
      "max_iter - 100, C - 0.4 : F1_train  = 0.32126, F1_valid  = 0.31079\n",
      "max_iter - 200, C - 0.4 : F1_train  = 0.32126, F1_valid  = 0.31079\n",
      "max_iter - 300, C - 0.4 : F1_train  = 0.32126, F1_valid  = 0.31079\n",
      "max_iter - 400, C - 0.4 : F1_train  = 0.32126, F1_valid  = 0.31079\n",
      "max_iter - 500, C - 0.4 : F1_train  = 0.32126, F1_valid  = 0.31079\n",
      "max_iter - 600, C - 0.4 : F1_train  = 0.32126, F1_valid  = 0.31079\n",
      "max_iter - 700, C - 0.4 : F1_train  = 0.32126, F1_valid  = 0.31079\n",
      "max_iter - 800, C - 0.4 : F1_train  = 0.32126, F1_valid  = 0.31079\n",
      "max_iter - 900, C - 0.4 : F1_train  = 0.32126, F1_valid  = 0.31079\n",
      "max_iter - 1000, C - 0.4 : F1_train  = 0.32126, F1_valid  = 0.31079\n",
      "max_iter - 100, C - 0.5 : F1_train  = 0.32126, F1_valid  = 0.31079\n",
      "max_iter - 200, C - 0.5 : F1_train  = 0.32126, F1_valid  = 0.31079\n",
      "max_iter - 300, C - 0.5 : F1_train  = 0.32126, F1_valid  = 0.31079\n",
      "max_iter - 400, C - 0.5 : F1_train  = 0.32126, F1_valid  = 0.31079\n",
      "max_iter - 500, C - 0.5 : F1_train  = 0.32126, F1_valid  = 0.31079\n",
      "max_iter - 600, C - 0.5 : F1_train  = 0.32126, F1_valid  = 0.31079\n",
      "max_iter - 700, C - 0.5 : F1_train  = 0.32126, F1_valid  = 0.31079\n",
      "max_iter - 800, C - 0.5 : F1_train  = 0.32126, F1_valid  = 0.31079\n",
      "max_iter - 900, C - 0.5 : F1_train  = 0.32126, F1_valid  = 0.31079\n",
      "max_iter - 1000, C - 0.5 : F1_train  = 0.32126, F1_valid  = 0.31079\n",
      "max_iter - 100, C - 0.6 : F1_train  = 0.32126, F1_valid  = 0.31079\n",
      "max_iter - 200, C - 0.6 : F1_train  = 0.32126, F1_valid  = 0.31079\n",
      "max_iter - 300, C - 0.6 : F1_train  = 0.32126, F1_valid  = 0.31079\n",
      "max_iter - 400, C - 0.6 : F1_train  = 0.32126, F1_valid  = 0.31079\n",
      "max_iter - 500, C - 0.6 : F1_train  = 0.32126, F1_valid  = 0.31079\n",
      "max_iter - 600, C - 0.6 : F1_train  = 0.32126, F1_valid  = 0.31079\n",
      "max_iter - 700, C - 0.6 : F1_train  = 0.32126, F1_valid  = 0.31079\n",
      "max_iter - 800, C - 0.6 : F1_train  = 0.32126, F1_valid  = 0.31079\n",
      "max_iter - 900, C - 0.6 : F1_train  = 0.32126, F1_valid  = 0.31079\n",
      "max_iter - 1000, C - 0.6 : F1_train  = 0.32126, F1_valid  = 0.31079\n",
      "max_iter - 100, C - 0.7 : F1_train  = 0.32126, F1_valid  = 0.31079\n",
      "max_iter - 200, C - 0.7 : F1_train  = 0.32126, F1_valid  = 0.31079\n",
      "max_iter - 300, C - 0.7 : F1_train  = 0.32126, F1_valid  = 0.31079\n",
      "max_iter - 400, C - 0.7 : F1_train  = 0.32126, F1_valid  = 0.31079\n",
      "max_iter - 500, C - 0.7 : F1_train  = 0.32126, F1_valid  = 0.31079\n",
      "max_iter - 600, C - 0.7 : F1_train  = 0.32126, F1_valid  = 0.31079\n",
      "max_iter - 700, C - 0.7 : F1_train  = 0.32126, F1_valid  = 0.31079\n",
      "max_iter - 800, C - 0.7 : F1_train  = 0.32126, F1_valid  = 0.31079\n",
      "max_iter - 900, C - 0.7 : F1_train  = 0.32126, F1_valid  = 0.31079\n",
      "max_iter - 1000, C - 0.7 : F1_train  = 0.32126, F1_valid  = 0.31079\n",
      "max_iter - 100, C - 0.8 : F1_train  = 0.32126, F1_valid  = 0.31079\n",
      "max_iter - 200, C - 0.8 : F1_train  = 0.32126, F1_valid  = 0.31079\n",
      "max_iter - 300, C - 0.8 : F1_train  = 0.32126, F1_valid  = 0.31079\n",
      "max_iter - 400, C - 0.8 : F1_train  = 0.32126, F1_valid  = 0.31079\n",
      "max_iter - 500, C - 0.8 : F1_train  = 0.32126, F1_valid  = 0.31079\n",
      "max_iter - 600, C - 0.8 : F1_train  = 0.32126, F1_valid  = 0.31079\n",
      "max_iter - 700, C - 0.8 : F1_train  = 0.32126, F1_valid  = 0.31079\n",
      "max_iter - 800, C - 0.8 : F1_train  = 0.32126, F1_valid  = 0.31079\n",
      "max_iter - 900, C - 0.8 : F1_train  = 0.32126, F1_valid  = 0.31079\n",
      "max_iter - 1000, C - 0.8 : F1_train  = 0.32126, F1_valid  = 0.31079\n",
      "max_iter - 100, C - 0.9 : F1_train  = 0.32126, F1_valid  = 0.31079\n",
      "max_iter - 200, C - 0.9 : F1_train  = 0.32126, F1_valid  = 0.31079\n",
      "max_iter - 300, C - 0.9 : F1_train  = 0.32126, F1_valid  = 0.31079\n",
      "max_iter - 400, C - 0.9 : F1_train  = 0.32126, F1_valid  = 0.31079\n",
      "max_iter - 500, C - 0.9 : F1_train  = 0.32126, F1_valid  = 0.31079\n",
      "max_iter - 600, C - 0.9 : F1_train  = 0.32126, F1_valid  = 0.31079\n",
      "max_iter - 700, C - 0.9 : F1_train  = 0.32126, F1_valid  = 0.31079\n",
      "max_iter - 800, C - 0.9 : F1_train  = 0.32126, F1_valid  = 0.31079\n",
      "max_iter - 900, C - 0.9 : F1_train  = 0.32126, F1_valid  = 0.31079\n",
      "max_iter - 1000, C - 0.9 : F1_train  = 0.32126, F1_valid  = 0.31079\n",
      "max_iter - 100, C - 1.0 : F1_train  = 0.32126, F1_valid  = 0.31079\n",
      "max_iter - 200, C - 1.0 : F1_train  = 0.32126, F1_valid  = 0.31079\n",
      "max_iter - 300, C - 1.0 : F1_train  = 0.32126, F1_valid  = 0.31079\n",
      "max_iter - 400, C - 1.0 : F1_train  = 0.32126, F1_valid  = 0.31079\n",
      "max_iter - 500, C - 1.0 : F1_train  = 0.32126, F1_valid  = 0.31079\n",
      "max_iter - 600, C - 1.0 : F1_train  = 0.32126, F1_valid  = 0.31079\n",
      "max_iter - 700, C - 1.0 : F1_train  = 0.32126, F1_valid  = 0.31079\n",
      "max_iter - 800, C - 1.0 : F1_train  = 0.32126, F1_valid  = 0.31079\n",
      "max_iter - 900, C - 1.0 : F1_train  = 0.32126, F1_valid  = 0.31079\n",
      "max_iter - 1000, C - 1.0 : F1_train  = 0.32126, F1_valid  = 0.31079\n",
      "max_iter - 100, C - 1.1 : F1_train  = 0.32126, F1_valid  = 0.31079\n",
      "max_iter - 200, C - 1.1 : F1_train  = 0.32126, F1_valid  = 0.31079\n",
      "max_iter - 300, C - 1.1 : F1_train  = 0.32126, F1_valid  = 0.31079\n",
      "max_iter - 400, C - 1.1 : F1_train  = 0.32126, F1_valid  = 0.31079\n",
      "max_iter - 500, C - 1.1 : F1_train  = 0.32126, F1_valid  = 0.31079\n",
      "max_iter - 600, C - 1.1 : F1_train  = 0.32126, F1_valid  = 0.31079\n",
      "max_iter - 700, C - 1.1 : F1_train  = 0.32126, F1_valid  = 0.31079\n",
      "max_iter - 800, C - 1.1 : F1_train  = 0.32126, F1_valid  = 0.31079\n",
      "max_iter - 900, C - 1.1 : F1_train  = 0.32126, F1_valid  = 0.31079\n",
      "max_iter - 1000, C - 1.1 : F1_train  = 0.32126, F1_valid  = 0.31079\n",
      "max_iter - 100, C - 1.2 : F1_train  = 0.32126, F1_valid  = 0.31079\n",
      "max_iter - 200, C - 1.2 : F1_train  = 0.32126, F1_valid  = 0.31079\n",
      "max_iter - 300, C - 1.2 : F1_train  = 0.32126, F1_valid  = 0.31079\n",
      "max_iter - 400, C - 1.2 : F1_train  = 0.32126, F1_valid  = 0.31079\n",
      "max_iter - 500, C - 1.2 : F1_train  = 0.32126, F1_valid  = 0.31079\n",
      "max_iter - 600, C - 1.2 : F1_train  = 0.32126, F1_valid  = 0.31079\n",
      "max_iter - 700, C - 1.2 : F1_train  = 0.32126, F1_valid  = 0.31079\n",
      "max_iter - 800, C - 1.2 : F1_train  = 0.32126, F1_valid  = 0.31079\n",
      "max_iter - 900, C - 1.2 : F1_train  = 0.32126, F1_valid  = 0.31079\n",
      "max_iter - 1000, C - 1.2 : F1_train  = 0.32126, F1_valid  = 0.31079\n",
      "max_iter - 100, C - 1.3 : F1_train  = 0.32126, F1_valid  = 0.31079\n",
      "max_iter - 200, C - 1.3 : F1_train  = 0.32126, F1_valid  = 0.31079\n",
      "max_iter - 300, C - 1.3 : F1_train  = 0.32126, F1_valid  = 0.31079\n",
      "max_iter - 400, C - 1.3 : F1_train  = 0.32126, F1_valid  = 0.31079\n",
      "max_iter - 500, C - 1.3 : F1_train  = 0.32126, F1_valid  = 0.31079\n"
     ]
    },
    {
     "name": "stdout",
     "output_type": "stream",
     "text": [
      "max_iter - 600, C - 1.3 : F1_train  = 0.32126, F1_valid  = 0.31079\n",
      "max_iter - 700, C - 1.3 : F1_train  = 0.32126, F1_valid  = 0.31079\n",
      "max_iter - 800, C - 1.3 : F1_train  = 0.32126, F1_valid  = 0.31079\n",
      "max_iter - 900, C - 1.3 : F1_train  = 0.32126, F1_valid  = 0.31079\n",
      "max_iter - 1000, C - 1.3 : F1_train  = 0.32126, F1_valid  = 0.31079\n",
      "max_iter - 100, C - 1.4 : F1_train  = 0.32126, F1_valid  = 0.31079\n",
      "max_iter - 200, C - 1.4 : F1_train  = 0.32126, F1_valid  = 0.31079\n",
      "max_iter - 300, C - 1.4 : F1_train  = 0.32126, F1_valid  = 0.31079\n",
      "max_iter - 400, C - 1.4 : F1_train  = 0.32126, F1_valid  = 0.31079\n",
      "max_iter - 500, C - 1.4 : F1_train  = 0.32126, F1_valid  = 0.31079\n",
      "max_iter - 600, C - 1.4 : F1_train  = 0.32126, F1_valid  = 0.31079\n",
      "max_iter - 700, C - 1.4 : F1_train  = 0.32126, F1_valid  = 0.31079\n",
      "max_iter - 800, C - 1.4 : F1_train  = 0.32126, F1_valid  = 0.31079\n",
      "max_iter - 900, C - 1.4 : F1_train  = 0.32126, F1_valid  = 0.31079\n",
      "max_iter - 1000, C - 1.4 : F1_train  = 0.32126, F1_valid  = 0.31079\n",
      "\n",
      "Лучшие результаты и параметры модели Логистической регрессии на валидационной выборке:\n",
      "F1_valid: 0.310786, F1_train: 0.321256.\n",
      "max_iter: 100, C: 0.4.\n",
      "\n"
     ]
    },
    {
     "data": {
      "image/png": "[encoded data removed]",
      "text/plain": [
       "<Figure size 432x288 with 1 Axes>"
      ]
     },
     "metadata": {
      "needs_background": "light"
     },
     "output_type": "display_data"
    },
    {
     "name": "stdout",
     "output_type": "stream",
     "text": [
      "\n",
      "AUC-ROC: 0.7874482707655928\n"
     ]
    }
   ],
   "source": [
    "logistic_regression_function(features_train, target_train, features_valid, target_valid)"
   ]
  },
  {
   "cell_type": "markdown",
   "metadata": {},
   "source": [
    "Переобучение модели чуть больше, чем у решающего дерева, но существенно меньше, чем у случайного леса: разница в значениях метрики модели на обучающей и валидационной выборках около 15%. <br>\n",
    "Однако качество прогноза положительного класса у модели крайне низкое: значение `F1-меры` всего 0.33: можно сказать, что прогноз положительного класса неудался. Причина в дисбалансе классов, к которому линейные модели  более чувствительны, чем деревянные.<br>\n",
    "При этом получили неплохие, хотя и хуже чем у остальных моделей, `ROC-кривую` и значение `ROC-AUC`, что выглядит несколько странно: предсказания модели гораздо лучше случайной, но предсказывает она, тем не менее, плохо."
   ]
  },
  {
   "cell_type": "markdown",
   "metadata": {},
   "source": [
    "Выводы: \n",
    "1. Данные имеют дисбаланс классов примерно 1:4 с перевесом нулевого класса.\n",
    "2. Лучшие значения метрик ожидаемо получились у случайного леса. На втором месте -- решающее дерево. На последнем с большим отставанием логистическая регрессия.<br> При этом для первых двух моделей заданное значение метрики `F1-мера` удалось достичь даже без применения борьбы с дисбалансом."
   ]
  },
  {
   "cell_type": "markdown",
   "metadata": {},
   "source": [
    "## Борьба с дисбалансом"
   ]
  },
  {
   "cell_type": "markdown",
   "metadata": {},
   "source": [
    "Еще раз вспомним значение дисбаланса:"
   ]
  },
  {
   "cell_type": "code",
   "execution_count": 48,
   "metadata": {},
   "outputs": [
    {
     "data": {
      "text/plain": [
       "0    0.7963\n",
       "1    0.2037\n",
       "Name: Exited, dtype: float64"
      ]
     },
     "execution_count": 48,
     "metadata": {},
     "output_type": "execute_result"
    }
   ],
   "source": [
    "df['Exited'].value_counts(normalize=True)"
   ]
  },
  {
   "cell_type": "markdown",
   "metadata": {},
   "source": [
    "Применим для борьбы с дисбалансом методы увеличения выборки и уменьшения выборки и оценим результаты каждого из них."
   ]
  },
  {
   "cell_type": "markdown",
   "metadata": {},
   "source": [
    "### Увеличение выборки"
   ]
  },
  {
   "cell_type": "markdown",
   "metadata": {},
   "source": [
    "Получим размеры выборок:"
   ]
  },
  {
   "cell_type": "code",
   "execution_count": 49,
   "metadata": {},
   "outputs": [
    {
     "data": {
      "text/plain": [
       "((6000, 11), (6000,))"
      ]
     },
     "execution_count": 49,
     "metadata": {},
     "output_type": "execute_result"
    }
   ],
   "source": [
    "features_train.shape, target_train.shape"
   ]
  },
  {
   "cell_type": "markdown",
   "metadata": {},
   "source": [
    "Создадим функцию, которая увеличит количество данных положительного класса кратно значению переменной `repeat`, задаваемому в параметрах функции: "
   ]
  },
  {
   "cell_type": "code",
   "execution_count": 50,
   "metadata": {},
   "outputs": [],
   "source": [
    "def upsample(features, target, repeat):\n",
    "    features_zeros = pd.DataFrame(features[target == 0])\n",
    "    features_ones = pd.DataFrame(features[target == 1])\n",
    "    target_zeros = target[target == 0]\n",
    "    target_ones = target[target == 1]\n",
    "\n",
    "    features_upsampled = pd.concat([features_zeros] + [features_ones] * repeat)\n",
    "    target_upsampled = pd.concat([target_zeros] + [target_ones] * repeat)\n",
    "    \n",
    "    features_upsampled, target_upsampled = shuffle(\n",
    "        features_upsampled, target_upsampled, random_state=12345)\n",
    "    \n",
    "    return features_upsampled, target_upsampled"
   ]
  },
  {
   "cell_type": "markdown",
   "metadata": {},
   "source": [
    "Поскольку наш дисбаланс равен 1:4, при вызове функции передадим в неё парметр `repeat` со значением `4`.<br> Проверим размеры получившихся выборок и новые пропорции распределения классов:"
   ]
  },
  {
   "cell_type": "code",
   "execution_count": 51,
   "metadata": {},
   "outputs": [
    {
     "name": "stdout",
     "output_type": "stream",
     "text": [
      "(9666, 11)\n",
      "(9666,)\n"
     ]
    }
   ],
   "source": [
    "features_upsampled, target_upsampled = upsample(features_train, target_train, 4)\n",
    "\n",
    "print(features_upsampled.shape)\n",
    "print(target_upsampled.shape)"
   ]
  },
  {
   "cell_type": "code",
   "execution_count": 52,
   "metadata": {
    "scrolled": true
   },
   "outputs": [
    {
     "data": {
      "text/plain": [
       "1    0.50569\n",
       "0    0.49431\n",
       "Name: Exited, dtype: float64"
      ]
     },
     "execution_count": 52,
     "metadata": {},
     "output_type": "execute_result"
    }
   ],
   "source": [
    "target_upsampled.value_counts(normalize=True)"
   ]
  },
  {
   "cell_type": "markdown",
   "metadata": {},
   "source": [
    "Цель достигнута: дисбаланс устранён, текущее соотношение классов практически равно 1:1."
   ]
  },
  {
   "cell_type": "markdown",
   "metadata": {},
   "source": [
    "#### Решающее дерево"
   ]
  },
  {
   "cell_type": "markdown",
   "metadata": {},
   "source": [
    "Вызовем ранее созданную функцию модели решающего дерева, передав ей новые параметры выборок. Затем так же поступим и с остальными функциями моделей."
   ]
  },
  {
   "cell_type": "code",
   "execution_count": 53,
   "metadata": {},
   "outputs": [
    {
     "name": "stdout",
     "output_type": "stream",
     "text": [
      "max_depth - 2, max_features - 2 : F1_train  = 0.696181, F1_valid  = 0.484653\n",
      "max_depth - 3, max_features - 2 : F1_train  = 0.693878, F1_valid  = 0.509383\n",
      "max_depth - 4, max_features - 2 : F1_train  = 0.709868, F1_valid  = 0.529524\n",
      "max_depth - 5, max_features - 2 : F1_train  = 0.718209, F1_valid  = 0.536323\n",
      "max_depth - 6, max_features - 2 : F1_train  = 0.743192, F1_valid  = 0.539626\n",
      "max_depth - 7, max_features - 2 : F1_train  = 0.768916, F1_valid  = 0.569122\n",
      "max_depth - 8, max_features - 2 : F1_train  = 0.802923, F1_valid  = 0.560000\n",
      "max_depth - 9, max_features - 2 : F1_train  = 0.800568, F1_valid  = 0.534060\n",
      "max_depth - 10, max_features - 2 : F1_train  = 0.835020, F1_valid  = 0.536218\n",
      "max_depth - 11, max_features - 2 : F1_train  = 0.860189, F1_valid  = 0.512770\n",
      "max_depth - 12, max_features - 2 : F1_train  = 0.870939, F1_valid  = 0.510963\n",
      "max_depth - 2, max_features - 3 : F1_train  = 0.696181, F1_valid  = 0.484653\n",
      "max_depth - 3, max_features - 3 : F1_train  = 0.697987, F1_valid  = 0.550807\n",
      "max_depth - 4, max_features - 3 : F1_train  = 0.728634, F1_valid  = 0.509632\n",
      "max_depth - 5, max_features - 3 : F1_train  = 0.743051, F1_valid  = 0.520366\n",
      "max_depth - 6, max_features - 3 : F1_train  = 0.745706, F1_valid  = 0.536813\n",
      "max_depth - 7, max_features - 3 : F1_train  = 0.769586, F1_valid  = 0.560837\n",
      "max_depth - 8, max_features - 3 : F1_train  = 0.793375, F1_valid  = 0.509191\n",
      "max_depth - 9, max_features - 3 : F1_train  = 0.820449, F1_valid  = 0.549951\n",
      "max_depth - 10, max_features - 3 : F1_train  = 0.841019, F1_valid  = 0.551020\n",
      "max_depth - 11, max_features - 3 : F1_train  = 0.860738, F1_valid  = 0.524336\n",
      "max_depth - 12, max_features - 3 : F1_train  = 0.895871, F1_valid  = 0.530777\n",
      "max_depth - 2, max_features - 4 : F1_train  = 0.719262, F1_valid  = 0.498011\n",
      "max_depth - 3, max_features - 4 : F1_train  = 0.679544, F1_valid  = 0.534909\n",
      "max_depth - 4, max_features - 4 : F1_train  = 0.721255, F1_valid  = 0.535104\n",
      "max_depth - 5, max_features - 4 : F1_train  = 0.736341, F1_valid  = 0.603243\n",
      "max_depth - 6, max_features - 4 : F1_train  = 0.736702, F1_valid  = 0.597959\n",
      "max_depth - 7, max_features - 4 : F1_train  = 0.771821, F1_valid  = 0.567164\n",
      "max_depth - 8, max_features - 4 : F1_train  = 0.803176, F1_valid  = 0.595074\n",
      "max_depth - 9, max_features - 4 : F1_train  = 0.826466, F1_valid  = 0.571696\n",
      "max_depth - 10, max_features - 4 : F1_train  = 0.852639, F1_valid  = 0.542714\n",
      "max_depth - 11, max_features - 4 : F1_train  = 0.876510, F1_valid  = 0.563087\n",
      "max_depth - 12, max_features - 4 : F1_train  = 0.907819, F1_valid  = 0.527426\n",
      "max_depth - 2, max_features - 5 : F1_train  = 0.696181, F1_valid  = 0.484653\n",
      "max_depth - 3, max_features - 5 : F1_train  = 0.731624, F1_valid  = 0.492989\n",
      "max_depth - 4, max_features - 5 : F1_train  = 0.741573, F1_valid  = 0.524481\n",
      "max_depth - 5, max_features - 5 : F1_train  = 0.770543, F1_valid  = 0.561039\n",
      "max_depth - 6, max_features - 5 : F1_train  = 0.759649, F1_valid  = 0.583762\n",
      "max_depth - 7, max_features - 5 : F1_train  = 0.799690, F1_valid  = 0.536833\n",
      "max_depth - 8, max_features - 5 : F1_train  = 0.809195, F1_valid  = 0.555455\n",
      "max_depth - 9, max_features - 5 : F1_train  = 0.835893, F1_valid  = 0.555977\n",
      "max_depth - 10, max_features - 5 : F1_train  = 0.853546, F1_valid  = 0.558405\n",
      "max_depth - 11, max_features - 5 : F1_train  = 0.887237, F1_valid  = 0.567227\n",
      "max_depth - 12, max_features - 5 : F1_train  = 0.899867, F1_valid  = 0.523759\n",
      "max_depth - 2, max_features - 6 : F1_train  = 0.719262, F1_valid  = 0.498011\n",
      "max_depth - 3, max_features - 6 : F1_train  = 0.719333, F1_valid  = 0.498408\n",
      "max_depth - 4, max_features - 6 : F1_train  = 0.731477, F1_valid  = 0.537770\n",
      "max_depth - 5, max_features - 6 : F1_train  = 0.748165, F1_valid  = 0.574606\n",
      "max_depth - 6, max_features - 6 : F1_train  = 0.775675, F1_valid  = 0.587891\n",
      "max_depth - 7, max_features - 6 : F1_train  = 0.797694, F1_valid  = 0.540780\n",
      "max_depth - 8, max_features - 6 : F1_train  = 0.791294, F1_valid  = 0.583942\n",
      "max_depth - 9, max_features - 6 : F1_train  = 0.840615, F1_valid  = 0.569511\n",
      "max_depth - 10, max_features - 6 : F1_train  = 0.858827, F1_valid  = 0.567452\n",
      "max_depth - 11, max_features - 6 : F1_train  = 0.895642, F1_valid  = 0.545639\n",
      "max_depth - 12, max_features - 6 : F1_train  = 0.904709, F1_valid  = 0.537832\n",
      "\n",
      "Лучшие результаты и параметры модели решающего дерева на валидационной выборке:\n",
      "F1_valid: 0.603243, F1_train: 0.736341.\n",
      "max_features: 4, max_depth: 5.\n",
      "\n"
     ]
    },
    {
     "data": {
      "image/png": "[encoded data removed]",
      "text/plain": [
       "<Figure size 432x288 with 1 Axes>"
      ]
     },
     "metadata": {
      "needs_background": "light"
     },
     "output_type": "display_data"
    },
    {
     "name": "stdout",
     "output_type": "stream",
     "text": [
      "\n",
      "AUC-ROC: 0.8249873756035077\n"
     ]
    }
   ],
   "source": [
    "decision_tree_function(features_upsampled, target_upsampled, features_valid, target_valid)"
   ]
  },
  {
   "cell_type": "markdown",
   "metadata": {},
   "source": [
    "Модель решающего дерева очень слабо отреагировала на увеличение выборки: значение метрики улучшилось незначительно, а вот переобучение модели возросло: разница в значениях метрики на обучающей и валидационной выборках возросла до 18%.<br>\n",
    "Несколько улучшилась (сгладилась при сохранении общего профиля) `ROC-кривая`, а вот значение `AUC-ROC` почти  не изменилось."
   ]
  },
  {
   "cell_type": "markdown",
   "metadata": {},
   "source": [
    "#### Случайный лес"
   ]
  },
  {
   "cell_type": "code",
   "execution_count": 54,
   "metadata": {},
   "outputs": [
    {
     "name": "stdout",
     "output_type": "stream",
     "text": [
      "max_depth - 9, n_estimators - 80 : F1_train  = 0.87229, F1_valid  = 0.64094\n",
      "max_depth - 10, n_estimators - 80 : F1_train  = 0.91403, F1_valid  = 0.63308\n",
      "max_depth - 11, n_estimators - 80 : F1_train  = 0.94806, F1_valid  = 0.63844\n",
      "max_depth - 12, n_estimators - 80 : F1_train  = 0.97211, F1_valid  = 0.63170\n",
      "max_depth - 13, n_estimators - 80 : F1_train  = 0.98806, F1_valid  = 0.63659\n",
      "max_depth - 9, n_estimators - 90 : F1_train  = 0.87418, F1_valid  = 0.63880\n",
      "max_depth - 10, n_estimators - 90 : F1_train  = 0.91179, F1_valid  = 0.63666\n",
      "max_depth - 11, n_estimators - 90 : F1_train  = 0.94786, F1_valid  = 0.63761\n",
      "max_depth - 12, n_estimators - 90 : F1_train  = 0.97314, F1_valid  = 0.63084\n",
      "max_depth - 13, n_estimators - 90 : F1_train  = 0.98725, F1_valid  = 0.63825\n",
      "max_depth - 9, n_estimators - 100 : F1_train  = 0.87453, F1_valid  = 0.63812\n",
      "max_depth - 10, n_estimators - 100 : F1_train  = 0.91349, F1_valid  = 0.64168\n",
      "max_depth - 11, n_estimators - 100 : F1_train  = 0.94782, F1_valid  = 0.63678\n",
      "max_depth - 12, n_estimators - 100 : F1_train  = 0.97314, F1_valid  = 0.63455\n",
      "max_depth - 13, n_estimators - 100 : F1_train  = 0.98745, F1_valid  = 0.63758\n",
      "max_depth - 9, n_estimators - 110 : F1_train  = 0.87362, F1_valid  = 0.63666\n",
      "max_depth - 10, n_estimators - 110 : F1_train  = 0.91644, F1_valid  = 0.64246\n",
      "max_depth - 11, n_estimators - 110 : F1_train  = 0.94792, F1_valid  = 0.63616\n",
      "max_depth - 12, n_estimators - 110 : F1_train  = 0.97262, F1_valid  = 0.63392\n",
      "max_depth - 13, n_estimators - 110 : F1_train  = 0.98684, F1_valid  = 0.63835\n",
      "max_depth - 9, n_estimators - 120 : F1_train  = 0.87353, F1_valid  = 0.64224\n",
      "max_depth - 10, n_estimators - 120 : F1_train  = 0.91530, F1_valid  = 0.64764\n",
      "max_depth - 11, n_estimators - 120 : F1_train  = 0.94801, F1_valid  = 0.63761\n",
      "max_depth - 12, n_estimators - 120 : F1_train  = 0.97417, F1_valid  = 0.63540\n",
      "max_depth - 13, n_estimators - 120 : F1_train  = 0.98686, F1_valid  = 0.64225\n",
      "max_depth - 9, n_estimators - 130 : F1_train  = 0.87473, F1_valid  = 0.64370\n",
      "max_depth - 10, n_estimators - 130 : F1_train  = 0.91332, F1_valid  = 0.65127\n",
      "max_depth - 11, n_estimators - 130 : F1_train  = 0.94864, F1_valid  = 0.63616\n",
      "max_depth - 12, n_estimators - 130 : F1_train  = 0.97245, F1_valid  = 0.63934\n",
      "max_depth - 13, n_estimators - 130 : F1_train  = 0.98686, F1_valid  = 0.64078\n",
      "max_depth - 9, n_estimators - 140 : F1_train  = 0.87436, F1_valid  = 0.64301\n",
      "max_depth - 10, n_estimators - 140 : F1_train  = 0.91044, F1_valid  = 0.64537\n",
      "max_depth - 11, n_estimators - 140 : F1_train  = 0.94917, F1_valid  = 0.63761\n",
      "max_depth - 12, n_estimators - 140 : F1_train  = 0.97294, F1_valid  = 0.63529\n",
      "max_depth - 13, n_estimators - 140 : F1_train  = 0.98715, F1_valid  = 0.64000\n",
      "max_depth - 9, n_estimators - 150 : F1_train  = 0.87406, F1_valid  = 0.64440\n",
      "max_depth - 10, n_estimators - 150 : F1_train  = 0.91054, F1_valid  = 0.64246\n",
      "max_depth - 11, n_estimators - 150 : F1_train  = 0.94911, F1_valid  = 0.63918\n",
      "max_depth - 12, n_estimators - 150 : F1_train  = 0.97294, F1_valid  = 0.63690\n",
      "max_depth - 13, n_estimators - 150 : F1_train  = 0.98665, F1_valid  = 0.63923\n",
      "\n",
      "Лучшие результаты и параметры модели Случайный лес на валидационной выборке:\n",
      "F1_valid: 0.651265, F1_train: 0.913321.\n",
      "n_estimators: 130, max_depth: 10.\n",
      "\n"
     ]
    },
    {
     "data": {
      "image/png": "[encoded data removed]",
      "text/plain": [
       "<Figure size 432x288 with 1 Axes>"
      ]
     },
     "metadata": {
      "needs_background": "light"
     },
     "output_type": "display_data"
    },
    {
     "name": "stdout",
     "output_type": "stream",
     "text": [
      "\n",
      "AUC-ROC: 0.8701904128485565\n"
     ]
    }
   ],
   "source": [
    "random_forest_function(features_upsampled, target_upsampled, features_valid, target_valid)"
   ]
  },
  {
   "cell_type": "markdown",
   "metadata": {},
   "source": [
    "В этой модели значение метрики `F1-мера` улучшилось сильнее, чем у решающего дерева.<br>\n",
    "Однако, \"платой\" за такое улучшение является сильна переобученность модели: разница между значениями метрики на учебной и валидационной выборках составляет более 30%.<br>\n",
    "ROC-кривая практически не изменилась, а вот значение AUC-ROC ухудшилось (уменьшилось), хотя и крайне незначительно."
   ]
  },
  {
   "cell_type": "markdown",
   "metadata": {},
   "source": [
    "#### Логистическая регрессия"
   ]
  },
  {
   "cell_type": "code",
   "execution_count": 55,
   "metadata": {
    "scrolled": false
   },
   "outputs": [
    {
     "name": "stdout",
     "output_type": "stream",
     "text": [
      "max_iter - 100, C - 0.1 : F1_train  = 0.69947, F1_valid  = 0.52468\n",
      "max_iter - 200, C - 0.1 : F1_train  = 0.69947, F1_valid  = 0.52468\n",
      "max_iter - 300, C - 0.1 : F1_train  = 0.69947, F1_valid  = 0.52468\n",
      "max_iter - 400, C - 0.1 : F1_train  = 0.69947, F1_valid  = 0.52468\n",
      "max_iter - 500, C - 0.1 : F1_train  = 0.69947, F1_valid  = 0.52468\n",
      "max_iter - 600, C - 0.1 : F1_train  = 0.69947, F1_valid  = 0.52468\n",
      "max_iter - 700, C - 0.1 : F1_train  = 0.69947, F1_valid  = 0.52468\n",
      "max_iter - 800, C - 0.1 : F1_train  = 0.69947, F1_valid  = 0.52468\n",
      "max_iter - 900, C - 0.1 : F1_train  = 0.69947, F1_valid  = 0.52468\n",
      "max_iter - 1000, C - 0.1 : F1_train  = 0.69947, F1_valid  = 0.52468\n",
      "max_iter - 100, C - 0.2 : F1_train  = 0.69947, F1_valid  = 0.52468\n",
      "max_iter - 200, C - 0.2 : F1_train  = 0.69947, F1_valid  = 0.52468\n",
      "max_iter - 300, C - 0.2 : F1_train  = 0.69947, F1_valid  = 0.52468\n",
      "max_iter - 400, C - 0.2 : F1_train  = 0.69947, F1_valid  = 0.52468\n",
      "max_iter - 500, C - 0.2 : F1_train  = 0.69947, F1_valid  = 0.52468\n",
      "max_iter - 600, C - 0.2 : F1_train  = 0.69947, F1_valid  = 0.52468\n",
      "max_iter - 700, C - 0.2 : F1_train  = 0.69947, F1_valid  = 0.52468\n",
      "max_iter - 800, C - 0.2 : F1_train  = 0.69947, F1_valid  = 0.52468\n",
      "max_iter - 900, C - 0.2 : F1_train  = 0.69947, F1_valid  = 0.52468\n",
      "max_iter - 1000, C - 0.2 : F1_train  = 0.69947, F1_valid  = 0.52468\n",
      "max_iter - 100, C - 0.3 : F1_train  = 0.69947, F1_valid  = 0.52468\n",
      "max_iter - 200, C - 0.3 : F1_train  = 0.69947, F1_valid  = 0.52468\n",
      "max_iter - 300, C - 0.3 : F1_train  = 0.69947, F1_valid  = 0.52468\n",
      "max_iter - 400, C - 0.3 : F1_train  = 0.69947, F1_valid  = 0.52468\n",
      "max_iter - 500, C - 0.3 : F1_train  = 0.69947, F1_valid  = 0.52468\n",
      "max_iter - 600, C - 0.3 : F1_train  = 0.69947, F1_valid  = 0.52468\n",
      "max_iter - 700, C - 0.3 : F1_train  = 0.69947, F1_valid  = 0.52468\n",
      "max_iter - 800, C - 0.3 : F1_train  = 0.69947, F1_valid  = 0.52468\n",
      "max_iter - 900, C - 0.3 : F1_train  = 0.69947, F1_valid  = 0.52468\n",
      "max_iter - 1000, C - 0.3 : F1_train  = 0.69947, F1_valid  = 0.52468\n",
      "max_iter - 100, C - 0.4 : F1_train  = 0.69947, F1_valid  = 0.52468\n",
      "max_iter - 200, C - 0.4 : F1_train  = 0.69947, F1_valid  = 0.52468\n",
      "max_iter - 300, C - 0.4 : F1_train  = 0.69947, F1_valid  = 0.52468\n",
      "max_iter - 400, C - 0.4 : F1_train  = 0.69947, F1_valid  = 0.52468\n",
      "max_iter - 500, C - 0.4 : F1_train  = 0.69947, F1_valid  = 0.52468\n",
      "max_iter - 600, C - 0.4 : F1_train  = 0.69947, F1_valid  = 0.52468\n",
      "max_iter - 700, C - 0.4 : F1_train  = 0.69947, F1_valid  = 0.52468\n",
      "max_iter - 800, C - 0.4 : F1_train  = 0.69947, F1_valid  = 0.52468\n",
      "max_iter - 900, C - 0.4 : F1_train  = 0.69947, F1_valid  = 0.52468\n",
      "max_iter - 1000, C - 0.4 : F1_train  = 0.69947, F1_valid  = 0.52468\n",
      "max_iter - 100, C - 0.5 : F1_train  = 0.69947, F1_valid  = 0.52468\n",
      "max_iter - 200, C - 0.5 : F1_train  = 0.69947, F1_valid  = 0.52468\n",
      "max_iter - 300, C - 0.5 : F1_train  = 0.69947, F1_valid  = 0.52468\n",
      "max_iter - 400, C - 0.5 : F1_train  = 0.69947, F1_valid  = 0.52468\n",
      "max_iter - 500, C - 0.5 : F1_train  = 0.69947, F1_valid  = 0.52468\n",
      "max_iter - 600, C - 0.5 : F1_train  = 0.69947, F1_valid  = 0.52468\n",
      "max_iter - 700, C - 0.5 : F1_train  = 0.69947, F1_valid  = 0.52468\n",
      "max_iter - 800, C - 0.5 : F1_train  = 0.69947, F1_valid  = 0.52468\n",
      "max_iter - 900, C - 0.5 : F1_train  = 0.69947, F1_valid  = 0.52468\n",
      "max_iter - 1000, C - 0.5 : F1_train  = 0.69947, F1_valid  = 0.52468\n",
      "max_iter - 100, C - 0.6 : F1_train  = 0.69947, F1_valid  = 0.52468\n",
      "max_iter - 200, C - 0.6 : F1_train  = 0.69947, F1_valid  = 0.52468\n",
      "max_iter - 300, C - 0.6 : F1_train  = 0.69947, F1_valid  = 0.52468\n",
      "max_iter - 400, C - 0.6 : F1_train  = 0.69947, F1_valid  = 0.52468\n",
      "max_iter - 500, C - 0.6 : F1_train  = 0.69947, F1_valid  = 0.52468\n",
      "max_iter - 600, C - 0.6 : F1_train  = 0.69947, F1_valid  = 0.52468\n",
      "max_iter - 700, C - 0.6 : F1_train  = 0.69947, F1_valid  = 0.52468\n",
      "max_iter - 800, C - 0.6 : F1_train  = 0.69947, F1_valid  = 0.52468\n",
      "max_iter - 900, C - 0.6 : F1_train  = 0.69947, F1_valid  = 0.52468\n",
      "max_iter - 1000, C - 0.6 : F1_train  = 0.69947, F1_valid  = 0.52468\n",
      "max_iter - 100, C - 0.7 : F1_train  = 0.69947, F1_valid  = 0.52468\n",
      "max_iter - 200, C - 0.7 : F1_train  = 0.69947, F1_valid  = 0.52468\n",
      "max_iter - 300, C - 0.7 : F1_train  = 0.69947, F1_valid  = 0.52468\n",
      "max_iter - 400, C - 0.7 : F1_train  = 0.69947, F1_valid  = 0.52468\n",
      "max_iter - 500, C - 0.7 : F1_train  = 0.69947, F1_valid  = 0.52468\n",
      "max_iter - 600, C - 0.7 : F1_train  = 0.69947, F1_valid  = 0.52468\n",
      "max_iter - 700, C - 0.7 : F1_train  = 0.69947, F1_valid  = 0.52468\n",
      "max_iter - 800, C - 0.7 : F1_train  = 0.69947, F1_valid  = 0.52468\n",
      "max_iter - 900, C - 0.7 : F1_train  = 0.69947, F1_valid  = 0.52468\n",
      "max_iter - 1000, C - 0.7 : F1_train  = 0.69947, F1_valid  = 0.52468\n",
      "max_iter - 100, C - 0.8 : F1_train  = 0.69947, F1_valid  = 0.52468\n",
      "max_iter - 200, C - 0.8 : F1_train  = 0.69947, F1_valid  = 0.52468\n",
      "max_iter - 300, C - 0.8 : F1_train  = 0.69947, F1_valid  = 0.52468\n",
      "max_iter - 400, C - 0.8 : F1_train  = 0.69947, F1_valid  = 0.52468\n",
      "max_iter - 500, C - 0.8 : F1_train  = 0.69947, F1_valid  = 0.52468\n",
      "max_iter - 600, C - 0.8 : F1_train  = 0.69947, F1_valid  = 0.52468\n",
      "max_iter - 700, C - 0.8 : F1_train  = 0.69947, F1_valid  = 0.52468\n",
      "max_iter - 800, C - 0.8 : F1_train  = 0.69947, F1_valid  = 0.52468\n",
      "max_iter - 900, C - 0.8 : F1_train  = 0.69947, F1_valid  = 0.52468\n",
      "max_iter - 1000, C - 0.8 : F1_train  = 0.69947, F1_valid  = 0.52468\n",
      "max_iter - 100, C - 0.9 : F1_train  = 0.69947, F1_valid  = 0.52468\n",
      "max_iter - 200, C - 0.9 : F1_train  = 0.69947, F1_valid  = 0.52468\n",
      "max_iter - 300, C - 0.9 : F1_train  = 0.69947, F1_valid  = 0.52468\n",
      "max_iter - 400, C - 0.9 : F1_train  = 0.69947, F1_valid  = 0.52468\n",
      "max_iter - 500, C - 0.9 : F1_train  = 0.69947, F1_valid  = 0.52468\n",
      "max_iter - 600, C - 0.9 : F1_train  = 0.69947, F1_valid  = 0.52468\n",
      "max_iter - 700, C - 0.9 : F1_train  = 0.69947, F1_valid  = 0.52468\n",
      "max_iter - 800, C - 0.9 : F1_train  = 0.69947, F1_valid  = 0.52468\n",
      "max_iter - 900, C - 0.9 : F1_train  = 0.69947, F1_valid  = 0.52468\n",
      "max_iter - 1000, C - 0.9 : F1_train  = 0.69947, F1_valid  = 0.52468\n",
      "max_iter - 100, C - 1.0 : F1_train  = 0.69947, F1_valid  = 0.52468\n",
      "max_iter - 200, C - 1.0 : F1_train  = 0.69947, F1_valid  = 0.52468\n",
      "max_iter - 300, C - 1.0 : F1_train  = 0.69947, F1_valid  = 0.52468\n",
      "max_iter - 400, C - 1.0 : F1_train  = 0.69947, F1_valid  = 0.52468\n",
      "max_iter - 500, C - 1.0 : F1_train  = 0.69947, F1_valid  = 0.52468\n",
      "max_iter - 600, C - 1.0 : F1_train  = 0.69947, F1_valid  = 0.52468\n",
      "max_iter - 700, C - 1.0 : F1_train  = 0.69947, F1_valid  = 0.52468\n",
      "max_iter - 800, C - 1.0 : F1_train  = 0.69947, F1_valid  = 0.52468\n",
      "max_iter - 900, C - 1.0 : F1_train  = 0.69947, F1_valid  = 0.52468\n",
      "max_iter - 1000, C - 1.0 : F1_train  = 0.69947, F1_valid  = 0.52468\n",
      "max_iter - 100, C - 1.1 : F1_train  = 0.69947, F1_valid  = 0.52468\n",
      "max_iter - 200, C - 1.1 : F1_train  = 0.69947, F1_valid  = 0.52468\n",
      "max_iter - 300, C - 1.1 : F1_train  = 0.69947, F1_valid  = 0.52468\n",
      "max_iter - 400, C - 1.1 : F1_train  = 0.69947, F1_valid  = 0.52468\n",
      "max_iter - 500, C - 1.1 : F1_train  = 0.69947, F1_valid  = 0.52468\n",
      "max_iter - 600, C - 1.1 : F1_train  = 0.69947, F1_valid  = 0.52468\n",
      "max_iter - 700, C - 1.1 : F1_train  = 0.69947, F1_valid  = 0.52468\n",
      "max_iter - 800, C - 1.1 : F1_train  = 0.69947, F1_valid  = 0.52468\n",
      "max_iter - 900, C - 1.1 : F1_train  = 0.69947, F1_valid  = 0.52468\n",
      "max_iter - 1000, C - 1.1 : F1_train  = 0.69947, F1_valid  = 0.52468\n",
      "max_iter - 100, C - 1.2 : F1_train  = 0.69947, F1_valid  = 0.52468\n",
      "max_iter - 200, C - 1.2 : F1_train  = 0.69947, F1_valid  = 0.52468\n",
      "max_iter - 300, C - 1.2 : F1_train  = 0.69947, F1_valid  = 0.52468\n",
      "max_iter - 400, C - 1.2 : F1_train  = 0.69947, F1_valid  = 0.52468\n",
      "max_iter - 500, C - 1.2 : F1_train  = 0.69947, F1_valid  = 0.52468\n",
      "max_iter - 600, C - 1.2 : F1_train  = 0.69947, F1_valid  = 0.52468\n",
      "max_iter - 700, C - 1.2 : F1_train  = 0.69947, F1_valid  = 0.52468\n",
      "max_iter - 800, C - 1.2 : F1_train  = 0.69947, F1_valid  = 0.52468\n",
      "max_iter - 900, C - 1.2 : F1_train  = 0.69947, F1_valid  = 0.52468\n",
      "max_iter - 1000, C - 1.2 : F1_train  = 0.69947, F1_valid  = 0.52468\n",
      "max_iter - 100, C - 1.3 : F1_train  = 0.69947, F1_valid  = 0.52468\n",
      "max_iter - 200, C - 1.3 : F1_train  = 0.69947, F1_valid  = 0.52468\n",
      "max_iter - 300, C - 1.3 : F1_train  = 0.69947, F1_valid  = 0.52468\n",
      "max_iter - 400, C - 1.3 : F1_train  = 0.69947, F1_valid  = 0.52468\n",
      "max_iter - 500, C - 1.3 : F1_train  = 0.69947, F1_valid  = 0.52468\n",
      "max_iter - 600, C - 1.3 : F1_train  = 0.69947, F1_valid  = 0.52468\n",
      "max_iter - 700, C - 1.3 : F1_train  = 0.69947, F1_valid  = 0.52468\n",
      "max_iter - 800, C - 1.3 : F1_train  = 0.69947, F1_valid  = 0.52468\n"
     ]
    },
    {
     "name": "stdout",
     "output_type": "stream",
     "text": [
      "max_iter - 900, C - 1.3 : F1_train  = 0.69947, F1_valid  = 0.52468\n",
      "max_iter - 1000, C - 1.3 : F1_train  = 0.69947, F1_valid  = 0.52468\n",
      "max_iter - 100, C - 1.4 : F1_train  = 0.69947, F1_valid  = 0.52468\n",
      "max_iter - 200, C - 1.4 : F1_train  = 0.69947, F1_valid  = 0.52468\n",
      "max_iter - 300, C - 1.4 : F1_train  = 0.69947, F1_valid  = 0.52468\n",
      "max_iter - 400, C - 1.4 : F1_train  = 0.69947, F1_valid  = 0.52468\n",
      "max_iter - 500, C - 1.4 : F1_train  = 0.69947, F1_valid  = 0.52468\n",
      "max_iter - 600, C - 1.4 : F1_train  = 0.69947, F1_valid  = 0.52468\n",
      "max_iter - 700, C - 1.4 : F1_train  = 0.69947, F1_valid  = 0.52468\n",
      "max_iter - 800, C - 1.4 : F1_train  = 0.69947, F1_valid  = 0.52468\n",
      "max_iter - 900, C - 1.4 : F1_train  = 0.69947, F1_valid  = 0.52468\n",
      "max_iter - 1000, C - 1.4 : F1_train  = 0.69947, F1_valid  = 0.52468\n",
      "\n",
      "Лучшие результаты и параметры модели Логистической регрессии на валидационной выборке:\n",
      "F1_valid: 0.524675, F1_train: 0.699472.\n",
      "max_iter: 100, C: 0.1.\n",
      "\n"
     ]
    },
    {
     "data": {
      "image/png": "[encoded data removed]",
      "text/plain": [
       "<Figure size 432x288 with 1 Axes>"
      ]
     },
     "metadata": {
      "needs_background": "light"
     },
     "output_type": "display_data"
    },
    {
     "name": "stdout",
     "output_type": "stream",
     "text": [
      "\n",
      "AUC-ROC: 0.7937543107695341\n"
     ]
    }
   ],
   "source": [
    "logistic_regression_function(features_upsampled, target_upsampled, features_valid, target_valid)"
   ]
  },
  {
   "cell_type": "markdown",
   "metadata": {},
   "source": [
    "Логистическая регрессия лучше всех отреагировала на увеличение выборки: параметр `F1-мера` улучшился с 0.33 до 0.50, то есть улучшилось качество прогноза положительного класса.<br>\n",
    "Однако, цена этого -- возникшее переобучениe модели: появился существенный -- почти 30% -- разрыв между значением метрики на обучающей выборке и на валидационной.<br>\n",
    "`ROC-кривая` стала лишь немного круче, но в целом почти не изменилась, так же как параметр `ROC_AUC`, который улучшился крайне незначительно."
   ]
  },
  {
   "cell_type": "markdown",
   "metadata": {},
   "source": [
    "### Уменьшение выборки"
   ]
  },
  {
   "cell_type": "markdown",
   "metadata": {},
   "source": [
    "Создадим функцию, которая уменьшит количество данных нулевого класса, сохранив их в количестве, кратном значению переменной `fraction`, задаваемому в параметрах функции: "
   ]
  },
  {
   "cell_type": "code",
   "execution_count": 56,
   "metadata": {},
   "outputs": [],
   "source": [
    "def downsample(features, target, fraction):\n",
    "    features_zeros = pd.DataFrame(features[target == 0])\n",
    "    features_ones = pd.DataFrame(features[target == 1])\n",
    "    target_zeros = target[target == 0]\n",
    "    target_ones = target[target == 1]\n",
    "\n",
    "    features_downsampled = pd.concat(\n",
    "        [features_zeros.sample(frac=fraction, random_state=12345)] + [features_ones])\n",
    "    target_downsampled = pd.concat(\n",
    "        [target_zeros.sample(frac=fraction, random_state=12345)] + [target_ones])\n",
    "        \n",
    "    features_downsampled, target_downsampled = shuffle(\n",
    "        features_downsampled, target_downsampled, random_state=12345)\n",
    "    \n",
    "    return features_downsampled, target_downsampled"
   ]
  },
  {
   "cell_type": "markdown",
   "metadata": {},
   "source": [
    "Поскольку наш дисбаланс равен 1:4, при вызове функции передадим в неё парметр `fraction` со значением `0.25`.<br> Проверим размеры получившихся выборок и новые пропорции распределения классов:"
   ]
  },
  {
   "cell_type": "code",
   "execution_count": 57,
   "metadata": {},
   "outputs": [
    {
     "name": "stdout",
     "output_type": "stream",
     "text": [
      "(2416, 11)\n",
      "(2416,)\n"
     ]
    }
   ],
   "source": [
    "features_downsampled, target_downsampled = downsample(features_train, target_train, 0.25)\n",
    "\n",
    "print(features_downsampled.shape)\n",
    "print(target_downsampled.shape)"
   ]
  },
  {
   "cell_type": "code",
   "execution_count": 58,
   "metadata": {
    "scrolled": true
   },
   "outputs": [
    {
     "data": {
      "text/plain": [
       "1    0.505795\n",
       "0    0.494205\n",
       "Name: Exited, dtype: float64"
      ]
     },
     "execution_count": 58,
     "metadata": {},
     "output_type": "execute_result"
    }
   ],
   "source": [
    "target_downsampled.value_counts(normalize=True)"
   ]
  },
  {
   "cell_type": "markdown",
   "metadata": {},
   "source": [
    "Цель достигнута: дисбаланс устранён, текущее соотношение классов практически равно 1:1."
   ]
  },
  {
   "cell_type": "markdown",
   "metadata": {},
   "source": [
    "#### Решающее дерево"
   ]
  },
  {
   "cell_type": "markdown",
   "metadata": {},
   "source": [
    "Вызовем ранее созданную функцию модели решающего дерева, передав ей новые параметры выборок. Затем так же поступим и с остальными функциями моделей."
   ]
  },
  {
   "cell_type": "code",
   "execution_count": 59,
   "metadata": {},
   "outputs": [
    {
     "name": "stdout",
     "output_type": "stream",
     "text": [
      "max_depth - 2, max_features - 2 : F1_train  = 0.698658, F1_valid  = 0.484653\n",
      "max_depth - 3, max_features - 2 : F1_train  = 0.693611, F1_valid  = 0.512488\n",
      "max_depth - 4, max_features - 2 : F1_train  = 0.711345, F1_valid  = 0.519963\n",
      "max_depth - 5, max_features - 2 : F1_train  = 0.732026, F1_valid  = 0.535862\n",
      "max_depth - 6, max_features - 2 : F1_train  = 0.745636, F1_valid  = 0.515411\n",
      "max_depth - 7, max_features - 2 : F1_train  = 0.754700, F1_valid  = 0.552440\n",
      "max_depth - 8, max_features - 2 : F1_train  = 0.795327, F1_valid  = 0.544256\n",
      "max_depth - 9, max_features - 2 : F1_train  = 0.813904, F1_valid  = 0.475089\n",
      "max_depth - 10, max_features - 2 : F1_train  = 0.842373, F1_valid  = 0.502258\n",
      "max_depth - 11, max_features - 2 : F1_train  = 0.882110, F1_valid  = 0.470000\n",
      "max_depth - 12, max_features - 2 : F1_train  = 0.909167, F1_valid  = 0.516912\n",
      "max_depth - 2, max_features - 3 : F1_train  = 0.698658, F1_valid  = 0.484653\n",
      "max_depth - 3, max_features - 3 : F1_train  = 0.700525, F1_valid  = 0.549575\n",
      "max_depth - 4, max_features - 3 : F1_train  = 0.715690, F1_valid  = 0.524412\n",
      "max_depth - 5, max_features - 3 : F1_train  = 0.748918, F1_valid  = 0.564199\n",
      "max_depth - 6, max_features - 3 : F1_train  = 0.765196, F1_valid  = 0.554042\n",
      "max_depth - 7, max_features - 3 : F1_train  = 0.780887, F1_valid  = 0.553704\n",
      "max_depth - 8, max_features - 3 : F1_train  = 0.794613, F1_valid  = 0.530942\n",
      "max_depth - 9, max_features - 3 : F1_train  = 0.824633, F1_valid  = 0.500428\n",
      "max_depth - 10, max_features - 3 : F1_train  = 0.857502, F1_valid  = 0.537597\n",
      "max_depth - 11, max_features - 3 : F1_train  = 0.896435, F1_valid  = 0.502242\n",
      "max_depth - 12, max_features - 3 : F1_train  = 0.912621, F1_valid  = 0.527552\n",
      "max_depth - 2, max_features - 4 : F1_train  = 0.722488, F1_valid  = 0.498011\n",
      "max_depth - 3, max_features - 4 : F1_train  = 0.685124, F1_valid  = 0.534909\n",
      "max_depth - 4, max_features - 4 : F1_train  = 0.699398, F1_valid  = 0.552381\n",
      "max_depth - 5, max_features - 4 : F1_train  = 0.742833, F1_valid  = 0.557924\n",
      "max_depth - 6, max_features - 4 : F1_train  = 0.783223, F1_valid  = 0.560290\n",
      "max_depth - 7, max_features - 4 : F1_train  = 0.796041, F1_valid  = 0.589767\n",
      "max_depth - 8, max_features - 4 : F1_train  = 0.800696, F1_valid  = 0.541985\n",
      "max_depth - 9, max_features - 4 : F1_train  = 0.846448, F1_valid  = 0.533579\n",
      "max_depth - 10, max_features - 4 : F1_train  = 0.847973, F1_valid  = 0.540687\n",
      "max_depth - 11, max_features - 4 : F1_train  = 0.888243, F1_valid  = 0.551073\n",
      "max_depth - 12, max_features - 4 : F1_train  = 0.912102, F1_valid  = 0.526316\n",
      "max_depth - 2, max_features - 5 : F1_train  = 0.698658, F1_valid  = 0.484653\n",
      "max_depth - 3, max_features - 5 : F1_train  = 0.734059, F1_valid  = 0.495079\n",
      "max_depth - 4, max_features - 5 : F1_train  = 0.753172, F1_valid  = 0.527546\n",
      "max_depth - 5, max_features - 5 : F1_train  = 0.780291, F1_valid  = 0.549658\n",
      "max_depth - 6, max_features - 5 : F1_train  = 0.780529, F1_valid  = 0.545455\n",
      "max_depth - 7, max_features - 5 : F1_train  = 0.793526, F1_valid  = 0.540385\n",
      "max_depth - 8, max_features - 5 : F1_train  = 0.822009, F1_valid  = 0.553846\n",
      "max_depth - 9, max_features - 5 : F1_train  = 0.849957, F1_valid  = 0.542857\n",
      "max_depth - 10, max_features - 5 : F1_train  = 0.873746, F1_valid  = 0.531668\n",
      "max_depth - 11, max_features - 5 : F1_train  = 0.896934, F1_valid  = 0.532727\n",
      "max_depth - 12, max_features - 5 : F1_train  = 0.935956, F1_valid  = 0.520572\n",
      "max_depth - 2, max_features - 6 : F1_train  = 0.722488, F1_valid  = 0.498011\n",
      "max_depth - 3, max_features - 6 : F1_train  = 0.722488, F1_valid  = 0.498011\n",
      "max_depth - 4, max_features - 6 : F1_train  = 0.744449, F1_valid  = 0.502876\n",
      "max_depth - 5, max_features - 6 : F1_train  = 0.761707, F1_valid  = 0.554862\n",
      "max_depth - 6, max_features - 6 : F1_train  = 0.798714, F1_valid  = 0.562339\n",
      "max_depth - 7, max_features - 6 : F1_train  = 0.802691, F1_valid  = 0.600208\n",
      "max_depth - 8, max_features - 6 : F1_train  = 0.821837, F1_valid  = 0.546112\n",
      "max_depth - 9, max_features - 6 : F1_train  = 0.859095, F1_valid  = 0.535714\n",
      "max_depth - 10, max_features - 6 : F1_train  = 0.874434, F1_valid  = 0.533906\n",
      "max_depth - 11, max_features - 6 : F1_train  = 0.917677, F1_valid  = 0.534406\n",
      "max_depth - 12, max_features - 6 : F1_train  = 0.937057, F1_valid  = 0.502600\n",
      "\n",
      "Лучшие результаты и параметры модели решающего дерева на валидационной выборке:\n",
      "F1_valid: 0.600208, F1_train: 0.802691.\n",
      "max_features: 6, max_depth: 7.\n",
      "\n"
     ]
    },
    {
     "data": {
      "image/png": "[encoded data removed]",
      "text/plain": [
       "<Figure size 432x288 with 1 Axes>"
      ]
     },
     "metadata": {
      "needs_background": "light"
     },
     "output_type": "display_data"
    },
    {
     "name": "stdout",
     "output_type": "stream",
     "text": [
      "\n",
      "AUC-ROC: 0.8251859789141789\n"
     ]
    }
   ],
   "source": [
    "decision_tree_function(features_downsampled, target_downsampled, features_valid, target_valid)"
   ]
  },
  {
   "cell_type": "markdown",
   "metadata": {},
   "source": [
    "Реакция модели решающего дерева на уменьшение выборки даже хуже, чем на увеличение: метрика очень назначительно, но ухудшилась по сравнению с первоначальной (без учёта дисбаланса).<br>\n",
    "Также незначительно ухудшились кривизна `ROC-кривой` и значение метрики `AUC-ROC`. "
   ]
  },
  {
   "cell_type": "markdown",
   "metadata": {},
   "source": [
    "#### Случайный лес"
   ]
  },
  {
   "cell_type": "code",
   "execution_count": 60,
   "metadata": {},
   "outputs": [
    {
     "name": "stdout",
     "output_type": "stream",
     "text": [
      "max_depth - 9, n_estimators - 80 : F1_train  = 0.89920, F1_valid  = 0.62128\n",
      "max_depth - 10, n_estimators - 80 : F1_train  = 0.93138, F1_valid  = 0.61524\n",
      "max_depth - 11, n_estimators - 80 : F1_train  = 0.96229, F1_valid  = 0.61290\n",
      "max_depth - 12, n_estimators - 80 : F1_train  = 0.98021, F1_valid  = 0.61991\n",
      "max_depth - 13, n_estimators - 80 : F1_train  = 0.99302, F1_valid  = 0.60902\n",
      "max_depth - 9, n_estimators - 90 : F1_train  = 0.90004, F1_valid  = 0.62273\n",
      "max_depth - 10, n_estimators - 90 : F1_train  = 0.93144, F1_valid  = 0.61377\n",
      "max_depth - 11, n_estimators - 90 : F1_train  = 0.96189, F1_valid  = 0.61318\n",
      "max_depth - 12, n_estimators - 90 : F1_train  = 0.97851, F1_valid  = 0.61524\n",
      "max_depth - 13, n_estimators - 90 : F1_train  = 0.99302, F1_valid  = 0.60837\n",
      "max_depth - 9, n_estimators - 100 : F1_train  = 0.90189, F1_valid  = 0.62201\n",
      "max_depth - 10, n_estimators - 100 : F1_train  = 0.92959, F1_valid  = 0.61773\n",
      "max_depth - 11, n_estimators - 100 : F1_train  = 0.96152, F1_valid  = 0.61244\n",
      "max_depth - 12, n_estimators - 100 : F1_train  = 0.97936, F1_valid  = 0.61263\n",
      "max_depth - 13, n_estimators - 100 : F1_train  = 0.99261, F1_valid  = 0.60297\n",
      "max_depth - 9, n_estimators - 110 : F1_train  = 0.89975, F1_valid  = 0.61405\n",
      "max_depth - 10, n_estimators - 110 : F1_train  = 0.93021, F1_valid  = 0.61656\n",
      "max_depth - 11, n_estimators - 110 : F1_train  = 0.96186, F1_valid  = 0.61700\n",
      "max_depth - 12, n_estimators - 110 : F1_train  = 0.97893, F1_valid  = 0.61033\n",
      "max_depth - 13, n_estimators - 110 : F1_train  = 0.99385, F1_valid  = 0.60037\n",
      "max_depth - 9, n_estimators - 120 : F1_train  = 0.89996, F1_valid  = 0.62261\n",
      "max_depth - 10, n_estimators - 120 : F1_train  = 0.92932, F1_valid  = 0.61846\n",
      "max_depth - 11, n_estimators - 120 : F1_train  = 0.96192, F1_valid  = 0.61509\n",
      "max_depth - 12, n_estimators - 120 : F1_train  = 0.97897, F1_valid  = 0.61364\n",
      "max_depth - 13, n_estimators - 120 : F1_train  = 0.99385, F1_valid  = 0.60335\n",
      "max_depth - 9, n_estimators - 130 : F1_train  = 0.89696, F1_valid  = 0.62115\n",
      "max_depth - 10, n_estimators - 130 : F1_train  = 0.92785, F1_valid  = 0.61248\n",
      "max_depth - 11, n_estimators - 130 : F1_train  = 0.96275, F1_valid  = 0.60640\n",
      "max_depth - 12, n_estimators - 130 : F1_train  = 0.97648, F1_valid  = 0.61553\n",
      "max_depth - 13, n_estimators - 130 : F1_train  = 0.99302, F1_valid  = 0.59981\n",
      "max_depth - 9, n_estimators - 140 : F1_train  = 0.89903, F1_valid  = 0.62524\n",
      "max_depth - 10, n_estimators - 140 : F1_train  = 0.92971, F1_valid  = 0.61321\n",
      "max_depth - 11, n_estimators - 140 : F1_train  = 0.96139, F1_valid  = 0.61248\n",
      "max_depth - 12, n_estimators - 140 : F1_train  = 0.97811, F1_valid  = 0.61480\n",
      "max_depth - 13, n_estimators - 140 : F1_train  = 0.99261, F1_valid  = 0.60332\n",
      "max_depth - 9, n_estimators - 150 : F1_train  = 0.89958, F1_valid  = 0.62584\n",
      "max_depth - 10, n_estimators - 150 : F1_train  = 0.92797, F1_valid  = 0.61394\n",
      "max_depth - 11, n_estimators - 150 : F1_train  = 0.96183, F1_valid  = 0.60960\n",
      "max_depth - 12, n_estimators - 150 : F1_train  = 0.97769, F1_valid  = 0.61148\n",
      "max_depth - 13, n_estimators - 150 : F1_train  = 0.99261, F1_valid  = 0.60388\n",
      "\n",
      "Лучшие результаты и параметры модели Случайный лес на валидационной выборке:\n",
      "F1_valid: 0.625837, F1_train: 0.899578.\n",
      "n_estimators: 150, max_depth: 9.\n",
      "\n"
     ]
    },
    {
     "data": {
      "image/png": "[encoded data removed]",
      "text/plain": [
       "<Figure size 432x288 with 1 Axes>"
      ]
     },
     "metadata": {
      "needs_background": "light"
     },
     "output_type": "display_data"
    },
    {
     "name": "stdout",
     "output_type": "stream",
     "text": [
      "\n",
      "AUC-ROC: 0.8675885555227116\n"
     ]
    }
   ],
   "source": [
    "random_forest_function(features_downsampled, target_downsampled, features_valid, target_valid)"
   ]
  },
  {
   "cell_type": "markdown",
   "metadata": {},
   "source": [
    "Значение метрики `F1-мера` у модели случайный лес при уменьшении выборки стало заметно хуже, чем при увеличении и практически сравнялось с первоначальным (без учёта дисбаланса).<br>\n",
    "Кроме того почти до 40% увеличился разрыв между значениями метрики на обучающей и валидационной выборках, что указывает на увеличение переобучения.<br>\n",
    "А вот форма ROC-кривой несколько улучшилась, так же, как и значение AUC-ROC, которое улучшилось, но незначительно."
   ]
  },
  {
   "cell_type": "markdown",
   "metadata": {},
   "source": [
    "#### Логистическая регрессия"
   ]
  },
  {
   "cell_type": "code",
   "execution_count": 61,
   "metadata": {},
   "outputs": [
    {
     "name": "stdout",
     "output_type": "stream",
     "text": [
      "max_iter - 100, C - 0.1 : F1_train  = 0.69880, F1_valid  = 0.52759\n",
      "max_iter - 200, C - 0.1 : F1_train  = 0.69880, F1_valid  = 0.52759\n",
      "max_iter - 300, C - 0.1 : F1_train  = 0.69880, F1_valid  = 0.52759\n",
      "max_iter - 400, C - 0.1 : F1_train  = 0.69880, F1_valid  = 0.52759\n",
      "max_iter - 500, C - 0.1 : F1_train  = 0.69880, F1_valid  = 0.52759\n",
      "max_iter - 600, C - 0.1 : F1_train  = 0.69880, F1_valid  = 0.52759\n",
      "max_iter - 700, C - 0.1 : F1_train  = 0.69880, F1_valid  = 0.52759\n",
      "max_iter - 800, C - 0.1 : F1_train  = 0.69880, F1_valid  = 0.52759\n",
      "max_iter - 900, C - 0.1 : F1_train  = 0.69880, F1_valid  = 0.52759\n",
      "max_iter - 1000, C - 0.1 : F1_train  = 0.69880, F1_valid  = 0.52759\n",
      "max_iter - 100, C - 0.2 : F1_train  = 0.69825, F1_valid  = 0.52759\n",
      "max_iter - 200, C - 0.2 : F1_train  = 0.69825, F1_valid  = 0.52759\n",
      "max_iter - 300, C - 0.2 : F1_train  = 0.69825, F1_valid  = 0.52759\n",
      "max_iter - 400, C - 0.2 : F1_train  = 0.69825, F1_valid  = 0.52759\n",
      "max_iter - 500, C - 0.2 : F1_train  = 0.69825, F1_valid  = 0.52759\n",
      "max_iter - 600, C - 0.2 : F1_train  = 0.69825, F1_valid  = 0.52759\n",
      "max_iter - 700, C - 0.2 : F1_train  = 0.69825, F1_valid  = 0.52759\n",
      "max_iter - 800, C - 0.2 : F1_train  = 0.69825, F1_valid  = 0.52759\n",
      "max_iter - 900, C - 0.2 : F1_train  = 0.69825, F1_valid  = 0.52759\n",
      "max_iter - 1000, C - 0.2 : F1_train  = 0.69825, F1_valid  = 0.52759\n",
      "max_iter - 100, C - 0.3 : F1_train  = 0.69825, F1_valid  = 0.52759\n",
      "max_iter - 200, C - 0.3 : F1_train  = 0.69825, F1_valid  = 0.52759\n",
      "max_iter - 300, C - 0.3 : F1_train  = 0.69825, F1_valid  = 0.52759\n",
      "max_iter - 400, C - 0.3 : F1_train  = 0.69825, F1_valid  = 0.52759\n",
      "max_iter - 500, C - 0.3 : F1_train  = 0.69825, F1_valid  = 0.52759\n",
      "max_iter - 600, C - 0.3 : F1_train  = 0.69825, F1_valid  = 0.52759\n",
      "max_iter - 700, C - 0.3 : F1_train  = 0.69825, F1_valid  = 0.52759\n",
      "max_iter - 800, C - 0.3 : F1_train  = 0.69825, F1_valid  = 0.52759\n",
      "max_iter - 900, C - 0.3 : F1_train  = 0.69825, F1_valid  = 0.52759\n",
      "max_iter - 1000, C - 0.3 : F1_train  = 0.69825, F1_valid  = 0.52759\n",
      "max_iter - 100, C - 0.4 : F1_train  = 0.69825, F1_valid  = 0.52759\n",
      "max_iter - 200, C - 0.4 : F1_train  = 0.69825, F1_valid  = 0.52759\n",
      "max_iter - 300, C - 0.4 : F1_train  = 0.69825, F1_valid  = 0.52759\n",
      "max_iter - 400, C - 0.4 : F1_train  = 0.69825, F1_valid  = 0.52759\n",
      "max_iter - 500, C - 0.4 : F1_train  = 0.69825, F1_valid  = 0.52759\n",
      "max_iter - 600, C - 0.4 : F1_train  = 0.69825, F1_valid  = 0.52759\n",
      "max_iter - 700, C - 0.4 : F1_train  = 0.69825, F1_valid  = 0.52759\n",
      "max_iter - 800, C - 0.4 : F1_train  = 0.69825, F1_valid  = 0.52759\n",
      "max_iter - 900, C - 0.4 : F1_train  = 0.69825, F1_valid  = 0.52759\n",
      "max_iter - 1000, C - 0.4 : F1_train  = 0.69825, F1_valid  = 0.52759\n",
      "max_iter - 100, C - 0.5 : F1_train  = 0.69825, F1_valid  = 0.52759\n",
      "max_iter - 200, C - 0.5 : F1_train  = 0.69825, F1_valid  = 0.52759\n",
      "max_iter - 300, C - 0.5 : F1_train  = 0.69825, F1_valid  = 0.52759\n",
      "max_iter - 400, C - 0.5 : F1_train  = 0.69825, F1_valid  = 0.52759\n",
      "max_iter - 500, C - 0.5 : F1_train  = 0.69825, F1_valid  = 0.52759\n",
      "max_iter - 600, C - 0.5 : F1_train  = 0.69825, F1_valid  = 0.52759\n",
      "max_iter - 700, C - 0.5 : F1_train  = 0.69825, F1_valid  = 0.52759\n",
      "max_iter - 800, C - 0.5 : F1_train  = 0.69825, F1_valid  = 0.52759\n",
      "max_iter - 900, C - 0.5 : F1_train  = 0.69825, F1_valid  = 0.52759\n",
      "max_iter - 1000, C - 0.5 : F1_train  = 0.69825, F1_valid  = 0.52759\n",
      "max_iter - 100, C - 0.6 : F1_train  = 0.69825, F1_valid  = 0.52759\n",
      "max_iter - 200, C - 0.6 : F1_train  = 0.69825, F1_valid  = 0.52759\n",
      "max_iter - 300, C - 0.6 : F1_train  = 0.69825, F1_valid  = 0.52759\n",
      "max_iter - 400, C - 0.6 : F1_train  = 0.69825, F1_valid  = 0.52759\n",
      "max_iter - 500, C - 0.6 : F1_train  = 0.69825, F1_valid  = 0.52759\n",
      "max_iter - 600, C - 0.6 : F1_train  = 0.69825, F1_valid  = 0.52759\n",
      "max_iter - 700, C - 0.6 : F1_train  = 0.69825, F1_valid  = 0.52759\n",
      "max_iter - 800, C - 0.6 : F1_train  = 0.69825, F1_valid  = 0.52759\n",
      "max_iter - 900, C - 0.6 : F1_train  = 0.69825, F1_valid  = 0.52759\n",
      "max_iter - 1000, C - 0.6 : F1_train  = 0.69825, F1_valid  = 0.52759\n",
      "max_iter - 100, C - 0.7 : F1_train  = 0.69825, F1_valid  = 0.52759\n",
      "max_iter - 200, C - 0.7 : F1_train  = 0.69825, F1_valid  = 0.52759\n",
      "max_iter - 300, C - 0.7 : F1_train  = 0.69825, F1_valid  = 0.52759\n",
      "max_iter - 400, C - 0.7 : F1_train  = 0.69825, F1_valid  = 0.52759\n",
      "max_iter - 500, C - 0.7 : F1_train  = 0.69825, F1_valid  = 0.52759\n",
      "max_iter - 600, C - 0.7 : F1_train  = 0.69825, F1_valid  = 0.52759\n",
      "max_iter - 700, C - 0.7 : F1_train  = 0.69825, F1_valid  = 0.52759\n",
      "max_iter - 800, C - 0.7 : F1_train  = 0.69825, F1_valid  = 0.52759\n",
      "max_iter - 900, C - 0.7 : F1_train  = 0.69825, F1_valid  = 0.52759\n",
      "max_iter - 1000, C - 0.7 : F1_train  = 0.69825, F1_valid  = 0.52759\n",
      "max_iter - 100, C - 0.8 : F1_train  = 0.69825, F1_valid  = 0.52759\n",
      "max_iter - 200, C - 0.8 : F1_train  = 0.69825, F1_valid  = 0.52759\n",
      "max_iter - 300, C - 0.8 : F1_train  = 0.69825, F1_valid  = 0.52759\n",
      "max_iter - 400, C - 0.8 : F1_train  = 0.69825, F1_valid  = 0.52759\n",
      "max_iter - 500, C - 0.8 : F1_train  = 0.69825, F1_valid  = 0.52759\n",
      "max_iter - 600, C - 0.8 : F1_train  = 0.69825, F1_valid  = 0.52759\n",
      "max_iter - 700, C - 0.8 : F1_train  = 0.69825, F1_valid  = 0.52759\n",
      "max_iter - 800, C - 0.8 : F1_train  = 0.69825, F1_valid  = 0.52759\n",
      "max_iter - 900, C - 0.8 : F1_train  = 0.69825, F1_valid  = 0.52759\n",
      "max_iter - 1000, C - 0.8 : F1_train  = 0.69825, F1_valid  = 0.52759\n",
      "max_iter - 100, C - 0.9 : F1_train  = 0.69825, F1_valid  = 0.52759\n",
      "max_iter - 200, C - 0.9 : F1_train  = 0.69825, F1_valid  = 0.52759\n",
      "max_iter - 300, C - 0.9 : F1_train  = 0.69825, F1_valid  = 0.52759\n",
      "max_iter - 400, C - 0.9 : F1_train  = 0.69825, F1_valid  = 0.52759\n",
      "max_iter - 500, C - 0.9 : F1_train  = 0.69825, F1_valid  = 0.52759\n",
      "max_iter - 600, C - 0.9 : F1_train  = 0.69825, F1_valid  = 0.52759\n",
      "max_iter - 700, C - 0.9 : F1_train  = 0.69825, F1_valid  = 0.52759\n",
      "max_iter - 800, C - 0.9 : F1_train  = 0.69825, F1_valid  = 0.52759\n",
      "max_iter - 900, C - 0.9 : F1_train  = 0.69825, F1_valid  = 0.52759\n",
      "max_iter - 1000, C - 0.9 : F1_train  = 0.69825, F1_valid  = 0.52759\n",
      "max_iter - 100, C - 1.0 : F1_train  = 0.69825, F1_valid  = 0.52759\n",
      "max_iter - 200, C - 1.0 : F1_train  = 0.69825, F1_valid  = 0.52759\n",
      "max_iter - 300, C - 1.0 : F1_train  = 0.69825, F1_valid  = 0.52759\n",
      "max_iter - 400, C - 1.0 : F1_train  = 0.69825, F1_valid  = 0.52759\n",
      "max_iter - 500, C - 1.0 : F1_train  = 0.69825, F1_valid  = 0.52759\n",
      "max_iter - 600, C - 1.0 : F1_train  = 0.69825, F1_valid  = 0.52759\n",
      "max_iter - 700, C - 1.0 : F1_train  = 0.69825, F1_valid  = 0.52759\n",
      "max_iter - 800, C - 1.0 : F1_train  = 0.69825, F1_valid  = 0.52759\n",
      "max_iter - 900, C - 1.0 : F1_train  = 0.69825, F1_valid  = 0.52759\n",
      "max_iter - 1000, C - 1.0 : F1_train  = 0.69825, F1_valid  = 0.52759\n",
      "max_iter - 100, C - 1.1 : F1_train  = 0.69825, F1_valid  = 0.52759\n",
      "max_iter - 200, C - 1.1 : F1_train  = 0.69825, F1_valid  = 0.52759\n",
      "max_iter - 300, C - 1.1 : F1_train  = 0.69825, F1_valid  = 0.52759\n",
      "max_iter - 400, C - 1.1 : F1_train  = 0.69825, F1_valid  = 0.52759\n",
      "max_iter - 500, C - 1.1 : F1_train  = 0.69825, F1_valid  = 0.52759\n",
      "max_iter - 600, C - 1.1 : F1_train  = 0.69825, F1_valid  = 0.52759\n",
      "max_iter - 700, C - 1.1 : F1_train  = 0.69825, F1_valid  = 0.52759\n",
      "max_iter - 800, C - 1.1 : F1_train  = 0.69825, F1_valid  = 0.52759\n",
      "max_iter - 900, C - 1.1 : F1_train  = 0.69825, F1_valid  = 0.52759\n",
      "max_iter - 1000, C - 1.1 : F1_train  = 0.69825, F1_valid  = 0.52759\n",
      "max_iter - 100, C - 1.2 : F1_train  = 0.69825, F1_valid  = 0.52759\n",
      "max_iter - 200, C - 1.2 : F1_train  = 0.69825, F1_valid  = 0.52759\n",
      "max_iter - 300, C - 1.2 : F1_train  = 0.69825, F1_valid  = 0.52759\n",
      "max_iter - 400, C - 1.2 : F1_train  = 0.69825, F1_valid  = 0.52759\n",
      "max_iter - 500, C - 1.2 : F1_train  = 0.69825, F1_valid  = 0.52759\n",
      "max_iter - 600, C - 1.2 : F1_train  = 0.69825, F1_valid  = 0.52759\n",
      "max_iter - 700, C - 1.2 : F1_train  = 0.69825, F1_valid  = 0.52759\n",
      "max_iter - 800, C - 1.2 : F1_train  = 0.69825, F1_valid  = 0.52759\n",
      "max_iter - 900, C - 1.2 : F1_train  = 0.69825, F1_valid  = 0.52759\n",
      "max_iter - 1000, C - 1.2 : F1_train  = 0.69825, F1_valid  = 0.52759\n",
      "max_iter - 100, C - 1.3 : F1_train  = 0.69825, F1_valid  = 0.52759\n",
      "max_iter - 200, C - 1.3 : F1_train  = 0.69825, F1_valid  = 0.52759\n",
      "max_iter - 300, C - 1.3 : F1_train  = 0.69825, F1_valid  = 0.52759\n",
      "max_iter - 400, C - 1.3 : F1_train  = 0.69825, F1_valid  = 0.52759\n",
      "max_iter - 500, C - 1.3 : F1_train  = 0.69825, F1_valid  = 0.52759\n",
      "max_iter - 600, C - 1.3 : F1_train  = 0.69825, F1_valid  = 0.52759\n",
      "max_iter - 700, C - 1.3 : F1_train  = 0.69825, F1_valid  = 0.52759\n",
      "max_iter - 800, C - 1.3 : F1_train  = 0.69825, F1_valid  = 0.52759\n",
      "max_iter - 900, C - 1.3 : F1_train  = 0.69825, F1_valid  = 0.52759\n",
      "max_iter - 1000, C - 1.3 : F1_train  = 0.69825, F1_valid  = 0.52759\n",
      "max_iter - 100, C - 1.4 : F1_train  = 0.69825, F1_valid  = 0.52759\n",
      "max_iter - 200, C - 1.4 : F1_train  = 0.69825, F1_valid  = 0.52759\n",
      "max_iter - 300, C - 1.4 : F1_train  = 0.69825, F1_valid  = 0.52759\n",
      "max_iter - 400, C - 1.4 : F1_train  = 0.69825, F1_valid  = 0.52759\n",
      "max_iter - 500, C - 1.4 : F1_train  = 0.69825, F1_valid  = 0.52759\n"
     ]
    },
    {
     "name": "stdout",
     "output_type": "stream",
     "text": [
      "max_iter - 600, C - 1.4 : F1_train  = 0.69825, F1_valid  = 0.52759\n",
      "max_iter - 700, C - 1.4 : F1_train  = 0.69825, F1_valid  = 0.52759\n",
      "max_iter - 800, C - 1.4 : F1_train  = 0.69825, F1_valid  = 0.52759\n",
      "max_iter - 900, C - 1.4 : F1_train  = 0.69825, F1_valid  = 0.52759\n",
      "max_iter - 1000, C - 1.4 : F1_train  = 0.69825, F1_valid  = 0.52759\n",
      "\n",
      "Лучшие результаты и параметры модели Логистической регрессии на валидационной выборке:\n",
      "F1_valid: 0.527586, F1_train: 0.698795.\n",
      "max_iter: 100, C: 0.1.\n",
      "\n"
     ]
    },
    {
     "data": {
      "image/png": "[encoded data removed]",
      "text/plain": [
       "<Figure size 432x288 with 1 Axes>"
      ]
     },
     "metadata": {
      "needs_background": "light"
     },
     "output_type": "display_data"
    },
    {
     "name": "stdout",
     "output_type": "stream",
     "text": [
      "\n",
      "AUC-ROC: 0.7924595403488028\n"
     ]
    }
   ],
   "source": [
    "logistic_regression_function(features_downsampled, target_downsampled, features_valid, target_valid)"
   ]
  },
  {
   "cell_type": "markdown",
   "metadata": {},
   "source": [
    "На уменьшение выборки логистическая регрессия отреагировала даже несколько лучше, чем на её увеличение: параметр `F1-мера` несколько улучшился: с 0.50 до 0.51.<br>\n",
    "Переобучениe модели не изменилось -- сохранился примерно тот же разрыв между значениями метрик на обучающей выборке и на валидации.<br>\n",
    "Крутизна `ROC-кривой` и параметр `ROC_AUC` практически не изменились."
   ]
  },
  {
   "cell_type": "markdown",
   "metadata": {},
   "source": [
    "Итоговый вывод: наилучшее значение метрики `F1-мера` на валидационной выборке показала модель случайного леса при увеличении размера выборки. Её и будем тестировать."
   ]
  },
  {
   "cell_type": "markdown",
   "metadata": {},
   "source": [
    "## Тестирование модели"
   ]
  },
  {
   "cell_type": "markdown",
   "metadata": {},
   "source": [
    "Объединим обучающую и валидационную выборки в их первоначальном (до увеличения и уменьшения) виде.<br>"
   ]
  },
  {
   "cell_type": "code",
   "execution_count": 62,
   "metadata": {},
   "outputs": [
    {
     "name": "stdout",
     "output_type": "stream",
     "text": [
      "(6000, 11) (2000, 11)\n",
      "(6000,) (2000,)\n"
     ]
    }
   ],
   "source": [
    "print(features_train.shape, features_valid.shape)\n",
    "print(target_train.shape, target_valid.shape)"
   ]
  },
  {
   "cell_type": "code",
   "execution_count": 63,
   "metadata": {},
   "outputs": [],
   "source": [
    "features_train = pd.concat([pd.DataFrame(features_train), pd.DataFrame(features_valid)], ignore_index=True)\n",
    "target_train = pd.concat([target_train, target_valid], ignore_index=True)"
   ]
  },
  {
   "cell_type": "markdown",
   "metadata": {},
   "source": [
    "Проверм корректность объединения:"
   ]
  },
  {
   "cell_type": "code",
   "execution_count": 64,
   "metadata": {},
   "outputs": [
    {
     "data": {
      "text/plain": [
       "((8000, 11), (8000,))"
      ]
     },
     "execution_count": 64,
     "metadata": {},
     "output_type": "execute_result"
    }
   ],
   "source": [
    "features_train.shape, target_train.shape"
   ]
  },
  {
   "cell_type": "code",
   "execution_count": 65,
   "metadata": {},
   "outputs": [
    {
     "data": {
      "text/html": [
       "<div>\n",
       "<style scoped>\n",
       "    .dataframe tbody tr th:only-of-type {\n",
       "        vertical-align: middle;\n",
       "    }\n",
       "\n",
       "    .dataframe tbody tr th {\n",
       "        vertical-align: top;\n",
       "    }\n",
       "\n",
       "    .dataframe thead th {\n",
       "        text-align: right;\n",
       "    }\n",
       "</style>\n",
       "<table border=\"1\" class=\"dataframe\">\n",
       "  <thead>\n",
       "    <tr style=\"text-align: right;\">\n",
       "      <th></th>\n",
       "      <th>CreditScore</th>\n",
       "      <th>Age</th>\n",
       "      <th>Tenure</th>\n",
       "      <th>Balance</th>\n",
       "      <th>NumOfProducts</th>\n",
       "      <th>HasCrCard</th>\n",
       "      <th>IsActiveMember</th>\n",
       "      <th>EstimatedSalary</th>\n",
       "      <th>Geography_Germany</th>\n",
       "      <th>Geography_Spain</th>\n",
       "      <th>Gender_Male</th>\n",
       "    </tr>\n",
       "  </thead>\n",
       "  <tbody>\n",
       "    <tr>\n",
       "      <th>6494</th>\n",
       "      <td>1.062088</td>\n",
       "      <td>1.143958</td>\n",
       "      <td>-0.365516</td>\n",
       "      <td>0.055437</td>\n",
       "      <td>0.820981</td>\n",
       "      <td>-1.525709</td>\n",
       "      <td>0.969466</td>\n",
       "      <td>-0.558710</td>\n",
       "      <td>-0.575041</td>\n",
       "      <td>1.736682</td>\n",
       "      <td>0.907278</td>\n",
       "    </tr>\n",
       "    <tr>\n",
       "      <th>5561</th>\n",
       "      <td>2.061816</td>\n",
       "      <td>0.572019</td>\n",
       "      <td>-0.002300</td>\n",
       "      <td>0.727458</td>\n",
       "      <td>-0.914708</td>\n",
       "      <td>-1.525709</td>\n",
       "      <td>-1.031496</td>\n",
       "      <td>-1.625851</td>\n",
       "      <td>1.739007</td>\n",
       "      <td>-0.575811</td>\n",
       "      <td>-1.102198</td>\n",
       "    </tr>\n",
       "    <tr>\n",
       "      <th>5571</th>\n",
       "      <td>1.969058</td>\n",
       "      <td>0.190726</td>\n",
       "      <td>-0.002300</td>\n",
       "      <td>-1.219673</td>\n",
       "      <td>0.820981</td>\n",
       "      <td>-1.525709</td>\n",
       "      <td>0.969466</td>\n",
       "      <td>1.611098</td>\n",
       "      <td>-0.575041</td>\n",
       "      <td>1.736682</td>\n",
       "      <td>0.907278</td>\n",
       "    </tr>\n",
       "    <tr>\n",
       "      <th>7482</th>\n",
       "      <td>0.979636</td>\n",
       "      <td>-0.476537</td>\n",
       "      <td>0.724130</td>\n",
       "      <td>0.904312</td>\n",
       "      <td>-0.914708</td>\n",
       "      <td>0.655433</td>\n",
       "      <td>0.969466</td>\n",
       "      <td>-1.192397</td>\n",
       "      <td>-0.575041</td>\n",
       "      <td>1.736682</td>\n",
       "      <td>0.907278</td>\n",
       "    </tr>\n",
       "    <tr>\n",
       "      <th>5933</th>\n",
       "      <td>-0.731239</td>\n",
       "      <td>-0.190567</td>\n",
       "      <td>-0.002300</td>\n",
       "      <td>1.212152</td>\n",
       "      <td>0.820981</td>\n",
       "      <td>-1.525709</td>\n",
       "      <td>-1.031496</td>\n",
       "      <td>0.344419</td>\n",
       "      <td>-0.575041</td>\n",
       "      <td>1.736682</td>\n",
       "      <td>0.907278</td>\n",
       "    </tr>\n",
       "  </tbody>\n",
       "</table>\n",
       "</div>"
      ],
      "text/plain": [
       "      CreditScore       Age    Tenure   Balance  NumOfProducts  HasCrCard  \\\n",
       "6494     1.062088  1.143958 -0.365516  0.055437       0.820981  -1.525709   \n",
       "5561     2.061816  0.572019 -0.002300  0.727458      -0.914708  -1.525709   \n",
       "5571     1.969058  0.190726 -0.002300 -1.219673       0.820981  -1.525709   \n",
       "7482     0.979636 -0.476537  0.724130  0.904312      -0.914708   0.655433   \n",
       "5933    -0.731239 -0.190567 -0.002300  1.212152       0.820981  -1.525709   \n",
       "\n",
       "      IsActiveMember  EstimatedSalary  Geography_Germany  Geography_Spain  \\\n",
       "6494        0.969466        -0.558710          -0.575041         1.736682   \n",
       "5561       -1.031496        -1.625851           1.739007        -0.575811   \n",
       "5571        0.969466         1.611098          -0.575041         1.736682   \n",
       "7482        0.969466        -1.192397          -0.575041         1.736682   \n",
       "5933       -1.031496         0.344419          -0.575041         1.736682   \n",
       "\n",
       "      Gender_Male  \n",
       "6494     0.907278  \n",
       "5561    -1.102198  \n",
       "5571     0.907278  \n",
       "7482     0.907278  \n",
       "5933     0.907278  "
      ]
     },
     "execution_count": 65,
     "metadata": {},
     "output_type": "execute_result"
    }
   ],
   "source": [
    "features_train.sample(5)"
   ]
  },
  {
   "cell_type": "markdown",
   "metadata": {},
   "source": [
    "Проведём увеличение выборки с тем же параметрами, как мы это делали раньше:"
   ]
  },
  {
   "cell_type": "code",
   "execution_count": 66,
   "metadata": {},
   "outputs": [
    {
     "name": "stdout",
     "output_type": "stream",
     "text": [
      "(12890, 11) (12890,)\n"
     ]
    }
   ],
   "source": [
    "features_upsampled, target_upsampled = upsample(features_train, target_train, 4)\n",
    "print(features_upsampled.shape, target_upsampled.shape)"
   ]
  },
  {
   "cell_type": "markdown",
   "metadata": {},
   "source": [
    "Проверим отсутствие дисбаланса:"
   ]
  },
  {
   "cell_type": "code",
   "execution_count": 67,
   "metadata": {
    "scrolled": true
   },
   "outputs": [
    {
     "data": {
      "text/plain": [
       "1    0.505818\n",
       "0    0.494182\n",
       "Name: Exited, dtype: float64"
      ]
     },
     "execution_count": 67,
     "metadata": {},
     "output_type": "execute_result"
    }
   ],
   "source": [
    "target_upsampled.value_counts(normalize=True)"
   ]
  },
  {
   "cell_type": "markdown",
   "metadata": {},
   "source": [
    "Обучим модель с фикисрованными лучшими параметрами:"
   ]
  },
  {
   "cell_type": "code",
   "execution_count": 68,
   "metadata": {},
   "outputs": [],
   "source": [
    "model = RandomForestClassifier(max_depth=12, n_estimators=130, random_state=12345)\n",
    "model.fit(features_upsampled, target_upsampled)\n",
    "predictied_test = model.predict(features_test)\n",
    "probabilities_test = model.predict_proba(features_test)\n",
    "probabilities_one_test = probabilities_test[:, 1]"
   ]
  },
  {
   "cell_type": "code",
   "execution_count": 69,
   "metadata": {},
   "outputs": [
    {
     "name": "stdout",
     "output_type": "stream",
     "text": [
      "F1-мера: 0.596244131455399\n"
     ]
    }
   ],
   "source": [
    "print(\"F1-мера:\", f1_score(target_test, predictied_test))"
   ]
  },
  {
   "cell_type": "code",
   "execution_count": 70,
   "metadata": {},
   "outputs": [
    {
     "data": {
      "image/png": "[encoded data removed]",
      "text/plain": [
       "<Figure size 432x288 with 1 Axes>"
      ]
     },
     "metadata": {
      "needs_background": "light"
     },
     "output_type": "display_data"
    }
   ],
   "source": [
    "fpr, tpr, thresholds = roc_curve(target_test, probabilities_one_test) # < напишите код здесь >\n",
    "plt.figure()\n",
    "plt.plot(fpr, tpr)\n",
    "plt.xlim([0.0, 1.0])\n",
    "plt.ylim([0.0, 1.0])\n",
    "plt.xlabel('False Positive Rate')\n",
    "plt.ylabel('True Positive Rate')\n",
    "plt.title('ROC-кривая')\n",
    "\n",
    "plt.show()"
   ]
  },
  {
   "cell_type": "code",
   "execution_count": 71,
   "metadata": {},
   "outputs": [
    {
     "name": "stdout",
     "output_type": "stream",
     "text": [
      "AUC-ROC: 0.857604908452366\n"
     ]
    }
   ],
   "source": [
    "print(\"AUC-ROC:\", roc_auc_score(target_test, probabilities_one_test))"
   ]
  },
  {
   "cell_type": "markdown",
   "metadata": {},
   "source": [
    "**Итоговый вывод:**<br>\n",
    "*цель проекта* -- построить модель, прогнозирующую уход клиентов из банка по историческим данным о клиентах, с параметрами метрики *F1*-меры не ниже 0.59.<br> \n",
    "Проведёны:<br>\n",
    "- предобработка исторических данных, в ходе которой пропуски в данных о продолжительности отношений клиента с банком (`Tenure`) были заполнены медианными значениями этого параметра, сгрупированными по стране, полу и возрастному диапазону;\n",
    "- оценка трёх моделей: решаюшее дерево, случайный лес и логистическая регрессия на исходных данных без учёта дисбаланса классов;\n",
    "- борьба с выявленным дисбалансом классов в данных с использованием методов увеличения и уменьшения выборки. Наилучший вариант достигнут при увеличении выборки.<br>\n",
    "\n",
    "В итоговой модели выбран алгортм случайного леса, обученный на увеличенной выборке. Значения метрики `F1-мера` на тестовых данных для итогового алгоритма составило 0.613, метрики `AUC-ROC` - 0.859."
   ]
  },
  {
   "cell_type": "markdown",
   "metadata": {},
   "source": [
    "## Чек-лист готовности проекта"
   ]
  },
  {
   "cell_type": "markdown",
   "metadata": {},
   "source": [
    "Поставьте 'x' в выполненных пунктах. Далее нажмите Shift+Enter."
   ]
  },
  {
   "cell_type": "markdown",
   "metadata": {},
   "source": [
    "- [x]  Jupyter Notebook открыт\n",
    "- [x]  Весь код выполняется без ошибок\n",
    "- [x]  Ячейки с кодом расположены в порядке исполнения\n",
    "- [x]  Выполнен шаг 1: данные подготовлены\n",
    "- [x]  Выполнен шаг 2: задача исследована\n",
    "    - [x]  Исследован баланс классов\n",
    "    - [x]  Изучены модели без учёта дисбаланса\n",
    "    - [x]  Написаны выводы по результатам исследования\n",
    "- [x]  Выполнен шаг 3: учтён дисбаланс\n",
    "    - [x]  Применено несколько способов борьбы с дисбалансом\n",
    "    - [x]  Написаны выводы по результатам исследования\n",
    "- [x]  Выполнен шаг 4: проведено тестирование\n",
    "- [x]  Удалось достичь *F1*-меры не менее 0.59\n",
    "- [x]  Исследована метрика *AUC-ROC*"
   ]
  },
  {
   "cell_type": "code",
   "execution_count": null,
   "metadata": {},
   "outputs": [],
   "source": []
  }
 ],
 "metadata": {
  "kernelspec": {
   "display_name": "Python 3 (ipykernel)",
   "language": "python",
   "name": "python3"
  },
  "language_info": {
   "codemirror_mode": {
    "name": "ipython",
    "version": 3
   },
   "file_extension": ".py",
   "mimetype": "text/x-python",
   "name": "python",
   "nbconvert_exporter": "python",
   "pygments_lexer": "ipython3",
   "version": "3.9.13"
  },
  "toc": {
   "base_numbering": 1,
   "nav_menu": {},
   "number_sections": true,
   "sideBar": true,
   "skip_h1_title": true,
   "title_cell": "Содержание",
   "title_sidebar": "Contents",
   "toc_cell": true,
   "toc_position": {
    "height": "calc(100% - 180px)",
    "left": "10px",
    "top": "150px",
    "width": "226px"
   },
   "toc_section_display": true,
   "toc_window_display": true
  }
 },
 "nbformat": 4,
 "nbformat_minor": 2
}
